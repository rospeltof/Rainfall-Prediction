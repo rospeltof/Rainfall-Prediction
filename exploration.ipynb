{
 "cells": [
  {
   "cell_type": "code",
   "execution_count": 5,
   "id": "aaf54b8f-dac1-4ad7-bb84-7f03b16e56cc",
   "metadata": {},
   "outputs": [],
   "source": [
    "#General libraries\n",
    "import os\n",
    "import pandas as pd\n",
    "import numpy as np\n",
    "\n",
    "#Graph tools\n",
    "import matplotlib.pyplot as plt \n",
    "import seaborn as sns\n",
    "\n",
    "# ML\n",
    "from sklearn.linear_model import LogisticRegression\n",
    "from sklearn.preprocessing import StandardScaler\n",
    "from sklearn.tree import DecisionTreeClassifier\n",
    "from sklearn.metrics import roc_auc_score\n",
    "from sklearn.model_selection import StratifiedKFold\n",
    "from sklearn.impute import SimpleImputer\n",
    "from imblearn.under_sampling import RandomUnderSampler\n",
    "\n",
    "from lightgbm import LGBMClassifier\n",
    "\n",
    "from boruta import BorutaPy\n",
    "\n",
    "#Optimization\n",
    "import optuna\n",
    "\n",
    "#Experiment tracking\n",
    "import mlflow"
   ]
  },
  {
   "cell_type": "code",
   "execution_count": 6,
   "id": "fe6bd064-f7d9-4e37-a7fa-fccea2d8b0bd",
   "metadata": {},
   "outputs": [],
   "source": [
    "train_path = os.path.join('data', 'train.csv')\n",
    "train_extra_path = os.path.join('data', 'train_extra.csv')\n",
    "test_path = os.path.join('data', 'test.csv')\n",
    "sample_submission_path = os.path.join('data', 'sample_submission.csv')\n",
    "\n",
    "raw_train_data = pd.read_csv(train_path, index_col= 'id')\n",
    "train_extra = pd.read_csv(train_extra_path)\n",
    "train_extra['rainfall'] = train_extra['rainfall'].map({'yes': 1, 'no': 0})\n",
    "ord_cols = raw_train_data.columns\n",
    "train_extra.columns = train_extra.columns.str.strip()\n",
    "train_extra = train_extra[ord_cols]\n",
    "\n",
    "raw_train_data = pd.concat([raw_train_data, train_extra], ignore_index=True)\n",
    "raw_train_data.dropna(inplace= True)\n",
    "\n",
    "raw_test_data = pd.read_csv(test_path, index_col = 'id')\n",
    "sample_submission = pd.read_csv(sample_submission_path)\n",
    "\n",
    "raw_train_data.drop_duplicates(inplace= True)"
   ]
  },
  {
   "cell_type": "code",
   "execution_count": 7,
   "id": "33332cdb-e5ad-4bae-bf06-dc409ef0e9cd",
   "metadata": {},
   "outputs": [
    {
     "name": "stdout",
     "output_type": "stream",
     "text": [
      "<class 'pandas.core.frame.DataFrame'>\n",
      "Index: 2555 entries, 0 to 2555\n",
      "Data columns (total 12 columns):\n",
      " #   Column         Non-Null Count  Dtype  \n",
      "---  ------         --------------  -----  \n",
      " 0   day            2555 non-null   int64  \n",
      " 1   pressure       2555 non-null   float64\n",
      " 2   maxtemp        2555 non-null   float64\n",
      " 3   temparature    2555 non-null   float64\n",
      " 4   mintemp        2555 non-null   float64\n",
      " 5   dewpoint       2555 non-null   float64\n",
      " 6   humidity       2555 non-null   float64\n",
      " 7   cloud          2555 non-null   float64\n",
      " 8   sunshine       2555 non-null   float64\n",
      " 9   winddirection  2555 non-null   float64\n",
      " 10  windspeed      2555 non-null   float64\n",
      " 11  rainfall       2555 non-null   int64  \n",
      "dtypes: float64(10), int64(2)\n",
      "memory usage: 259.5 KB\n"
     ]
    }
   ],
   "source": [
    "raw_train_data.info()"
   ]
  },
  {
   "cell_type": "code",
   "execution_count": 8,
   "id": "456c4f54-3f7a-4e35-b6fa-b18f93b7eb48",
   "metadata": {},
   "outputs": [
    {
     "name": "stdout",
     "output_type": "stream",
     "text": [
      "(2555, 12)\n"
     ]
    },
    {
     "data": {
      "text/html": [
       "<div>\n",
       "<style scoped>\n",
       "    .dataframe tbody tr th:only-of-type {\n",
       "        vertical-align: middle;\n",
       "    }\n",
       "\n",
       "    .dataframe tbody tr th {\n",
       "        vertical-align: top;\n",
       "    }\n",
       "\n",
       "    .dataframe thead th {\n",
       "        text-align: right;\n",
       "    }\n",
       "</style>\n",
       "<table border=\"1\" class=\"dataframe\">\n",
       "  <thead>\n",
       "    <tr style=\"text-align: right;\">\n",
       "      <th></th>\n",
       "      <th>day</th>\n",
       "      <th>pressure</th>\n",
       "      <th>maxtemp</th>\n",
       "      <th>temparature</th>\n",
       "      <th>mintemp</th>\n",
       "      <th>dewpoint</th>\n",
       "      <th>humidity</th>\n",
       "      <th>cloud</th>\n",
       "      <th>sunshine</th>\n",
       "      <th>winddirection</th>\n",
       "      <th>windspeed</th>\n",
       "      <th>rainfall</th>\n",
       "    </tr>\n",
       "  </thead>\n",
       "  <tbody>\n",
       "    <tr>\n",
       "      <th>0</th>\n",
       "      <td>1</td>\n",
       "      <td>1017.4</td>\n",
       "      <td>21.2</td>\n",
       "      <td>20.6</td>\n",
       "      <td>19.9</td>\n",
       "      <td>19.4</td>\n",
       "      <td>87.0</td>\n",
       "      <td>88.0</td>\n",
       "      <td>1.1</td>\n",
       "      <td>60.0</td>\n",
       "      <td>17.2</td>\n",
       "      <td>1</td>\n",
       "    </tr>\n",
       "    <tr>\n",
       "      <th>1</th>\n",
       "      <td>2</td>\n",
       "      <td>1019.5</td>\n",
       "      <td>16.2</td>\n",
       "      <td>16.9</td>\n",
       "      <td>15.8</td>\n",
       "      <td>15.4</td>\n",
       "      <td>95.0</td>\n",
       "      <td>91.0</td>\n",
       "      <td>0.0</td>\n",
       "      <td>50.0</td>\n",
       "      <td>21.9</td>\n",
       "      <td>1</td>\n",
       "    </tr>\n",
       "    <tr>\n",
       "      <th>2</th>\n",
       "      <td>3</td>\n",
       "      <td>1024.1</td>\n",
       "      <td>19.4</td>\n",
       "      <td>16.1</td>\n",
       "      <td>14.6</td>\n",
       "      <td>9.3</td>\n",
       "      <td>75.0</td>\n",
       "      <td>47.0</td>\n",
       "      <td>8.3</td>\n",
       "      <td>70.0</td>\n",
       "      <td>18.1</td>\n",
       "      <td>1</td>\n",
       "    </tr>\n",
       "    <tr>\n",
       "      <th>3</th>\n",
       "      <td>4</td>\n",
       "      <td>1013.4</td>\n",
       "      <td>18.1</td>\n",
       "      <td>17.8</td>\n",
       "      <td>16.9</td>\n",
       "      <td>16.8</td>\n",
       "      <td>95.0</td>\n",
       "      <td>95.0</td>\n",
       "      <td>0.0</td>\n",
       "      <td>60.0</td>\n",
       "      <td>35.6</td>\n",
       "      <td>1</td>\n",
       "    </tr>\n",
       "    <tr>\n",
       "      <th>4</th>\n",
       "      <td>5</td>\n",
       "      <td>1021.8</td>\n",
       "      <td>21.3</td>\n",
       "      <td>18.4</td>\n",
       "      <td>15.2</td>\n",
       "      <td>9.6</td>\n",
       "      <td>52.0</td>\n",
       "      <td>45.0</td>\n",
       "      <td>3.6</td>\n",
       "      <td>40.0</td>\n",
       "      <td>24.8</td>\n",
       "      <td>0</td>\n",
       "    </tr>\n",
       "  </tbody>\n",
       "</table>\n",
       "</div>"
      ],
      "text/plain": [
       "   day  pressure  maxtemp  temparature  mintemp  dewpoint  humidity  cloud  \\\n",
       "0    1    1017.4     21.2         20.6     19.9      19.4      87.0   88.0   \n",
       "1    2    1019.5     16.2         16.9     15.8      15.4      95.0   91.0   \n",
       "2    3    1024.1     19.4         16.1     14.6       9.3      75.0   47.0   \n",
       "3    4    1013.4     18.1         17.8     16.9      16.8      95.0   95.0   \n",
       "4    5    1021.8     21.3         18.4     15.2       9.6      52.0   45.0   \n",
       "\n",
       "   sunshine  winddirection  windspeed  rainfall  \n",
       "0       1.1           60.0       17.2         1  \n",
       "1       0.0           50.0       21.9         1  \n",
       "2       8.3           70.0       18.1         1  \n",
       "3       0.0           60.0       35.6         1  \n",
       "4       3.6           40.0       24.8         0  "
      ]
     },
     "execution_count": 8,
     "metadata": {},
     "output_type": "execute_result"
    }
   ],
   "source": [
    "print(raw_train_data.shape)\n",
    "raw_train_data.head()"
   ]
  },
  {
   "cell_type": "code",
   "execution_count": 9,
   "id": "8c49dccd-c0e3-4b2d-b399-0aa51eeae283",
   "metadata": {},
   "outputs": [
    {
     "data": {
      "image/png": "[encoded data removed]",
      "text/plain": [
       "<Figure size 640x480 with 1 Axes>"
      ]
     },
     "metadata": {},
     "output_type": "display_data"
    }
   ],
   "source": [
    "colors = ['#73B4FF', '#2D3142']\n",
    "value_counts = raw_train_data['rainfall'].value_counts(normalize= True)\n",
    "labels = value_counts.index.astype(str)\n",
    "sizes = value_counts.values\n",
    "fig, ax = plt.subplots()\n",
    "wedges, texts, autotexts = ax.pie(\n",
    "    sizes, \n",
    "    labels=labels, \n",
    "    autopct='%1.1f%%', \n",
    "    startangle=90, \n",
    "    counterclock=False,\n",
    "    wedgeprops={'edgecolor': 'white', 'linewidth': 1},\n",
    "    colors= colors\n",
    ")\n",
    "ax.axis('equal')\n",
    "\n",
    "# Agregar título\n",
    "ax.set_title('Rainfall Distribution', fontsize=14)\n",
    "\n",
    "plt.tight_layout()\n",
    "plt.show()"
   ]
  },
  {
   "cell_type": "code",
   "execution_count": 10,
   "id": "43658497-cdb5-42aa-977f-71a585286c9d",
   "metadata": {},
   "outputs": [
    {
     "data": {
      "text/plain": [
       "day              0.211569\n",
       "pressure         0.295777\n",
       "maxtemp         -0.498073\n",
       "temparature     -0.572202\n",
       "mintemp         -0.665021\n",
       "dewpoint        -1.017435\n",
       "humidity        -0.745531\n",
       "cloud           -1.314520\n",
       "sunshine         0.600403\n",
       "winddirection    0.721490\n",
       "windspeed        0.769942\n",
       "rainfall        -1.111978\n",
       "dtype: float64"
      ]
     },
     "execution_count": 10,
     "metadata": {},
     "output_type": "execute_result"
    }
   ],
   "source": [
    "raw_train_data.skew()"
   ]
  },
  {
   "cell_type": "code",
   "execution_count": 12,
   "id": "edebdb61-9ecb-447d-bb5c-c92143154ccf",
   "metadata": {},
   "outputs": [],
   "source": [
    "def data_preproccesing(df: pd.DataFrame) -> pd.DataFrame:\n",
    "    df = df.copy()\n",
    "    \n",
    "    df['temp_change'] = df['maxtemp']-df['mintemp']\n",
    "    df['temp_ratio'] = df['maxtemp']/df['mintemp']\n",
    "    df['wind_dir_rad'] = np.deg2rad(df['winddirection'])\n",
    "    df['wind_direction_sin'] = np.sin(df['wind_dir_rad'])\n",
    "    df['wind_direction_cos'] = np.cos(df['wind_dir_rad'])\n",
    "    df['avg_temp'] = (df['maxtemp'] + df['mintemp']) / 2\n",
    "    df['dewpoint_depression'] = df['temparature'] - df['dewpoint']\n",
    "    df['sunshine_ratio'] = df['sunshine'] / (1 + df['cloud'])\n",
    "    df['cloud'] = np.log1p(df['cloud'])\n",
    "\n",
    "    df.drop(columns=['winddirection'], inplace=True)\n",
    "    \n",
    "    #df_imputed = imputer.fit_transform(df)\n",
    "    #df = pd.DataFrame(df_imputed, columns= df.columns)\n",
    "\n",
    "    for col in df.columns:\n",
    "        df[col +'_cat'] = df[col].astype(str)\n",
    "        df[col +'_cat'] = df[col + '_cat'].astype('category')\n",
    "\n",
    "    return df\n",
    "\n",
    "def test_data_preproccesing(df: pd.DataFrame) -> pd.DataFrame:\n",
    "    df = df.copy()\n",
    "    \n",
    "    df['temp_change'] = df['maxtemp']-df['mintemp']\n",
    "    df['temp_ratio'] = df['maxtemp']/df['mintemp']\n",
    "    df['wind_dir_rad'] = np.deg2rad(df['winddirection'])\n",
    "    df['wind_direction_sin'] = np.sin(df['wind_dir_rad'])\n",
    "    df['wind_direction_cos'] = np.cos(df['wind_dir_rad'])\n",
    "    df['avg_temp'] = (df['maxtemp'] + df['mintemp']) / 2\n",
    "    df['dewpoint_depression'] = df['temparature'] - df['dewpoint']\n",
    "    df['sunshine_ratio'] = df['sunshine'] / (1 + df['cloud'])\n",
    "    df['cloud'] = np.log1p(df['cloud'])\n",
    "\n",
    "    df.drop(columns=['winddirection'], inplace=True)\n",
    "    \n",
    "    #df_imputed = imputer.transform(df)\n",
    "    #df = pd.DataFrame(df_imputed, columns= df.columns)\n",
    "    \n",
    "    for col in df.columns:\n",
    "        df[col +'_cat'] = df[col].astype(str)\n",
    "        df[col +'_cat'] = df[col + '_cat'].astype('category')\n",
    "\n",
    "    return df"
   ]
  },
  {
   "cell_type": "code",
   "execution_count": 13,
   "id": "a6db89a7-d92a-4984-8638-509d2c9113a3",
   "metadata": {},
   "outputs": [],
   "source": [
    "X_train = raw_train_data.drop(columns= 'rainfall')\n",
    "y_train = raw_train_data['rainfall']\n",
    "X_train = data_preproccesing(X_train) "
   ]
  },
  {
   "cell_type": "code",
   "execution_count": 14,
   "id": "c63f296e-5082-4356-a1a4-75ca601eae19",
   "metadata": {},
   "outputs": [
    {
     "data": {
      "text/html": [
       "<div>\n",
       "<style scoped>\n",
       "    .dataframe tbody tr th:only-of-type {\n",
       "        vertical-align: middle;\n",
       "    }\n",
       "\n",
       "    .dataframe tbody tr th {\n",
       "        vertical-align: top;\n",
       "    }\n",
       "\n",
       "    .dataframe thead th {\n",
       "        text-align: right;\n",
       "    }\n",
       "</style>\n",
       "<table border=\"1\" class=\"dataframe\">\n",
       "  <thead>\n",
       "    <tr style=\"text-align: right;\">\n",
       "      <th></th>\n",
       "      <th>day</th>\n",
       "      <th>pressure</th>\n",
       "      <th>maxtemp</th>\n",
       "      <th>temparature</th>\n",
       "      <th>mintemp</th>\n",
       "      <th>dewpoint</th>\n",
       "      <th>humidity</th>\n",
       "      <th>cloud</th>\n",
       "      <th>sunshine</th>\n",
       "      <th>windspeed</th>\n",
       "      <th>...</th>\n",
       "      <th>sunshine_cat</th>\n",
       "      <th>windspeed_cat</th>\n",
       "      <th>temp_change_cat</th>\n",
       "      <th>temp_ratio_cat</th>\n",
       "      <th>wind_dir_rad_cat</th>\n",
       "      <th>wind_direction_sin_cat</th>\n",
       "      <th>wind_direction_cos_cat</th>\n",
       "      <th>avg_temp_cat</th>\n",
       "      <th>dewpoint_depression_cat</th>\n",
       "      <th>sunshine_ratio_cat</th>\n",
       "    </tr>\n",
       "  </thead>\n",
       "  <tbody>\n",
       "    <tr>\n",
       "      <th>0</th>\n",
       "      <td>1</td>\n",
       "      <td>1017.4</td>\n",
       "      <td>21.2</td>\n",
       "      <td>20.6</td>\n",
       "      <td>19.9</td>\n",
       "      <td>19.4</td>\n",
       "      <td>87.0</td>\n",
       "      <td>4.488636</td>\n",
       "      <td>1.1</td>\n",
       "      <td>17.2</td>\n",
       "      <td>...</td>\n",
       "      <td>1.1</td>\n",
       "      <td>17.2</td>\n",
       "      <td>1.3000000000000007</td>\n",
       "      <td>1.065326633165829</td>\n",
       "      <td>1.0471975511965976</td>\n",
       "      <td>0.8660254037844386</td>\n",
       "      <td>0.5000000000000001</td>\n",
       "      <td>20.549999999999997</td>\n",
       "      <td>1.2000000000000028</td>\n",
       "      <td>0.012359550561797755</td>\n",
       "    </tr>\n",
       "    <tr>\n",
       "      <th>1</th>\n",
       "      <td>2</td>\n",
       "      <td>1019.5</td>\n",
       "      <td>16.2</td>\n",
       "      <td>16.9</td>\n",
       "      <td>15.8</td>\n",
       "      <td>15.4</td>\n",
       "      <td>95.0</td>\n",
       "      <td>4.521789</td>\n",
       "      <td>0.0</td>\n",
       "      <td>21.9</td>\n",
       "      <td>...</td>\n",
       "      <td>0.0</td>\n",
       "      <td>21.9</td>\n",
       "      <td>0.3999999999999986</td>\n",
       "      <td>1.0253164556962024</td>\n",
       "      <td>0.8726646259971648</td>\n",
       "      <td>0.766044443118978</td>\n",
       "      <td>0.6427876096865394</td>\n",
       "      <td>16.0</td>\n",
       "      <td>1.4999999999999982</td>\n",
       "      <td>0.0</td>\n",
       "    </tr>\n",
       "    <tr>\n",
       "      <th>2</th>\n",
       "      <td>3</td>\n",
       "      <td>1024.1</td>\n",
       "      <td>19.4</td>\n",
       "      <td>16.1</td>\n",
       "      <td>14.6</td>\n",
       "      <td>9.3</td>\n",
       "      <td>75.0</td>\n",
       "      <td>3.871201</td>\n",
       "      <td>8.3</td>\n",
       "      <td>18.1</td>\n",
       "      <td>...</td>\n",
       "      <td>8.3</td>\n",
       "      <td>18.1</td>\n",
       "      <td>4.799999999999999</td>\n",
       "      <td>1.3287671232876712</td>\n",
       "      <td>1.2217304763960306</td>\n",
       "      <td>0.9396926207859083</td>\n",
       "      <td>0.3420201433256688</td>\n",
       "      <td>17.0</td>\n",
       "      <td>6.800000000000001</td>\n",
       "      <td>0.1729166666666667</td>\n",
       "    </tr>\n",
       "    <tr>\n",
       "      <th>3</th>\n",
       "      <td>4</td>\n",
       "      <td>1013.4</td>\n",
       "      <td>18.1</td>\n",
       "      <td>17.8</td>\n",
       "      <td>16.9</td>\n",
       "      <td>16.8</td>\n",
       "      <td>95.0</td>\n",
       "      <td>4.564348</td>\n",
       "      <td>0.0</td>\n",
       "      <td>35.6</td>\n",
       "      <td>...</td>\n",
       "      <td>0.0</td>\n",
       "      <td>35.6</td>\n",
       "      <td>1.2000000000000028</td>\n",
       "      <td>1.0710059171597635</td>\n",
       "      <td>1.0471975511965976</td>\n",
       "      <td>0.8660254037844386</td>\n",
       "      <td>0.5000000000000001</td>\n",
       "      <td>17.5</td>\n",
       "      <td>1.0</td>\n",
       "      <td>0.0</td>\n",
       "    </tr>\n",
       "    <tr>\n",
       "      <th>4</th>\n",
       "      <td>5</td>\n",
       "      <td>1021.8</td>\n",
       "      <td>21.3</td>\n",
       "      <td>18.4</td>\n",
       "      <td>15.2</td>\n",
       "      <td>9.6</td>\n",
       "      <td>52.0</td>\n",
       "      <td>3.828641</td>\n",
       "      <td>3.6</td>\n",
       "      <td>24.8</td>\n",
       "      <td>...</td>\n",
       "      <td>3.6</td>\n",
       "      <td>24.8</td>\n",
       "      <td>6.100000000000001</td>\n",
       "      <td>1.4013157894736843</td>\n",
       "      <td>0.6981317007977318</td>\n",
       "      <td>0.6427876096865393</td>\n",
       "      <td>0.766044443118978</td>\n",
       "      <td>18.25</td>\n",
       "      <td>8.799999999999999</td>\n",
       "      <td>0.0782608695652174</td>\n",
       "    </tr>\n",
       "    <tr>\n",
       "      <th>...</th>\n",
       "      <td>...</td>\n",
       "      <td>...</td>\n",
       "      <td>...</td>\n",
       "      <td>...</td>\n",
       "      <td>...</td>\n",
       "      <td>...</td>\n",
       "      <td>...</td>\n",
       "      <td>...</td>\n",
       "      <td>...</td>\n",
       "      <td>...</td>\n",
       "      <td>...</td>\n",
       "      <td>...</td>\n",
       "      <td>...</td>\n",
       "      <td>...</td>\n",
       "      <td>...</td>\n",
       "      <td>...</td>\n",
       "      <td>...</td>\n",
       "      <td>...</td>\n",
       "      <td>...</td>\n",
       "      <td>...</td>\n",
       "      <td>...</td>\n",
       "    </tr>\n",
       "    <tr>\n",
       "      <th>2551</th>\n",
       "      <td>27</td>\n",
       "      <td>1022.7</td>\n",
       "      <td>18.8</td>\n",
       "      <td>17.7</td>\n",
       "      <td>16.9</td>\n",
       "      <td>15.0</td>\n",
       "      <td>84.0</td>\n",
       "      <td>4.510860</td>\n",
       "      <td>0.0</td>\n",
       "      <td>18.4</td>\n",
       "      <td>...</td>\n",
       "      <td>0.0</td>\n",
       "      <td>18.4</td>\n",
       "      <td>1.9000000000000021</td>\n",
       "      <td>1.1124260355029587</td>\n",
       "      <td>0.5235987755982988</td>\n",
       "      <td>0.49999999999999994</td>\n",
       "      <td>0.8660254037844387</td>\n",
       "      <td>17.85</td>\n",
       "      <td>2.6999999999999993</td>\n",
       "      <td>0.0</td>\n",
       "    </tr>\n",
       "    <tr>\n",
       "      <th>2552</th>\n",
       "      <td>28</td>\n",
       "      <td>1026.6</td>\n",
       "      <td>18.6</td>\n",
       "      <td>17.3</td>\n",
       "      <td>16.3</td>\n",
       "      <td>12.8</td>\n",
       "      <td>75.0</td>\n",
       "      <td>4.454347</td>\n",
       "      <td>1.0</td>\n",
       "      <td>25.9</td>\n",
       "      <td>...</td>\n",
       "      <td>1.0</td>\n",
       "      <td>25.9</td>\n",
       "      <td>2.3000000000000007</td>\n",
       "      <td>1.1411042944785277</td>\n",
       "      <td>0.3490658503988659</td>\n",
       "      <td>0.3420201433256687</td>\n",
       "      <td>0.9396926207859084</td>\n",
       "      <td>17.450000000000003</td>\n",
       "      <td>4.5</td>\n",
       "      <td>0.011627906976744186</td>\n",
       "    </tr>\n",
       "    <tr>\n",
       "      <th>2553</th>\n",
       "      <td>29</td>\n",
       "      <td>1025.9</td>\n",
       "      <td>18.9</td>\n",
       "      <td>17.7</td>\n",
       "      <td>16.4</td>\n",
       "      <td>13.3</td>\n",
       "      <td>75.0</td>\n",
       "      <td>4.369448</td>\n",
       "      <td>4.6</td>\n",
       "      <td>33.4</td>\n",
       "      <td>...</td>\n",
       "      <td>4.6</td>\n",
       "      <td>33.4</td>\n",
       "      <td>2.5</td>\n",
       "      <td>1.1524390243902438</td>\n",
       "      <td>1.2217304763960306</td>\n",
       "      <td>0.9396926207859083</td>\n",
       "      <td>0.3420201433256688</td>\n",
       "      <td>17.65</td>\n",
       "      <td>4.399999999999999</td>\n",
       "      <td>0.05822784810126582</td>\n",
       "    </tr>\n",
       "    <tr>\n",
       "      <th>2554</th>\n",
       "      <td>30</td>\n",
       "      <td>1025.3</td>\n",
       "      <td>19.2</td>\n",
       "      <td>17.3</td>\n",
       "      <td>15.2</td>\n",
       "      <td>13.3</td>\n",
       "      <td>78.0</td>\n",
       "      <td>4.465908</td>\n",
       "      <td>1.2</td>\n",
       "      <td>20.9</td>\n",
       "      <td>...</td>\n",
       "      <td>1.2</td>\n",
       "      <td>20.9</td>\n",
       "      <td>4.0</td>\n",
       "      <td>1.263157894736842</td>\n",
       "      <td>0.3490658503988659</td>\n",
       "      <td>0.3420201433256687</td>\n",
       "      <td>0.9396926207859084</td>\n",
       "      <td>17.2</td>\n",
       "      <td>4.0</td>\n",
       "      <td>0.013793103448275862</td>\n",
       "    </tr>\n",
       "    <tr>\n",
       "      <th>2555</th>\n",
       "      <td>31</td>\n",
       "      <td>1026.4</td>\n",
       "      <td>20.5</td>\n",
       "      <td>17.8</td>\n",
       "      <td>15.5</td>\n",
       "      <td>13.0</td>\n",
       "      <td>74.0</td>\n",
       "      <td>4.204693</td>\n",
       "      <td>5.7</td>\n",
       "      <td>23.3</td>\n",
       "      <td>...</td>\n",
       "      <td>5.7</td>\n",
       "      <td>23.3</td>\n",
       "      <td>5.0</td>\n",
       "      <td>1.3225806451612903</td>\n",
       "      <td>0.3490658503988659</td>\n",
       "      <td>0.3420201433256687</td>\n",
       "      <td>0.9396926207859084</td>\n",
       "      <td>18.0</td>\n",
       "      <td>4.800000000000001</td>\n",
       "      <td>0.08507462686567165</td>\n",
       "    </tr>\n",
       "  </tbody>\n",
       "</table>\n",
       "<p>2555 rows × 36 columns</p>\n",
       "</div>"
      ],
      "text/plain": [
       "      day  pressure  maxtemp  temparature  mintemp  dewpoint  humidity  \\\n",
       "0       1    1017.4     21.2         20.6     19.9      19.4      87.0   \n",
       "1       2    1019.5     16.2         16.9     15.8      15.4      95.0   \n",
       "2       3    1024.1     19.4         16.1     14.6       9.3      75.0   \n",
       "3       4    1013.4     18.1         17.8     16.9      16.8      95.0   \n",
       "4       5    1021.8     21.3         18.4     15.2       9.6      52.0   \n",
       "...   ...       ...      ...          ...      ...       ...       ...   \n",
       "2551   27    1022.7     18.8         17.7     16.9      15.0      84.0   \n",
       "2552   28    1026.6     18.6         17.3     16.3      12.8      75.0   \n",
       "2553   29    1025.9     18.9         17.7     16.4      13.3      75.0   \n",
       "2554   30    1025.3     19.2         17.3     15.2      13.3      78.0   \n",
       "2555   31    1026.4     20.5         17.8     15.5      13.0      74.0   \n",
       "\n",
       "         cloud  sunshine  windspeed  ...  sunshine_cat  windspeed_cat  \\\n",
       "0     4.488636       1.1       17.2  ...           1.1           17.2   \n",
       "1     4.521789       0.0       21.9  ...           0.0           21.9   \n",
       "2     3.871201       8.3       18.1  ...           8.3           18.1   \n",
       "3     4.564348       0.0       35.6  ...           0.0           35.6   \n",
       "4     3.828641       3.6       24.8  ...           3.6           24.8   \n",
       "...        ...       ...        ...  ...           ...            ...   \n",
       "2551  4.510860       0.0       18.4  ...           0.0           18.4   \n",
       "2552  4.454347       1.0       25.9  ...           1.0           25.9   \n",
       "2553  4.369448       4.6       33.4  ...           4.6           33.4   \n",
       "2554  4.465908       1.2       20.9  ...           1.2           20.9   \n",
       "2555  4.204693       5.7       23.3  ...           5.7           23.3   \n",
       "\n",
       "         temp_change_cat      temp_ratio_cat    wind_dir_rad_cat  \\\n",
       "0     1.3000000000000007   1.065326633165829  1.0471975511965976   \n",
       "1     0.3999999999999986  1.0253164556962024  0.8726646259971648   \n",
       "2      4.799999999999999  1.3287671232876712  1.2217304763960306   \n",
       "3     1.2000000000000028  1.0710059171597635  1.0471975511965976   \n",
       "4      6.100000000000001  1.4013157894736843  0.6981317007977318   \n",
       "...                  ...                 ...                 ...   \n",
       "2551  1.9000000000000021  1.1124260355029587  0.5235987755982988   \n",
       "2552  2.3000000000000007  1.1411042944785277  0.3490658503988659   \n",
       "2553                 2.5  1.1524390243902438  1.2217304763960306   \n",
       "2554                 4.0   1.263157894736842  0.3490658503988659   \n",
       "2555                 5.0  1.3225806451612903  0.3490658503988659   \n",
       "\n",
       "      wind_direction_sin_cat  wind_direction_cos_cat        avg_temp_cat  \\\n",
       "0         0.8660254037844386      0.5000000000000001  20.549999999999997   \n",
       "1          0.766044443118978      0.6427876096865394                16.0   \n",
       "2         0.9396926207859083      0.3420201433256688                17.0   \n",
       "3         0.8660254037844386      0.5000000000000001                17.5   \n",
       "4         0.6427876096865393       0.766044443118978               18.25   \n",
       "...                      ...                     ...                 ...   \n",
       "2551     0.49999999999999994      0.8660254037844387               17.85   \n",
       "2552      0.3420201433256687      0.9396926207859084  17.450000000000003   \n",
       "2553      0.9396926207859083      0.3420201433256688               17.65   \n",
       "2554      0.3420201433256687      0.9396926207859084                17.2   \n",
       "2555      0.3420201433256687      0.9396926207859084                18.0   \n",
       "\n",
       "     dewpoint_depression_cat    sunshine_ratio_cat  \n",
       "0         1.2000000000000028  0.012359550561797755  \n",
       "1         1.4999999999999982                   0.0  \n",
       "2          6.800000000000001    0.1729166666666667  \n",
       "3                        1.0                   0.0  \n",
       "4          8.799999999999999    0.0782608695652174  \n",
       "...                      ...                   ...  \n",
       "2551      2.6999999999999993                   0.0  \n",
       "2552                     4.5  0.011627906976744186  \n",
       "2553       4.399999999999999   0.05822784810126582  \n",
       "2554                     4.0  0.013793103448275862  \n",
       "2555       4.800000000000001   0.08507462686567165  \n",
       "\n",
       "[2555 rows x 36 columns]"
      ]
     },
     "execution_count": 14,
     "metadata": {},
     "output_type": "execute_result"
    }
   ],
   "source": [
    "X_train"
   ]
  },
  {
   "cell_type": "code",
   "execution_count": 56,
   "id": "1f210d0f-49e7-4259-b162-98968ce0757a",
   "metadata": {},
   "outputs": [],
   "source": [
    "\n",
    "def objective(trial, X, y):\n",
    "    # Definición de hiperparámetros para LightGBM\n",
    "    params = {\n",
    "        'objective': 'binary',\n",
    "        'boosting_type': trial.suggest_categorical('boosting_type', ['gbdt', 'dart']),\n",
    "        'learning_rate': trial.suggest_loguniform('learning_rate', 1e-3, 1e-1),\n",
    "        'num_leaves': trial.suggest_int('num_leaves', 20, 300),\n",
    "        'max_depth': trial.suggest_int('max_depth', 3, 8),\n",
    "        'min_child_samples': trial.suggest_int('min_child_samples', 5, 100),\n",
    "        'min_child_weight': trial.suggest_loguniform('min_child_weight', 1e-3, 10.0),\n",
    "        'subsample': trial.suggest_float('subsample', 0.4, 1.0),\n",
    "        'colsample_bytree': trial.suggest_float('colsample_bytree', 0.4, 1.0),\n",
    "        'reg_alpha': trial.suggest_loguniform('reg_alpha', 1e-8, 10.0),\n",
    "        'reg_lambda': trial.suggest_loguniform('reg_lambda', 1e-8, 10.0),\n",
    "        'n_estimators': trial.suggest_int('n_estimators', 25, 125),\n",
    "        'min_split_gain': trial.suggest_float('min_split_gain', 0.0001, 1.0),\n",
    "        'subsample_freq': trial.suggest_int('subsample_freq', 0, 10),\n",
    "        'max_bin': trial.suggest_int('max_bin', 100, 300),\n",
    "        'scale_pos_weight': trial.suggest_float('scale_pos_weight', 0.5, 2.0),\n",
    "        'random_state': 42,\n",
    "        'verbosity': -1\n",
    "    }\n",
    "    # Creación del clasificador LightGBM con los parámetros sugeridos\n",
    "    clf = LGBMClassifier(**params)\n",
    "    \n",
    "    # Utilizamos StratifiedKFold para mantener el balance de clases (5 particiones)\n",
    "    skf = StratifiedKFold(n_splits=5, shuffle=True, random_state=42)\n",
    "    train_scores = []\n",
    "    val_scores = []\n",
    "    \n",
    "    with mlflow.start_run():\n",
    "        for fold, (train_idx, val_idx) in enumerate(skf.split(X,y)):\n",
    "            X_train, X_val = X.iloc[train_idx], X.iloc[val_idx]\n",
    "            y_train, y_val = y.iloc[train_idx], y.iloc[val_idx]"
   ]
  },
  {
   "cell_type": "code",
   "execution_count": 57,
   "id": "9b39eb34-620e-4346-9de6-9aa4e327afad",
   "metadata": {
    "scrolled": true
   },
   "outputs": [
    {
     "name": "stderr",
     "output_type": "stream",
     "text": [
      "[I 2025-03-09 20:49:42,559] A new study created in memory with name: no-name-bb5d5504-d71a-425c-92b7-d79d2b704427\n",
      "/var/folders/ws/5628jcln1q1g_nmpns07dt_m0000gn/T/ipykernel_14057/3176874039.py:6: FutureWarning: suggest_loguniform has been deprecated in v3.0.0. This feature will be removed in v6.0.0. See https://github.com/optuna/optuna/releases/tag/v3.0.0. Use suggest_float(..., log=True) instead.\n",
      "  'learning_rate': trial.suggest_loguniform('learning_rate', 1e-3, 1e-1),\n",
      "/var/folders/ws/5628jcln1q1g_nmpns07dt_m0000gn/T/ipykernel_14057/3176874039.py:10: FutureWarning: suggest_loguniform has been deprecated in v3.0.0. This feature will be removed in v6.0.0. See https://github.com/optuna/optuna/releases/tag/v3.0.0. Use suggest_float(..., log=True) instead.\n",
      "  'min_child_weight': trial.suggest_loguniform('min_child_weight', 1e-3, 10.0),\n",
      "/var/folders/ws/5628jcln1q1g_nmpns07dt_m0000gn/T/ipykernel_14057/3176874039.py:13: FutureWarning: suggest_loguniform has been deprecated in v3.0.0. This feature will be removed in v6.0.0. See https://github.com/optuna/optuna/releases/tag/v3.0.0. Use suggest_float(..., log=True) instead.\n",
      "  'reg_alpha': trial.suggest_loguniform('reg_alpha', 1e-8, 10.0),\n",
      "/var/folders/ws/5628jcln1q1g_nmpns07dt_m0000gn/T/ipykernel_14057/3176874039.py:14: FutureWarning: suggest_loguniform has been deprecated in v3.0.0. This feature will be removed in v6.0.0. See https://github.com/optuna/optuna/releases/tag/v3.0.0. Use suggest_float(..., log=True) instead.\n",
      "  'reg_lambda': trial.suggest_loguniform('reg_lambda', 1e-8, 10.0),\n",
      "[I 2025-03-09 20:49:43,544] Trial 0 finished with value: 0.8942754236815812 and parameters: {'boosting_type': 'dart', 'learning_rate': 0.029106359131330698, 'num_leaves': 188, 'max_depth': 4, 'min_child_samples': 19, 'min_child_weight': 0.0017073967431528124, 'subsample': 0.9197056874649611, 'colsample_bytree': 0.7606690070459253, 'reg_alpha': 0.02358594058414266, 'reg_lambda': 1.5320059381854043e-08, 'n_estimators': 122, 'min_split_gain': 0.8324593965363417, 'subsample_freq': 2, 'max_bin': 136, 'scale_pos_weight': 0.7751067647801507}. Best is trial 0 with value: 0.8942754236815812.\n"
     ]
    },
    {
     "name": "stdout",
     "output_type": "stream",
     "text": [
      "Trial 0 - Train AUC: 0.9397 | Validation AUC: 0.8943\n"
     ]
    },
    {
     "name": "stderr",
     "output_type": "stream",
     "text": [
      "/var/folders/ws/5628jcln1q1g_nmpns07dt_m0000gn/T/ipykernel_14057/3176874039.py:6: FutureWarning: suggest_loguniform has been deprecated in v3.0.0. This feature will be removed in v6.0.0. See https://github.com/optuna/optuna/releases/tag/v3.0.0. Use suggest_float(..., log=True) instead.\n",
      "  'learning_rate': trial.suggest_loguniform('learning_rate', 1e-3, 1e-1),\n",
      "/var/folders/ws/5628jcln1q1g_nmpns07dt_m0000gn/T/ipykernel_14057/3176874039.py:10: FutureWarning: suggest_loguniform has been deprecated in v3.0.0. This feature will be removed in v6.0.0. See https://github.com/optuna/optuna/releases/tag/v3.0.0. Use suggest_float(..., log=True) instead.\n",
      "  'min_child_weight': trial.suggest_loguniform('min_child_weight', 1e-3, 10.0),\n",
      "/var/folders/ws/5628jcln1q1g_nmpns07dt_m0000gn/T/ipykernel_14057/3176874039.py:13: FutureWarning: suggest_loguniform has been deprecated in v3.0.0. This feature will be removed in v6.0.0. See https://github.com/optuna/optuna/releases/tag/v3.0.0. Use suggest_float(..., log=True) instead.\n",
      "  'reg_alpha': trial.suggest_loguniform('reg_alpha', 1e-8, 10.0),\n",
      "/var/folders/ws/5628jcln1q1g_nmpns07dt_m0000gn/T/ipykernel_14057/3176874039.py:14: FutureWarning: suggest_loguniform has been deprecated in v3.0.0. This feature will be removed in v6.0.0. See https://github.com/optuna/optuna/releases/tag/v3.0.0. Use suggest_float(..., log=True) instead.\n",
      "  'reg_lambda': trial.suggest_loguniform('reg_lambda', 1e-8, 10.0),\n",
      "[I 2025-03-09 20:49:45,203] Trial 1 finished with value: 0.8902865046437796 and parameters: {'boosting_type': 'dart', 'learning_rate': 0.007309539835912915, 'num_leaves': 101, 'max_depth': 9, 'min_child_samples': 18, 'min_child_weight': 0.01474275315991467, 'subsample': 0.6198171059762151, 'colsample_bytree': 0.6736419905302216, 'reg_alpha': 0.11656915613247415, 'reg_lambda': 6.267062696005991e-07, 'n_estimators': 76, 'min_split_gain': 0.5924553274051563, 'subsample_freq': 0, 'max_bin': 222, 'scale_pos_weight': 0.7557861855309373}. Best is trial 0 with value: 0.8942754236815812.\n"
     ]
    },
    {
     "name": "stdout",
     "output_type": "stream",
     "text": [
      "Trial 1 - Train AUC: 0.9580 | Validation AUC: 0.8903\n"
     ]
    },
    {
     "name": "stderr",
     "output_type": "stream",
     "text": [
      "/var/folders/ws/5628jcln1q1g_nmpns07dt_m0000gn/T/ipykernel_14057/3176874039.py:6: FutureWarning: suggest_loguniform has been deprecated in v3.0.0. This feature will be removed in v6.0.0. See https://github.com/optuna/optuna/releases/tag/v3.0.0. Use suggest_float(..., log=True) instead.\n",
      "  'learning_rate': trial.suggest_loguniform('learning_rate', 1e-3, 1e-1),\n",
      "/var/folders/ws/5628jcln1q1g_nmpns07dt_m0000gn/T/ipykernel_14057/3176874039.py:10: FutureWarning: suggest_loguniform has been deprecated in v3.0.0. This feature will be removed in v6.0.0. See https://github.com/optuna/optuna/releases/tag/v3.0.0. Use suggest_float(..., log=True) instead.\n",
      "  'min_child_weight': trial.suggest_loguniform('min_child_weight', 1e-3, 10.0),\n",
      "/var/folders/ws/5628jcln1q1g_nmpns07dt_m0000gn/T/ipykernel_14057/3176874039.py:13: FutureWarning: suggest_loguniform has been deprecated in v3.0.0. This feature will be removed in v6.0.0. See https://github.com/optuna/optuna/releases/tag/v3.0.0. Use suggest_float(..., log=True) instead.\n",
      "  'reg_alpha': trial.suggest_loguniform('reg_alpha', 1e-8, 10.0),\n",
      "/var/folders/ws/5628jcln1q1g_nmpns07dt_m0000gn/T/ipykernel_14057/3176874039.py:14: FutureWarning: suggest_loguniform has been deprecated in v3.0.0. This feature will be removed in v6.0.0. See https://github.com/optuna/optuna/releases/tag/v3.0.0. Use suggest_float(..., log=True) instead.\n",
      "  'reg_lambda': trial.suggest_loguniform('reg_lambda', 1e-8, 10.0),\n",
      "[I 2025-03-09 20:49:46,925] Trial 2 finished with value: 0.8951399982582673 and parameters: {'boosting_type': 'dart', 'learning_rate': 0.08536189862866832, 'num_leaves': 247, 'max_depth': 6, 'min_child_samples': 14, 'min_child_weight': 0.5456725485601478, 'subsample': 0.6640914962437608, 'colsample_bytree': 0.47322294090686734, 'reg_alpha': 0.00028614897264046574, 'reg_lambda': 2.039373116525212e-08, 'n_estimators': 116, 'min_split_gain': 0.2588541036018569, 'subsample_freq': 7, 'max_bin': 162, 'scale_pos_weight': 1.2801020317667162}. Best is trial 2 with value: 0.8951399982582673.\n"
     ]
    },
    {
     "name": "stdout",
     "output_type": "stream",
     "text": [
      "Trial 2 - Train AUC: 0.9837 | Validation AUC: 0.8951\n"
     ]
    },
    {
     "name": "stderr",
     "output_type": "stream",
     "text": [
      "/var/folders/ws/5628jcln1q1g_nmpns07dt_m0000gn/T/ipykernel_14057/3176874039.py:6: FutureWarning: suggest_loguniform has been deprecated in v3.0.0. This feature will be removed in v6.0.0. See https://github.com/optuna/optuna/releases/tag/v3.0.0. Use suggest_float(..., log=True) instead.\n",
      "  'learning_rate': trial.suggest_loguniform('learning_rate', 1e-3, 1e-1),\n",
      "/var/folders/ws/5628jcln1q1g_nmpns07dt_m0000gn/T/ipykernel_14057/3176874039.py:10: FutureWarning: suggest_loguniform has been deprecated in v3.0.0. This feature will be removed in v6.0.0. See https://github.com/optuna/optuna/releases/tag/v3.0.0. Use suggest_float(..., log=True) instead.\n",
      "  'min_child_weight': trial.suggest_loguniform('min_child_weight', 1e-3, 10.0),\n",
      "/var/folders/ws/5628jcln1q1g_nmpns07dt_m0000gn/T/ipykernel_14057/3176874039.py:13: FutureWarning: suggest_loguniform has been deprecated in v3.0.0. This feature will be removed in v6.0.0. See https://github.com/optuna/optuna/releases/tag/v3.0.0. Use suggest_float(..., log=True) instead.\n",
      "  'reg_alpha': trial.suggest_loguniform('reg_alpha', 1e-8, 10.0),\n",
      "/var/folders/ws/5628jcln1q1g_nmpns07dt_m0000gn/T/ipykernel_14057/3176874039.py:14: FutureWarning: suggest_loguniform has been deprecated in v3.0.0. This feature will be removed in v6.0.0. See https://github.com/optuna/optuna/releases/tag/v3.0.0. Use suggest_float(..., log=True) instead.\n",
      "  'reg_lambda': trial.suggest_loguniform('reg_lambda', 1e-8, 10.0),\n",
      "[I 2025-03-09 20:49:47,441] Trial 3 finished with value: 0.8832332025845359 and parameters: {'boosting_type': 'gbdt', 'learning_rate': 0.08692991511139551, 'num_leaves': 237, 'max_depth': 12, 'min_child_samples': 90, 'min_child_weight': 0.24637685958997463, 'subsample': 0.9531245410138701, 'colsample_bytree': 0.4530955012311517, 'reg_alpha': 5.805581976088804e-07, 'reg_lambda': 2.5529693461039728e-08, 'n_estimators': 57, 'min_split_gain': 0.38873842196051306, 'subsample_freq': 2, 'max_bin': 266, 'scale_pos_weight': 1.0351299900403839}. Best is trial 2 with value: 0.8951399982582673.\n"
     ]
    },
    {
     "name": "stdout",
     "output_type": "stream",
     "text": [
      "Trial 3 - Train AUC: 0.9841 | Validation AUC: 0.8832\n"
     ]
    },
    {
     "name": "stderr",
     "output_type": "stream",
     "text": [
      "/var/folders/ws/5628jcln1q1g_nmpns07dt_m0000gn/T/ipykernel_14057/3176874039.py:6: FutureWarning: suggest_loguniform has been deprecated in v3.0.0. This feature will be removed in v6.0.0. See https://github.com/optuna/optuna/releases/tag/v3.0.0. Use suggest_float(..., log=True) instead.\n",
      "  'learning_rate': trial.suggest_loguniform('learning_rate', 1e-3, 1e-1),\n",
      "/var/folders/ws/5628jcln1q1g_nmpns07dt_m0000gn/T/ipykernel_14057/3176874039.py:10: FutureWarning: suggest_loguniform has been deprecated in v3.0.0. This feature will be removed in v6.0.0. See https://github.com/optuna/optuna/releases/tag/v3.0.0. Use suggest_float(..., log=True) instead.\n",
      "  'min_child_weight': trial.suggest_loguniform('min_child_weight', 1e-3, 10.0),\n",
      "/var/folders/ws/5628jcln1q1g_nmpns07dt_m0000gn/T/ipykernel_14057/3176874039.py:13: FutureWarning: suggest_loguniform has been deprecated in v3.0.0. This feature will be removed in v6.0.0. See https://github.com/optuna/optuna/releases/tag/v3.0.0. Use suggest_float(..., log=True) instead.\n",
      "  'reg_alpha': trial.suggest_loguniform('reg_alpha', 1e-8, 10.0),\n",
      "/var/folders/ws/5628jcln1q1g_nmpns07dt_m0000gn/T/ipykernel_14057/3176874039.py:14: FutureWarning: suggest_loguniform has been deprecated in v3.0.0. This feature will be removed in v6.0.0. See https://github.com/optuna/optuna/releases/tag/v3.0.0. Use suggest_float(..., log=True) instead.\n",
      "  'reg_lambda': trial.suggest_loguniform('reg_lambda', 1e-8, 10.0),\n",
      "[I 2025-03-09 20:49:47,889] Trial 4 finished with value: 0.888204336427366 and parameters: {'boosting_type': 'dart', 'learning_rate': 0.00191358804876923, 'num_leaves': 245, 'max_depth': 3, 'min_child_samples': 99, 'min_child_weight': 1.227380098785297, 'subsample': 0.5192294089205035, 'colsample_bytree': 0.4033132702741615, 'reg_alpha': 0.21834982897607286, 'reg_lambda': 0.022999378190815965, 'n_estimators': 98, 'min_split_gain': 0.7712932196512772, 'subsample_freq': 0, 'max_bin': 172, 'scale_pos_weight': 0.6738035892876946}. Best is trial 2 with value: 0.8951399982582673.\n"
     ]
    },
    {
     "name": "stdout",
     "output_type": "stream",
     "text": [
      "Trial 4 - Train AUC: 0.9055 | Validation AUC: 0.8882\n"
     ]
    },
    {
     "name": "stderr",
     "output_type": "stream",
     "text": [
      "/var/folders/ws/5628jcln1q1g_nmpns07dt_m0000gn/T/ipykernel_14057/3176874039.py:6: FutureWarning: suggest_loguniform has been deprecated in v3.0.0. This feature will be removed in v6.0.0. See https://github.com/optuna/optuna/releases/tag/v3.0.0. Use suggest_float(..., log=True) instead.\n",
      "  'learning_rate': trial.suggest_loguniform('learning_rate', 1e-3, 1e-1),\n",
      "/var/folders/ws/5628jcln1q1g_nmpns07dt_m0000gn/T/ipykernel_14057/3176874039.py:10: FutureWarning: suggest_loguniform has been deprecated in v3.0.0. This feature will be removed in v6.0.0. See https://github.com/optuna/optuna/releases/tag/v3.0.0. Use suggest_float(..., log=True) instead.\n",
      "  'min_child_weight': trial.suggest_loguniform('min_child_weight', 1e-3, 10.0),\n",
      "/var/folders/ws/5628jcln1q1g_nmpns07dt_m0000gn/T/ipykernel_14057/3176874039.py:13: FutureWarning: suggest_loguniform has been deprecated in v3.0.0. This feature will be removed in v6.0.0. See https://github.com/optuna/optuna/releases/tag/v3.0.0. Use suggest_float(..., log=True) instead.\n",
      "  'reg_alpha': trial.suggest_loguniform('reg_alpha', 1e-8, 10.0),\n",
      "/var/folders/ws/5628jcln1q1g_nmpns07dt_m0000gn/T/ipykernel_14057/3176874039.py:14: FutureWarning: suggest_loguniform has been deprecated in v3.0.0. This feature will be removed in v6.0.0. See https://github.com/optuna/optuna/releases/tag/v3.0.0. Use suggest_float(..., log=True) instead.\n",
      "  'reg_lambda': trial.suggest_loguniform('reg_lambda', 1e-8, 10.0),\n",
      "[I 2025-03-09 20:49:48,950] Trial 5 finished with value: 0.8903101728680796 and parameters: {'boosting_type': 'gbdt', 'learning_rate': 0.004589824181495649, 'num_leaves': 37, 'max_depth': 6, 'min_child_samples': 36, 'min_child_weight': 0.828752236376816, 'subsample': 0.7825344828131279, 'colsample_bytree': 0.932327645545796, 'reg_alpha': 0.0001778010520878397, 'reg_lambda': 1.1921975182604517e-07, 'n_estimators': 97, 'min_split_gain': 0.7608089701120357, 'subsample_freq': 6, 'max_bin': 254, 'scale_pos_weight': 1.2406933945465861}. Best is trial 2 with value: 0.8951399982582673.\n"
     ]
    },
    {
     "name": "stdout",
     "output_type": "stream",
     "text": [
      "Trial 5 - Train AUC: 0.9308 | Validation AUC: 0.8903\n"
     ]
    },
    {
     "name": "stderr",
     "output_type": "stream",
     "text": [
      "/var/folders/ws/5628jcln1q1g_nmpns07dt_m0000gn/T/ipykernel_14057/3176874039.py:6: FutureWarning: suggest_loguniform has been deprecated in v3.0.0. This feature will be removed in v6.0.0. See https://github.com/optuna/optuna/releases/tag/v3.0.0. Use suggest_float(..., log=True) instead.\n",
      "  'learning_rate': trial.suggest_loguniform('learning_rate', 1e-3, 1e-1),\n",
      "/var/folders/ws/5628jcln1q1g_nmpns07dt_m0000gn/T/ipykernel_14057/3176874039.py:10: FutureWarning: suggest_loguniform has been deprecated in v3.0.0. This feature will be removed in v6.0.0. See https://github.com/optuna/optuna/releases/tag/v3.0.0. Use suggest_float(..., log=True) instead.\n",
      "  'min_child_weight': trial.suggest_loguniform('min_child_weight', 1e-3, 10.0),\n",
      "/var/folders/ws/5628jcln1q1g_nmpns07dt_m0000gn/T/ipykernel_14057/3176874039.py:13: FutureWarning: suggest_loguniform has been deprecated in v3.0.0. This feature will be removed in v6.0.0. See https://github.com/optuna/optuna/releases/tag/v3.0.0. Use suggest_float(..., log=True) instead.\n",
      "  'reg_alpha': trial.suggest_loguniform('reg_alpha', 1e-8, 10.0),\n",
      "/var/folders/ws/5628jcln1q1g_nmpns07dt_m0000gn/T/ipykernel_14057/3176874039.py:14: FutureWarning: suggest_loguniform has been deprecated in v3.0.0. This feature will be removed in v6.0.0. See https://github.com/optuna/optuna/releases/tag/v3.0.0. Use suggest_float(..., log=True) instead.\n",
      "  'reg_lambda': trial.suggest_loguniform('reg_lambda', 1e-8, 10.0),\n",
      "[I 2025-03-09 20:49:49,380] Trial 6 finished with value: 0.8776896895954417 and parameters: {'boosting_type': 'gbdt', 'learning_rate': 0.0011241862095793063, 'num_leaves': 50, 'max_depth': 3, 'min_child_samples': 66, 'min_child_weight': 0.018089390092767135, 'subsample': 0.7051424146988217, 'colsample_bytree': 0.9445398843556558, 'reg_alpha': 1.7523871598466864e-06, 'reg_lambda': 4.9368087974032924e-05, 'n_estimators': 101, 'min_split_gain': 0.22887528567507331, 'subsample_freq': 0, 'max_bin': 158, 'scale_pos_weight': 0.7418319308810066}. Best is trial 2 with value: 0.8951399982582673.\n"
     ]
    },
    {
     "name": "stdout",
     "output_type": "stream",
     "text": [
      "Trial 6 - Train AUC: 0.9002 | Validation AUC: 0.8777\n"
     ]
    },
    {
     "name": "stderr",
     "output_type": "stream",
     "text": [
      "/var/folders/ws/5628jcln1q1g_nmpns07dt_m0000gn/T/ipykernel_14057/3176874039.py:6: FutureWarning: suggest_loguniform has been deprecated in v3.0.0. This feature will be removed in v6.0.0. See https://github.com/optuna/optuna/releases/tag/v3.0.0. Use suggest_float(..., log=True) instead.\n",
      "  'learning_rate': trial.suggest_loguniform('learning_rate', 1e-3, 1e-1),\n",
      "/var/folders/ws/5628jcln1q1g_nmpns07dt_m0000gn/T/ipykernel_14057/3176874039.py:10: FutureWarning: suggest_loguniform has been deprecated in v3.0.0. This feature will be removed in v6.0.0. See https://github.com/optuna/optuna/releases/tag/v3.0.0. Use suggest_float(..., log=True) instead.\n",
      "  'min_child_weight': trial.suggest_loguniform('min_child_weight', 1e-3, 10.0),\n",
      "/var/folders/ws/5628jcln1q1g_nmpns07dt_m0000gn/T/ipykernel_14057/3176874039.py:13: FutureWarning: suggest_loguniform has been deprecated in v3.0.0. This feature will be removed in v6.0.0. See https://github.com/optuna/optuna/releases/tag/v3.0.0. Use suggest_float(..., log=True) instead.\n",
      "  'reg_alpha': trial.suggest_loguniform('reg_alpha', 1e-8, 10.0),\n",
      "/var/folders/ws/5628jcln1q1g_nmpns07dt_m0000gn/T/ipykernel_14057/3176874039.py:14: FutureWarning: suggest_loguniform has been deprecated in v3.0.0. This feature will be removed in v6.0.0. See https://github.com/optuna/optuna/releases/tag/v3.0.0. Use suggest_float(..., log=True) instead.\n",
      "  'reg_lambda': trial.suggest_loguniform('reg_lambda', 1e-8, 10.0),\n",
      "[I 2025-03-09 20:49:49,795] Trial 7 finished with value: 0.8864983688684356 and parameters: {'boosting_type': 'gbdt', 'learning_rate': 0.018484491720988625, 'num_leaves': 264, 'max_depth': 11, 'min_child_samples': 22, 'min_child_weight': 3.7173717478250525, 'subsample': 0.7236053451493905, 'colsample_bytree': 0.8844640930984375, 'reg_alpha': 1.16097187606918, 'reg_lambda': 7.278322158604965e-06, 'n_estimators': 36, 'min_split_gain': 0.2280123690256875, 'subsample_freq': 4, 'max_bin': 264, 'scale_pos_weight': 1.7910958748845152}. Best is trial 2 with value: 0.8951399982582673.\n"
     ]
    },
    {
     "name": "stdout",
     "output_type": "stream",
     "text": [
      "Trial 7 - Train AUC: 0.9234 | Validation AUC: 0.8865\n"
     ]
    },
    {
     "name": "stderr",
     "output_type": "stream",
     "text": [
      "/var/folders/ws/5628jcln1q1g_nmpns07dt_m0000gn/T/ipykernel_14057/3176874039.py:6: FutureWarning: suggest_loguniform has been deprecated in v3.0.0. This feature will be removed in v6.0.0. See https://github.com/optuna/optuna/releases/tag/v3.0.0. Use suggest_float(..., log=True) instead.\n",
      "  'learning_rate': trial.suggest_loguniform('learning_rate', 1e-3, 1e-1),\n",
      "/var/folders/ws/5628jcln1q1g_nmpns07dt_m0000gn/T/ipykernel_14057/3176874039.py:10: FutureWarning: suggest_loguniform has been deprecated in v3.0.0. This feature will be removed in v6.0.0. See https://github.com/optuna/optuna/releases/tag/v3.0.0. Use suggest_float(..., log=True) instead.\n",
      "  'min_child_weight': trial.suggest_loguniform('min_child_weight', 1e-3, 10.0),\n",
      "/var/folders/ws/5628jcln1q1g_nmpns07dt_m0000gn/T/ipykernel_14057/3176874039.py:13: FutureWarning: suggest_loguniform has been deprecated in v3.0.0. This feature will be removed in v6.0.0. See https://github.com/optuna/optuna/releases/tag/v3.0.0. Use suggest_float(..., log=True) instead.\n",
      "  'reg_alpha': trial.suggest_loguniform('reg_alpha', 1e-8, 10.0),\n",
      "/var/folders/ws/5628jcln1q1g_nmpns07dt_m0000gn/T/ipykernel_14057/3176874039.py:14: FutureWarning: suggest_loguniform has been deprecated in v3.0.0. This feature will be removed in v6.0.0. See https://github.com/optuna/optuna/releases/tag/v3.0.0. Use suggest_float(..., log=True) instead.\n",
      "  'reg_lambda': trial.suggest_loguniform('reg_lambda', 1e-8, 10.0),\n",
      "[I 2025-03-09 20:49:50,674] Trial 8 finished with value: 0.8922747061565168 and parameters: {'boosting_type': 'dart', 'learning_rate': 0.006836314065022723, 'num_leaves': 82, 'max_depth': 4, 'min_child_samples': 37, 'min_child_weight': 5.910698619088547, 'subsample': 0.5939217592124532, 'colsample_bytree': 0.7112743730460197, 'reg_alpha': 0.02124078827890453, 'reg_lambda': 1.873554890711046e-05, 'n_estimators': 123, 'min_split_gain': 0.962451050212617, 'subsample_freq': 2, 'max_bin': 199, 'scale_pos_weight': 0.9513174647251545}. Best is trial 2 with value: 0.8951399982582673.\n"
     ]
    },
    {
     "name": "stdout",
     "output_type": "stream",
     "text": [
      "Trial 8 - Train AUC: 0.9152 | Validation AUC: 0.8923\n"
     ]
    },
    {
     "name": "stderr",
     "output_type": "stream",
     "text": [
      "/var/folders/ws/5628jcln1q1g_nmpns07dt_m0000gn/T/ipykernel_14057/3176874039.py:6: FutureWarning: suggest_loguniform has been deprecated in v3.0.0. This feature will be removed in v6.0.0. See https://github.com/optuna/optuna/releases/tag/v3.0.0. Use suggest_float(..., log=True) instead.\n",
      "  'learning_rate': trial.suggest_loguniform('learning_rate', 1e-3, 1e-1),\n",
      "/var/folders/ws/5628jcln1q1g_nmpns07dt_m0000gn/T/ipykernel_14057/3176874039.py:10: FutureWarning: suggest_loguniform has been deprecated in v3.0.0. This feature will be removed in v6.0.0. See https://github.com/optuna/optuna/releases/tag/v3.0.0. Use suggest_float(..., log=True) instead.\n",
      "  'min_child_weight': trial.suggest_loguniform('min_child_weight', 1e-3, 10.0),\n",
      "/var/folders/ws/5628jcln1q1g_nmpns07dt_m0000gn/T/ipykernel_14057/3176874039.py:13: FutureWarning: suggest_loguniform has been deprecated in v3.0.0. This feature will be removed in v6.0.0. See https://github.com/optuna/optuna/releases/tag/v3.0.0. Use suggest_float(..., log=True) instead.\n",
      "  'reg_alpha': trial.suggest_loguniform('reg_alpha', 1e-8, 10.0),\n",
      "/var/folders/ws/5628jcln1q1g_nmpns07dt_m0000gn/T/ipykernel_14057/3176874039.py:14: FutureWarning: suggest_loguniform has been deprecated in v3.0.0. This feature will be removed in v6.0.0. See https://github.com/optuna/optuna/releases/tag/v3.0.0. Use suggest_float(..., log=True) instead.\n",
      "  'reg_lambda': trial.suggest_loguniform('reg_lambda', 1e-8, 10.0),\n",
      "[I 2025-03-09 20:49:50,892] Trial 9 finished with value: 0.8822420251007366 and parameters: {'boosting_type': 'gbdt', 'learning_rate': 0.01656260589333596, 'num_leaves': 161, 'max_depth': 3, 'min_child_samples': 31, 'min_child_weight': 4.295992790539128, 'subsample': 0.5437371344001835, 'colsample_bytree': 0.48693692325473387, 'reg_alpha': 0.0002541410632209718, 'reg_lambda': 7.427695424061668, 'n_estimators': 49, 'min_split_gain': 0.672168333851138, 'subsample_freq': 8, 'max_bin': 147, 'scale_pos_weight': 1.5923245229177894}. Best is trial 2 with value: 0.8951399982582673.\n"
     ]
    },
    {
     "name": "stdout",
     "output_type": "stream",
     "text": [
      "Trial 9 - Train AUC: 0.8971 | Validation AUC: 0.8822\n"
     ]
    },
    {
     "name": "stderr",
     "output_type": "stream",
     "text": [
      "/var/folders/ws/5628jcln1q1g_nmpns07dt_m0000gn/T/ipykernel_14057/3176874039.py:6: FutureWarning: suggest_loguniform has been deprecated in v3.0.0. This feature will be removed in v6.0.0. See https://github.com/optuna/optuna/releases/tag/v3.0.0. Use suggest_float(..., log=True) instead.\n",
      "  'learning_rate': trial.suggest_loguniform('learning_rate', 1e-3, 1e-1),\n",
      "/var/folders/ws/5628jcln1q1g_nmpns07dt_m0000gn/T/ipykernel_14057/3176874039.py:10: FutureWarning: suggest_loguniform has been deprecated in v3.0.0. This feature will be removed in v6.0.0. See https://github.com/optuna/optuna/releases/tag/v3.0.0. Use suggest_float(..., log=True) instead.\n",
      "  'min_child_weight': trial.suggest_loguniform('min_child_weight', 1e-3, 10.0),\n",
      "/var/folders/ws/5628jcln1q1g_nmpns07dt_m0000gn/T/ipykernel_14057/3176874039.py:13: FutureWarning: suggest_loguniform has been deprecated in v3.0.0. This feature will be removed in v6.0.0. See https://github.com/optuna/optuna/releases/tag/v3.0.0. Use suggest_float(..., log=True) instead.\n",
      "  'reg_alpha': trial.suggest_loguniform('reg_alpha', 1e-8, 10.0),\n",
      "/var/folders/ws/5628jcln1q1g_nmpns07dt_m0000gn/T/ipykernel_14057/3176874039.py:14: FutureWarning: suggest_loguniform has been deprecated in v3.0.0. This feature will be removed in v6.0.0. See https://github.com/optuna/optuna/releases/tag/v3.0.0. Use suggest_float(..., log=True) instead.\n",
      "  'reg_lambda': trial.suggest_loguniform('reg_lambda', 1e-8, 10.0),\n",
      "[I 2025-03-09 20:49:52,280] Trial 10 finished with value: 0.8864832954292883 and parameters: {'boosting_type': 'dart', 'learning_rate': 0.07336876281929099, 'num_leaves': 292, 'max_depth': 7, 'min_child_samples': 6, 'min_child_weight': 0.11968563948902959, 'subsample': 0.40935687979507357, 'colsample_bytree': 0.5734355557502415, 'reg_alpha': 1.1920686656748047e-05, 'reg_lambda': 0.00621462073343433, 'n_estimators': 72, 'min_split_gain': 0.012537708623049842, 'subsample_freq': 10, 'max_bin': 116, 'scale_pos_weight': 1.5126593350226878}. Best is trial 2 with value: 0.8951399982582673.\n"
     ]
    },
    {
     "name": "stdout",
     "output_type": "stream",
     "text": [
      "Trial 10 - Train AUC: 0.9693 | Validation AUC: 0.8865\n"
     ]
    },
    {
     "name": "stderr",
     "output_type": "stream",
     "text": [
      "/var/folders/ws/5628jcln1q1g_nmpns07dt_m0000gn/T/ipykernel_14057/3176874039.py:6: FutureWarning: suggest_loguniform has been deprecated in v3.0.0. This feature will be removed in v6.0.0. See https://github.com/optuna/optuna/releases/tag/v3.0.0. Use suggest_float(..., log=True) instead.\n",
      "  'learning_rate': trial.suggest_loguniform('learning_rate', 1e-3, 1e-1),\n",
      "/var/folders/ws/5628jcln1q1g_nmpns07dt_m0000gn/T/ipykernel_14057/3176874039.py:10: FutureWarning: suggest_loguniform has been deprecated in v3.0.0. This feature will be removed in v6.0.0. See https://github.com/optuna/optuna/releases/tag/v3.0.0. Use suggest_float(..., log=True) instead.\n",
      "  'min_child_weight': trial.suggest_loguniform('min_child_weight', 1e-3, 10.0),\n",
      "/var/folders/ws/5628jcln1q1g_nmpns07dt_m0000gn/T/ipykernel_14057/3176874039.py:13: FutureWarning: suggest_loguniform has been deprecated in v3.0.0. This feature will be removed in v6.0.0. See https://github.com/optuna/optuna/releases/tag/v3.0.0. Use suggest_float(..., log=True) instead.\n",
      "  'reg_alpha': trial.suggest_loguniform('reg_alpha', 1e-8, 10.0),\n",
      "/var/folders/ws/5628jcln1q1g_nmpns07dt_m0000gn/T/ipykernel_14057/3176874039.py:14: FutureWarning: suggest_loguniform has been deprecated in v3.0.0. This feature will be removed in v6.0.0. See https://github.com/optuna/optuna/releases/tag/v3.0.0. Use suggest_float(..., log=True) instead.\n",
      "  'reg_lambda': trial.suggest_loguniform('reg_lambda', 1e-8, 10.0),\n",
      "[I 2025-03-09 20:49:53,309] Trial 11 finished with value: 0.8946035011072787 and parameters: {'boosting_type': 'dart', 'learning_rate': 0.03983632455046916, 'num_leaves': 186, 'max_depth': 5, 'min_child_samples': 57, 'min_child_weight': 0.0021159301848064464, 'subsample': 0.8745014789327672, 'colsample_bytree': 0.7849646625441961, 'reg_alpha': 0.005370161145275206, 'reg_lambda': 1.7599869739710766e-08, 'n_estimators': 125, 'min_split_gain': 0.9913900927436349, 'subsample_freq': 6, 'max_bin': 115, 'scale_pos_weight': 0.5049498429583832}. Best is trial 2 with value: 0.8951399982582673.\n"
     ]
    },
    {
     "name": "stdout",
     "output_type": "stream",
     "text": [
      "Trial 11 - Train AUC: 0.9487 | Validation AUC: 0.8946\n"
     ]
    },
    {
     "name": "stderr",
     "output_type": "stream",
     "text": [
      "/var/folders/ws/5628jcln1q1g_nmpns07dt_m0000gn/T/ipykernel_14057/3176874039.py:6: FutureWarning: suggest_loguniform has been deprecated in v3.0.0. This feature will be removed in v6.0.0. See https://github.com/optuna/optuna/releases/tag/v3.0.0. Use suggest_float(..., log=True) instead.\n",
      "  'learning_rate': trial.suggest_loguniform('learning_rate', 1e-3, 1e-1),\n",
      "/var/folders/ws/5628jcln1q1g_nmpns07dt_m0000gn/T/ipykernel_14057/3176874039.py:10: FutureWarning: suggest_loguniform has been deprecated in v3.0.0. This feature will be removed in v6.0.0. See https://github.com/optuna/optuna/releases/tag/v3.0.0. Use suggest_float(..., log=True) instead.\n",
      "  'min_child_weight': trial.suggest_loguniform('min_child_weight', 1e-3, 10.0),\n",
      "/var/folders/ws/5628jcln1q1g_nmpns07dt_m0000gn/T/ipykernel_14057/3176874039.py:13: FutureWarning: suggest_loguniform has been deprecated in v3.0.0. This feature will be removed in v6.0.0. See https://github.com/optuna/optuna/releases/tag/v3.0.0. Use suggest_float(..., log=True) instead.\n",
      "  'reg_alpha': trial.suggest_loguniform('reg_alpha', 1e-8, 10.0),\n",
      "/var/folders/ws/5628jcln1q1g_nmpns07dt_m0000gn/T/ipykernel_14057/3176874039.py:14: FutureWarning: suggest_loguniform has been deprecated in v3.0.0. This feature will be removed in v6.0.0. See https://github.com/optuna/optuna/releases/tag/v3.0.0. Use suggest_float(..., log=True) instead.\n",
      "  'reg_lambda': trial.suggest_loguniform('reg_lambda', 1e-8, 10.0),\n",
      "[I 2025-03-09 20:49:54,385] Trial 12 finished with value: 0.8919764396783121 and parameters: {'boosting_type': 'dart', 'learning_rate': 0.04517357181340484, 'num_leaves': 198, 'max_depth': 6, 'min_child_samples': 59, 'min_child_weight': 0.0013746123386778409, 'subsample': 0.8379008977190208, 'colsample_bytree': 0.8276314928116628, 'reg_alpha': 0.005574338794852287, 'reg_lambda': 7.831858876558289e-07, 'n_estimators': 112, 'min_split_gain': 0.45837092108903116, 'subsample_freq': 7, 'max_bin': 116, 'scale_pos_weight': 1.2416671795792473}. Best is trial 2 with value: 0.8951399982582673.\n"
     ]
    },
    {
     "name": "stdout",
     "output_type": "stream",
     "text": [
      "Trial 12 - Train AUC: 0.9416 | Validation AUC: 0.8920\n"
     ]
    },
    {
     "name": "stderr",
     "output_type": "stream",
     "text": [
      "/var/folders/ws/5628jcln1q1g_nmpns07dt_m0000gn/T/ipykernel_14057/3176874039.py:6: FutureWarning: suggest_loguniform has been deprecated in v3.0.0. This feature will be removed in v6.0.0. See https://github.com/optuna/optuna/releases/tag/v3.0.0. Use suggest_float(..., log=True) instead.\n",
      "  'learning_rate': trial.suggest_loguniform('learning_rate', 1e-3, 1e-1),\n",
      "/var/folders/ws/5628jcln1q1g_nmpns07dt_m0000gn/T/ipykernel_14057/3176874039.py:10: FutureWarning: suggest_loguniform has been deprecated in v3.0.0. This feature will be removed in v6.0.0. See https://github.com/optuna/optuna/releases/tag/v3.0.0. Use suggest_float(..., log=True) instead.\n",
      "  'min_child_weight': trial.suggest_loguniform('min_child_weight', 1e-3, 10.0),\n",
      "/var/folders/ws/5628jcln1q1g_nmpns07dt_m0000gn/T/ipykernel_14057/3176874039.py:13: FutureWarning: suggest_loguniform has been deprecated in v3.0.0. This feature will be removed in v6.0.0. See https://github.com/optuna/optuna/releases/tag/v3.0.0. Use suggest_float(..., log=True) instead.\n",
      "  'reg_alpha': trial.suggest_loguniform('reg_alpha', 1e-8, 10.0),\n",
      "/var/folders/ws/5628jcln1q1g_nmpns07dt_m0000gn/T/ipykernel_14057/3176874039.py:14: FutureWarning: suggest_loguniform has been deprecated in v3.0.0. This feature will be removed in v6.0.0. See https://github.com/optuna/optuna/releases/tag/v3.0.0. Use suggest_float(..., log=True) instead.\n",
      "  'reg_lambda': trial.suggest_loguniform('reg_lambda', 1e-8, 10.0),\n",
      "[I 2025-03-09 20:49:55,420] Trial 13 finished with value: 0.8919037808092233 and parameters: {'boosting_type': 'dart', 'learning_rate': 0.048940575921707946, 'num_leaves': 130, 'max_depth': 9, 'min_child_samples': 69, 'min_child_weight': 0.01913836536945013, 'subsample': 0.8530707657609201, 'colsample_bytree': 0.583746554379883, 'reg_alpha': 0.001713349758528307, 'reg_lambda': 0.0012419858649725137, 'n_estimators': 109, 'min_split_gain': 0.2916450121642452, 'subsample_freq': 9, 'max_bin': 100, 'scale_pos_weight': 0.5323118180460437}. Best is trial 2 with value: 0.8951399982582673.\n"
     ]
    },
    {
     "name": "stdout",
     "output_type": "stream",
     "text": [
      "Trial 13 - Train AUC: 0.9543 | Validation AUC: 0.8919\n"
     ]
    },
    {
     "name": "stderr",
     "output_type": "stream",
     "text": [
      "/var/folders/ws/5628jcln1q1g_nmpns07dt_m0000gn/T/ipykernel_14057/3176874039.py:6: FutureWarning: suggest_loguniform has been deprecated in v3.0.0. This feature will be removed in v6.0.0. See https://github.com/optuna/optuna/releases/tag/v3.0.0. Use suggest_float(..., log=True) instead.\n",
      "  'learning_rate': trial.suggest_loguniform('learning_rate', 1e-3, 1e-1),\n",
      "/var/folders/ws/5628jcln1q1g_nmpns07dt_m0000gn/T/ipykernel_14057/3176874039.py:10: FutureWarning: suggest_loguniform has been deprecated in v3.0.0. This feature will be removed in v6.0.0. See https://github.com/optuna/optuna/releases/tag/v3.0.0. Use suggest_float(..., log=True) instead.\n",
      "  'min_child_weight': trial.suggest_loguniform('min_child_weight', 1e-3, 10.0),\n",
      "/var/folders/ws/5628jcln1q1g_nmpns07dt_m0000gn/T/ipykernel_14057/3176874039.py:13: FutureWarning: suggest_loguniform has been deprecated in v3.0.0. This feature will be removed in v6.0.0. See https://github.com/optuna/optuna/releases/tag/v3.0.0. Use suggest_float(..., log=True) instead.\n",
      "  'reg_alpha': trial.suggest_loguniform('reg_alpha', 1e-8, 10.0),\n",
      "/var/folders/ws/5628jcln1q1g_nmpns07dt_m0000gn/T/ipykernel_14057/3176874039.py:14: FutureWarning: suggest_loguniform has been deprecated in v3.0.0. This feature will be removed in v6.0.0. See https://github.com/optuna/optuna/releases/tag/v3.0.0. Use suggest_float(..., log=True) instead.\n",
      "  'reg_lambda': trial.suggest_loguniform('reg_lambda', 1e-8, 10.0),\n",
      "[I 2025-03-09 20:49:56,104] Trial 14 finished with value: 0.8953622178088908 and parameters: {'boosting_type': 'dart', 'learning_rate': 0.09659620245893863, 'num_leaves': 207, 'max_depth': 5, 'min_child_samples': 50, 'min_child_weight': 0.005211072144930545, 'subsample': 0.769084890717404, 'colsample_bytree': 0.6204769168928739, 'reg_alpha': 4.580944721882914e-08, 'reg_lambda': 1.0131207604151525e-06, 'n_estimators': 82, 'min_split_gain': 0.9795681876705042, 'subsample_freq': 5, 'max_bin': 176, 'scale_pos_weight': 1.4594104914635015}. Best is trial 14 with value: 0.8953622178088908.\n"
     ]
    },
    {
     "name": "stdout",
     "output_type": "stream",
     "text": [
      "Trial 14 - Train AUC: 0.9581 | Validation AUC: 0.8954\n"
     ]
    },
    {
     "name": "stderr",
     "output_type": "stream",
     "text": [
      "/var/folders/ws/5628jcln1q1g_nmpns07dt_m0000gn/T/ipykernel_14057/3176874039.py:6: FutureWarning: suggest_loguniform has been deprecated in v3.0.0. This feature will be removed in v6.0.0. See https://github.com/optuna/optuna/releases/tag/v3.0.0. Use suggest_float(..., log=True) instead.\n",
      "  'learning_rate': trial.suggest_loguniform('learning_rate', 1e-3, 1e-1),\n",
      "/var/folders/ws/5628jcln1q1g_nmpns07dt_m0000gn/T/ipykernel_14057/3176874039.py:10: FutureWarning: suggest_loguniform has been deprecated in v3.0.0. This feature will be removed in v6.0.0. See https://github.com/optuna/optuna/releases/tag/v3.0.0. Use suggest_float(..., log=True) instead.\n",
      "  'min_child_weight': trial.suggest_loguniform('min_child_weight', 1e-3, 10.0),\n",
      "/var/folders/ws/5628jcln1q1g_nmpns07dt_m0000gn/T/ipykernel_14057/3176874039.py:13: FutureWarning: suggest_loguniform has been deprecated in v3.0.0. This feature will be removed in v6.0.0. See https://github.com/optuna/optuna/releases/tag/v3.0.0. Use suggest_float(..., log=True) instead.\n",
      "  'reg_alpha': trial.suggest_loguniform('reg_alpha', 1e-8, 10.0),\n",
      "/var/folders/ws/5628jcln1q1g_nmpns07dt_m0000gn/T/ipykernel_14057/3176874039.py:14: FutureWarning: suggest_loguniform has been deprecated in v3.0.0. This feature will be removed in v6.0.0. See https://github.com/optuna/optuna/releases/tag/v3.0.0. Use suggest_float(..., log=True) instead.\n",
      "  'reg_lambda': trial.suggest_loguniform('reg_lambda', 1e-8, 10.0),\n",
      "[I 2025-03-09 20:49:56,782] Trial 15 finished with value: 0.8929472622691679 and parameters: {'boosting_type': 'dart', 'learning_rate': 0.08232310064233399, 'num_leaves': 219, 'max_depth': 8, 'min_child_samples': 76, 'min_child_weight': 0.044340503513352086, 'subsample': 0.6424430720085437, 'colsample_bytree': 0.559294577139634, 'reg_alpha': 2.9375983970160822e-08, 'reg_lambda': 1.1108510312537816e-06, 'n_estimators': 80, 'min_split_gain': 0.06788655822063519, 'subsample_freq': 4, 'max_bin': 190, 'scale_pos_weight': 1.5017711639705913}. Best is trial 14 with value: 0.8953622178088908.\n"
     ]
    },
    {
     "name": "stdout",
     "output_type": "stream",
     "text": [
      "Trial 15 - Train AUC: 0.9377 | Validation AUC: 0.8929\n"
     ]
    },
    {
     "name": "stderr",
     "output_type": "stream",
     "text": [
      "/var/folders/ws/5628jcln1q1g_nmpns07dt_m0000gn/T/ipykernel_14057/3176874039.py:6: FutureWarning: suggest_loguniform has been deprecated in v3.0.0. This feature will be removed in v6.0.0. See https://github.com/optuna/optuna/releases/tag/v3.0.0. Use suggest_float(..., log=True) instead.\n",
      "  'learning_rate': trial.suggest_loguniform('learning_rate', 1e-3, 1e-1),\n",
      "/var/folders/ws/5628jcln1q1g_nmpns07dt_m0000gn/T/ipykernel_14057/3176874039.py:10: FutureWarning: suggest_loguniform has been deprecated in v3.0.0. This feature will be removed in v6.0.0. See https://github.com/optuna/optuna/releases/tag/v3.0.0. Use suggest_float(..., log=True) instead.\n",
      "  'min_child_weight': trial.suggest_loguniform('min_child_weight', 1e-3, 10.0),\n",
      "/var/folders/ws/5628jcln1q1g_nmpns07dt_m0000gn/T/ipykernel_14057/3176874039.py:13: FutureWarning: suggest_loguniform has been deprecated in v3.0.0. This feature will be removed in v6.0.0. See https://github.com/optuna/optuna/releases/tag/v3.0.0. Use suggest_float(..., log=True) instead.\n",
      "  'reg_alpha': trial.suggest_loguniform('reg_alpha', 1e-8, 10.0),\n",
      "/var/folders/ws/5628jcln1q1g_nmpns07dt_m0000gn/T/ipykernel_14057/3176874039.py:14: FutureWarning: suggest_loguniform has been deprecated in v3.0.0. This feature will be removed in v6.0.0. See https://github.com/optuna/optuna/releases/tag/v3.0.0. Use suggest_float(..., log=True) instead.\n",
      "  'reg_lambda': trial.suggest_loguniform('reg_lambda', 1e-8, 10.0),\n",
      "[I 2025-03-09 20:49:57,665] Trial 16 finished with value: 0.8934708458803445 and parameters: {'boosting_type': 'dart', 'learning_rate': 0.020196017968834763, 'num_leaves': 299, 'max_depth': 6, 'min_child_samples': 44, 'min_child_weight': 0.005790872487997772, 'subsample': 0.7662560037109362, 'colsample_bytree': 0.6665438067095697, 'reg_alpha': 1.549133024755041e-08, 'reg_lambda': 9.02020221990378e-05, 'n_estimators': 91, 'min_split_gain': 0.5359962268612672, 'subsample_freq': 5, 'max_bin': 219, 'scale_pos_weight': 1.9347421458708338}. Best is trial 14 with value: 0.8953622178088908.\n"
     ]
    },
    {
     "name": "stdout",
     "output_type": "stream",
     "text": [
      "Trial 16 - Train AUC: 0.9264 | Validation AUC: 0.8935\n"
     ]
    },
    {
     "name": "stderr",
     "output_type": "stream",
     "text": [
      "/var/folders/ws/5628jcln1q1g_nmpns07dt_m0000gn/T/ipykernel_14057/3176874039.py:6: FutureWarning: suggest_loguniform has been deprecated in v3.0.0. This feature will be removed in v6.0.0. See https://github.com/optuna/optuna/releases/tag/v3.0.0. Use suggest_float(..., log=True) instead.\n",
      "  'learning_rate': trial.suggest_loguniform('learning_rate', 1e-3, 1e-1),\n",
      "/var/folders/ws/5628jcln1q1g_nmpns07dt_m0000gn/T/ipykernel_14057/3176874039.py:10: FutureWarning: suggest_loguniform has been deprecated in v3.0.0. This feature will be removed in v6.0.0. See https://github.com/optuna/optuna/releases/tag/v3.0.0. Use suggest_float(..., log=True) instead.\n",
      "  'min_child_weight': trial.suggest_loguniform('min_child_weight', 1e-3, 10.0),\n",
      "/var/folders/ws/5628jcln1q1g_nmpns07dt_m0000gn/T/ipykernel_14057/3176874039.py:13: FutureWarning: suggest_loguniform has been deprecated in v3.0.0. This feature will be removed in v6.0.0. See https://github.com/optuna/optuna/releases/tag/v3.0.0. Use suggest_float(..., log=True) instead.\n",
      "  'reg_alpha': trial.suggest_loguniform('reg_alpha', 1e-8, 10.0),\n",
      "/var/folders/ws/5628jcln1q1g_nmpns07dt_m0000gn/T/ipykernel_14057/3176874039.py:14: FutureWarning: suggest_loguniform has been deprecated in v3.0.0. This feature will be removed in v6.0.0. See https://github.com/optuna/optuna/releases/tag/v3.0.0. Use suggest_float(..., log=True) instead.\n",
      "  'reg_lambda': trial.suggest_loguniform('reg_lambda', 1e-8, 10.0),\n",
      "[I 2025-03-09 20:49:58,276] Trial 17 finished with value: 0.8936665978903962 and parameters: {'boosting_type': 'dart', 'learning_rate': 0.08790237871768602, 'num_leaves': 146, 'max_depth': 5, 'min_child_samples': 49, 'min_child_weight': 0.3621431890594286, 'subsample': 0.993676753319269, 'colsample_bytree': 0.5180173499324512, 'reg_alpha': 2.2137238275428957e-05, 'reg_lambda': 2.461718775896758e-06, 'n_estimators': 63, 'min_split_gain': 0.13225506032930967, 'subsample_freq': 8, 'max_bin': 297, 'scale_pos_weight': 1.3653776111252176}. Best is trial 14 with value: 0.8953622178088908.\n"
     ]
    },
    {
     "name": "stdout",
     "output_type": "stream",
     "text": [
      "Trial 17 - Train AUC: 0.9593 | Validation AUC: 0.8937\n"
     ]
    },
    {
     "name": "stderr",
     "output_type": "stream",
     "text": [
      "/var/folders/ws/5628jcln1q1g_nmpns07dt_m0000gn/T/ipykernel_14057/3176874039.py:6: FutureWarning: suggest_loguniform has been deprecated in v3.0.0. This feature will be removed in v6.0.0. See https://github.com/optuna/optuna/releases/tag/v3.0.0. Use suggest_float(..., log=True) instead.\n",
      "  'learning_rate': trial.suggest_loguniform('learning_rate', 1e-3, 1e-1),\n",
      "/var/folders/ws/5628jcln1q1g_nmpns07dt_m0000gn/T/ipykernel_14057/3176874039.py:10: FutureWarning: suggest_loguniform has been deprecated in v3.0.0. This feature will be removed in v6.0.0. See https://github.com/optuna/optuna/releases/tag/v3.0.0. Use suggest_float(..., log=True) instead.\n",
      "  'min_child_weight': trial.suggest_loguniform('min_child_weight', 1e-3, 10.0),\n",
      "/var/folders/ws/5628jcln1q1g_nmpns07dt_m0000gn/T/ipykernel_14057/3176874039.py:13: FutureWarning: suggest_loguniform has been deprecated in v3.0.0. This feature will be removed in v6.0.0. See https://github.com/optuna/optuna/releases/tag/v3.0.0. Use suggest_float(..., log=True) instead.\n",
      "  'reg_alpha': trial.suggest_loguniform('reg_alpha', 1e-8, 10.0),\n",
      "/var/folders/ws/5628jcln1q1g_nmpns07dt_m0000gn/T/ipykernel_14057/3176874039.py:14: FutureWarning: suggest_loguniform has been deprecated in v3.0.0. This feature will be removed in v6.0.0. See https://github.com/optuna/optuna/releases/tag/v3.0.0. Use suggest_float(..., log=True) instead.\n",
      "  'reg_lambda': trial.suggest_loguniform('reg_lambda', 1e-8, 10.0),\n",
      "[I 2025-03-09 20:50:00,641] Trial 18 finished with value: 0.8936016857478253 and parameters: {'boosting_type': 'dart', 'learning_rate': 0.012223982658599239, 'num_leaves': 274, 'max_depth': 8, 'min_child_samples': 6, 'min_child_weight': 0.0865348909834691, 'subsample': 0.6600559812979437, 'colsample_bytree': 0.6210399934100942, 'reg_alpha': 2.4178313965804183e-07, 'reg_lambda': 1.4742216501891146e-07, 'n_estimators': 86, 'min_split_gain': 0.3483692316502122, 'subsample_freq': 4, 'max_bin': 178, 'scale_pos_weight': 1.7282303961352787}. Best is trial 14 with value: 0.8953622178088908.\n",
      "/var/folders/ws/5628jcln1q1g_nmpns07dt_m0000gn/T/ipykernel_14057/3176874039.py:6: FutureWarning: suggest_loguniform has been deprecated in v3.0.0. This feature will be removed in v6.0.0. See https://github.com/optuna/optuna/releases/tag/v3.0.0. Use suggest_float(..., log=True) instead.\n",
      "  'learning_rate': trial.suggest_loguniform('learning_rate', 1e-3, 1e-1),\n",
      "/var/folders/ws/5628jcln1q1g_nmpns07dt_m0000gn/T/ipykernel_14057/3176874039.py:10: FutureWarning: suggest_loguniform has been deprecated in v3.0.0. This feature will be removed in v6.0.0. See https://github.com/optuna/optuna/releases/tag/v3.0.0. Use suggest_float(..., log=True) instead.\n",
      "  'min_child_weight': trial.suggest_loguniform('min_child_weight', 1e-3, 10.0),\n",
      "/var/folders/ws/5628jcln1q1g_nmpns07dt_m0000gn/T/ipykernel_14057/3176874039.py:13: FutureWarning: suggest_loguniform has been deprecated in v3.0.0. This feature will be removed in v6.0.0. See https://github.com/optuna/optuna/releases/tag/v3.0.0. Use suggest_float(..., log=True) instead.\n",
      "  'reg_alpha': trial.suggest_loguniform('reg_alpha', 1e-8, 10.0),\n",
      "/var/folders/ws/5628jcln1q1g_nmpns07dt_m0000gn/T/ipykernel_14057/3176874039.py:14: FutureWarning: suggest_loguniform has been deprecated in v3.0.0. This feature will be removed in v6.0.0. See https://github.com/optuna/optuna/releases/tag/v3.0.0. Use suggest_float(..., log=True) instead.\n",
      "  'reg_lambda': trial.suggest_loguniform('reg_lambda', 1e-8, 10.0),\n",
      "[I 2025-03-09 20:50:00,807] Trial 19 finished with value: 0.885182834093422 and parameters: {'boosting_type': 'dart', 'learning_rate': 0.02857757422735624, 'num_leaves': 213, 'max_depth': 7, 'min_child_samples': 86, 'min_child_weight': 0.004883635100970111, 'subsample': 0.4367182922945147, 'colsample_bytree': 0.41259569000661983, 'reg_alpha': 8.664564190305604e-06, 'reg_lambda': 0.5500063318635338, 'n_estimators': 25, 'min_split_gain': 0.48318925564265625, 'subsample_freq': 6, 'max_bin': 212, 'scale_pos_weight': 1.0767333764797848}. Best is trial 14 with value: 0.8953622178088908.\n"
     ]
    },
    {
     "name": "stdout",
     "output_type": "stream",
     "text": [
      "Trial 18 - Train AUC: 0.9724 | Validation AUC: 0.8936\n",
      "Trial 19 - Train AUC: 0.8989 | Validation AUC: 0.8852\n"
     ]
    },
    {
     "name": "stderr",
     "output_type": "stream",
     "text": [
      "/var/folders/ws/5628jcln1q1g_nmpns07dt_m0000gn/T/ipykernel_14057/3176874039.py:6: FutureWarning: suggest_loguniform has been deprecated in v3.0.0. This feature will be removed in v6.0.0. See https://github.com/optuna/optuna/releases/tag/v3.0.0. Use suggest_float(..., log=True) instead.\n",
      "  'learning_rate': trial.suggest_loguniform('learning_rate', 1e-3, 1e-1),\n",
      "/var/folders/ws/5628jcln1q1g_nmpns07dt_m0000gn/T/ipykernel_14057/3176874039.py:10: FutureWarning: suggest_loguniform has been deprecated in v3.0.0. This feature will be removed in v6.0.0. See https://github.com/optuna/optuna/releases/tag/v3.0.0. Use suggest_float(..., log=True) instead.\n",
      "  'min_child_weight': trial.suggest_loguniform('min_child_weight', 1e-3, 10.0),\n",
      "/var/folders/ws/5628jcln1q1g_nmpns07dt_m0000gn/T/ipykernel_14057/3176874039.py:13: FutureWarning: suggest_loguniform has been deprecated in v3.0.0. This feature will be removed in v6.0.0. See https://github.com/optuna/optuna/releases/tag/v3.0.0. Use suggest_float(..., log=True) instead.\n",
      "  'reg_alpha': trial.suggest_loguniform('reg_alpha', 1e-8, 10.0),\n",
      "/var/folders/ws/5628jcln1q1g_nmpns07dt_m0000gn/T/ipykernel_14057/3176874039.py:14: FutureWarning: suggest_loguniform has been deprecated in v3.0.0. This feature will be removed in v6.0.0. See https://github.com/optuna/optuna/releases/tag/v3.0.0. Use suggest_float(..., log=True) instead.\n",
      "  'reg_lambda': trial.suggest_loguniform('reg_lambda', 1e-8, 10.0),\n",
      "[I 2025-03-09 20:50:01,549] Trial 20 finished with value: 0.8903703959129613 and parameters: {'boosting_type': 'dart', 'learning_rate': 0.056152935372665955, 'num_leaves': 248, 'max_depth': 5, 'min_child_samples': 27, 'min_child_weight': 1.214169926149806, 'subsample': 0.7650231235852768, 'colsample_bytree': 0.5079147390063686, 'reg_alpha': 3.9581065928672645, 'reg_lambda': 0.0002000898045453245, 'n_estimators': 109, 'min_split_gain': 0.8750106266463105, 'subsample_freq': 8, 'max_bin': 162, 'scale_pos_weight': 1.3499155459151075}. Best is trial 14 with value: 0.8953622178088908.\n"
     ]
    },
    {
     "name": "stdout",
     "output_type": "stream",
     "text": [
      "Trial 20 - Train AUC: 0.9260 | Validation AUC: 0.8904\n"
     ]
    },
    {
     "name": "stderr",
     "output_type": "stream",
     "text": [
      "/var/folders/ws/5628jcln1q1g_nmpns07dt_m0000gn/T/ipykernel_14057/3176874039.py:6: FutureWarning: suggest_loguniform has been deprecated in v3.0.0. This feature will be removed in v6.0.0. See https://github.com/optuna/optuna/releases/tag/v3.0.0. Use suggest_float(..., log=True) instead.\n",
      "  'learning_rate': trial.suggest_loguniform('learning_rate', 1e-3, 1e-1),\n",
      "/var/folders/ws/5628jcln1q1g_nmpns07dt_m0000gn/T/ipykernel_14057/3176874039.py:10: FutureWarning: suggest_loguniform has been deprecated in v3.0.0. This feature will be removed in v6.0.0. See https://github.com/optuna/optuna/releases/tag/v3.0.0. Use suggest_float(..., log=True) instead.\n",
      "  'min_child_weight': trial.suggest_loguniform('min_child_weight', 1e-3, 10.0),\n",
      "/var/folders/ws/5628jcln1q1g_nmpns07dt_m0000gn/T/ipykernel_14057/3176874039.py:13: FutureWarning: suggest_loguniform has been deprecated in v3.0.0. This feature will be removed in v6.0.0. See https://github.com/optuna/optuna/releases/tag/v3.0.0. Use suggest_float(..., log=True) instead.\n",
      "  'reg_alpha': trial.suggest_loguniform('reg_alpha', 1e-8, 10.0),\n",
      "/var/folders/ws/5628jcln1q1g_nmpns07dt_m0000gn/T/ipykernel_14057/3176874039.py:14: FutureWarning: suggest_loguniform has been deprecated in v3.0.0. This feature will be removed in v6.0.0. See https://github.com/optuna/optuna/releases/tag/v3.0.0. Use suggest_float(..., log=True) instead.\n",
      "  'reg_lambda': trial.suggest_loguniform('reg_lambda', 1e-8, 10.0),\n",
      "[I 2025-03-09 20:50:02,632] Trial 21 finished with value: 0.8929436900630945 and parameters: {'boosting_type': 'dart', 'learning_rate': 0.03581345004733611, 'num_leaves': 178, 'max_depth': 5, 'min_child_samples': 53, 'min_child_weight': 0.0030993955753399597, 'subsample': 0.8602746497968154, 'colsample_bytree': 0.7918160537339693, 'reg_alpha': 0.0030858913044692175, 'reg_lambda': 7.298775408486693e-08, 'n_estimators': 125, 'min_split_gain': 0.994292351563366, 'subsample_freq': 6, 'max_bin': 133, 'scale_pos_weight': 1.1191740722603452}. Best is trial 14 with value: 0.8953622178088908.\n"
     ]
    },
    {
     "name": "stdout",
     "output_type": "stream",
     "text": [
      "Trial 21 - Train AUC: 0.9344 | Validation AUC: 0.8929\n"
     ]
    },
    {
     "name": "stderr",
     "output_type": "stream",
     "text": [
      "/var/folders/ws/5628jcln1q1g_nmpns07dt_m0000gn/T/ipykernel_14057/3176874039.py:6: FutureWarning: suggest_loguniform has been deprecated in v3.0.0. This feature will be removed in v6.0.0. See https://github.com/optuna/optuna/releases/tag/v3.0.0. Use suggest_float(..., log=True) instead.\n",
      "  'learning_rate': trial.suggest_loguniform('learning_rate', 1e-3, 1e-1),\n",
      "/var/folders/ws/5628jcln1q1g_nmpns07dt_m0000gn/T/ipykernel_14057/3176874039.py:10: FutureWarning: suggest_loguniform has been deprecated in v3.0.0. This feature will be removed in v6.0.0. See https://github.com/optuna/optuna/releases/tag/v3.0.0. Use suggest_float(..., log=True) instead.\n",
      "  'min_child_weight': trial.suggest_loguniform('min_child_weight', 1e-3, 10.0),\n",
      "/var/folders/ws/5628jcln1q1g_nmpns07dt_m0000gn/T/ipykernel_14057/3176874039.py:13: FutureWarning: suggest_loguniform has been deprecated in v3.0.0. This feature will be removed in v6.0.0. See https://github.com/optuna/optuna/releases/tag/v3.0.0. Use suggest_float(..., log=True) instead.\n",
      "  'reg_alpha': trial.suggest_loguniform('reg_alpha', 1e-8, 10.0),\n",
      "/var/folders/ws/5628jcln1q1g_nmpns07dt_m0000gn/T/ipykernel_14057/3176874039.py:14: FutureWarning: suggest_loguniform has been deprecated in v3.0.0. This feature will be removed in v6.0.0. See https://github.com/optuna/optuna/releases/tag/v3.0.0. Use suggest_float(..., log=True) instead.\n",
      "  'reg_lambda': trial.suggest_loguniform('reg_lambda', 1e-8, 10.0),\n",
      "[I 2025-03-09 20:50:03,433] Trial 22 finished with value: 0.8928438053797949 and parameters: {'boosting_type': 'dart', 'learning_rate': 0.052697445857328266, 'num_leaves': 224, 'max_depth': 4, 'min_child_samples': 59, 'min_child_weight': 0.007578284314596726, 'subsample': 0.8077750550574462, 'colsample_bytree': 0.7151110660085599, 'reg_alpha': 4.932786406924775e-05, 'reg_lambda': 2.1849697257181543e-08, 'n_estimators': 115, 'min_split_gain': 0.9148328312233577, 'subsample_freq': 5, 'max_bin': 143, 'scale_pos_weight': 1.3936587795032063}. Best is trial 14 with value: 0.8953622178088908.\n"
     ]
    },
    {
     "name": "stdout",
     "output_type": "stream",
     "text": [
      "Trial 22 - Train AUC: 0.9332 | Validation AUC: 0.8928\n"
     ]
    },
    {
     "name": "stderr",
     "output_type": "stream",
     "text": [
      "/var/folders/ws/5628jcln1q1g_nmpns07dt_m0000gn/T/ipykernel_14057/3176874039.py:6: FutureWarning: suggest_loguniform has been deprecated in v3.0.0. This feature will be removed in v6.0.0. See https://github.com/optuna/optuna/releases/tag/v3.0.0. Use suggest_float(..., log=True) instead.\n",
      "  'learning_rate': trial.suggest_loguniform('learning_rate', 1e-3, 1e-1),\n",
      "/var/folders/ws/5628jcln1q1g_nmpns07dt_m0000gn/T/ipykernel_14057/3176874039.py:10: FutureWarning: suggest_loguniform has been deprecated in v3.0.0. This feature will be removed in v6.0.0. See https://github.com/optuna/optuna/releases/tag/v3.0.0. Use suggest_float(..., log=True) instead.\n",
      "  'min_child_weight': trial.suggest_loguniform('min_child_weight', 1e-3, 10.0),\n",
      "/var/folders/ws/5628jcln1q1g_nmpns07dt_m0000gn/T/ipykernel_14057/3176874039.py:13: FutureWarning: suggest_loguniform has been deprecated in v3.0.0. This feature will be removed in v6.0.0. See https://github.com/optuna/optuna/releases/tag/v3.0.0. Use suggest_float(..., log=True) instead.\n",
      "  'reg_alpha': trial.suggest_loguniform('reg_alpha', 1e-8, 10.0),\n",
      "/var/folders/ws/5628jcln1q1g_nmpns07dt_m0000gn/T/ipykernel_14057/3176874039.py:14: FutureWarning: suggest_loguniform has been deprecated in v3.0.0. This feature will be removed in v6.0.0. See https://github.com/optuna/optuna/releases/tag/v3.0.0. Use suggest_float(..., log=True) instead.\n",
      "  'reg_lambda': trial.suggest_loguniform('reg_lambda', 1e-8, 10.0),\n",
      "[I 2025-03-09 20:50:04,589] Trial 23 finished with value: 0.886530378745235 and parameters: {'boosting_type': 'dart', 'learning_rate': 0.09656097731079928, 'num_leaves': 164, 'max_depth': 6, 'min_child_samples': 43, 'min_child_weight': 0.0012403668302547598, 'subsample': 0.9034124154328413, 'colsample_bytree': 0.8552517600890785, 'reg_alpha': 0.0008432204885712129, 'reg_lambda': 1.837043619355864e-07, 'n_estimators': 105, 'min_split_gain': 0.6575102773835463, 'subsample_freq': 7, 'max_bin': 184, 'scale_pos_weight': 0.9165899224938725}. Best is trial 14 with value: 0.8953622178088908.\n"
     ]
    },
    {
     "name": "stdout",
     "output_type": "stream",
     "text": [
      "Trial 23 - Train AUC: 0.9873 | Validation AUC: 0.8865\n"
     ]
    },
    {
     "name": "stderr",
     "output_type": "stream",
     "text": [
      "/var/folders/ws/5628jcln1q1g_nmpns07dt_m0000gn/T/ipykernel_14057/3176874039.py:6: FutureWarning: suggest_loguniform has been deprecated in v3.0.0. This feature will be removed in v6.0.0. See https://github.com/optuna/optuna/releases/tag/v3.0.0. Use suggest_float(..., log=True) instead.\n",
      "  'learning_rate': trial.suggest_loguniform('learning_rate', 1e-3, 1e-1),\n",
      "/var/folders/ws/5628jcln1q1g_nmpns07dt_m0000gn/T/ipykernel_14057/3176874039.py:10: FutureWarning: suggest_loguniform has been deprecated in v3.0.0. This feature will be removed in v6.0.0. See https://github.com/optuna/optuna/releases/tag/v3.0.0. Use suggest_float(..., log=True) instead.\n",
      "  'min_child_weight': trial.suggest_loguniform('min_child_weight', 1e-3, 10.0),\n",
      "/var/folders/ws/5628jcln1q1g_nmpns07dt_m0000gn/T/ipykernel_14057/3176874039.py:13: FutureWarning: suggest_loguniform has been deprecated in v3.0.0. This feature will be removed in v6.0.0. See https://github.com/optuna/optuna/releases/tag/v3.0.0. Use suggest_float(..., log=True) instead.\n",
      "  'reg_alpha': trial.suggest_loguniform('reg_alpha', 1e-8, 10.0),\n",
      "/var/folders/ws/5628jcln1q1g_nmpns07dt_m0000gn/T/ipykernel_14057/3176874039.py:14: FutureWarning: suggest_loguniform has been deprecated in v3.0.0. This feature will be removed in v6.0.0. See https://github.com/optuna/optuna/releases/tag/v3.0.0. Use suggest_float(..., log=True) instead.\n",
      "  'reg_lambda': trial.suggest_loguniform('reg_lambda', 1e-8, 10.0),\n",
      "[I 2025-03-09 20:50:05,406] Trial 24 finished with value: 0.8934054951726029 and parameters: {'boosting_type': 'dart', 'learning_rate': 0.06235189379538886, 'num_leaves': 203, 'max_depth': 5, 'min_child_samples': 76, 'min_child_weight': 0.04875671403598909, 'subsample': 0.7015202924038481, 'colsample_bytree': 0.9959432118319032, 'reg_alpha': 5.3794252453584263e-08, 'reg_lambda': 1.6850762861147666e-08, 'n_estimators': 116, 'min_split_gain': 0.8048951257942923, 'subsample_freq': 7, 'max_bin': 115, 'scale_pos_weight': 1.6493704335408372}. Best is trial 14 with value: 0.8953622178088908.\n"
     ]
    },
    {
     "name": "stdout",
     "output_type": "stream",
     "text": [
      "Trial 24 - Train AUC: 0.9357 | Validation AUC: 0.8934\n"
     ]
    },
    {
     "name": "stderr",
     "output_type": "stream",
     "text": [
      "/var/folders/ws/5628jcln1q1g_nmpns07dt_m0000gn/T/ipykernel_14057/3176874039.py:6: FutureWarning: suggest_loguniform has been deprecated in v3.0.0. This feature will be removed in v6.0.0. See https://github.com/optuna/optuna/releases/tag/v3.0.0. Use suggest_float(..., log=True) instead.\n",
      "  'learning_rate': trial.suggest_loguniform('learning_rate', 1e-3, 1e-1),\n",
      "/var/folders/ws/5628jcln1q1g_nmpns07dt_m0000gn/T/ipykernel_14057/3176874039.py:10: FutureWarning: suggest_loguniform has been deprecated in v3.0.0. This feature will be removed in v6.0.0. See https://github.com/optuna/optuna/releases/tag/v3.0.0. Use suggest_float(..., log=True) instead.\n",
      "  'min_child_weight': trial.suggest_loguniform('min_child_weight', 1e-3, 10.0),\n",
      "/var/folders/ws/5628jcln1q1g_nmpns07dt_m0000gn/T/ipykernel_14057/3176874039.py:13: FutureWarning: suggest_loguniform has been deprecated in v3.0.0. This feature will be removed in v6.0.0. See https://github.com/optuna/optuna/releases/tag/v3.0.0. Use suggest_float(..., log=True) instead.\n",
      "  'reg_alpha': trial.suggest_loguniform('reg_alpha', 1e-8, 10.0),\n",
      "/var/folders/ws/5628jcln1q1g_nmpns07dt_m0000gn/T/ipykernel_14057/3176874039.py:14: FutureWarning: suggest_loguniform has been deprecated in v3.0.0. This feature will be removed in v6.0.0. See https://github.com/optuna/optuna/releases/tag/v3.0.0. Use suggest_float(..., log=True) instead.\n",
      "  'reg_lambda': trial.suggest_loguniform('reg_lambda', 1e-8, 10.0),\n",
      "[I 2025-03-09 20:50:06,244] Trial 25 finished with value: 0.8915048085727676 and parameters: {'boosting_type': 'dart', 'learning_rate': 0.03667756447690235, 'num_leaves': 128, 'max_depth': 7, 'min_child_samples': 55, 'min_child_weight': 0.003132732721561579, 'subsample': 0.7400623474371264, 'colsample_bytree': 0.7679704931482199, 'reg_alpha': 2.955658491512225e-06, 'reg_lambda': 6.089647573351987e-06, 'n_estimators': 90, 'min_split_gain': 0.9165412162792878, 'subsample_freq': 3, 'max_bin': 155, 'scale_pos_weight': 1.192971208236444}. Best is trial 14 with value: 0.8953622178088908.\n"
     ]
    },
    {
     "name": "stdout",
     "output_type": "stream",
     "text": [
      "Trial 25 - Train AUC: 0.9297 | Validation AUC: 0.8915\n"
     ]
    },
    {
     "name": "stderr",
     "output_type": "stream",
     "text": [
      "/var/folders/ws/5628jcln1q1g_nmpns07dt_m0000gn/T/ipykernel_14057/3176874039.py:6: FutureWarning: suggest_loguniform has been deprecated in v3.0.0. This feature will be removed in v6.0.0. See https://github.com/optuna/optuna/releases/tag/v3.0.0. Use suggest_float(..., log=True) instead.\n",
      "  'learning_rate': trial.suggest_loguniform('learning_rate', 1e-3, 1e-1),\n",
      "/var/folders/ws/5628jcln1q1g_nmpns07dt_m0000gn/T/ipykernel_14057/3176874039.py:10: FutureWarning: suggest_loguniform has been deprecated in v3.0.0. This feature will be removed in v6.0.0. See https://github.com/optuna/optuna/releases/tag/v3.0.0. Use suggest_float(..., log=True) instead.\n",
      "  'min_child_weight': trial.suggest_loguniform('min_child_weight', 1e-3, 10.0),\n",
      "/var/folders/ws/5628jcln1q1g_nmpns07dt_m0000gn/T/ipykernel_14057/3176874039.py:13: FutureWarning: suggest_loguniform has been deprecated in v3.0.0. This feature will be removed in v6.0.0. See https://github.com/optuna/optuna/releases/tag/v3.0.0. Use suggest_float(..., log=True) instead.\n",
      "  'reg_alpha': trial.suggest_loguniform('reg_alpha', 1e-8, 10.0),\n",
      "/var/folders/ws/5628jcln1q1g_nmpns07dt_m0000gn/T/ipykernel_14057/3176874039.py:14: FutureWarning: suggest_loguniform has been deprecated in v3.0.0. This feature will be removed in v6.0.0. See https://github.com/optuna/optuna/releases/tag/v3.0.0. Use suggest_float(..., log=True) instead.\n",
      "  'reg_lambda': trial.suggest_loguniform('reg_lambda', 1e-8, 10.0),\n",
      "[I 2025-03-09 20:50:06,675] Trial 26 finished with value: 0.8924275382884822 and parameters: {'boosting_type': 'gbdt', 'learning_rate': 0.02746510015594659, 'num_leaves': 268, 'max_depth': 4, 'min_child_samples': 64, 'min_child_weight': 0.4322949902544303, 'subsample': 0.8961361963531924, 'colsample_bytree': 0.628741830401381, 'reg_alpha': 0.014097942328666825, 'reg_lambda': 1.0273488466898587e-08, 'n_estimators': 65, 'min_split_gain': 0.6891231695876502, 'subsample_freq': 6, 'max_bin': 171, 'scale_pos_weight': 1.4355090087896178}. Best is trial 14 with value: 0.8953622178088908.\n"
     ]
    },
    {
     "name": "stdout",
     "output_type": "stream",
     "text": [
      "Trial 26 - Train AUC: 0.9337 | Validation AUC: 0.8924\n"
     ]
    },
    {
     "name": "stderr",
     "output_type": "stream",
     "text": [
      "/var/folders/ws/5628jcln1q1g_nmpns07dt_m0000gn/T/ipykernel_14057/3176874039.py:6: FutureWarning: suggest_loguniform has been deprecated in v3.0.0. This feature will be removed in v6.0.0. See https://github.com/optuna/optuna/releases/tag/v3.0.0. Use suggest_float(..., log=True) instead.\n",
      "  'learning_rate': trial.suggest_loguniform('learning_rate', 1e-3, 1e-1),\n",
      "/var/folders/ws/5628jcln1q1g_nmpns07dt_m0000gn/T/ipykernel_14057/3176874039.py:10: FutureWarning: suggest_loguniform has been deprecated in v3.0.0. This feature will be removed in v6.0.0. See https://github.com/optuna/optuna/releases/tag/v3.0.0. Use suggest_float(..., log=True) instead.\n",
      "  'min_child_weight': trial.suggest_loguniform('min_child_weight', 1e-3, 10.0),\n",
      "/var/folders/ws/5628jcln1q1g_nmpns07dt_m0000gn/T/ipykernel_14057/3176874039.py:13: FutureWarning: suggest_loguniform has been deprecated in v3.0.0. This feature will be removed in v6.0.0. See https://github.com/optuna/optuna/releases/tag/v3.0.0. Use suggest_float(..., log=True) instead.\n",
      "  'reg_alpha': trial.suggest_loguniform('reg_alpha', 1e-8, 10.0),\n",
      "/var/folders/ws/5628jcln1q1g_nmpns07dt_m0000gn/T/ipykernel_14057/3176874039.py:14: FutureWarning: suggest_loguniform has been deprecated in v3.0.0. This feature will be removed in v6.0.0. See https://github.com/optuna/optuna/releases/tag/v3.0.0. Use suggest_float(..., log=True) instead.\n",
      "  'reg_lambda': trial.suggest_loguniform('reg_lambda', 1e-8, 10.0),\n",
      "[I 2025-03-09 20:50:08,008] Trial 27 finished with value: 0.8956393765413425 and parameters: {'boosting_type': 'dart', 'learning_rate': 0.0649945317469072, 'num_leaves': 180, 'max_depth': 5, 'min_child_samples': 12, 'min_child_weight': 0.00865701636525217, 'subsample': 0.8187298660298769, 'colsample_bytree': 0.6236973705127814, 'reg_alpha': 0.28453224727938903, 'reg_lambda': 2.912625817401024e-07, 'n_estimators': 119, 'min_split_gain': 0.16259804206634548, 'subsample_freq': 10, 'max_bin': 100, 'scale_pos_weight': 1.993506296001347}. Best is trial 27 with value: 0.8956393765413425.\n"
     ]
    },
    {
     "name": "stdout",
     "output_type": "stream",
     "text": [
      "Trial 27 - Train AUC: 0.9648 | Validation AUC: 0.8956\n"
     ]
    },
    {
     "name": "stderr",
     "output_type": "stream",
     "text": [
      "/var/folders/ws/5628jcln1q1g_nmpns07dt_m0000gn/T/ipykernel_14057/3176874039.py:6: FutureWarning: suggest_loguniform has been deprecated in v3.0.0. This feature will be removed in v6.0.0. See https://github.com/optuna/optuna/releases/tag/v3.0.0. Use suggest_float(..., log=True) instead.\n",
      "  'learning_rate': trial.suggest_loguniform('learning_rate', 1e-3, 1e-1),\n",
      "/var/folders/ws/5628jcln1q1g_nmpns07dt_m0000gn/T/ipykernel_14057/3176874039.py:10: FutureWarning: suggest_loguniform has been deprecated in v3.0.0. This feature will be removed in v6.0.0. See https://github.com/optuna/optuna/releases/tag/v3.0.0. Use suggest_float(..., log=True) instead.\n",
      "  'min_child_weight': trial.suggest_loguniform('min_child_weight', 1e-3, 10.0),\n",
      "/var/folders/ws/5628jcln1q1g_nmpns07dt_m0000gn/T/ipykernel_14057/3176874039.py:13: FutureWarning: suggest_loguniform has been deprecated in v3.0.0. This feature will be removed in v6.0.0. See https://github.com/optuna/optuna/releases/tag/v3.0.0. Use suggest_float(..., log=True) instead.\n",
      "  'reg_alpha': trial.suggest_loguniform('reg_alpha', 1e-8, 10.0),\n",
      "/var/folders/ws/5628jcln1q1g_nmpns07dt_m0000gn/T/ipykernel_14057/3176874039.py:14: FutureWarning: suggest_loguniform has been deprecated in v3.0.0. This feature will be removed in v6.0.0. See https://github.com/optuna/optuna/releases/tag/v3.0.0. Use suggest_float(..., log=True) instead.\n",
      "  'reg_lambda': trial.suggest_loguniform('reg_lambda', 1e-8, 10.0),\n",
      "[I 2025-03-09 20:50:08,412] Trial 28 finished with value: 0.8817024879888076 and parameters: {'boosting_type': 'dart', 'learning_rate': 0.09984634616508174, 'num_leaves': 231, 'max_depth': 9, 'min_child_samples': 12, 'min_child_weight': 0.00991576610197578, 'subsample': 0.6696035213936273, 'colsample_bytree': 0.626302950528501, 'reg_alpha': 6.690262390319011, 'reg_lambda': 3.048122639237254e-07, 'n_estimators': 43, 'min_split_gain': 0.16611950393538386, 'subsample_freq': 10, 'max_bin': 240, 'scale_pos_weight': 1.9520879223311502}. Best is trial 27 with value: 0.8956393765413425.\n"
     ]
    },
    {
     "name": "stdout",
     "output_type": "stream",
     "text": [
      "Trial 28 - Train AUC: 0.9181 | Validation AUC: 0.8817\n"
     ]
    },
    {
     "name": "stderr",
     "output_type": "stream",
     "text": [
      "/var/folders/ws/5628jcln1q1g_nmpns07dt_m0000gn/T/ipykernel_14057/3176874039.py:6: FutureWarning: suggest_loguniform has been deprecated in v3.0.0. This feature will be removed in v6.0.0. See https://github.com/optuna/optuna/releases/tag/v3.0.0. Use suggest_float(..., log=True) instead.\n",
      "  'learning_rate': trial.suggest_loguniform('learning_rate', 1e-3, 1e-1),\n",
      "/var/folders/ws/5628jcln1q1g_nmpns07dt_m0000gn/T/ipykernel_14057/3176874039.py:10: FutureWarning: suggest_loguniform has been deprecated in v3.0.0. This feature will be removed in v6.0.0. See https://github.com/optuna/optuna/releases/tag/v3.0.0. Use suggest_float(..., log=True) instead.\n",
      "  'min_child_weight': trial.suggest_loguniform('min_child_weight', 1e-3, 10.0),\n",
      "/var/folders/ws/5628jcln1q1g_nmpns07dt_m0000gn/T/ipykernel_14057/3176874039.py:13: FutureWarning: suggest_loguniform has been deprecated in v3.0.0. This feature will be removed in v6.0.0. See https://github.com/optuna/optuna/releases/tag/v3.0.0. Use suggest_float(..., log=True) instead.\n",
      "  'reg_alpha': trial.suggest_loguniform('reg_alpha', 1e-8, 10.0),\n",
      "/var/folders/ws/5628jcln1q1g_nmpns07dt_m0000gn/T/ipykernel_14057/3176874039.py:14: FutureWarning: suggest_loguniform has been deprecated in v3.0.0. This feature will be removed in v6.0.0. See https://github.com/optuna/optuna/releases/tag/v3.0.0. Use suggest_float(..., log=True) instead.\n",
      "  'reg_lambda': trial.suggest_loguniform('reg_lambda', 1e-8, 10.0),\n",
      "[I 2025-03-09 20:50:09,888] Trial 29 finished with value: 0.8935139658874196 and parameters: {'boosting_type': 'dart', 'learning_rate': 0.0037038440213087564, 'num_leaves': 177, 'max_depth': 6, 'min_child_samples': 17, 'min_child_weight': 0.03402716764804845, 'subsample': 0.5883771885114326, 'colsample_bytree': 0.5322506197284395, 'reg_alpha': 0.08938976228050165, 'reg_lambda': 3.0442215272932037e-06, 'n_estimators': 116, 'min_split_gain': 0.33736154424196474, 'subsample_freq': 9, 'max_bin': 131, 'scale_pos_weight': 1.8742879881906258}. Best is trial 27 with value: 0.8956393765413425.\n"
     ]
    },
    {
     "name": "stdout",
     "output_type": "stream",
     "text": [
      "Trial 29 - Train AUC: 0.9307 | Validation AUC: 0.8935\n"
     ]
    },
    {
     "name": "stderr",
     "output_type": "stream",
     "text": [
      "/var/folders/ws/5628jcln1q1g_nmpns07dt_m0000gn/T/ipykernel_14057/3176874039.py:6: FutureWarning: suggest_loguniform has been deprecated in v3.0.0. This feature will be removed in v6.0.0. See https://github.com/optuna/optuna/releases/tag/v3.0.0. Use suggest_float(..., log=True) instead.\n",
      "  'learning_rate': trial.suggest_loguniform('learning_rate', 1e-3, 1e-1),\n",
      "/var/folders/ws/5628jcln1q1g_nmpns07dt_m0000gn/T/ipykernel_14057/3176874039.py:10: FutureWarning: suggest_loguniform has been deprecated in v3.0.0. This feature will be removed in v6.0.0. See https://github.com/optuna/optuna/releases/tag/v3.0.0. Use suggest_float(..., log=True) instead.\n",
      "  'min_child_weight': trial.suggest_loguniform('min_child_weight', 1e-3, 10.0),\n",
      "/var/folders/ws/5628jcln1q1g_nmpns07dt_m0000gn/T/ipykernel_14057/3176874039.py:13: FutureWarning: suggest_loguniform has been deprecated in v3.0.0. This feature will be removed in v6.0.0. See https://github.com/optuna/optuna/releases/tag/v3.0.0. Use suggest_float(..., log=True) instead.\n",
      "  'reg_alpha': trial.suggest_loguniform('reg_alpha', 1e-8, 10.0),\n",
      "/var/folders/ws/5628jcln1q1g_nmpns07dt_m0000gn/T/ipykernel_14057/3176874039.py:14: FutureWarning: suggest_loguniform has been deprecated in v3.0.0. This feature will be removed in v6.0.0. See https://github.com/optuna/optuna/releases/tag/v3.0.0. Use suggest_float(..., log=True) instead.\n",
      "  'reg_lambda': trial.suggest_loguniform('reg_lambda', 1e-8, 10.0),\n",
      "[I 2025-03-09 20:50:10,532] Trial 30 finished with value: 0.8906673376207837 and parameters: {'boosting_type': 'dart', 'learning_rate': 0.02612351052746, 'num_leaves': 199, 'max_depth': 4, 'min_child_samples': 13, 'min_child_weight': 0.14052653207299848, 'subsample': 0.8146404325781058, 'colsample_bytree': 0.4536401072301378, 'reg_alpha': 0.8434094656702026, 'reg_lambda': 0.0007181837471642747, 'n_estimators': 83, 'min_split_gain': 0.11011591446677182, 'subsample_freq': 9, 'max_bin': 200, 'scale_pos_weight': 1.8189306522377302}. Best is trial 27 with value: 0.8956393765413425.\n"
     ]
    },
    {
     "name": "stdout",
     "output_type": "stream",
     "text": [
      "Trial 30 - Train AUC: 0.9187 | Validation AUC: 0.8907\n"
     ]
    },
    {
     "name": "stderr",
     "output_type": "stream",
     "text": [
      "/var/folders/ws/5628jcln1q1g_nmpns07dt_m0000gn/T/ipykernel_14057/3176874039.py:6: FutureWarning: suggest_loguniform has been deprecated in v3.0.0. This feature will be removed in v6.0.0. See https://github.com/optuna/optuna/releases/tag/v3.0.0. Use suggest_float(..., log=True) instead.\n",
      "  'learning_rate': trial.suggest_loguniform('learning_rate', 1e-3, 1e-1),\n",
      "/var/folders/ws/5628jcln1q1g_nmpns07dt_m0000gn/T/ipykernel_14057/3176874039.py:10: FutureWarning: suggest_loguniform has been deprecated in v3.0.0. This feature will be removed in v6.0.0. See https://github.com/optuna/optuna/releases/tag/v3.0.0. Use suggest_float(..., log=True) instead.\n",
      "  'min_child_weight': trial.suggest_loguniform('min_child_weight', 1e-3, 10.0),\n",
      "/var/folders/ws/5628jcln1q1g_nmpns07dt_m0000gn/T/ipykernel_14057/3176874039.py:13: FutureWarning: suggest_loguniform has been deprecated in v3.0.0. This feature will be removed in v6.0.0. See https://github.com/optuna/optuna/releases/tag/v3.0.0. Use suggest_float(..., log=True) instead.\n",
      "  'reg_alpha': trial.suggest_loguniform('reg_alpha', 1e-8, 10.0),\n",
      "/var/folders/ws/5628jcln1q1g_nmpns07dt_m0000gn/T/ipykernel_14057/3176874039.py:14: FutureWarning: suggest_loguniform has been deprecated in v3.0.0. This feature will be removed in v6.0.0. See https://github.com/optuna/optuna/releases/tag/v3.0.0. Use suggest_float(..., log=True) instead.\n",
      "  'reg_lambda': trial.suggest_loguniform('reg_lambda', 1e-8, 10.0),\n",
      "[I 2025-03-09 20:50:11,807] Trial 31 finished with value: 0.8951231790711465 and parameters: {'boosting_type': 'dart', 'learning_rate': 0.06575625891961796, 'num_leaves': 183, 'max_depth': 5, 'min_child_samples': 25, 'min_child_weight': 0.0026193041572531075, 'subsample': 0.8828152175335724, 'colsample_bytree': 0.7267546873343431, 'reg_alpha': 7.301612247909293e-05, 'reg_lambda': 4.806945043370726e-08, 'n_estimators': 120, 'min_split_gain': 0.2082018364045276, 'subsample_freq': 5, 'max_bin': 104, 'scale_pos_weight': 0.9027336340318105}. Best is trial 27 with value: 0.8956393765413425.\n"
     ]
    },
    {
     "name": "stdout",
     "output_type": "stream",
     "text": [
      "Trial 31 - Train AUC: 0.9754 | Validation AUC: 0.8951\n"
     ]
    },
    {
     "name": "stderr",
     "output_type": "stream",
     "text": [
      "/var/folders/ws/5628jcln1q1g_nmpns07dt_m0000gn/T/ipykernel_14057/3176874039.py:6: FutureWarning: suggest_loguniform has been deprecated in v3.0.0. This feature will be removed in v6.0.0. See https://github.com/optuna/optuna/releases/tag/v3.0.0. Use suggest_float(..., log=True) instead.\n",
      "  'learning_rate': trial.suggest_loguniform('learning_rate', 1e-3, 1e-1),\n",
      "/var/folders/ws/5628jcln1q1g_nmpns07dt_m0000gn/T/ipykernel_14057/3176874039.py:10: FutureWarning: suggest_loguniform has been deprecated in v3.0.0. This feature will be removed in v6.0.0. See https://github.com/optuna/optuna/releases/tag/v3.0.0. Use suggest_float(..., log=True) instead.\n",
      "  'min_child_weight': trial.suggest_loguniform('min_child_weight', 1e-3, 10.0),\n",
      "/var/folders/ws/5628jcln1q1g_nmpns07dt_m0000gn/T/ipykernel_14057/3176874039.py:13: FutureWarning: suggest_loguniform has been deprecated in v3.0.0. This feature will be removed in v6.0.0. See https://github.com/optuna/optuna/releases/tag/v3.0.0. Use suggest_float(..., log=True) instead.\n",
      "  'reg_alpha': trial.suggest_loguniform('reg_alpha', 1e-8, 10.0),\n",
      "/var/folders/ws/5628jcln1q1g_nmpns07dt_m0000gn/T/ipykernel_14057/3176874039.py:14: FutureWarning: suggest_loguniform has been deprecated in v3.0.0. This feature will be removed in v6.0.0. See https://github.com/optuna/optuna/releases/tag/v3.0.0. Use suggest_float(..., log=True) instead.\n",
      "  'reg_lambda': trial.suggest_loguniform('reg_lambda', 1e-8, 10.0),\n",
      "[I 2025-03-09 20:50:13,064] Trial 32 finished with value: 0.8936000859205466 and parameters: {'boosting_type': 'dart', 'learning_rate': 0.07022537617054511, 'num_leaves': 184, 'max_depth': 5, 'min_child_samples': 25, 'min_child_weight': 0.0027591505979860237, 'subsample': 0.9630007722323413, 'colsample_bytree': 0.73068737603549, 'reg_alpha': 6.840248304753101e-05, 'reg_lambda': 6.57559615175821e-08, 'n_estimators': 116, 'min_split_gain': 0.223793709597906, 'subsample_freq': 3, 'max_bin': 101, 'scale_pos_weight': 0.8666941272647586}. Best is trial 27 with value: 0.8956393765413425.\n"
     ]
    },
    {
     "name": "stdout",
     "output_type": "stream",
     "text": [
      "Trial 32 - Train AUC: 0.9802 | Validation AUC: 0.8936\n"
     ]
    },
    {
     "name": "stderr",
     "output_type": "stream",
     "text": [
      "/var/folders/ws/5628jcln1q1g_nmpns07dt_m0000gn/T/ipykernel_14057/3176874039.py:6: FutureWarning: suggest_loguniform has been deprecated in v3.0.0. This feature will be removed in v6.0.0. See https://github.com/optuna/optuna/releases/tag/v3.0.0. Use suggest_float(..., log=True) instead.\n",
      "  'learning_rate': trial.suggest_loguniform('learning_rate', 1e-3, 1e-1),\n",
      "/var/folders/ws/5628jcln1q1g_nmpns07dt_m0000gn/T/ipykernel_14057/3176874039.py:10: FutureWarning: suggest_loguniform has been deprecated in v3.0.0. This feature will be removed in v6.0.0. See https://github.com/optuna/optuna/releases/tag/v3.0.0. Use suggest_float(..., log=True) instead.\n",
      "  'min_child_weight': trial.suggest_loguniform('min_child_weight', 1e-3, 10.0),\n",
      "/var/folders/ws/5628jcln1q1g_nmpns07dt_m0000gn/T/ipykernel_14057/3176874039.py:13: FutureWarning: suggest_loguniform has been deprecated in v3.0.0. This feature will be removed in v6.0.0. See https://github.com/optuna/optuna/releases/tag/v3.0.0. Use suggest_float(..., log=True) instead.\n",
      "  'reg_alpha': trial.suggest_loguniform('reg_alpha', 1e-8, 10.0),\n",
      "/var/folders/ws/5628jcln1q1g_nmpns07dt_m0000gn/T/ipykernel_14057/3176874039.py:14: FutureWarning: suggest_loguniform has been deprecated in v3.0.0. This feature will be removed in v6.0.0. See https://github.com/optuna/optuna/releases/tag/v3.0.0. Use suggest_float(..., log=True) instead.\n",
      "  'reg_lambda': trial.suggest_loguniform('reg_lambda', 1e-8, 10.0),\n",
      "[I 2025-03-09 20:50:15,235] Trial 33 finished with value: 0.8910630414183807 and parameters: {'boosting_type': 'dart', 'learning_rate': 0.06713741322094302, 'num_leaves': 142, 'max_depth': 7, 'min_child_samples': 14, 'min_child_weight': 0.010923662178480316, 'subsample': 0.9440770008287169, 'colsample_bytree': 0.6742813886463115, 'reg_alpha': 3.6167341506109303e-07, 'reg_lambda': 6.734601025967583e-07, 'n_estimators': 104, 'min_split_gain': 0.28302299272973785, 'subsample_freq': 5, 'max_bin': 129, 'scale_pos_weight': 1.1360613051046804}. Best is trial 27 with value: 0.8956393765413425.\n"
     ]
    },
    {
     "name": "stdout",
     "output_type": "stream",
     "text": [
      "Trial 33 - Train AUC: 0.9941 | Validation AUC: 0.8911\n"
     ]
    },
    {
     "name": "stderr",
     "output_type": "stream",
     "text": [
      "/var/folders/ws/5628jcln1q1g_nmpns07dt_m0000gn/T/ipykernel_14057/3176874039.py:6: FutureWarning: suggest_loguniform has been deprecated in v3.0.0. This feature will be removed in v6.0.0. See https://github.com/optuna/optuna/releases/tag/v3.0.0. Use suggest_float(..., log=True) instead.\n",
      "  'learning_rate': trial.suggest_loguniform('learning_rate', 1e-3, 1e-1),\n",
      "/var/folders/ws/5628jcln1q1g_nmpns07dt_m0000gn/T/ipykernel_14057/3176874039.py:10: FutureWarning: suggest_loguniform has been deprecated in v3.0.0. This feature will be removed in v6.0.0. See https://github.com/optuna/optuna/releases/tag/v3.0.0. Use suggest_float(..., log=True) instead.\n",
      "  'min_child_weight': trial.suggest_loguniform('min_child_weight', 1e-3, 10.0),\n",
      "/var/folders/ws/5628jcln1q1g_nmpns07dt_m0000gn/T/ipykernel_14057/3176874039.py:13: FutureWarning: suggest_loguniform has been deprecated in v3.0.0. This feature will be removed in v6.0.0. See https://github.com/optuna/optuna/releases/tag/v3.0.0. Use suggest_float(..., log=True) instead.\n",
      "  'reg_alpha': trial.suggest_loguniform('reg_alpha', 1e-8, 10.0),\n",
      "/var/folders/ws/5628jcln1q1g_nmpns07dt_m0000gn/T/ipykernel_14057/3176874039.py:14: FutureWarning: suggest_loguniform has been deprecated in v3.0.0. This feature will be removed in v6.0.0. See https://github.com/optuna/optuna/releases/tag/v3.0.0. Use suggest_float(..., log=True) instead.\n",
      "  'reg_lambda': trial.suggest_loguniform('reg_lambda', 1e-8, 10.0),\n",
      "[I 2025-03-09 20:50:16,666] Trial 34 finished with value: 0.8947693707755076 and parameters: {'boosting_type': 'dart', 'learning_rate': 0.0607628486970487, 'num_leaves': 116, 'max_depth': 6, 'min_child_samples': 32, 'min_child_weight': 0.004425864996002726, 'subsample': 0.7992434759304523, 'colsample_bytree': 0.6748392090602282, 'reg_alpha': 0.0006115658239489563, 'reg_lambda': 4.805640261470865e-08, 'n_estimators': 119, 'min_split_gain': 0.425248572219054, 'subsample_freq': 3, 'max_bin': 148, 'scale_pos_weight': 0.9787885400936348}. Best is trial 27 with value: 0.8956393765413425.\n"
     ]
    },
    {
     "name": "stdout",
     "output_type": "stream",
     "text": [
      "Trial 34 - Train AUC: 0.9684 | Validation AUC: 0.8948\n"
     ]
    },
    {
     "name": "stderr",
     "output_type": "stream",
     "text": [
      "/var/folders/ws/5628jcln1q1g_nmpns07dt_m0000gn/T/ipykernel_14057/3176874039.py:6: FutureWarning: suggest_loguniform has been deprecated in v3.0.0. This feature will be removed in v6.0.0. See https://github.com/optuna/optuna/releases/tag/v3.0.0. Use suggest_float(..., log=True) instead.\n",
      "  'learning_rate': trial.suggest_loguniform('learning_rate', 1e-3, 1e-1),\n",
      "/var/folders/ws/5628jcln1q1g_nmpns07dt_m0000gn/T/ipykernel_14057/3176874039.py:10: FutureWarning: suggest_loguniform has been deprecated in v3.0.0. This feature will be removed in v6.0.0. See https://github.com/optuna/optuna/releases/tag/v3.0.0. Use suggest_float(..., log=True) instead.\n",
      "  'min_child_weight': trial.suggest_loguniform('min_child_weight', 1e-3, 10.0),\n",
      "/var/folders/ws/5628jcln1q1g_nmpns07dt_m0000gn/T/ipykernel_14057/3176874039.py:13: FutureWarning: suggest_loguniform has been deprecated in v3.0.0. This feature will be removed in v6.0.0. See https://github.com/optuna/optuna/releases/tag/v3.0.0. Use suggest_float(..., log=True) instead.\n",
      "  'reg_alpha': trial.suggest_loguniform('reg_alpha', 1e-8, 10.0),\n",
      "/var/folders/ws/5628jcln1q1g_nmpns07dt_m0000gn/T/ipykernel_14057/3176874039.py:14: FutureWarning: suggest_loguniform has been deprecated in v3.0.0. This feature will be removed in v6.0.0. See https://github.com/optuna/optuna/releases/tag/v3.0.0. Use suggest_float(..., log=True) instead.\n",
      "  'reg_lambda': trial.suggest_loguniform('reg_lambda', 1e-8, 10.0),\n",
      "[I 2025-03-09 20:50:17,469] Trial 35 finished with value: 0.8937598367975405 and parameters: {'boosting_type': 'dart', 'learning_rate': 0.04184755129109338, 'num_leaves': 251, 'max_depth': 4, 'min_child_samples': 22, 'min_child_weight': 0.02096648476811248, 'subsample': 0.7414347093420849, 'colsample_bytree': 0.7513026709434228, 'reg_alpha': 1.0280547759615628e-07, 'reg_lambda': 3.1554100470912907e-07, 'n_estimators': 96, 'min_split_gain': 0.18306088462656747, 'subsample_freq': 5, 'max_bin': 126, 'scale_pos_weight': 0.824030650742366}. Best is trial 27 with value: 0.8956393765413425.\n"
     ]
    },
    {
     "name": "stdout",
     "output_type": "stream",
     "text": [
      "Trial 35 - Train AUC: 0.9409 | Validation AUC: 0.8938\n"
     ]
    },
    {
     "name": "stderr",
     "output_type": "stream",
     "text": [
      "/var/folders/ws/5628jcln1q1g_nmpns07dt_m0000gn/T/ipykernel_14057/3176874039.py:6: FutureWarning: suggest_loguniform has been deprecated in v3.0.0. This feature will be removed in v6.0.0. See https://github.com/optuna/optuna/releases/tag/v3.0.0. Use suggest_float(..., log=True) instead.\n",
      "  'learning_rate': trial.suggest_loguniform('learning_rate', 1e-3, 1e-1),\n",
      "/var/folders/ws/5628jcln1q1g_nmpns07dt_m0000gn/T/ipykernel_14057/3176874039.py:10: FutureWarning: suggest_loguniform has been deprecated in v3.0.0. This feature will be removed in v6.0.0. See https://github.com/optuna/optuna/releases/tag/v3.0.0. Use suggest_float(..., log=True) instead.\n",
      "  'min_child_weight': trial.suggest_loguniform('min_child_weight', 1e-3, 10.0),\n",
      "/var/folders/ws/5628jcln1q1g_nmpns07dt_m0000gn/T/ipykernel_14057/3176874039.py:13: FutureWarning: suggest_loguniform has been deprecated in v3.0.0. This feature will be removed in v6.0.0. See https://github.com/optuna/optuna/releases/tag/v3.0.0. Use suggest_float(..., log=True) instead.\n",
      "  'reg_alpha': trial.suggest_loguniform('reg_alpha', 1e-8, 10.0),\n",
      "/var/folders/ws/5628jcln1q1g_nmpns07dt_m0000gn/T/ipykernel_14057/3176874039.py:14: FutureWarning: suggest_loguniform has been deprecated in v3.0.0. This feature will be removed in v6.0.0. See https://github.com/optuna/optuna/releases/tag/v3.0.0. Use suggest_float(..., log=True) instead.\n",
      "  'reg_lambda': trial.suggest_loguniform('reg_lambda', 1e-8, 10.0),\n",
      "[I 2025-03-09 20:50:17,836] Trial 36 finished with value: 0.8794117475812581 and parameters: {'boosting_type': 'gbdt', 'learning_rate': 0.09839486667602315, 'num_leaves': 214, 'max_depth': 3, 'min_child_samples': 8, 'min_child_weight': 0.0010902381747642969, 'subsample': 0.8269636057450365, 'colsample_bytree': 0.6085760998194039, 'reg_alpha': 0.13937966471313087, 'reg_lambda': 1.218882818631334e-05, 'n_estimators': 75, 'min_split_gain': 0.03839608269087849, 'subsample_freq': 7, 'max_bin': 169, 'scale_pos_weight': 1.3172398962893792}. Best is trial 27 with value: 0.8956393765413425.\n"
     ]
    },
    {
     "name": "stdout",
     "output_type": "stream",
     "text": [
      "Trial 36 - Train AUC: 0.9835 | Validation AUC: 0.8794\n"
     ]
    },
    {
     "name": "stderr",
     "output_type": "stream",
     "text": [
      "/var/folders/ws/5628jcln1q1g_nmpns07dt_m0000gn/T/ipykernel_14057/3176874039.py:6: FutureWarning: suggest_loguniform has been deprecated in v3.0.0. This feature will be removed in v6.0.0. See https://github.com/optuna/optuna/releases/tag/v3.0.0. Use suggest_float(..., log=True) instead.\n",
      "  'learning_rate': trial.suggest_loguniform('learning_rate', 1e-3, 1e-1),\n",
      "/var/folders/ws/5628jcln1q1g_nmpns07dt_m0000gn/T/ipykernel_14057/3176874039.py:10: FutureWarning: suggest_loguniform has been deprecated in v3.0.0. This feature will be removed in v6.0.0. See https://github.com/optuna/optuna/releases/tag/v3.0.0. Use suggest_float(..., log=True) instead.\n",
      "  'min_child_weight': trial.suggest_loguniform('min_child_weight', 1e-3, 10.0),\n",
      "/var/folders/ws/5628jcln1q1g_nmpns07dt_m0000gn/T/ipykernel_14057/3176874039.py:13: FutureWarning: suggest_loguniform has been deprecated in v3.0.0. This feature will be removed in v6.0.0. See https://github.com/optuna/optuna/releases/tag/v3.0.0. Use suggest_float(..., log=True) instead.\n",
      "  'reg_alpha': trial.suggest_loguniform('reg_alpha', 1e-8, 10.0),\n",
      "/var/folders/ws/5628jcln1q1g_nmpns07dt_m0000gn/T/ipykernel_14057/3176874039.py:14: FutureWarning: suggest_loguniform has been deprecated in v3.0.0. This feature will be removed in v6.0.0. See https://github.com/optuna/optuna/releases/tag/v3.0.0. Use suggest_float(..., log=True) instead.\n",
      "  'reg_lambda': trial.suggest_loguniform('reg_lambda', 1e-8, 10.0),\n",
      "[I 2025-03-09 20:50:19,206] Trial 37 finished with value: 0.8936180844392065 and parameters: {'boosting_type': 'dart', 'learning_rate': 0.0025515306775573186, 'num_leaves': 237, 'max_depth': 5, 'min_child_samples': 18, 'min_child_weight': 0.0018481103296085588, 'subsample': 0.9238270181907393, 'colsample_bytree': 0.4660085835068911, 'reg_alpha': 2.4272773546738747e-06, 'reg_lambda': 1.6100960995231813e-06, 'n_estimators': 109, 'min_split_gain': 0.2922110943085179, 'subsample_freq': 4, 'max_bin': 240, 'scale_pos_weight': 0.6993468231339333}. Best is trial 27 with value: 0.8956393765413425.\n"
     ]
    },
    {
     "name": "stdout",
     "output_type": "stream",
     "text": [
      "Trial 37 - Train AUC: 0.9363 | Validation AUC: 0.8936\n"
     ]
    },
    {
     "name": "stderr",
     "output_type": "stream",
     "text": [
      "/var/folders/ws/5628jcln1q1g_nmpns07dt_m0000gn/T/ipykernel_14057/3176874039.py:6: FutureWarning: suggest_loguniform has been deprecated in v3.0.0. This feature will be removed in v6.0.0. See https://github.com/optuna/optuna/releases/tag/v3.0.0. Use suggest_float(..., log=True) instead.\n",
      "  'learning_rate': trial.suggest_loguniform('learning_rate', 1e-3, 1e-1),\n",
      "/var/folders/ws/5628jcln1q1g_nmpns07dt_m0000gn/T/ipykernel_14057/3176874039.py:10: FutureWarning: suggest_loguniform has been deprecated in v3.0.0. This feature will be removed in v6.0.0. See https://github.com/optuna/optuna/releases/tag/v3.0.0. Use suggest_float(..., log=True) instead.\n",
      "  'min_child_weight': trial.suggest_loguniform('min_child_weight', 1e-3, 10.0),\n",
      "/var/folders/ws/5628jcln1q1g_nmpns07dt_m0000gn/T/ipykernel_14057/3176874039.py:13: FutureWarning: suggest_loguniform has been deprecated in v3.0.0. This feature will be removed in v6.0.0. See https://github.com/optuna/optuna/releases/tag/v3.0.0. Use suggest_float(..., log=True) instead.\n",
      "  'reg_alpha': trial.suggest_loguniform('reg_alpha', 1e-8, 10.0),\n",
      "/var/folders/ws/5628jcln1q1g_nmpns07dt_m0000gn/T/ipykernel_14057/3176874039.py:14: FutureWarning: suggest_loguniform has been deprecated in v3.0.0. This feature will be removed in v6.0.0. See https://github.com/optuna/optuna/releases/tag/v3.0.0. Use suggest_float(..., log=True) instead.\n",
      "  'reg_lambda': trial.suggest_loguniform('reg_lambda', 1e-8, 10.0),\n",
      "[I 2025-03-09 20:50:20,201] Trial 38 finished with value: 0.8960979080320886 and parameters: {'boosting_type': 'gbdt', 'learning_rate': 0.01358661486270822, 'num_leaves': 94, 'max_depth': 6, 'min_child_samples': 39, 'min_child_weight': 0.48033652381067427, 'subsample': 0.6813804941198542, 'colsample_bytree': 0.6579493604690685, 'reg_alpha': 6.673835723813707e-05, 'reg_lambda': 3.490445127810978e-05, 'n_estimators': 101, 'min_split_gain': 0.5760614486753739, 'subsample_freq': 1, 'max_bin': 102, 'scale_pos_weight': 1.6499787774612118}. Best is trial 38 with value: 0.8960979080320886.\n"
     ]
    },
    {
     "name": "stdout",
     "output_type": "stream",
     "text": [
      "Trial 38 - Train AUC: 0.9365 | Validation AUC: 0.8961\n"
     ]
    },
    {
     "name": "stderr",
     "output_type": "stream",
     "text": [
      "/var/folders/ws/5628jcln1q1g_nmpns07dt_m0000gn/T/ipykernel_14057/3176874039.py:6: FutureWarning: suggest_loguniform has been deprecated in v3.0.0. This feature will be removed in v6.0.0. See https://github.com/optuna/optuna/releases/tag/v3.0.0. Use suggest_float(..., log=True) instead.\n",
      "  'learning_rate': trial.suggest_loguniform('learning_rate', 1e-3, 1e-1),\n",
      "/var/folders/ws/5628jcln1q1g_nmpns07dt_m0000gn/T/ipykernel_14057/3176874039.py:10: FutureWarning: suggest_loguniform has been deprecated in v3.0.0. This feature will be removed in v6.0.0. See https://github.com/optuna/optuna/releases/tag/v3.0.0. Use suggest_float(..., log=True) instead.\n",
      "  'min_child_weight': trial.suggest_loguniform('min_child_weight', 1e-3, 10.0),\n",
      "/var/folders/ws/5628jcln1q1g_nmpns07dt_m0000gn/T/ipykernel_14057/3176874039.py:13: FutureWarning: suggest_loguniform has been deprecated in v3.0.0. This feature will be removed in v6.0.0. See https://github.com/optuna/optuna/releases/tag/v3.0.0. Use suggest_float(..., log=True) instead.\n",
      "  'reg_alpha': trial.suggest_loguniform('reg_alpha', 1e-8, 10.0),\n",
      "/var/folders/ws/5628jcln1q1g_nmpns07dt_m0000gn/T/ipykernel_14057/3176874039.py:14: FutureWarning: suggest_loguniform has been deprecated in v3.0.0. This feature will be removed in v6.0.0. See https://github.com/optuna/optuna/releases/tag/v3.0.0. Use suggest_float(..., log=True) instead.\n",
      "  'reg_lambda': trial.suggest_loguniform('reg_lambda', 1e-8, 10.0),\n",
      "[I 2025-03-09 20:50:21,273] Trial 39 finished with value: 0.8933863832557505 and parameters: {'boosting_type': 'gbdt', 'learning_rate': 0.006955802834820085, 'num_leaves': 76, 'max_depth': 12, 'min_child_samples': 41, 'min_child_weight': 0.732390302046282, 'subsample': 0.6845437665943555, 'colsample_bytree': 0.5446450543862164, 'reg_alpha': 0.00023122618856383394, 'reg_lambda': 3.730988453454941e-05, 'n_estimators': 100, 'min_split_gain': 0.5521730161144445, 'subsample_freq': 1, 'max_bin': 138, 'scale_pos_weight': 1.6590972885584536}. Best is trial 38 with value: 0.8960979080320886.\n"
     ]
    },
    {
     "name": "stdout",
     "output_type": "stream",
     "text": [
      "Trial 39 - Train AUC: 0.9293 | Validation AUC: 0.8934\n"
     ]
    },
    {
     "name": "stderr",
     "output_type": "stream",
     "text": [
      "/var/folders/ws/5628jcln1q1g_nmpns07dt_m0000gn/T/ipykernel_14057/3176874039.py:6: FutureWarning: suggest_loguniform has been deprecated in v3.0.0. This feature will be removed in v6.0.0. See https://github.com/optuna/optuna/releases/tag/v3.0.0. Use suggest_float(..., log=True) instead.\n",
      "  'learning_rate': trial.suggest_loguniform('learning_rate', 1e-3, 1e-1),\n",
      "/var/folders/ws/5628jcln1q1g_nmpns07dt_m0000gn/T/ipykernel_14057/3176874039.py:10: FutureWarning: suggest_loguniform has been deprecated in v3.0.0. This feature will be removed in v6.0.0. See https://github.com/optuna/optuna/releases/tag/v3.0.0. Use suggest_float(..., log=True) instead.\n",
      "  'min_child_weight': trial.suggest_loguniform('min_child_weight', 1e-3, 10.0),\n",
      "/var/folders/ws/5628jcln1q1g_nmpns07dt_m0000gn/T/ipykernel_14057/3176874039.py:13: FutureWarning: suggest_loguniform has been deprecated in v3.0.0. This feature will be removed in v6.0.0. See https://github.com/optuna/optuna/releases/tag/v3.0.0. Use suggest_float(..., log=True) instead.\n",
      "  'reg_alpha': trial.suggest_loguniform('reg_alpha', 1e-8, 10.0),\n",
      "/var/folders/ws/5628jcln1q1g_nmpns07dt_m0000gn/T/ipykernel_14057/3176874039.py:14: FutureWarning: suggest_loguniform has been deprecated in v3.0.0. This feature will be removed in v6.0.0. See https://github.com/optuna/optuna/releases/tag/v3.0.0. Use suggest_float(..., log=True) instead.\n",
      "  'reg_lambda': trial.suggest_loguniform('reg_lambda', 1e-8, 10.0),\n",
      "[I 2025-03-09 20:50:22,197] Trial 40 finished with value: 0.8941857021297483 and parameters: {'boosting_type': 'gbdt', 'learning_rate': 0.010689199400994462, 'num_leaves': 31, 'max_depth': 8, 'min_child_samples': 35, 'min_child_weight': 0.35381875128834434, 'subsample': 0.6238429511762759, 'colsample_bytree': 0.652349729189792, 'reg_alpha': 0.054088695017145666, 'reg_lambda': 5.005653952950036e-06, 'n_estimators': 93, 'min_split_gain': 0.7470758885873108, 'subsample_freq': 1, 'max_bin': 209, 'scale_pos_weight': 1.555689142903349}. Best is trial 38 with value: 0.8960979080320886.\n"
     ]
    },
    {
     "name": "stdout",
     "output_type": "stream",
     "text": [
      "Trial 40 - Train AUC: 0.9318 | Validation AUC: 0.8942\n"
     ]
    },
    {
     "name": "stderr",
     "output_type": "stream",
     "text": [
      "/var/folders/ws/5628jcln1q1g_nmpns07dt_m0000gn/T/ipykernel_14057/3176874039.py:6: FutureWarning: suggest_loguniform has been deprecated in v3.0.0. This feature will be removed in v6.0.0. See https://github.com/optuna/optuna/releases/tag/v3.0.0. Use suggest_float(..., log=True) instead.\n",
      "  'learning_rate': trial.suggest_loguniform('learning_rate', 1e-3, 1e-1),\n",
      "/var/folders/ws/5628jcln1q1g_nmpns07dt_m0000gn/T/ipykernel_14057/3176874039.py:10: FutureWarning: suggest_loguniform has been deprecated in v3.0.0. This feature will be removed in v6.0.0. See https://github.com/optuna/optuna/releases/tag/v3.0.0. Use suggest_float(..., log=True) instead.\n",
      "  'min_child_weight': trial.suggest_loguniform('min_child_weight', 1e-3, 10.0),\n",
      "/var/folders/ws/5628jcln1q1g_nmpns07dt_m0000gn/T/ipykernel_14057/3176874039.py:13: FutureWarning: suggest_loguniform has been deprecated in v3.0.0. This feature will be removed in v6.0.0. See https://github.com/optuna/optuna/releases/tag/v3.0.0. Use suggest_float(..., log=True) instead.\n",
      "  'reg_alpha': trial.suggest_loguniform('reg_alpha', 1e-8, 10.0),\n",
      "/var/folders/ws/5628jcln1q1g_nmpns07dt_m0000gn/T/ipykernel_14057/3176874039.py:14: FutureWarning: suggest_loguniform has been deprecated in v3.0.0. This feature will be removed in v6.0.0. See https://github.com/optuna/optuna/releases/tag/v3.0.0. Use suggest_float(..., log=True) instead.\n",
      "  'reg_lambda': trial.suggest_loguniform('reg_lambda', 1e-8, 10.0),\n",
      "[I 2025-03-09 20:50:23,344] Trial 41 finished with value: 0.8941261182207227 and parameters: {'boosting_type': 'gbdt', 'learning_rate': 0.0010473213634761864, 'num_leaves': 88, 'max_depth': 6, 'min_child_samples': 28, 'min_child_weight': 1.7890661240689518, 'subsample': 0.5695313653762771, 'colsample_bytree': 0.5852294488394252, 'reg_alpha': 7.813810079529776e-05, 'reg_lambda': 3.7831581474702305e-07, 'n_estimators': 120, 'min_split_gain': 0.38542403655028745, 'subsample_freq': 2, 'max_bin': 107, 'scale_pos_weight': 1.4489233691896355}. Best is trial 38 with value: 0.8960979080320886.\n"
     ]
    },
    {
     "name": "stdout",
     "output_type": "stream",
     "text": [
      "Trial 41 - Train AUC: 0.9257 | Validation AUC: 0.8941\n"
     ]
    },
    {
     "name": "stderr",
     "output_type": "stream",
     "text": [
      "/var/folders/ws/5628jcln1q1g_nmpns07dt_m0000gn/T/ipykernel_14057/3176874039.py:6: FutureWarning: suggest_loguniform has been deprecated in v3.0.0. This feature will be removed in v6.0.0. See https://github.com/optuna/optuna/releases/tag/v3.0.0. Use suggest_float(..., log=True) instead.\n",
      "  'learning_rate': trial.suggest_loguniform('learning_rate', 1e-3, 1e-1),\n",
      "/var/folders/ws/5628jcln1q1g_nmpns07dt_m0000gn/T/ipykernel_14057/3176874039.py:10: FutureWarning: suggest_loguniform has been deprecated in v3.0.0. This feature will be removed in v6.0.0. See https://github.com/optuna/optuna/releases/tag/v3.0.0. Use suggest_float(..., log=True) instead.\n",
      "  'min_child_weight': trial.suggest_loguniform('min_child_weight', 1e-3, 10.0),\n",
      "/var/folders/ws/5628jcln1q1g_nmpns07dt_m0000gn/T/ipykernel_14057/3176874039.py:13: FutureWarning: suggest_loguniform has been deprecated in v3.0.0. This feature will be removed in v6.0.0. See https://github.com/optuna/optuna/releases/tag/v3.0.0. Use suggest_float(..., log=True) instead.\n",
      "  'reg_alpha': trial.suggest_loguniform('reg_alpha', 1e-8, 10.0),\n",
      "/var/folders/ws/5628jcln1q1g_nmpns07dt_m0000gn/T/ipykernel_14057/3176874039.py:14: FutureWarning: suggest_loguniform has been deprecated in v3.0.0. This feature will be removed in v6.0.0. See https://github.com/optuna/optuna/releases/tag/v3.0.0. Use suggest_float(..., log=True) instead.\n",
      "  'reg_lambda': trial.suggest_loguniform('reg_lambda', 1e-8, 10.0),\n",
      "[I 2025-03-09 20:50:24,853] Trial 42 finished with value: 0.8937802648114485 and parameters: {'boosting_type': 'gbdt', 'learning_rate': 0.005031399365272643, 'num_leaves': 163, 'max_depth': 6, 'min_child_samples': 22, 'min_child_weight': 0.16336637704331491, 'subsample': 0.7307665727909991, 'colsample_bytree': 0.705798357933642, 'reg_alpha': 7.53941130651051e-07, 'reg_lambda': 8.365483238138502e-08, 'n_estimators': 106, 'min_split_gain': 0.10813723166495298, 'subsample_freq': 1, 'max_bin': 107, 'scale_pos_weight': 1.7205028988766107}. Best is trial 38 with value: 0.8960979080320886.\n"
     ]
    },
    {
     "name": "stdout",
     "output_type": "stream",
     "text": [
      "Trial 42 - Train AUC: 0.9414 | Validation AUC: 0.8938\n"
     ]
    },
    {
     "name": "stderr",
     "output_type": "stream",
     "text": [
      "/var/folders/ws/5628jcln1q1g_nmpns07dt_m0000gn/T/ipykernel_14057/3176874039.py:6: FutureWarning: suggest_loguniform has been deprecated in v3.0.0. This feature will be removed in v6.0.0. See https://github.com/optuna/optuna/releases/tag/v3.0.0. Use suggest_float(..., log=True) instead.\n",
      "  'learning_rate': trial.suggest_loguniform('learning_rate', 1e-3, 1e-1),\n",
      "/var/folders/ws/5628jcln1q1g_nmpns07dt_m0000gn/T/ipykernel_14057/3176874039.py:10: FutureWarning: suggest_loguniform has been deprecated in v3.0.0. This feature will be removed in v6.0.0. See https://github.com/optuna/optuna/releases/tag/v3.0.0. Use suggest_float(..., log=True) instead.\n",
      "  'min_child_weight': trial.suggest_loguniform('min_child_weight', 1e-3, 10.0),\n",
      "/var/folders/ws/5628jcln1q1g_nmpns07dt_m0000gn/T/ipykernel_14057/3176874039.py:13: FutureWarning: suggest_loguniform has been deprecated in v3.0.0. This feature will be removed in v6.0.0. See https://github.com/optuna/optuna/releases/tag/v3.0.0. Use suggest_float(..., log=True) instead.\n",
      "  'reg_alpha': trial.suggest_loguniform('reg_alpha', 1e-8, 10.0),\n",
      "/var/folders/ws/5628jcln1q1g_nmpns07dt_m0000gn/T/ipykernel_14057/3176874039.py:14: FutureWarning: suggest_loguniform has been deprecated in v3.0.0. This feature will be removed in v6.0.0. See https://github.com/optuna/optuna/releases/tag/v3.0.0. Use suggest_float(..., log=True) instead.\n",
      "  'reg_lambda': trial.suggest_loguniform('reg_lambda', 1e-8, 10.0),\n",
      "[I 2025-03-09 20:50:25,596] Trial 43 finished with value: 0.8939346602302871 and parameters: {'boosting_type': 'gbdt', 'learning_rate': 0.01567221283799991, 'num_leaves': 46, 'max_depth': 5, 'min_child_samples': 48, 'min_child_weight': 0.23857375767810074, 'subsample': 0.7694536190551335, 'colsample_bytree': 0.7374205513473551, 'reg_alpha': 8.274340986639941e-06, 'reg_lambda': 3.8445533748388356e-08, 'n_estimators': 101, 'min_split_gain': 0.20516984775855068, 'subsample_freq': 0, 'max_bin': 125, 'scale_pos_weight': 1.2584335161169307}. Best is trial 38 with value: 0.8960979080320886.\n"
     ]
    },
    {
     "name": "stdout",
     "output_type": "stream",
     "text": [
      "Trial 43 - Train AUC: 0.9490 | Validation AUC: 0.8939\n"
     ]
    },
    {
     "name": "stderr",
     "output_type": "stream",
     "text": [
      "/var/folders/ws/5628jcln1q1g_nmpns07dt_m0000gn/T/ipykernel_14057/3176874039.py:6: FutureWarning: suggest_loguniform has been deprecated in v3.0.0. This feature will be removed in v6.0.0. See https://github.com/optuna/optuna/releases/tag/v3.0.0. Use suggest_float(..., log=True) instead.\n",
      "  'learning_rate': trial.suggest_loguniform('learning_rate', 1e-3, 1e-1),\n",
      "/var/folders/ws/5628jcln1q1g_nmpns07dt_m0000gn/T/ipykernel_14057/3176874039.py:10: FutureWarning: suggest_loguniform has been deprecated in v3.0.0. This feature will be removed in v6.0.0. See https://github.com/optuna/optuna/releases/tag/v3.0.0. Use suggest_float(..., log=True) instead.\n",
      "  'min_child_weight': trial.suggest_loguniform('min_child_weight', 1e-3, 10.0),\n",
      "/var/folders/ws/5628jcln1q1g_nmpns07dt_m0000gn/T/ipykernel_14057/3176874039.py:13: FutureWarning: suggest_loguniform has been deprecated in v3.0.0. This feature will be removed in v6.0.0. See https://github.com/optuna/optuna/releases/tag/v3.0.0. Use suggest_float(..., log=True) instead.\n",
      "  'reg_alpha': trial.suggest_loguniform('reg_alpha', 1e-8, 10.0),\n",
      "/var/folders/ws/5628jcln1q1g_nmpns07dt_m0000gn/T/ipykernel_14057/3176874039.py:14: FutureWarning: suggest_loguniform has been deprecated in v3.0.0. This feature will be removed in v6.0.0. See https://github.com/optuna/optuna/releases/tag/v3.0.0. Use suggest_float(..., log=True) instead.\n",
      "  'reg_lambda': trial.suggest_loguniform('reg_lambda', 1e-8, 10.0),\n",
      "[I 2025-03-09 20:50:27,064] Trial 44 finished with value: 0.8817447350415868 and parameters: {'boosting_type': 'gbdt', 'learning_rate': 0.07164351098858067, 'num_leaves': 194, 'max_depth': 11, 'min_child_samples': 32, 'min_child_weight': 2.9379014567664354, 'subsample': 0.7018346048619972, 'colsample_bytree': 0.6514825124520839, 'reg_alpha': 0.000592644387440939, 'reg_lambda': 1.831558549049254e-05, 'n_estimators': 121, 'min_split_gain': 0.6106485385564042, 'subsample_freq': 10, 'max_bin': 120, 'scale_pos_weight': 1.9832256158248316}. Best is trial 38 with value: 0.8960979080320886.\n"
     ]
    },
    {
     "name": "stdout",
     "output_type": "stream",
     "text": [
      "Trial 44 - Train AUC: 0.9988 | Validation AUC: 0.8817\n"
     ]
    },
    {
     "name": "stderr",
     "output_type": "stream",
     "text": [
      "/var/folders/ws/5628jcln1q1g_nmpns07dt_m0000gn/T/ipykernel_14057/3176874039.py:6: FutureWarning: suggest_loguniform has been deprecated in v3.0.0. This feature will be removed in v6.0.0. See https://github.com/optuna/optuna/releases/tag/v3.0.0. Use suggest_float(..., log=True) instead.\n",
      "  'learning_rate': trial.suggest_loguniform('learning_rate', 1e-3, 1e-1),\n",
      "/var/folders/ws/5628jcln1q1g_nmpns07dt_m0000gn/T/ipykernel_14057/3176874039.py:10: FutureWarning: suggest_loguniform has been deprecated in v3.0.0. This feature will be removed in v6.0.0. See https://github.com/optuna/optuna/releases/tag/v3.0.0. Use suggest_float(..., log=True) instead.\n",
      "  'min_child_weight': trial.suggest_loguniform('min_child_weight', 1e-3, 10.0),\n",
      "/var/folders/ws/5628jcln1q1g_nmpns07dt_m0000gn/T/ipykernel_14057/3176874039.py:13: FutureWarning: suggest_loguniform has been deprecated in v3.0.0. This feature will be removed in v6.0.0. See https://github.com/optuna/optuna/releases/tag/v3.0.0. Use suggest_float(..., log=True) instead.\n",
      "  'reg_alpha': trial.suggest_loguniform('reg_alpha', 1e-8, 10.0),\n",
      "/var/folders/ws/5628jcln1q1g_nmpns07dt_m0000gn/T/ipykernel_14057/3176874039.py:14: FutureWarning: suggest_loguniform has been deprecated in v3.0.0. This feature will be removed in v6.0.0. See https://github.com/optuna/optuna/releases/tag/v3.0.0. Use suggest_float(..., log=True) instead.\n",
      "  'reg_lambda': trial.suggest_loguniform('reg_lambda', 1e-8, 10.0),\n",
      "[I 2025-03-09 20:50:27,593] Trial 45 finished with value: 0.8920145579865391 and parameters: {'boosting_type': 'dart', 'learning_rate': 0.053371564278903064, 'num_leaves': 149, 'max_depth': 3, 'min_child_samples': 11, 'min_child_weight': 0.07017643144509048, 'subsample': 0.8785392497048643, 'colsample_bytree': 0.4201061920145478, 'reg_alpha': 0.35489136652392855, 'reg_lambda': 0.013123979810453986, 'n_estimators': 111, 'min_split_gain': 0.2555054177099687, 'subsample_freq': 8, 'max_bin': 100, 'scale_pos_weight': 1.6117735667512307}. Best is trial 38 with value: 0.8960979080320886.\n"
     ]
    },
    {
     "name": "stdout",
     "output_type": "stream",
     "text": [
      "Trial 45 - Train AUC: 0.9265 | Validation AUC: 0.8920\n"
     ]
    },
    {
     "name": "stderr",
     "output_type": "stream",
     "text": [
      "/var/folders/ws/5628jcln1q1g_nmpns07dt_m0000gn/T/ipykernel_14057/3176874039.py:6: FutureWarning: suggest_loguniform has been deprecated in v3.0.0. This feature will be removed in v6.0.0. See https://github.com/optuna/optuna/releases/tag/v3.0.0. Use suggest_float(..., log=True) instead.\n",
      "  'learning_rate': trial.suggest_loguniform('learning_rate', 1e-3, 1e-1),\n",
      "/var/folders/ws/5628jcln1q1g_nmpns07dt_m0000gn/T/ipykernel_14057/3176874039.py:10: FutureWarning: suggest_loguniform has been deprecated in v3.0.0. This feature will be removed in v6.0.0. See https://github.com/optuna/optuna/releases/tag/v3.0.0. Use suggest_float(..., log=True) instead.\n",
      "  'min_child_weight': trial.suggest_loguniform('min_child_weight', 1e-3, 10.0),\n",
      "/var/folders/ws/5628jcln1q1g_nmpns07dt_m0000gn/T/ipykernel_14057/3176874039.py:13: FutureWarning: suggest_loguniform has been deprecated in v3.0.0. This feature will be removed in v6.0.0. See https://github.com/optuna/optuna/releases/tag/v3.0.0. Use suggest_float(..., log=True) instead.\n",
      "  'reg_alpha': trial.suggest_loguniform('reg_alpha', 1e-8, 10.0),\n",
      "/var/folders/ws/5628jcln1q1g_nmpns07dt_m0000gn/T/ipykernel_14057/3176874039.py:14: FutureWarning: suggest_loguniform has been deprecated in v3.0.0. This feature will be removed in v6.0.0. See https://github.com/optuna/optuna/releases/tag/v3.0.0. Use suggest_float(..., log=True) instead.\n",
      "  'reg_lambda': trial.suggest_loguniform('reg_lambda', 1e-8, 10.0),\n",
      "[I 2025-03-09 20:50:29,074] Trial 46 finished with value: 0.8958328757350283 and parameters: {'boosting_type': 'gbdt', 'learning_rate': 0.02209890417084195, 'num_leaves': 60, 'max_depth': 7, 'min_child_samples': 21, 'min_child_weight': 0.6956956172692905, 'subsample': 0.6431804540780856, 'colsample_bytree': 0.5948827920072848, 'reg_alpha': 0.00013823115589264872, 'reg_lambda': 8.37271191113972e-07, 'n_estimators': 113, 'min_split_gain': 0.1558838982573689, 'subsample_freq': 3, 'max_bin': 111, 'scale_pos_weight': 1.4988821427539611}. Best is trial 38 with value: 0.8960979080320886.\n"
     ]
    },
    {
     "name": "stdout",
     "output_type": "stream",
     "text": [
      "Trial 46 - Train AUC: 0.9717 | Validation AUC: 0.8958\n"
     ]
    },
    {
     "name": "stderr",
     "output_type": "stream",
     "text": [
      "/var/folders/ws/5628jcln1q1g_nmpns07dt_m0000gn/T/ipykernel_14057/3176874039.py:6: FutureWarning: suggest_loguniform has been deprecated in v3.0.0. This feature will be removed in v6.0.0. See https://github.com/optuna/optuna/releases/tag/v3.0.0. Use suggest_float(..., log=True) instead.\n",
      "  'learning_rate': trial.suggest_loguniform('learning_rate', 1e-3, 1e-1),\n",
      "/var/folders/ws/5628jcln1q1g_nmpns07dt_m0000gn/T/ipykernel_14057/3176874039.py:10: FutureWarning: suggest_loguniform has been deprecated in v3.0.0. This feature will be removed in v6.0.0. See https://github.com/optuna/optuna/releases/tag/v3.0.0. Use suggest_float(..., log=True) instead.\n",
      "  'min_child_weight': trial.suggest_loguniform('min_child_weight', 1e-3, 10.0),\n",
      "/var/folders/ws/5628jcln1q1g_nmpns07dt_m0000gn/T/ipykernel_14057/3176874039.py:13: FutureWarning: suggest_loguniform has been deprecated in v3.0.0. This feature will be removed in v6.0.0. See https://github.com/optuna/optuna/releases/tag/v3.0.0. Use suggest_float(..., log=True) instead.\n",
      "  'reg_alpha': trial.suggest_loguniform('reg_alpha', 1e-8, 10.0),\n",
      "/var/folders/ws/5628jcln1q1g_nmpns07dt_m0000gn/T/ipykernel_14057/3176874039.py:14: FutureWarning: suggest_loguniform has been deprecated in v3.0.0. This feature will be removed in v6.0.0. See https://github.com/optuna/optuna/releases/tag/v3.0.0. Use suggest_float(..., log=True) instead.\n",
      "  'reg_lambda': trial.suggest_loguniform('reg_lambda', 1e-8, 10.0),\n",
      "[I 2025-03-09 20:50:30,799] Trial 47 finished with value: 0.8953677345266804 and parameters: {'boosting_type': 'gbdt', 'learning_rate': 0.0233758580311845, 'num_leaves': 70, 'max_depth': 7, 'min_child_samples': 19, 'min_child_weight': 0.6893247333770862, 'subsample': 0.6317111245695981, 'colsample_bytree': 0.5993518245695464, 'reg_alpha': 0.01042664035923226, 'reg_lambda': 7.794129313864809e-05, 'n_estimators': 113, 'min_split_gain': 0.0519658505648197, 'subsample_freq': 2, 'max_bin': 191, 'scale_pos_weight': 1.499781773027345}. Best is trial 38 with value: 0.8960979080320886.\n"
     ]
    },
    {
     "name": "stdout",
     "output_type": "stream",
     "text": [
      "Trial 47 - Train AUC: 0.9763 | Validation AUC: 0.8954\n"
     ]
    },
    {
     "name": "stderr",
     "output_type": "stream",
     "text": [
      "/var/folders/ws/5628jcln1q1g_nmpns07dt_m0000gn/T/ipykernel_14057/3176874039.py:6: FutureWarning: suggest_loguniform has been deprecated in v3.0.0. This feature will be removed in v6.0.0. See https://github.com/optuna/optuna/releases/tag/v3.0.0. Use suggest_float(..., log=True) instead.\n",
      "  'learning_rate': trial.suggest_loguniform('learning_rate', 1e-3, 1e-1),\n",
      "/var/folders/ws/5628jcln1q1g_nmpns07dt_m0000gn/T/ipykernel_14057/3176874039.py:10: FutureWarning: suggest_loguniform has been deprecated in v3.0.0. This feature will be removed in v6.0.0. See https://github.com/optuna/optuna/releases/tag/v3.0.0. Use suggest_float(..., log=True) instead.\n",
      "  'min_child_weight': trial.suggest_loguniform('min_child_weight', 1e-3, 10.0),\n",
      "/var/folders/ws/5628jcln1q1g_nmpns07dt_m0000gn/T/ipykernel_14057/3176874039.py:13: FutureWarning: suggest_loguniform has been deprecated in v3.0.0. This feature will be removed in v6.0.0. See https://github.com/optuna/optuna/releases/tag/v3.0.0. Use suggest_float(..., log=True) instead.\n",
      "  'reg_alpha': trial.suggest_loguniform('reg_alpha', 1e-8, 10.0),\n",
      "/var/folders/ws/5628jcln1q1g_nmpns07dt_m0000gn/T/ipykernel_14057/3176874039.py:14: FutureWarning: suggest_loguniform has been deprecated in v3.0.0. This feature will be removed in v6.0.0. See https://github.com/optuna/optuna/releases/tag/v3.0.0. Use suggest_float(..., log=True) instead.\n",
      "  'reg_lambda': trial.suggest_loguniform('reg_lambda', 1e-8, 10.0),\n",
      "[I 2025-03-09 20:50:31,466] Trial 48 finished with value: 0.8944449734906188 and parameters: {'boosting_type': 'gbdt', 'learning_rate': 0.022604973731412514, 'num_leaves': 60, 'max_depth': 7, 'min_child_samples': 38, 'min_child_weight': 0.726332776415141, 'subsample': 0.48785026375958024, 'colsample_bytree': 0.6002560789156888, 'reg_alpha': 0.010600309532394984, 'reg_lambda': 0.0001325895460989739, 'n_estimators': 70, 'min_split_gain': 0.07113563388037072, 'subsample_freq': 2, 'max_bin': 232, 'scale_pos_weight': 1.5083228690760575}. Best is trial 38 with value: 0.8960979080320886.\n"
     ]
    },
    {
     "name": "stdout",
     "output_type": "stream",
     "text": [
      "Trial 48 - Train AUC: 0.9321 | Validation AUC: 0.8944\n"
     ]
    },
    {
     "name": "stderr",
     "output_type": "stream",
     "text": [
      "/var/folders/ws/5628jcln1q1g_nmpns07dt_m0000gn/T/ipykernel_14057/3176874039.py:6: FutureWarning: suggest_loguniform has been deprecated in v3.0.0. This feature will be removed in v6.0.0. See https://github.com/optuna/optuna/releases/tag/v3.0.0. Use suggest_float(..., log=True) instead.\n",
      "  'learning_rate': trial.suggest_loguniform('learning_rate', 1e-3, 1e-1),\n",
      "/var/folders/ws/5628jcln1q1g_nmpns07dt_m0000gn/T/ipykernel_14057/3176874039.py:10: FutureWarning: suggest_loguniform has been deprecated in v3.0.0. This feature will be removed in v6.0.0. See https://github.com/optuna/optuna/releases/tag/v3.0.0. Use suggest_float(..., log=True) instead.\n",
      "  'min_child_weight': trial.suggest_loguniform('min_child_weight', 1e-3, 10.0),\n",
      "/var/folders/ws/5628jcln1q1g_nmpns07dt_m0000gn/T/ipykernel_14057/3176874039.py:13: FutureWarning: suggest_loguniform has been deprecated in v3.0.0. This feature will be removed in v6.0.0. See https://github.com/optuna/optuna/releases/tag/v3.0.0. Use suggest_float(..., log=True) instead.\n",
      "  'reg_alpha': trial.suggest_loguniform('reg_alpha', 1e-8, 10.0),\n",
      "/var/folders/ws/5628jcln1q1g_nmpns07dt_m0000gn/T/ipykernel_14057/3176874039.py:14: FutureWarning: suggest_loguniform has been deprecated in v3.0.0. This feature will be removed in v6.0.0. See https://github.com/optuna/optuna/releases/tag/v3.0.0. Use suggest_float(..., log=True) instead.\n",
      "  'reg_lambda': trial.suggest_loguniform('reg_lambda', 1e-8, 10.0),\n",
      "[I 2025-03-09 20:50:32,921] Trial 49 finished with value: 0.8949168212687196 and parameters: {'boosting_type': 'gbdt', 'learning_rate': 0.013257057985811789, 'num_leaves': 69, 'max_depth': 7, 'min_child_samples': 20, 'min_child_weight': 2.0073457696347745, 'subsample': 0.6355227534565414, 'colsample_bytree': 0.6376674721110287, 'reg_alpha': 0.038243933160018305, 'reg_lambda': 0.0018448151523515748, 'n_estimators': 96, 'min_split_gain': 0.14433468416370507, 'subsample_freq': 2, 'max_bin': 192, 'scale_pos_weight': 1.7524081302946592}. Best is trial 38 with value: 0.8960979080320886.\n"
     ]
    },
    {
     "name": "stdout",
     "output_type": "stream",
     "text": [
      "Trial 49 - Train AUC: 0.9535 | Validation AUC: 0.8949\n"
     ]
    },
    {
     "name": "stderr",
     "output_type": "stream",
     "text": [
      "/var/folders/ws/5628jcln1q1g_nmpns07dt_m0000gn/T/ipykernel_14057/3176874039.py:6: FutureWarning: suggest_loguniform has been deprecated in v3.0.0. This feature will be removed in v6.0.0. See https://github.com/optuna/optuna/releases/tag/v3.0.0. Use suggest_float(..., log=True) instead.\n",
      "  'learning_rate': trial.suggest_loguniform('learning_rate', 1e-3, 1e-1),\n",
      "/var/folders/ws/5628jcln1q1g_nmpns07dt_m0000gn/T/ipykernel_14057/3176874039.py:10: FutureWarning: suggest_loguniform has been deprecated in v3.0.0. This feature will be removed in v6.0.0. See https://github.com/optuna/optuna/releases/tag/v3.0.0. Use suggest_float(..., log=True) instead.\n",
      "  'min_child_weight': trial.suggest_loguniform('min_child_weight', 1e-3, 10.0),\n",
      "/var/folders/ws/5628jcln1q1g_nmpns07dt_m0000gn/T/ipykernel_14057/3176874039.py:13: FutureWarning: suggest_loguniform has been deprecated in v3.0.0. This feature will be removed in v6.0.0. See https://github.com/optuna/optuna/releases/tag/v3.0.0. Use suggest_float(..., log=True) instead.\n",
      "  'reg_alpha': trial.suggest_loguniform('reg_alpha', 1e-8, 10.0),\n",
      "/var/folders/ws/5628jcln1q1g_nmpns07dt_m0000gn/T/ipykernel_14057/3176874039.py:14: FutureWarning: suggest_loguniform has been deprecated in v3.0.0. This feature will be removed in v6.0.0. See https://github.com/optuna/optuna/releases/tag/v3.0.0. Use suggest_float(..., log=True) instead.\n",
      "  'reg_lambda': trial.suggest_loguniform('reg_lambda', 1e-8, 10.0),\n",
      "[I 2025-03-09 20:50:33,447] Trial 50 finished with value: 0.8896585218023187 and parameters: {'boosting_type': 'gbdt', 'learning_rate': 0.009257003998324803, 'num_leaves': 22, 'max_depth': 8, 'min_child_samples': 50, 'min_child_weight': 0.25177659086632775, 'subsample': 0.607179384520942, 'colsample_bytree': 0.5618925921379513, 'reg_alpha': 2.0435048152361093, 'reg_lambda': 2.6188242893305537e-05, 'n_estimators': 87, 'min_split_gain': 0.021958678669509846, 'subsample_freq': 1, 'max_bin': 276, 'scale_pos_weight': 1.4570996687003805}. Best is trial 38 with value: 0.8960979080320886.\n"
     ]
    },
    {
     "name": "stdout",
     "output_type": "stream",
     "text": [
      "Trial 50 - Train AUC: 0.9093 | Validation AUC: 0.8897\n"
     ]
    },
    {
     "name": "stderr",
     "output_type": "stream",
     "text": [
      "/var/folders/ws/5628jcln1q1g_nmpns07dt_m0000gn/T/ipykernel_14057/3176874039.py:6: FutureWarning: suggest_loguniform has been deprecated in v3.0.0. This feature will be removed in v6.0.0. See https://github.com/optuna/optuna/releases/tag/v3.0.0. Use suggest_float(..., log=True) instead.\n",
      "  'learning_rate': trial.suggest_loguniform('learning_rate', 1e-3, 1e-1),\n",
      "/var/folders/ws/5628jcln1q1g_nmpns07dt_m0000gn/T/ipykernel_14057/3176874039.py:10: FutureWarning: suggest_loguniform has been deprecated in v3.0.0. This feature will be removed in v6.0.0. See https://github.com/optuna/optuna/releases/tag/v3.0.0. Use suggest_float(..., log=True) instead.\n",
      "  'min_child_weight': trial.suggest_loguniform('min_child_weight', 1e-3, 10.0),\n",
      "/var/folders/ws/5628jcln1q1g_nmpns07dt_m0000gn/T/ipykernel_14057/3176874039.py:13: FutureWarning: suggest_loguniform has been deprecated in v3.0.0. This feature will be removed in v6.0.0. See https://github.com/optuna/optuna/releases/tag/v3.0.0. Use suggest_float(..., log=True) instead.\n",
      "  'reg_alpha': trial.suggest_loguniform('reg_alpha', 1e-8, 10.0),\n",
      "/var/folders/ws/5628jcln1q1g_nmpns07dt_m0000gn/T/ipykernel_14057/3176874039.py:14: FutureWarning: suggest_loguniform has been deprecated in v3.0.0. This feature will be removed in v6.0.0. See https://github.com/optuna/optuna/releases/tag/v3.0.0. Use suggest_float(..., log=True) instead.\n",
      "  'reg_lambda': trial.suggest_loguniform('reg_lambda', 1e-8, 10.0),\n",
      "[I 2025-03-09 20:50:35,455] Trial 51 finished with value: 0.894113281295299 and parameters: {'boosting_type': 'gbdt', 'learning_rate': 0.0203477601519532, 'num_leaves': 96, 'max_depth': 7, 'min_child_samples': 16, 'min_child_weight': 1.1230036407629025, 'subsample': 0.6559210699502669, 'colsample_bytree': 0.6808332003538067, 'reg_alpha': 0.0031023193073996657, 'reg_lambda': 0.0005618466337910233, 'n_estimators': 114, 'min_split_gain': 0.07048886052195547, 'subsample_freq': 3, 'max_bin': 183, 'scale_pos_weight': 1.5331184070156747}. Best is trial 38 with value: 0.8960979080320886.\n"
     ]
    },
    {
     "name": "stdout",
     "output_type": "stream",
     "text": [
      "Trial 51 - Train AUC: 0.9772 | Validation AUC: 0.8941\n"
     ]
    },
    {
     "name": "stderr",
     "output_type": "stream",
     "text": [
      "/var/folders/ws/5628jcln1q1g_nmpns07dt_m0000gn/T/ipykernel_14057/3176874039.py:6: FutureWarning: suggest_loguniform has been deprecated in v3.0.0. This feature will be removed in v6.0.0. See https://github.com/optuna/optuna/releases/tag/v3.0.0. Use suggest_float(..., log=True) instead.\n",
      "  'learning_rate': trial.suggest_loguniform('learning_rate', 1e-3, 1e-1),\n",
      "/var/folders/ws/5628jcln1q1g_nmpns07dt_m0000gn/T/ipykernel_14057/3176874039.py:10: FutureWarning: suggest_loguniform has been deprecated in v3.0.0. This feature will be removed in v6.0.0. See https://github.com/optuna/optuna/releases/tag/v3.0.0. Use suggest_float(..., log=True) instead.\n",
      "  'min_child_weight': trial.suggest_loguniform('min_child_weight', 1e-3, 10.0),\n",
      "/var/folders/ws/5628jcln1q1g_nmpns07dt_m0000gn/T/ipykernel_14057/3176874039.py:13: FutureWarning: suggest_loguniform has been deprecated in v3.0.0. This feature will be removed in v6.0.0. See https://github.com/optuna/optuna/releases/tag/v3.0.0. Use suggest_float(..., log=True) instead.\n",
      "  'reg_alpha': trial.suggest_loguniform('reg_alpha', 1e-8, 10.0),\n",
      "/var/folders/ws/5628jcln1q1g_nmpns07dt_m0000gn/T/ipykernel_14057/3176874039.py:14: FutureWarning: suggest_loguniform has been deprecated in v3.0.0. This feature will be removed in v6.0.0. See https://github.com/optuna/optuna/releases/tag/v3.0.0. Use suggest_float(..., log=True) instead.\n",
      "  'reg_lambda': trial.suggest_loguniform('reg_lambda', 1e-8, 10.0),\n",
      "[I 2025-03-09 20:50:37,462] Trial 52 finished with value: 0.8911316095288766 and parameters: {'boosting_type': 'gbdt', 'learning_rate': 0.00864616637840642, 'num_leaves': 57, 'max_depth': 6, 'min_child_samples': 9, 'min_child_weight': 0.5373758928328636, 'subsample': 0.6792480764202669, 'colsample_bytree': 0.592667194576278, 'reg_alpha': 2.45305934793089e-05, 'reg_lambda': 1.669508110117823e-06, 'n_estimators': 108, 'min_split_gain': 0.13607458540287543, 'subsample_freq': 0, 'max_bin': 156, 'scale_pos_weight': 1.8534982668942108}. Best is trial 38 with value: 0.8960979080320886.\n"
     ]
    },
    {
     "name": "stdout",
     "output_type": "stream",
     "text": [
      "Trial 52 - Train AUC: 0.9645 | Validation AUC: 0.8911\n"
     ]
    },
    {
     "name": "stderr",
     "output_type": "stream",
     "text": [
      "/var/folders/ws/5628jcln1q1g_nmpns07dt_m0000gn/T/ipykernel_14057/3176874039.py:6: FutureWarning: suggest_loguniform has been deprecated in v3.0.0. This feature will be removed in v6.0.0. See https://github.com/optuna/optuna/releases/tag/v3.0.0. Use suggest_float(..., log=True) instead.\n",
      "  'learning_rate': trial.suggest_loguniform('learning_rate', 1e-3, 1e-1),\n",
      "/var/folders/ws/5628jcln1q1g_nmpns07dt_m0000gn/T/ipykernel_14057/3176874039.py:10: FutureWarning: suggest_loguniform has been deprecated in v3.0.0. This feature will be removed in v6.0.0. See https://github.com/optuna/optuna/releases/tag/v3.0.0. Use suggest_float(..., log=True) instead.\n",
      "  'min_child_weight': trial.suggest_loguniform('min_child_weight', 1e-3, 10.0),\n",
      "/var/folders/ws/5628jcln1q1g_nmpns07dt_m0000gn/T/ipykernel_14057/3176874039.py:13: FutureWarning: suggest_loguniform has been deprecated in v3.0.0. This feature will be removed in v6.0.0. See https://github.com/optuna/optuna/releases/tag/v3.0.0. Use suggest_float(..., log=True) instead.\n",
      "  'reg_alpha': trial.suggest_loguniform('reg_alpha', 1e-8, 10.0),\n",
      "/var/folders/ws/5628jcln1q1g_nmpns07dt_m0000gn/T/ipykernel_14057/3176874039.py:14: FutureWarning: suggest_loguniform has been deprecated in v3.0.0. This feature will be removed in v6.0.0. See https://github.com/optuna/optuna/releases/tag/v3.0.0. Use suggest_float(..., log=True) instead.\n",
      "  'reg_lambda': trial.suggest_loguniform('reg_lambda', 1e-8, 10.0),\n",
      "[I 2025-03-09 20:50:39,829] Trial 53 finished with value: 0.8925689091007388 and parameters: {'boosting_type': 'gbdt', 'learning_rate': 0.014573140949626279, 'num_leaves': 112, 'max_depth': 8, 'min_child_samples': 5, 'min_child_weight': 0.5522828589505819, 'subsample': 0.5345824554145204, 'colsample_bytree': 0.49046699535589616, 'reg_alpha': 0.47585589032916426, 'reg_lambda': 7.601678333344509e-05, 'n_estimators': 103, 'min_split_gain': 0.08747501209547826, 'subsample_freq': 2, 'max_bin': 177, 'scale_pos_weight': 1.2968004166061255}. Best is trial 38 with value: 0.8960979080320886.\n"
     ]
    },
    {
     "name": "stdout",
     "output_type": "stream",
     "text": [
      "Trial 53 - Train AUC: 0.9770 | Validation AUC: 0.8926\n"
     ]
    },
    {
     "name": "stderr",
     "output_type": "stream",
     "text": [
      "/var/folders/ws/5628jcln1q1g_nmpns07dt_m0000gn/T/ipykernel_14057/3176874039.py:6: FutureWarning: suggest_loguniform has been deprecated in v3.0.0. This feature will be removed in v6.0.0. See https://github.com/optuna/optuna/releases/tag/v3.0.0. Use suggest_float(..., log=True) instead.\n",
      "  'learning_rate': trial.suggest_loguniform('learning_rate', 1e-3, 1e-1),\n",
      "/var/folders/ws/5628jcln1q1g_nmpns07dt_m0000gn/T/ipykernel_14057/3176874039.py:10: FutureWarning: suggest_loguniform has been deprecated in v3.0.0. This feature will be removed in v6.0.0. See https://github.com/optuna/optuna/releases/tag/v3.0.0. Use suggest_float(..., log=True) instead.\n",
      "  'min_child_weight': trial.suggest_loguniform('min_child_weight', 1e-3, 10.0),\n",
      "/var/folders/ws/5628jcln1q1g_nmpns07dt_m0000gn/T/ipykernel_14057/3176874039.py:13: FutureWarning: suggest_loguniform has been deprecated in v3.0.0. This feature will be removed in v6.0.0. See https://github.com/optuna/optuna/releases/tag/v3.0.0. Use suggest_float(..., log=True) instead.\n",
      "  'reg_alpha': trial.suggest_loguniform('reg_alpha', 1e-8, 10.0),\n",
      "/var/folders/ws/5628jcln1q1g_nmpns07dt_m0000gn/T/ipykernel_14057/3176874039.py:14: FutureWarning: suggest_loguniform has been deprecated in v3.0.0. This feature will be removed in v6.0.0. See https://github.com/optuna/optuna/releases/tag/v3.0.0. Use suggest_float(..., log=True) instead.\n",
      "  'reg_lambda': trial.suggest_loguniform('reg_lambda', 1e-8, 10.0),\n",
      "[I 2025-03-09 20:50:41,031] Trial 54 finished with value: 0.8939160372320869 and parameters: {'boosting_type': 'gbdt', 'learning_rate': 0.03458887370984483, 'num_leaves': 102, 'max_depth': 6, 'min_child_samples': 28, 'min_child_weight': 1.9830089670274762, 'subsample': 0.5808690780814156, 'colsample_bytree': 0.5566426541253817, 'reg_alpha': 0.0003379767141419085, 'reg_lambda': 0.08889720125827923, 'n_estimators': 113, 'min_split_gain': 0.007088572225870088, 'subsample_freq': 3, 'max_bin': 165, 'scale_pos_weight': 1.5964846315519272}. Best is trial 38 with value: 0.8960979080320886.\n"
     ]
    },
    {
     "name": "stdout",
     "output_type": "stream",
     "text": [
      "Trial 54 - Train AUC: 0.9731 | Validation AUC: 0.8939\n"
     ]
    },
    {
     "name": "stderr",
     "output_type": "stream",
     "text": [
      "/var/folders/ws/5628jcln1q1g_nmpns07dt_m0000gn/T/ipykernel_14057/3176874039.py:6: FutureWarning: suggest_loguniform has been deprecated in v3.0.0. This feature will be removed in v6.0.0. See https://github.com/optuna/optuna/releases/tag/v3.0.0. Use suggest_float(..., log=True) instead.\n",
      "  'learning_rate': trial.suggest_loguniform('learning_rate', 1e-3, 1e-1),\n",
      "/var/folders/ws/5628jcln1q1g_nmpns07dt_m0000gn/T/ipykernel_14057/3176874039.py:10: FutureWarning: suggest_loguniform has been deprecated in v3.0.0. This feature will be removed in v6.0.0. See https://github.com/optuna/optuna/releases/tag/v3.0.0. Use suggest_float(..., log=True) instead.\n",
      "  'min_child_weight': trial.suggest_loguniform('min_child_weight', 1e-3, 10.0),\n",
      "/var/folders/ws/5628jcln1q1g_nmpns07dt_m0000gn/T/ipykernel_14057/3176874039.py:13: FutureWarning: suggest_loguniform has been deprecated in v3.0.0. This feature will be removed in v6.0.0. See https://github.com/optuna/optuna/releases/tag/v3.0.0. Use suggest_float(..., log=True) instead.\n",
      "  'reg_alpha': trial.suggest_loguniform('reg_alpha', 1e-8, 10.0),\n",
      "/var/folders/ws/5628jcln1q1g_nmpns07dt_m0000gn/T/ipykernel_14057/3176874039.py:14: FutureWarning: suggest_loguniform has been deprecated in v3.0.0. This feature will be removed in v6.0.0. See https://github.com/optuna/optuna/releases/tag/v3.0.0. Use suggest_float(..., log=True) instead.\n",
      "  'reg_lambda': trial.suggest_loguniform('reg_lambda', 1e-8, 10.0),\n",
      "[I 2025-03-09 20:50:42,222] Trial 55 finished with value: 0.8820910480568809 and parameters: {'boosting_type': 'gbdt', 'learning_rate': 0.0816243218395396, 'num_leaves': 42, 'max_depth': 7, 'min_child_samples': 39, 'min_child_weight': 0.22165608851340515, 'subsample': 0.6420464576975966, 'colsample_bytree': 0.6972771417573032, 'reg_alpha': 0.00828592236811996, 'reg_lambda': 7.799649721182662e-07, 'n_estimators': 121, 'min_split_gain': 0.1702957502086342, 'subsample_freq': 4, 'max_bin': 200, 'scale_pos_weight': 1.4261994538429872}. Best is trial 38 with value: 0.8960979080320886.\n"
     ]
    },
    {
     "name": "stdout",
     "output_type": "stream",
     "text": [
      "Trial 55 - Train AUC: 0.9993 | Validation AUC: 0.8821\n"
     ]
    },
    {
     "name": "stderr",
     "output_type": "stream",
     "text": [
      "/var/folders/ws/5628jcln1q1g_nmpns07dt_m0000gn/T/ipykernel_14057/3176874039.py:6: FutureWarning: suggest_loguniform has been deprecated in v3.0.0. This feature will be removed in v6.0.0. See https://github.com/optuna/optuna/releases/tag/v3.0.0. Use suggest_float(..., log=True) instead.\n",
      "  'learning_rate': trial.suggest_loguniform('learning_rate', 1e-3, 1e-1),\n",
      "/var/folders/ws/5628jcln1q1g_nmpns07dt_m0000gn/T/ipykernel_14057/3176874039.py:10: FutureWarning: suggest_loguniform has been deprecated in v3.0.0. This feature will be removed in v6.0.0. See https://github.com/optuna/optuna/releases/tag/v3.0.0. Use suggest_float(..., log=True) instead.\n",
      "  'min_child_weight': trial.suggest_loguniform('min_child_weight', 1e-3, 10.0),\n",
      "/var/folders/ws/5628jcln1q1g_nmpns07dt_m0000gn/T/ipykernel_14057/3176874039.py:13: FutureWarning: suggest_loguniform has been deprecated in v3.0.0. This feature will be removed in v6.0.0. See https://github.com/optuna/optuna/releases/tag/v3.0.0. Use suggest_float(..., log=True) instead.\n",
      "  'reg_alpha': trial.suggest_loguniform('reg_alpha', 1e-8, 10.0),\n",
      "/var/folders/ws/5628jcln1q1g_nmpns07dt_m0000gn/T/ipykernel_14057/3176874039.py:14: FutureWarning: suggest_loguniform has been deprecated in v3.0.0. This feature will be removed in v6.0.0. See https://github.com/optuna/optuna/releases/tag/v3.0.0. Use suggest_float(..., log=True) instead.\n",
      "  'reg_lambda': trial.suggest_loguniform('reg_lambda', 1e-8, 10.0),\n",
      "[I 2025-03-09 20:50:43,180] Trial 56 finished with value: 0.8966058616656392 and parameters: {'boosting_type': 'gbdt', 'learning_rate': 0.023316433186024717, 'num_leaves': 286, 'max_depth': 9, 'min_child_samples': 45, 'min_child_weight': 1.0590121263232959, 'subsample': 0.7159049715410939, 'colsample_bytree': 0.5021222945566725, 'reg_alpha': 0.00016198477000848877, 'reg_lambda': 0.00026397983758290404, 'n_estimators': 78, 'min_split_gain': 0.2569406065607691, 'subsample_freq': 1, 'max_bin': 112, 'scale_pos_weight': 1.689328839727197}. Best is trial 56 with value: 0.8966058616656392.\n"
     ]
    },
    {
     "name": "stdout",
     "output_type": "stream",
     "text": [
      "Trial 56 - Train AUC: 0.9441 | Validation AUC: 0.8966\n"
     ]
    },
    {
     "name": "stderr",
     "output_type": "stream",
     "text": [
      "/var/folders/ws/5628jcln1q1g_nmpns07dt_m0000gn/T/ipykernel_14057/3176874039.py:6: FutureWarning: suggest_loguniform has been deprecated in v3.0.0. This feature will be removed in v6.0.0. See https://github.com/optuna/optuna/releases/tag/v3.0.0. Use suggest_float(..., log=True) instead.\n",
      "  'learning_rate': trial.suggest_loguniform('learning_rate', 1e-3, 1e-1),\n",
      "/var/folders/ws/5628jcln1q1g_nmpns07dt_m0000gn/T/ipykernel_14057/3176874039.py:10: FutureWarning: suggest_loguniform has been deprecated in v3.0.0. This feature will be removed in v6.0.0. See https://github.com/optuna/optuna/releases/tag/v3.0.0. Use suggest_float(..., log=True) instead.\n",
      "  'min_child_weight': trial.suggest_loguniform('min_child_weight', 1e-3, 10.0),\n",
      "/var/folders/ws/5628jcln1q1g_nmpns07dt_m0000gn/T/ipykernel_14057/3176874039.py:13: FutureWarning: suggest_loguniform has been deprecated in v3.0.0. This feature will be removed in v6.0.0. See https://github.com/optuna/optuna/releases/tag/v3.0.0. Use suggest_float(..., log=True) instead.\n",
      "  'reg_alpha': trial.suggest_loguniform('reg_alpha', 1e-8, 10.0),\n",
      "/var/folders/ws/5628jcln1q1g_nmpns07dt_m0000gn/T/ipykernel_14057/3176874039.py:14: FutureWarning: suggest_loguniform has been deprecated in v3.0.0. This feature will be removed in v6.0.0. See https://github.com/optuna/optuna/releases/tag/v3.0.0. Use suggest_float(..., log=True) instead.\n",
      "  'reg_lambda': trial.suggest_loguniform('reg_lambda', 1e-8, 10.0),\n",
      "[I 2025-03-09 20:50:44,045] Trial 57 finished with value: 0.895121049207221 and parameters: {'boosting_type': 'gbdt', 'learning_rate': 0.017480050480080417, 'num_leaves': 290, 'max_depth': 10, 'min_child_samples': 45, 'min_child_weight': 7.038311882593774, 'subsample': 0.786906792399815, 'colsample_bytree': 0.515864182403138, 'reg_alpha': 0.0015327024804443457, 'reg_lambda': 0.0002536223507898611, 'n_estimators': 77, 'min_split_gain': 0.35431703839210205, 'subsample_freq': 1, 'max_bin': 110, 'scale_pos_weight': 1.6945056462686974}. Best is trial 56 with value: 0.8966058616656392.\n"
     ]
    },
    {
     "name": "stdout",
     "output_type": "stream",
     "text": [
      "Trial 57 - Train AUC: 0.9404 | Validation AUC: 0.8951\n"
     ]
    },
    {
     "name": "stderr",
     "output_type": "stream",
     "text": [
      "/var/folders/ws/5628jcln1q1g_nmpns07dt_m0000gn/T/ipykernel_14057/3176874039.py:6: FutureWarning: suggest_loguniform has been deprecated in v3.0.0. This feature will be removed in v6.0.0. See https://github.com/optuna/optuna/releases/tag/v3.0.0. Use suggest_float(..., log=True) instead.\n",
      "  'learning_rate': trial.suggest_loguniform('learning_rate', 1e-3, 1e-1),\n",
      "/var/folders/ws/5628jcln1q1g_nmpns07dt_m0000gn/T/ipykernel_14057/3176874039.py:10: FutureWarning: suggest_loguniform has been deprecated in v3.0.0. This feature will be removed in v6.0.0. See https://github.com/optuna/optuna/releases/tag/v3.0.0. Use suggest_float(..., log=True) instead.\n",
      "  'min_child_weight': trial.suggest_loguniform('min_child_weight', 1e-3, 10.0),\n",
      "/var/folders/ws/5628jcln1q1g_nmpns07dt_m0000gn/T/ipykernel_14057/3176874039.py:13: FutureWarning: suggest_loguniform has been deprecated in v3.0.0. This feature will be removed in v6.0.0. See https://github.com/optuna/optuna/releases/tag/v3.0.0. Use suggest_float(..., log=True) instead.\n",
      "  'reg_alpha': trial.suggest_loguniform('reg_alpha', 1e-8, 10.0),\n",
      "/var/folders/ws/5628jcln1q1g_nmpns07dt_m0000gn/T/ipykernel_14057/3176874039.py:14: FutureWarning: suggest_loguniform has been deprecated in v3.0.0. This feature will be removed in v6.0.0. See https://github.com/optuna/optuna/releases/tag/v3.0.0. Use suggest_float(..., log=True) instead.\n",
      "  'reg_lambda': trial.suggest_loguniform('reg_lambda', 1e-8, 10.0),\n",
      "[I 2025-03-09 20:50:44,990] Trial 58 finished with value: 0.894793394445595 and parameters: {'boosting_type': 'gbdt', 'learning_rate': 0.02415875904576816, 'num_leaves': 58, 'max_depth': 9, 'min_child_samples': 34, 'min_child_weight': 1.0057923454381092, 'subsample': 0.7176644353771743, 'colsample_bytree': 0.572264349147875, 'reg_alpha': 0.00014917038344470097, 'reg_lambda': 0.0029682609934053882, 'n_estimators': 62, 'min_split_gain': 0.7150381928729275, 'subsample_freq': 0, 'max_bin': 117, 'scale_pos_weight': 1.7944763261813457}. Best is trial 56 with value: 0.8966058616656392.\n"
     ]
    },
    {
     "name": "stdout",
     "output_type": "stream",
     "text": [
      "Trial 58 - Train AUC: 0.9558 | Validation AUC: 0.8948\n"
     ]
    },
    {
     "name": "stderr",
     "output_type": "stream",
     "text": [
      "/var/folders/ws/5628jcln1q1g_nmpns07dt_m0000gn/T/ipykernel_14057/3176874039.py:6: FutureWarning: suggest_loguniform has been deprecated in v3.0.0. This feature will be removed in v6.0.0. See https://github.com/optuna/optuna/releases/tag/v3.0.0. Use suggest_float(..., log=True) instead.\n",
      "  'learning_rate': trial.suggest_loguniform('learning_rate', 1e-3, 1e-1),\n",
      "/var/folders/ws/5628jcln1q1g_nmpns07dt_m0000gn/T/ipykernel_14057/3176874039.py:10: FutureWarning: suggest_loguniform has been deprecated in v3.0.0. This feature will be removed in v6.0.0. See https://github.com/optuna/optuna/releases/tag/v3.0.0. Use suggest_float(..., log=True) instead.\n",
      "  'min_child_weight': trial.suggest_loguniform('min_child_weight', 1e-3, 10.0),\n",
      "/var/folders/ws/5628jcln1q1g_nmpns07dt_m0000gn/T/ipykernel_14057/3176874039.py:13: FutureWarning: suggest_loguniform has been deprecated in v3.0.0. This feature will be removed in v6.0.0. See https://github.com/optuna/optuna/releases/tag/v3.0.0. Use suggest_float(..., log=True) instead.\n",
      "  'reg_alpha': trial.suggest_loguniform('reg_alpha', 1e-8, 10.0),\n",
      "/var/folders/ws/5628jcln1q1g_nmpns07dt_m0000gn/T/ipykernel_14057/3176874039.py:14: FutureWarning: suggest_loguniform has been deprecated in v3.0.0. This feature will be removed in v6.0.0. See https://github.com/optuna/optuna/releases/tag/v3.0.0. Use suggest_float(..., log=True) instead.\n",
      "  'reg_lambda': trial.suggest_loguniform('reg_lambda', 1e-8, 10.0),\n",
      "[I 2025-03-09 20:50:45,716] Trial 59 finished with value: 0.8951607434107691 and parameters: {'boosting_type': 'gbdt', 'learning_rate': 0.03175815541634707, 'num_leaves': 74, 'max_depth': 9, 'min_child_samples': 61, 'min_child_weight': 1.5517735359442615, 'subsample': 0.7483288025155337, 'colsample_bytree': 0.6081630209152622, 'reg_alpha': 4.338471420725945e-06, 'reg_lambda': 8.732891188032764e-06, 'n_estimators': 81, 'min_split_gain': 0.6230414803834319, 'subsample_freq': 2, 'max_bin': 138, 'scale_pos_weight': 1.9087990852683205}. Best is trial 56 with value: 0.8966058616656392.\n"
     ]
    },
    {
     "name": "stdout",
     "output_type": "stream",
     "text": [
      "Trial 59 - Train AUC: 0.9463 | Validation AUC: 0.8952\n"
     ]
    },
    {
     "name": "stderr",
     "output_type": "stream",
     "text": [
      "/var/folders/ws/5628jcln1q1g_nmpns07dt_m0000gn/T/ipykernel_14057/3176874039.py:6: FutureWarning: suggest_loguniform has been deprecated in v3.0.0. This feature will be removed in v6.0.0. See https://github.com/optuna/optuna/releases/tag/v3.0.0. Use suggest_float(..., log=True) instead.\n",
      "  'learning_rate': trial.suggest_loguniform('learning_rate', 1e-3, 1e-1),\n",
      "/var/folders/ws/5628jcln1q1g_nmpns07dt_m0000gn/T/ipykernel_14057/3176874039.py:10: FutureWarning: suggest_loguniform has been deprecated in v3.0.0. This feature will be removed in v6.0.0. See https://github.com/optuna/optuna/releases/tag/v3.0.0. Use suggest_float(..., log=True) instead.\n",
      "  'min_child_weight': trial.suggest_loguniform('min_child_weight', 1e-3, 10.0),\n",
      "/var/folders/ws/5628jcln1q1g_nmpns07dt_m0000gn/T/ipykernel_14057/3176874039.py:13: FutureWarning: suggest_loguniform has been deprecated in v3.0.0. This feature will be removed in v6.0.0. See https://github.com/optuna/optuna/releases/tag/v3.0.0. Use suggest_float(..., log=True) instead.\n",
      "  'reg_alpha': trial.suggest_loguniform('reg_alpha', 1e-8, 10.0),\n",
      "/var/folders/ws/5628jcln1q1g_nmpns07dt_m0000gn/T/ipykernel_14057/3176874039.py:14: FutureWarning: suggest_loguniform has been deprecated in v3.0.0. This feature will be removed in v6.0.0. See https://github.com/optuna/optuna/releases/tag/v3.0.0. Use suggest_float(..., log=True) instead.\n",
      "  'reg_lambda': trial.suggest_loguniform('reg_lambda', 1e-8, 10.0),\n",
      "[I 2025-03-09 20:50:46,255] Trial 60 finished with value: 0.8928188678783432 and parameters: {'boosting_type': 'gbdt', 'learning_rate': 0.01192374019388485, 'num_leaves': 92, 'max_depth': 8, 'min_child_samples': 46, 'min_child_weight': 3.5004954282208356, 'subsample': 0.5630647899776895, 'colsample_bytree': 0.6492693976434739, 'reg_alpha': 1.1626366524929166e-08, 'reg_lambda': 6.039532485781746e-05, 'n_estimators': 54, 'min_split_gain': 0.25448310492578136, 'subsample_freq': 1, 'max_bin': 122, 'scale_pos_weight': 1.6451405316570835}. Best is trial 56 with value: 0.8966058616656392.\n"
     ]
    },
    {
     "name": "stdout",
     "output_type": "stream",
     "text": [
      "Trial 60 - Train AUC: 0.9222 | Validation AUC: 0.8928\n"
     ]
    },
    {
     "name": "stderr",
     "output_type": "stream",
     "text": [
      "/var/folders/ws/5628jcln1q1g_nmpns07dt_m0000gn/T/ipykernel_14057/3176874039.py:6: FutureWarning: suggest_loguniform has been deprecated in v3.0.0. This feature will be removed in v6.0.0. See https://github.com/optuna/optuna/releases/tag/v3.0.0. Use suggest_float(..., log=True) instead.\n",
      "  'learning_rate': trial.suggest_loguniform('learning_rate', 1e-3, 1e-1),\n",
      "/var/folders/ws/5628jcln1q1g_nmpns07dt_m0000gn/T/ipykernel_14057/3176874039.py:10: FutureWarning: suggest_loguniform has been deprecated in v3.0.0. This feature will be removed in v6.0.0. See https://github.com/optuna/optuna/releases/tag/v3.0.0. Use suggest_float(..., log=True) instead.\n",
      "  'min_child_weight': trial.suggest_loguniform('min_child_weight', 1e-3, 10.0),\n",
      "/var/folders/ws/5628jcln1q1g_nmpns07dt_m0000gn/T/ipykernel_14057/3176874039.py:13: FutureWarning: suggest_loguniform has been deprecated in v3.0.0. This feature will be removed in v6.0.0. See https://github.com/optuna/optuna/releases/tag/v3.0.0. Use suggest_float(..., log=True) instead.\n",
      "  'reg_alpha': trial.suggest_loguniform('reg_alpha', 1e-8, 10.0),\n",
      "/var/folders/ws/5628jcln1q1g_nmpns07dt_m0000gn/T/ipykernel_14057/3176874039.py:14: FutureWarning: suggest_loguniform has been deprecated in v3.0.0. This feature will be removed in v6.0.0. See https://github.com/optuna/optuna/releases/tag/v3.0.0. Use suggest_float(..., log=True) instead.\n",
      "  'reg_lambda': trial.suggest_loguniform('reg_lambda', 1e-8, 10.0),\n",
      "[I 2025-03-09 20:50:46,977] Trial 61 finished with value: 0.894570915899792 and parameters: {'boosting_type': 'gbdt', 'learning_rate': 0.032811261115192426, 'num_leaves': 74, 'max_depth': 10, 'min_child_samples': 65, 'min_child_weight': 9.918085343130304, 'subsample': 0.7566729367709983, 'colsample_bytree': 0.6145050403332872, 'reg_alpha': 2.470611668032147e-05, 'reg_lambda': 1.0649968297893658e-05, 'n_estimators': 81, 'min_split_gain': 0.5936575939284889, 'subsample_freq': 2, 'max_bin': 139, 'scale_pos_weight': 1.8920535312899693}. Best is trial 56 with value: 0.8966058616656392.\n"
     ]
    },
    {
     "name": "stdout",
     "output_type": "stream",
     "text": [
      "Trial 61 - Train AUC: 0.9460 | Validation AUC: 0.8946\n"
     ]
    },
    {
     "name": "stderr",
     "output_type": "stream",
     "text": [
      "/var/folders/ws/5628jcln1q1g_nmpns07dt_m0000gn/T/ipykernel_14057/3176874039.py:6: FutureWarning: suggest_loguniform has been deprecated in v3.0.0. This feature will be removed in v6.0.0. See https://github.com/optuna/optuna/releases/tag/v3.0.0. Use suggest_float(..., log=True) instead.\n",
      "  'learning_rate': trial.suggest_loguniform('learning_rate', 1e-3, 1e-1),\n",
      "/var/folders/ws/5628jcln1q1g_nmpns07dt_m0000gn/T/ipykernel_14057/3176874039.py:10: FutureWarning: suggest_loguniform has been deprecated in v3.0.0. This feature will be removed in v6.0.0. See https://github.com/optuna/optuna/releases/tag/v3.0.0. Use suggest_float(..., log=True) instead.\n",
      "  'min_child_weight': trial.suggest_loguniform('min_child_weight', 1e-3, 10.0),\n",
      "/var/folders/ws/5628jcln1q1g_nmpns07dt_m0000gn/T/ipykernel_14057/3176874039.py:13: FutureWarning: suggest_loguniform has been deprecated in v3.0.0. This feature will be removed in v6.0.0. See https://github.com/optuna/optuna/releases/tag/v3.0.0. Use suggest_float(..., log=True) instead.\n",
      "  'reg_alpha': trial.suggest_loguniform('reg_alpha', 1e-8, 10.0),\n",
      "/var/folders/ws/5628jcln1q1g_nmpns07dt_m0000gn/T/ipykernel_14057/3176874039.py:14: FutureWarning: suggest_loguniform has been deprecated in v3.0.0. This feature will be removed in v6.0.0. See https://github.com/optuna/optuna/releases/tag/v3.0.0. Use suggest_float(..., log=True) instead.\n",
      "  'reg_lambda': trial.suggest_loguniform('reg_lambda', 1e-8, 10.0),\n",
      "[I 2025-03-09 20:50:47,518] Trial 62 finished with value: 0.8938081002481116 and parameters: {'boosting_type': 'gbdt', 'learning_rate': 0.019506256358949935, 'num_leaves': 107, 'max_depth': 10, 'min_child_samples': 69, 'min_child_weight': 1.7593082621755252, 'subsample': 0.6836381857308134, 'colsample_bytree': 0.5321456526722461, 'reg_alpha': 1.173589759472934e-06, 'reg_lambda': 0.0005086584951930861, 'n_estimators': 70, 'min_split_gain': 0.5572016488837637, 'subsample_freq': 1, 'max_bin': 112, 'scale_pos_weight': 1.920098112945609}. Best is trial 56 with value: 0.8966058616656392.\n"
     ]
    },
    {
     "name": "stdout",
     "output_type": "stream",
     "text": [
      "Trial 62 - Train AUC: 0.9222 | Validation AUC: 0.8938\n"
     ]
    },
    {
     "name": "stderr",
     "output_type": "stream",
     "text": [
      "/var/folders/ws/5628jcln1q1g_nmpns07dt_m0000gn/T/ipykernel_14057/3176874039.py:6: FutureWarning: suggest_loguniform has been deprecated in v3.0.0. This feature will be removed in v6.0.0. See https://github.com/optuna/optuna/releases/tag/v3.0.0. Use suggest_float(..., log=True) instead.\n",
      "  'learning_rate': trial.suggest_loguniform('learning_rate', 1e-3, 1e-1),\n",
      "/var/folders/ws/5628jcln1q1g_nmpns07dt_m0000gn/T/ipykernel_14057/3176874039.py:10: FutureWarning: suggest_loguniform has been deprecated in v3.0.0. This feature will be removed in v6.0.0. See https://github.com/optuna/optuna/releases/tag/v3.0.0. Use suggest_float(..., log=True) instead.\n",
      "  'min_child_weight': trial.suggest_loguniform('min_child_weight', 1e-3, 10.0),\n",
      "/var/folders/ws/5628jcln1q1g_nmpns07dt_m0000gn/T/ipykernel_14057/3176874039.py:13: FutureWarning: suggest_loguniform has been deprecated in v3.0.0. This feature will be removed in v6.0.0. See https://github.com/optuna/optuna/releases/tag/v3.0.0. Use suggest_float(..., log=True) instead.\n",
      "  'reg_alpha': trial.suggest_loguniform('reg_alpha', 1e-8, 10.0),\n",
      "/var/folders/ws/5628jcln1q1g_nmpns07dt_m0000gn/T/ipykernel_14057/3176874039.py:14: FutureWarning: suggest_loguniform has been deprecated in v3.0.0. This feature will be removed in v6.0.0. See https://github.com/optuna/optuna/releases/tag/v3.0.0. Use suggest_float(..., log=True) instead.\n",
      "  'reg_lambda': trial.suggest_loguniform('reg_lambda', 1e-8, 10.0),\n",
      "[I 2025-03-09 20:50:48,282] Trial 63 finished with value: 0.8938038765788144 and parameters: {'boosting_type': 'gbdt', 'learning_rate': 0.04449689237323863, 'num_leaves': 65, 'max_depth': 9, 'min_child_samples': 56, 'min_child_weight': 1.5304038001902653, 'subsample': 0.6114363194772674, 'colsample_bytree': 0.5982718922877015, 'reg_alpha': 5.490682563792005e-06, 'reg_lambda': 3.5131105236254733e-06, 'n_estimators': 85, 'min_split_gain': 0.5125016701154597, 'subsample_freq': 2, 'max_bin': 110, 'scale_pos_weight': 1.572567230783754}. Best is trial 56 with value: 0.8966058616656392.\n"
     ]
    },
    {
     "name": "stdout",
     "output_type": "stream",
     "text": [
      "Trial 63 - Train AUC: 0.9588 | Validation AUC: 0.8938\n"
     ]
    },
    {
     "name": "stderr",
     "output_type": "stream",
     "text": [
      "/var/folders/ws/5628jcln1q1g_nmpns07dt_m0000gn/T/ipykernel_14057/3176874039.py:6: FutureWarning: suggest_loguniform has been deprecated in v3.0.0. This feature will be removed in v6.0.0. See https://github.com/optuna/optuna/releases/tag/v3.0.0. Use suggest_float(..., log=True) instead.\n",
      "  'learning_rate': trial.suggest_loguniform('learning_rate', 1e-3, 1e-1),\n",
      "/var/folders/ws/5628jcln1q1g_nmpns07dt_m0000gn/T/ipykernel_14057/3176874039.py:10: FutureWarning: suggest_loguniform has been deprecated in v3.0.0. This feature will be removed in v6.0.0. See https://github.com/optuna/optuna/releases/tag/v3.0.0. Use suggest_float(..., log=True) instead.\n",
      "  'min_child_weight': trial.suggest_loguniform('min_child_weight', 1e-3, 10.0),\n",
      "/var/folders/ws/5628jcln1q1g_nmpns07dt_m0000gn/T/ipykernel_14057/3176874039.py:13: FutureWarning: suggest_loguniform has been deprecated in v3.0.0. This feature will be removed in v6.0.0. See https://github.com/optuna/optuna/releases/tag/v3.0.0. Use suggest_float(..., log=True) instead.\n",
      "  'reg_alpha': trial.suggest_loguniform('reg_alpha', 1e-8, 10.0),\n",
      "/var/folders/ws/5628jcln1q1g_nmpns07dt_m0000gn/T/ipykernel_14057/3176874039.py:14: FutureWarning: suggest_loguniform has been deprecated in v3.0.0. This feature will be removed in v6.0.0. See https://github.com/optuna/optuna/releases/tag/v3.0.0. Use suggest_float(..., log=True) instead.\n",
      "  'reg_lambda': trial.suggest_loguniform('reg_lambda', 1e-8, 10.0),\n",
      "[I 2025-03-09 20:50:49,121] Trial 64 finished with value: 0.8932696202782127 and parameters: {'boosting_type': 'gbdt', 'learning_rate': 0.030825069643307362, 'num_leaves': 85, 'max_depth': 9, 'min_child_samples': 53, 'min_child_weight': 2.6004921398128804, 'subsample': 0.7146850162965236, 'colsample_bytree': 0.494311892763181, 'reg_alpha': 0.0001209200021203782, 'reg_lambda': 0.00012355043327497365, 'n_estimators': 88, 'min_split_gain': 0.6324719238500431, 'subsample_freq': 3, 'max_bin': 146, 'scale_pos_weight': 1.9892999652042072}. Best is trial 56 with value: 0.8966058616656392.\n"
     ]
    },
    {
     "name": "stdout",
     "output_type": "stream",
     "text": [
      "Trial 64 - Train AUC: 0.9495 | Validation AUC: 0.8933\n"
     ]
    },
    {
     "name": "stderr",
     "output_type": "stream",
     "text": [
      "/var/folders/ws/5628jcln1q1g_nmpns07dt_m0000gn/T/ipykernel_14057/3176874039.py:6: FutureWarning: suggest_loguniform has been deprecated in v3.0.0. This feature will be removed in v6.0.0. See https://github.com/optuna/optuna/releases/tag/v3.0.0. Use suggest_float(..., log=True) instead.\n",
      "  'learning_rate': trial.suggest_loguniform('learning_rate', 1e-3, 1e-1),\n",
      "/var/folders/ws/5628jcln1q1g_nmpns07dt_m0000gn/T/ipykernel_14057/3176874039.py:10: FutureWarning: suggest_loguniform has been deprecated in v3.0.0. This feature will be removed in v6.0.0. See https://github.com/optuna/optuna/releases/tag/v3.0.0. Use suggest_float(..., log=True) instead.\n",
      "  'min_child_weight': trial.suggest_loguniform('min_child_weight', 1e-3, 10.0),\n",
      "/var/folders/ws/5628jcln1q1g_nmpns07dt_m0000gn/T/ipykernel_14057/3176874039.py:13: FutureWarning: suggest_loguniform has been deprecated in v3.0.0. This feature will be removed in v6.0.0. See https://github.com/optuna/optuna/releases/tag/v3.0.0. Use suggest_float(..., log=True) instead.\n",
      "  'reg_alpha': trial.suggest_loguniform('reg_alpha', 1e-8, 10.0),\n",
      "/var/folders/ws/5628jcln1q1g_nmpns07dt_m0000gn/T/ipykernel_14057/3176874039.py:14: FutureWarning: suggest_loguniform has been deprecated in v3.0.0. This feature will be removed in v6.0.0. See https://github.com/optuna/optuna/releases/tag/v3.0.0. Use suggest_float(..., log=True) instead.\n",
      "  'reg_lambda': trial.suggest_loguniform('reg_lambda', 1e-8, 10.0),\n",
      "[I 2025-03-09 20:50:49,762] Trial 65 finished with value: 0.8942713212782442 and parameters: {'boosting_type': 'gbdt', 'learning_rate': 0.02187031364727899, 'num_leaves': 125, 'max_depth': 8, 'min_child_samples': 63, 'min_child_weight': 0.8458544092639779, 'subsample': 0.8462713495039292, 'colsample_bytree': 0.6398525348556046, 'reg_alpha': 0.0014038889122121286, 'reg_lambda': 6.764021329269583e-06, 'n_estimators': 77, 'min_split_gain': 0.8688264101830776, 'subsample_freq': 2, 'max_bin': 134, 'scale_pos_weight': 1.7639872227291433}. Best is trial 56 with value: 0.8966058616656392.\n"
     ]
    },
    {
     "name": "stdout",
     "output_type": "stream",
     "text": [
      "Trial 65 - Train AUC: 0.9353 | Validation AUC: 0.8943\n"
     ]
    },
    {
     "name": "stderr",
     "output_type": "stream",
     "text": [
      "/var/folders/ws/5628jcln1q1g_nmpns07dt_m0000gn/T/ipykernel_14057/3176874039.py:6: FutureWarning: suggest_loguniform has been deprecated in v3.0.0. This feature will be removed in v6.0.0. See https://github.com/optuna/optuna/releases/tag/v3.0.0. Use suggest_float(..., log=True) instead.\n",
      "  'learning_rate': trial.suggest_loguniform('learning_rate', 1e-3, 1e-1),\n",
      "/var/folders/ws/5628jcln1q1g_nmpns07dt_m0000gn/T/ipykernel_14057/3176874039.py:10: FutureWarning: suggest_loguniform has been deprecated in v3.0.0. This feature will be removed in v6.0.0. See https://github.com/optuna/optuna/releases/tag/v3.0.0. Use suggest_float(..., log=True) instead.\n",
      "  'min_child_weight': trial.suggest_loguniform('min_child_weight', 1e-3, 10.0),\n",
      "/var/folders/ws/5628jcln1q1g_nmpns07dt_m0000gn/T/ipykernel_14057/3176874039.py:13: FutureWarning: suggest_loguniform has been deprecated in v3.0.0. This feature will be removed in v6.0.0. See https://github.com/optuna/optuna/releases/tag/v3.0.0. Use suggest_float(..., log=True) instead.\n",
      "  'reg_alpha': trial.suggest_loguniform('reg_alpha', 1e-8, 10.0),\n",
      "/var/folders/ws/5628jcln1q1g_nmpns07dt_m0000gn/T/ipykernel_14057/3176874039.py:14: FutureWarning: suggest_loguniform has been deprecated in v3.0.0. This feature will be removed in v6.0.0. See https://github.com/optuna/optuna/releases/tag/v3.0.0. Use suggest_float(..., log=True) instead.\n",
      "  'reg_lambda': trial.suggest_loguniform('reg_lambda', 1e-8, 10.0),\n",
      "[I 2025-03-09 20:50:50,746] Trial 66 finished with value: 0.8939533170384006 and parameters: {'boosting_type': 'gbdt', 'learning_rate': 0.02618321109371662, 'num_leaves': 173, 'max_depth': 11, 'min_child_samples': 71, 'min_child_weight': 0.360877862189505, 'subsample': 0.749581305982878, 'colsample_bytree': 0.6170915430774202, 'reg_alpha': 1.4193537654039235e-07, 'reg_lambda': 2.2238745493223142e-05, 'n_estimators': 93, 'min_split_gain': 0.4385244374405075, 'subsample_freq': 0, 'max_bin': 121, 'scale_pos_weight': 1.8118391630530766}. Best is trial 56 with value: 0.8966058616656392.\n"
     ]
    },
    {
     "name": "stdout",
     "output_type": "stream",
     "text": [
      "Trial 66 - Train AUC: 0.9572 | Validation AUC: 0.8940\n"
     ]
    },
    {
     "name": "stderr",
     "output_type": "stream",
     "text": [
      "/var/folders/ws/5628jcln1q1g_nmpns07dt_m0000gn/T/ipykernel_14057/3176874039.py:6: FutureWarning: suggest_loguniform has been deprecated in v3.0.0. This feature will be removed in v6.0.0. See https://github.com/optuna/optuna/releases/tag/v3.0.0. Use suggest_float(..., log=True) instead.\n",
      "  'learning_rate': trial.suggest_loguniform('learning_rate', 1e-3, 1e-1),\n",
      "/var/folders/ws/5628jcln1q1g_nmpns07dt_m0000gn/T/ipykernel_14057/3176874039.py:10: FutureWarning: suggest_loguniform has been deprecated in v3.0.0. This feature will be removed in v6.0.0. See https://github.com/optuna/optuna/releases/tag/v3.0.0. Use suggest_float(..., log=True) instead.\n",
      "  'min_child_weight': trial.suggest_loguniform('min_child_weight', 1e-3, 10.0),\n",
      "/var/folders/ws/5628jcln1q1g_nmpns07dt_m0000gn/T/ipykernel_14057/3176874039.py:13: FutureWarning: suggest_loguniform has been deprecated in v3.0.0. This feature will be removed in v6.0.0. See https://github.com/optuna/optuna/releases/tag/v3.0.0. Use suggest_float(..., log=True) instead.\n",
      "  'reg_alpha': trial.suggest_loguniform('reg_alpha', 1e-8, 10.0),\n",
      "/var/folders/ws/5628jcln1q1g_nmpns07dt_m0000gn/T/ipykernel_14057/3176874039.py:14: FutureWarning: suggest_loguniform has been deprecated in v3.0.0. This feature will be removed in v6.0.0. See https://github.com/optuna/optuna/releases/tag/v3.0.0. Use suggest_float(..., log=True) instead.\n",
      "  'reg_lambda': trial.suggest_loguniform('reg_lambda', 1e-8, 10.0),\n",
      "[I 2025-03-09 20:50:51,362] Trial 67 finished with value: 0.8918573006107339 and parameters: {'boosting_type': 'gbdt', 'learning_rate': 0.015036071220768782, 'num_leaves': 52, 'max_depth': 7, 'min_child_samples': 60, 'min_child_weight': 4.291372894448444, 'subsample': 0.7783035239163119, 'colsample_bytree': 0.693988994698955, 'reg_alpha': 3.213659358984597e-05, 'reg_lambda': 1.519846066424717e-06, 'n_estimators': 74, 'min_split_gain': 0.8046091820028778, 'subsample_freq': 1, 'max_bin': 152, 'scale_pos_weight': 1.4847615275556876}. Best is trial 56 with value: 0.8966058616656392.\n"
     ]
    },
    {
     "name": "stdout",
     "output_type": "stream",
     "text": [
      "Trial 67 - Train AUC: 0.9277 | Validation AUC: 0.8919\n"
     ]
    },
    {
     "name": "stderr",
     "output_type": "stream",
     "text": [
      "/var/folders/ws/5628jcln1q1g_nmpns07dt_m0000gn/T/ipykernel_14057/3176874039.py:6: FutureWarning: suggest_loguniform has been deprecated in v3.0.0. This feature will be removed in v6.0.0. See https://github.com/optuna/optuna/releases/tag/v3.0.0. Use suggest_float(..., log=True) instead.\n",
      "  'learning_rate': trial.suggest_loguniform('learning_rate', 1e-3, 1e-1),\n",
      "/var/folders/ws/5628jcln1q1g_nmpns07dt_m0000gn/T/ipykernel_14057/3176874039.py:10: FutureWarning: suggest_loguniform has been deprecated in v3.0.0. This feature will be removed in v6.0.0. See https://github.com/optuna/optuna/releases/tag/v3.0.0. Use suggest_float(..., log=True) instead.\n",
      "  'min_child_weight': trial.suggest_loguniform('min_child_weight', 1e-3, 10.0),\n",
      "/var/folders/ws/5628jcln1q1g_nmpns07dt_m0000gn/T/ipykernel_14057/3176874039.py:13: FutureWarning: suggest_loguniform has been deprecated in v3.0.0. This feature will be removed in v6.0.0. See https://github.com/optuna/optuna/releases/tag/v3.0.0. Use suggest_float(..., log=True) instead.\n",
      "  'reg_alpha': trial.suggest_loguniform('reg_alpha', 1e-8, 10.0),\n",
      "/var/folders/ws/5628jcln1q1g_nmpns07dt_m0000gn/T/ipykernel_14057/3176874039.py:14: FutureWarning: suggest_loguniform has been deprecated in v3.0.0. This feature will be removed in v6.0.0. See https://github.com/optuna/optuna/releases/tag/v3.0.0. Use suggest_float(..., log=True) instead.\n",
      "  'reg_lambda': trial.suggest_loguniform('reg_lambda', 1e-8, 10.0),\n",
      "[I 2025-03-09 20:50:52,146] Trial 68 finished with value: 0.8946878722603973 and parameters: {'boosting_type': 'gbdt', 'learning_rate': 0.017914455130398, 'num_leaves': 137, 'max_depth': 10, 'min_child_samples': 41, 'min_child_weight': 0.54831719081696, 'subsample': 0.6927590605667995, 'colsample_bytree': 0.5819988272486738, 'reg_alpha': 0.00042461795081411827, 'reg_lambda': 1.7225819291112895e-07, 'n_estimators': 68, 'min_split_gain': 0.48283471396238076, 'subsample_freq': 3, 'max_bin': 190, 'scale_pos_weight': 1.387298638319198}. Best is trial 56 with value: 0.8966058616656392.\n"
     ]
    },
    {
     "name": "stdout",
     "output_type": "stream",
     "text": [
      "Trial 68 - Train AUC: 0.9376 | Validation AUC: 0.8947\n"
     ]
    },
    {
     "name": "stderr",
     "output_type": "stream",
     "text": [
      "/var/folders/ws/5628jcln1q1g_nmpns07dt_m0000gn/T/ipykernel_14057/3176874039.py:6: FutureWarning: suggest_loguniform has been deprecated in v3.0.0. This feature will be removed in v6.0.0. See https://github.com/optuna/optuna/releases/tag/v3.0.0. Use suggest_float(..., log=True) instead.\n",
      "  'learning_rate': trial.suggest_loguniform('learning_rate', 1e-3, 1e-1),\n",
      "/var/folders/ws/5628jcln1q1g_nmpns07dt_m0000gn/T/ipykernel_14057/3176874039.py:10: FutureWarning: suggest_loguniform has been deprecated in v3.0.0. This feature will be removed in v6.0.0. See https://github.com/optuna/optuna/releases/tag/v3.0.0. Use suggest_float(..., log=True) instead.\n",
      "  'min_child_weight': trial.suggest_loguniform('min_child_weight', 1e-3, 10.0),\n",
      "/var/folders/ws/5628jcln1q1g_nmpns07dt_m0000gn/T/ipykernel_14057/3176874039.py:13: FutureWarning: suggest_loguniform has been deprecated in v3.0.0. This feature will be removed in v6.0.0. See https://github.com/optuna/optuna/releases/tag/v3.0.0. Use suggest_float(..., log=True) instead.\n",
      "  'reg_alpha': trial.suggest_loguniform('reg_alpha', 1e-8, 10.0),\n",
      "/var/folders/ws/5628jcln1q1g_nmpns07dt_m0000gn/T/ipykernel_14057/3176874039.py:14: FutureWarning: suggest_loguniform has been deprecated in v3.0.0. This feature will be removed in v6.0.0. See https://github.com/optuna/optuna/releases/tag/v3.0.0. Use suggest_float(..., log=True) instead.\n",
      "  'reg_lambda': trial.suggest_loguniform('reg_lambda', 1e-8, 10.0),\n",
      "[I 2025-03-09 20:50:52,595] Trial 69 finished with value: 0.8921158207651203 and parameters: {'boosting_type': 'gbdt', 'learning_rate': 0.028970347774362328, 'num_leaves': 80, 'max_depth': 4, 'min_child_samples': 87, 'min_child_weight': 0.006806946368206965, 'subsample': 0.6602799684703348, 'colsample_bytree': 0.43803523455431864, 'reg_alpha': 1.142494759489091e-05, 'reg_lambda': 4.4068654327687e-05, 'n_estimators': 80, 'min_split_gain': 0.048341447129019444, 'subsample_freq': 4, 'max_bin': 208, 'scale_pos_weight': 1.7027675332135985}. Best is trial 56 with value: 0.8966058616656392.\n"
     ]
    },
    {
     "name": "stdout",
     "output_type": "stream",
     "text": [
      "Trial 69 - Train AUC: 0.9256 | Validation AUC: 0.8921\n"
     ]
    },
    {
     "name": "stderr",
     "output_type": "stream",
     "text": [
      "/var/folders/ws/5628jcln1q1g_nmpns07dt_m0000gn/T/ipykernel_14057/3176874039.py:6: FutureWarning: suggest_loguniform has been deprecated in v3.0.0. This feature will be removed in v6.0.0. See https://github.com/optuna/optuna/releases/tag/v3.0.0. Use suggest_float(..., log=True) instead.\n",
      "  'learning_rate': trial.suggest_loguniform('learning_rate', 1e-3, 1e-1),\n",
      "/var/folders/ws/5628jcln1q1g_nmpns07dt_m0000gn/T/ipykernel_14057/3176874039.py:10: FutureWarning: suggest_loguniform has been deprecated in v3.0.0. This feature will be removed in v6.0.0. See https://github.com/optuna/optuna/releases/tag/v3.0.0. Use suggest_float(..., log=True) instead.\n",
      "  'min_child_weight': trial.suggest_loguniform('min_child_weight', 1e-3, 10.0),\n",
      "/var/folders/ws/5628jcln1q1g_nmpns07dt_m0000gn/T/ipykernel_14057/3176874039.py:13: FutureWarning: suggest_loguniform has been deprecated in v3.0.0. This feature will be removed in v6.0.0. See https://github.com/optuna/optuna/releases/tag/v3.0.0. Use suggest_float(..., log=True) instead.\n",
      "  'reg_alpha': trial.suggest_loguniform('reg_alpha', 1e-8, 10.0),\n",
      "/var/folders/ws/5628jcln1q1g_nmpns07dt_m0000gn/T/ipykernel_14057/3176874039.py:14: FutureWarning: suggest_loguniform has been deprecated in v3.0.0. This feature will be removed in v6.0.0. See https://github.com/optuna/optuna/releases/tag/v3.0.0. Use suggest_float(..., log=True) instead.\n",
      "  'reg_lambda': trial.suggest_loguniform('reg_lambda', 1e-8, 10.0),\n",
      "[I 2025-03-09 20:50:53,488] Trial 70 finished with value: 0.8887765410630794 and parameters: {'boosting_type': 'gbdt', 'learning_rate': 0.045586132055657105, 'num_leaves': 260, 'max_depth': 9, 'min_child_samples': 61, 'min_child_weight': 1.314485897727118, 'subsample': 0.8241182054213847, 'colsample_bytree': 0.6632675189357145, 'reg_alpha': 3.2714706901419356e-08, 'reg_lambda': 4.6847182392935847e-07, 'n_estimators': 98, 'min_split_gain': 0.9505932704255812, 'subsample_freq': 2, 'max_bin': 104, 'scale_pos_weight': 1.6398468507999215}. Best is trial 56 with value: 0.8966058616656392.\n"
     ]
    },
    {
     "name": "stdout",
     "output_type": "stream",
     "text": [
      "Trial 70 - Train AUC: 0.9786 | Validation AUC: 0.8888\n"
     ]
    },
    {
     "name": "stderr",
     "output_type": "stream",
     "text": [
      "/var/folders/ws/5628jcln1q1g_nmpns07dt_m0000gn/T/ipykernel_14057/3176874039.py:6: FutureWarning: suggest_loguniform has been deprecated in v3.0.0. This feature will be removed in v6.0.0. See https://github.com/optuna/optuna/releases/tag/v3.0.0. Use suggest_float(..., log=True) instead.\n",
      "  'learning_rate': trial.suggest_loguniform('learning_rate', 1e-3, 1e-1),\n",
      "/var/folders/ws/5628jcln1q1g_nmpns07dt_m0000gn/T/ipykernel_14057/3176874039.py:10: FutureWarning: suggest_loguniform has been deprecated in v3.0.0. This feature will be removed in v6.0.0. See https://github.com/optuna/optuna/releases/tag/v3.0.0. Use suggest_float(..., log=True) instead.\n",
      "  'min_child_weight': trial.suggest_loguniform('min_child_weight', 1e-3, 10.0),\n",
      "/var/folders/ws/5628jcln1q1g_nmpns07dt_m0000gn/T/ipykernel_14057/3176874039.py:13: FutureWarning: suggest_loguniform has been deprecated in v3.0.0. This feature will be removed in v6.0.0. See https://github.com/optuna/optuna/releases/tag/v3.0.0. Use suggest_float(..., log=True) instead.\n",
      "  'reg_alpha': trial.suggest_loguniform('reg_alpha', 1e-8, 10.0),\n",
      "/var/folders/ws/5628jcln1q1g_nmpns07dt_m0000gn/T/ipykernel_14057/3176874039.py:14: FutureWarning: suggest_loguniform has been deprecated in v3.0.0. This feature will be removed in v6.0.0. See https://github.com/optuna/optuna/releases/tag/v3.0.0. Use suggest_float(..., log=True) instead.\n",
      "  'reg_lambda': trial.suggest_loguniform('reg_lambda', 1e-8, 10.0),\n",
      "[I 2025-03-09 20:50:55,130] Trial 71 finished with value: 0.8933279439849562 and parameters: {'boosting_type': 'dart', 'learning_rate': 0.07749626574465744, 'num_leaves': 283, 'max_depth': 6, 'min_child_samples': 14, 'min_child_weight': 0.8268205630980393, 'subsample': 0.7302121043126384, 'colsample_bytree': 0.46921585916208036, 'reg_alpha': 0.0001989539766291142, 'reg_lambda': 2.9851462666015767e-06, 'n_estimators': 111, 'min_split_gain': 0.24853355568490643, 'subsample_freq': 9, 'max_bin': 178, 'scale_pos_weight': 1.34692766540956}. Best is trial 56 with value: 0.8966058616656392.\n"
     ]
    },
    {
     "name": "stdout",
     "output_type": "stream",
     "text": [
      "Trial 71 - Train AUC: 0.9838 | Validation AUC: 0.8933\n"
     ]
    },
    {
     "name": "stderr",
     "output_type": "stream",
     "text": [
      "/var/folders/ws/5628jcln1q1g_nmpns07dt_m0000gn/T/ipykernel_14057/3176874039.py:6: FutureWarning: suggest_loguniform has been deprecated in v3.0.0. This feature will be removed in v6.0.0. See https://github.com/optuna/optuna/releases/tag/v3.0.0. Use suggest_float(..., log=True) instead.\n",
      "  'learning_rate': trial.suggest_loguniform('learning_rate', 1e-3, 1e-1),\n",
      "/var/folders/ws/5628jcln1q1g_nmpns07dt_m0000gn/T/ipykernel_14057/3176874039.py:10: FutureWarning: suggest_loguniform has been deprecated in v3.0.0. This feature will be removed in v6.0.0. See https://github.com/optuna/optuna/releases/tag/v3.0.0. Use suggest_float(..., log=True) instead.\n",
      "  'min_child_weight': trial.suggest_loguniform('min_child_weight', 1e-3, 10.0),\n",
      "/var/folders/ws/5628jcln1q1g_nmpns07dt_m0000gn/T/ipykernel_14057/3176874039.py:13: FutureWarning: suggest_loguniform has been deprecated in v3.0.0. This feature will be removed in v6.0.0. See https://github.com/optuna/optuna/releases/tag/v3.0.0. Use suggest_float(..., log=True) instead.\n",
      "  'reg_alpha': trial.suggest_loguniform('reg_alpha', 1e-8, 10.0),\n",
      "/var/folders/ws/5628jcln1q1g_nmpns07dt_m0000gn/T/ipykernel_14057/3176874039.py:14: FutureWarning: suggest_loguniform has been deprecated in v3.0.0. This feature will be removed in v6.0.0. See https://github.com/optuna/optuna/releases/tag/v3.0.0. Use suggest_float(..., log=True) instead.\n",
      "  'reg_lambda': trial.suggest_loguniform('reg_lambda', 1e-8, 10.0),\n",
      "[I 2025-03-09 20:50:56,575] Trial 72 finished with value: 0.8959817199033868 and parameters: {'boosting_type': 'dart', 'learning_rate': 0.03941893410781396, 'num_leaves': 277, 'max_depth': 5, 'min_child_samples': 20, 'min_child_weight': 0.41804281177642283, 'subsample': 0.79054018549981, 'colsample_bytree': 0.54737095459962, 'reg_alpha': 0.0010596810234006452, 'reg_lambda': 1.7251179695895102e-07, 'n_estimators': 124, 'min_split_gain': 0.3099264237662559, 'subsample_freq': 6, 'max_bin': 164, 'scale_pos_weight': 1.858552671122412}. Best is trial 56 with value: 0.8966058616656392.\n"
     ]
    },
    {
     "name": "stdout",
     "output_type": "stream",
     "text": [
      "Trial 72 - Train AUC: 0.9454 | Validation AUC: 0.8960\n"
     ]
    },
    {
     "name": "stderr",
     "output_type": "stream",
     "text": [
      "/var/folders/ws/5628jcln1q1g_nmpns07dt_m0000gn/T/ipykernel_14057/3176874039.py:6: FutureWarning: suggest_loguniform has been deprecated in v3.0.0. This feature will be removed in v6.0.0. See https://github.com/optuna/optuna/releases/tag/v3.0.0. Use suggest_float(..., log=True) instead.\n",
      "  'learning_rate': trial.suggest_loguniform('learning_rate', 1e-3, 1e-1),\n",
      "/var/folders/ws/5628jcln1q1g_nmpns07dt_m0000gn/T/ipykernel_14057/3176874039.py:10: FutureWarning: suggest_loguniform has been deprecated in v3.0.0. This feature will be removed in v6.0.0. See https://github.com/optuna/optuna/releases/tag/v3.0.0. Use suggest_float(..., log=True) instead.\n",
      "  'min_child_weight': trial.suggest_loguniform('min_child_weight', 1e-3, 10.0),\n",
      "/var/folders/ws/5628jcln1q1g_nmpns07dt_m0000gn/T/ipykernel_14057/3176874039.py:13: FutureWarning: suggest_loguniform has been deprecated in v3.0.0. This feature will be removed in v6.0.0. See https://github.com/optuna/optuna/releases/tag/v3.0.0. Use suggest_float(..., log=True) instead.\n",
      "  'reg_alpha': trial.suggest_loguniform('reg_alpha', 1e-8, 10.0),\n",
      "/var/folders/ws/5628jcln1q1g_nmpns07dt_m0000gn/T/ipykernel_14057/3176874039.py:14: FutureWarning: suggest_loguniform has been deprecated in v3.0.0. This feature will be removed in v6.0.0. See https://github.com/optuna/optuna/releases/tag/v3.0.0. Use suggest_float(..., log=True) instead.\n",
      "  'reg_lambda': trial.suggest_loguniform('reg_lambda', 1e-8, 10.0),\n",
      "[I 2025-03-09 20:50:57,988] Trial 73 finished with value: 0.894906873123329 and parameters: {'boosting_type': 'dart', 'learning_rate': 0.0380772761526585, 'num_leaves': 298, 'max_depth': 5, 'min_child_samples': 20, 'min_child_weight': 0.43133533581094924, 'subsample': 0.7932936805146087, 'colsample_bytree': 0.5477195846333005, 'reg_alpha': 0.000796004752685562, 'reg_lambda': 7.360455755268484e-07, 'n_estimators': 124, 'min_split_gain': 0.28990782937028053, 'subsample_freq': 6, 'max_bin': 163, 'scale_pos_weight': 1.8454439432444132}. Best is trial 56 with value: 0.8966058616656392.\n"
     ]
    },
    {
     "name": "stdout",
     "output_type": "stream",
     "text": [
      "Trial 73 - Train AUC: 0.9448 | Validation AUC: 0.8949\n"
     ]
    },
    {
     "name": "stderr",
     "output_type": "stream",
     "text": [
      "/var/folders/ws/5628jcln1q1g_nmpns07dt_m0000gn/T/ipykernel_14057/3176874039.py:6: FutureWarning: suggest_loguniform has been deprecated in v3.0.0. This feature will be removed in v6.0.0. See https://github.com/optuna/optuna/releases/tag/v3.0.0. Use suggest_float(..., log=True) instead.\n",
      "  'learning_rate': trial.suggest_loguniform('learning_rate', 1e-3, 1e-1),\n",
      "/var/folders/ws/5628jcln1q1g_nmpns07dt_m0000gn/T/ipykernel_14057/3176874039.py:10: FutureWarning: suggest_loguniform has been deprecated in v3.0.0. This feature will be removed in v6.0.0. See https://github.com/optuna/optuna/releases/tag/v3.0.0. Use suggest_float(..., log=True) instead.\n",
      "  'min_child_weight': trial.suggest_loguniform('min_child_weight', 1e-3, 10.0),\n",
      "/var/folders/ws/5628jcln1q1g_nmpns07dt_m0000gn/T/ipykernel_14057/3176874039.py:13: FutureWarning: suggest_loguniform has been deprecated in v3.0.0. This feature will be removed in v6.0.0. See https://github.com/optuna/optuna/releases/tag/v3.0.0. Use suggest_float(..., log=True) instead.\n",
      "  'reg_alpha': trial.suggest_loguniform('reg_alpha', 1e-8, 10.0),\n",
      "/var/folders/ws/5628jcln1q1g_nmpns07dt_m0000gn/T/ipykernel_14057/3176874039.py:14: FutureWarning: suggest_loguniform has been deprecated in v3.0.0. This feature will be removed in v6.0.0. See https://github.com/optuna/optuna/releases/tag/v3.0.0. Use suggest_float(..., log=True) instead.\n",
      "  'reg_lambda': trial.suggest_loguniform('reg_lambda', 1e-8, 10.0),\n",
      "[I 2025-03-09 20:50:59,044] Trial 74 finished with value: 0.8955328035986468 and parameters: {'boosting_type': 'dart', 'learning_rate': 0.04973874281479854, 'num_leaves': 282, 'max_depth': 5, 'min_child_samples': 51, 'min_child_weight': 0.1797270610814387, 'subsample': 0.8068783101138324, 'colsample_bytree': 0.5288524054172242, 'reg_alpha': 0.022404851694607122, 'reg_lambda': 2.1806418025927414e-07, 'n_estimators': 118, 'min_split_gain': 0.19014770372608092, 'subsample_freq': 7, 'max_bin': 114, 'scale_pos_weight': 1.9048747009740394}. Best is trial 56 with value: 0.8966058616656392.\n"
     ]
    },
    {
     "name": "stdout",
     "output_type": "stream",
     "text": [
      "Trial 74 - Train AUC: 0.9369 | Validation AUC: 0.8955\n"
     ]
    },
    {
     "name": "stderr",
     "output_type": "stream",
     "text": [
      "/var/folders/ws/5628jcln1q1g_nmpns07dt_m0000gn/T/ipykernel_14057/3176874039.py:6: FutureWarning: suggest_loguniform has been deprecated in v3.0.0. This feature will be removed in v6.0.0. See https://github.com/optuna/optuna/releases/tag/v3.0.0. Use suggest_float(..., log=True) instead.\n",
      "  'learning_rate': trial.suggest_loguniform('learning_rate', 1e-3, 1e-1),\n",
      "/var/folders/ws/5628jcln1q1g_nmpns07dt_m0000gn/T/ipykernel_14057/3176874039.py:10: FutureWarning: suggest_loguniform has been deprecated in v3.0.0. This feature will be removed in v6.0.0. See https://github.com/optuna/optuna/releases/tag/v3.0.0. Use suggest_float(..., log=True) instead.\n",
      "  'min_child_weight': trial.suggest_loguniform('min_child_weight', 1e-3, 10.0),\n",
      "/var/folders/ws/5628jcln1q1g_nmpns07dt_m0000gn/T/ipykernel_14057/3176874039.py:13: FutureWarning: suggest_loguniform has been deprecated in v3.0.0. This feature will be removed in v6.0.0. See https://github.com/optuna/optuna/releases/tag/v3.0.0. Use suggest_float(..., log=True) instead.\n",
      "  'reg_alpha': trial.suggest_loguniform('reg_alpha', 1e-8, 10.0),\n",
      "/var/folders/ws/5628jcln1q1g_nmpns07dt_m0000gn/T/ipykernel_14057/3176874039.py:14: FutureWarning: suggest_loguniform has been deprecated in v3.0.0. This feature will be removed in v6.0.0. See https://github.com/optuna/optuna/releases/tag/v3.0.0. Use suggest_float(..., log=True) instead.\n",
      "  'reg_lambda': trial.suggest_loguniform('reg_lambda', 1e-8, 10.0),\n",
      "[I 2025-03-09 20:51:00,121] Trial 75 finished with value: 0.8959974712272819 and parameters: {'boosting_type': 'dart', 'learning_rate': 0.05733858330955136, 'num_leaves': 276, 'max_depth': 5, 'min_child_samples': 50, 'min_child_weight': 0.18683221331286576, 'subsample': 0.8614130426670612, 'colsample_bytree': 0.5364460024209585, 'reg_alpha': 0.023024265876104955, 'reg_lambda': 2.452631716842955e-07, 'n_estimators': 117, 'min_split_gain': 0.3294603562047993, 'subsample_freq': 7, 'max_bin': 114, 'scale_pos_weight': 1.9450723814320117}. Best is trial 56 with value: 0.8966058616656392.\n"
     ]
    },
    {
     "name": "stdout",
     "output_type": "stream",
     "text": [
      "Trial 75 - Train AUC: 0.9440 | Validation AUC: 0.8960\n"
     ]
    },
    {
     "name": "stderr",
     "output_type": "stream",
     "text": [
      "/var/folders/ws/5628jcln1q1g_nmpns07dt_m0000gn/T/ipykernel_14057/3176874039.py:6: FutureWarning: suggest_loguniform has been deprecated in v3.0.0. This feature will be removed in v6.0.0. See https://github.com/optuna/optuna/releases/tag/v3.0.0. Use suggest_float(..., log=True) instead.\n",
      "  'learning_rate': trial.suggest_loguniform('learning_rate', 1e-3, 1e-1),\n",
      "/var/folders/ws/5628jcln1q1g_nmpns07dt_m0000gn/T/ipykernel_14057/3176874039.py:10: FutureWarning: suggest_loguniform has been deprecated in v3.0.0. This feature will be removed in v6.0.0. See https://github.com/optuna/optuna/releases/tag/v3.0.0. Use suggest_float(..., log=True) instead.\n",
      "  'min_child_weight': trial.suggest_loguniform('min_child_weight', 1e-3, 10.0),\n",
      "/var/folders/ws/5628jcln1q1g_nmpns07dt_m0000gn/T/ipykernel_14057/3176874039.py:13: FutureWarning: suggest_loguniform has been deprecated in v3.0.0. This feature will be removed in v6.0.0. See https://github.com/optuna/optuna/releases/tag/v3.0.0. Use suggest_float(..., log=True) instead.\n",
      "  'reg_alpha': trial.suggest_loguniform('reg_alpha', 1e-8, 10.0),\n",
      "/var/folders/ws/5628jcln1q1g_nmpns07dt_m0000gn/T/ipykernel_14057/3176874039.py:14: FutureWarning: suggest_loguniform has been deprecated in v3.0.0. This feature will be removed in v6.0.0. See https://github.com/optuna/optuna/releases/tag/v3.0.0. Use suggest_float(..., log=True) instead.\n",
      "  'reg_lambda': trial.suggest_loguniform('reg_lambda', 1e-8, 10.0),\n",
      "[I 2025-03-09 20:51:01,203] Trial 76 finished with value: 0.8947626427633629 and parameters: {'boosting_type': 'dart', 'learning_rate': 0.05034342855392481, 'num_leaves': 277, 'max_depth': 5, 'min_child_samples': 51, 'min_child_weight': 0.11029749786564513, 'subsample': 0.855060734295017, 'colsample_bytree': 0.503414980118966, 'reg_alpha': 0.02085496167509344, 'reg_lambda': 1.2670204499108177e-07, 'n_estimators': 117, 'min_split_gain': 0.3193450298487007, 'subsample_freq': 7, 'max_bin': 115, 'scale_pos_weight': 1.938789568586296}. Best is trial 56 with value: 0.8966058616656392.\n"
     ]
    },
    {
     "name": "stdout",
     "output_type": "stream",
     "text": [
      "Trial 76 - Train AUC: 0.9380 | Validation AUC: 0.8948\n"
     ]
    },
    {
     "name": "stderr",
     "output_type": "stream",
     "text": [
      "/var/folders/ws/5628jcln1q1g_nmpns07dt_m0000gn/T/ipykernel_14057/3176874039.py:6: FutureWarning: suggest_loguniform has been deprecated in v3.0.0. This feature will be removed in v6.0.0. See https://github.com/optuna/optuna/releases/tag/v3.0.0. Use suggest_float(..., log=True) instead.\n",
      "  'learning_rate': trial.suggest_loguniform('learning_rate', 1e-3, 1e-1),\n",
      "/var/folders/ws/5628jcln1q1g_nmpns07dt_m0000gn/T/ipykernel_14057/3176874039.py:10: FutureWarning: suggest_loguniform has been deprecated in v3.0.0. This feature will be removed in v6.0.0. See https://github.com/optuna/optuna/releases/tag/v3.0.0. Use suggest_float(..., log=True) instead.\n",
      "  'min_child_weight': trial.suggest_loguniform('min_child_weight', 1e-3, 10.0),\n",
      "/var/folders/ws/5628jcln1q1g_nmpns07dt_m0000gn/T/ipykernel_14057/3176874039.py:13: FutureWarning: suggest_loguniform has been deprecated in v3.0.0. This feature will be removed in v6.0.0. See https://github.com/optuna/optuna/releases/tag/v3.0.0. Use suggest_float(..., log=True) instead.\n",
      "  'reg_alpha': trial.suggest_loguniform('reg_alpha', 1e-8, 10.0),\n",
      "/var/folders/ws/5628jcln1q1g_nmpns07dt_m0000gn/T/ipykernel_14057/3176874039.py:14: FutureWarning: suggest_loguniform has been deprecated in v3.0.0. This feature will be removed in v6.0.0. See https://github.com/optuna/optuna/releases/tag/v3.0.0. Use suggest_float(..., log=True) instead.\n",
      "  'reg_lambda': trial.suggest_loguniform('reg_lambda', 1e-8, 10.0),\n",
      "[I 2025-03-09 20:51:02,090] Trial 77 finished with value: 0.8953912710449042 and parameters: {'boosting_type': 'dart', 'learning_rate': 0.05643994800733356, 'num_leaves': 262, 'max_depth': 4, 'min_child_samples': 47, 'min_child_weight': 0.1849613320377737, 'subsample': 0.8155076361345931, 'colsample_bytree': 0.5217883350781135, 'reg_alpha': 0.006016652931825393, 'reg_lambda': 2.201980454784257e-07, 'n_estimators': 125, 'min_split_gain': 0.19156999562909288, 'subsample_freq': 7, 'max_bin': 125, 'scale_pos_weight': 1.9931338852509755}. Best is trial 56 with value: 0.8966058616656392.\n"
     ]
    },
    {
     "name": "stdout",
     "output_type": "stream",
     "text": [
      "Trial 77 - Train AUC: 0.9345 | Validation AUC: 0.8954\n"
     ]
    },
    {
     "name": "stderr",
     "output_type": "stream",
     "text": [
      "/var/folders/ws/5628jcln1q1g_nmpns07dt_m0000gn/T/ipykernel_14057/3176874039.py:6: FutureWarning: suggest_loguniform has been deprecated in v3.0.0. This feature will be removed in v6.0.0. See https://github.com/optuna/optuna/releases/tag/v3.0.0. Use suggest_float(..., log=True) instead.\n",
      "  'learning_rate': trial.suggest_loguniform('learning_rate', 1e-3, 1e-1),\n",
      "/var/folders/ws/5628jcln1q1g_nmpns07dt_m0000gn/T/ipykernel_14057/3176874039.py:10: FutureWarning: suggest_loguniform has been deprecated in v3.0.0. This feature will be removed in v6.0.0. See https://github.com/optuna/optuna/releases/tag/v3.0.0. Use suggest_float(..., log=True) instead.\n",
      "  'min_child_weight': trial.suggest_loguniform('min_child_weight', 1e-3, 10.0),\n",
      "/var/folders/ws/5628jcln1q1g_nmpns07dt_m0000gn/T/ipykernel_14057/3176874039.py:13: FutureWarning: suggest_loguniform has been deprecated in v3.0.0. This feature will be removed in v6.0.0. See https://github.com/optuna/optuna/releases/tag/v3.0.0. Use suggest_float(..., log=True) instead.\n",
      "  'reg_alpha': trial.suggest_loguniform('reg_alpha', 1e-8, 10.0),\n",
      "/var/folders/ws/5628jcln1q1g_nmpns07dt_m0000gn/T/ipykernel_14057/3176874039.py:14: FutureWarning: suggest_loguniform has been deprecated in v3.0.0. This feature will be removed in v6.0.0. See https://github.com/optuna/optuna/releases/tag/v3.0.0. Use suggest_float(..., log=True) instead.\n",
      "  'reg_lambda': trial.suggest_loguniform('reg_lambda', 1e-8, 10.0),\n",
      "[I 2025-03-09 20:51:03,039] Trial 78 finished with value: 0.8950402925827989 and parameters: {'boosting_type': 'dart', 'learning_rate': 0.05563735680788063, 'num_leaves': 261, 'max_depth': 4, 'min_child_samples': 42, 'min_child_weight': 0.17625382796565664, 'subsample': 0.8356427186856432, 'colsample_bytree': 0.5281946137997926, 'reg_alpha': 0.003932958599436297, 'reg_lambda': 9.247624849045217e-08, 'n_estimators': 125, 'min_split_gain': 0.19907713058665866, 'subsample_freq': 8, 'max_bin': 128, 'scale_pos_weight': 1.9983284213570898}. Best is trial 56 with value: 0.8966058616656392.\n"
     ]
    },
    {
     "name": "stdout",
     "output_type": "stream",
     "text": [
      "Trial 78 - Train AUC: 0.9363 | Validation AUC: 0.8950\n"
     ]
    },
    {
     "name": "stderr",
     "output_type": "stream",
     "text": [
      "/var/folders/ws/5628jcln1q1g_nmpns07dt_m0000gn/T/ipykernel_14057/3176874039.py:6: FutureWarning: suggest_loguniform has been deprecated in v3.0.0. This feature will be removed in v6.0.0. See https://github.com/optuna/optuna/releases/tag/v3.0.0. Use suggest_float(..., log=True) instead.\n",
      "  'learning_rate': trial.suggest_loguniform('learning_rate', 1e-3, 1e-1),\n",
      "/var/folders/ws/5628jcln1q1g_nmpns07dt_m0000gn/T/ipykernel_14057/3176874039.py:10: FutureWarning: suggest_loguniform has been deprecated in v3.0.0. This feature will be removed in v6.0.0. See https://github.com/optuna/optuna/releases/tag/v3.0.0. Use suggest_float(..., log=True) instead.\n",
      "  'min_child_weight': trial.suggest_loguniform('min_child_weight', 1e-3, 10.0),\n",
      "/var/folders/ws/5628jcln1q1g_nmpns07dt_m0000gn/T/ipykernel_14057/3176874039.py:13: FutureWarning: suggest_loguniform has been deprecated in v3.0.0. This feature will be removed in v6.0.0. See https://github.com/optuna/optuna/releases/tag/v3.0.0. Use suggest_float(..., log=True) instead.\n",
      "  'reg_alpha': trial.suggest_loguniform('reg_alpha', 1e-8, 10.0),\n",
      "/var/folders/ws/5628jcln1q1g_nmpns07dt_m0000gn/T/ipykernel_14057/3176874039.py:14: FutureWarning: suggest_loguniform has been deprecated in v3.0.0. This feature will be removed in v6.0.0. See https://github.com/optuna/optuna/releases/tag/v3.0.0. Use suggest_float(..., log=True) instead.\n",
      "  'reg_lambda': trial.suggest_loguniform('reg_lambda', 1e-8, 10.0),\n",
      "[I 2025-03-09 20:51:03,940] Trial 79 finished with value: 0.8955773914859989 and parameters: {'boosting_type': 'dart', 'learning_rate': 0.061149047352192926, 'num_leaves': 253, 'max_depth': 4, 'min_child_samples': 48, 'min_child_weight': 0.0796869708946393, 'subsample': 0.866347415299895, 'colsample_bytree': 0.4834635817260758, 'reg_alpha': 0.055502411986571694, 'reg_lambda': 2.353791604456281e-07, 'n_estimators': 119, 'min_split_gain': 0.22630333791707707, 'subsample_freq': 7, 'max_bin': 107, 'scale_pos_weight': 1.8770112270464696}. Best is trial 56 with value: 0.8966058616656392.\n"
     ]
    },
    {
     "name": "stdout",
     "output_type": "stream",
     "text": [
      "Trial 79 - Train AUC: 0.9383 | Validation AUC: 0.8956\n"
     ]
    },
    {
     "name": "stderr",
     "output_type": "stream",
     "text": [
      "/var/folders/ws/5628jcln1q1g_nmpns07dt_m0000gn/T/ipykernel_14057/3176874039.py:6: FutureWarning: suggest_loguniform has been deprecated in v3.0.0. This feature will be removed in v6.0.0. See https://github.com/optuna/optuna/releases/tag/v3.0.0. Use suggest_float(..., log=True) instead.\n",
      "  'learning_rate': trial.suggest_loguniform('learning_rate', 1e-3, 1e-1),\n",
      "/var/folders/ws/5628jcln1q1g_nmpns07dt_m0000gn/T/ipykernel_14057/3176874039.py:10: FutureWarning: suggest_loguniform has been deprecated in v3.0.0. This feature will be removed in v6.0.0. See https://github.com/optuna/optuna/releases/tag/v3.0.0. Use suggest_float(..., log=True) instead.\n",
      "  'min_child_weight': trial.suggest_loguniform('min_child_weight', 1e-3, 10.0),\n",
      "/var/folders/ws/5628jcln1q1g_nmpns07dt_m0000gn/T/ipykernel_14057/3176874039.py:13: FutureWarning: suggest_loguniform has been deprecated in v3.0.0. This feature will be removed in v6.0.0. See https://github.com/optuna/optuna/releases/tag/v3.0.0. Use suggest_float(..., log=True) instead.\n",
      "  'reg_alpha': trial.suggest_loguniform('reg_alpha', 1e-8, 10.0),\n",
      "/var/folders/ws/5628jcln1q1g_nmpns07dt_m0000gn/T/ipykernel_14057/3176874039.py:14: FutureWarning: suggest_loguniform has been deprecated in v3.0.0. This feature will be removed in v6.0.0. See https://github.com/optuna/optuna/releases/tag/v3.0.0. Use suggest_float(..., log=True) instead.\n",
      "  'reg_lambda': trial.suggest_loguniform('reg_lambda', 1e-8, 10.0),\n",
      "[I 2025-03-09 20:51:04,866] Trial 80 finished with value: 0.8940228804934727 and parameters: {'boosting_type': 'dart', 'learning_rate': 0.041096865105044934, 'num_leaves': 281, 'max_depth': 5, 'min_child_samples': 54, 'min_child_weight': 0.07847864570793674, 'subsample': 0.8638762224513191, 'colsample_bytree': 0.4760164134252038, 'reg_alpha': 0.18582018792040983, 'reg_lambda': 1.2346418748024902e-08, 'n_estimators': 119, 'min_split_gain': 0.22802247392680014, 'subsample_freq': 6, 'max_bin': 100, 'scale_pos_weight': 1.8585982740565694}. Best is trial 56 with value: 0.8966058616656392.\n"
     ]
    },
    {
     "name": "stdout",
     "output_type": "stream",
     "text": [
      "Trial 80 - Train AUC: 0.9297 | Validation AUC: 0.8940\n"
     ]
    },
    {
     "name": "stderr",
     "output_type": "stream",
     "text": [
      "/var/folders/ws/5628jcln1q1g_nmpns07dt_m0000gn/T/ipykernel_14057/3176874039.py:6: FutureWarning: suggest_loguniform has been deprecated in v3.0.0. This feature will be removed in v6.0.0. See https://github.com/optuna/optuna/releases/tag/v3.0.0. Use suggest_float(..., log=True) instead.\n",
      "  'learning_rate': trial.suggest_loguniform('learning_rate', 1e-3, 1e-1),\n",
      "/var/folders/ws/5628jcln1q1g_nmpns07dt_m0000gn/T/ipykernel_14057/3176874039.py:10: FutureWarning: suggest_loguniform has been deprecated in v3.0.0. This feature will be removed in v6.0.0. See https://github.com/optuna/optuna/releases/tag/v3.0.0. Use suggest_float(..., log=True) instead.\n",
      "  'min_child_weight': trial.suggest_loguniform('min_child_weight', 1e-3, 10.0),\n",
      "/var/folders/ws/5628jcln1q1g_nmpns07dt_m0000gn/T/ipykernel_14057/3176874039.py:13: FutureWarning: suggest_loguniform has been deprecated in v3.0.0. This feature will be removed in v6.0.0. See https://github.com/optuna/optuna/releases/tag/v3.0.0. Use suggest_float(..., log=True) instead.\n",
      "  'reg_alpha': trial.suggest_loguniform('reg_alpha', 1e-8, 10.0),\n",
      "/var/folders/ws/5628jcln1q1g_nmpns07dt_m0000gn/T/ipykernel_14057/3176874039.py:14: FutureWarning: suggest_loguniform has been deprecated in v3.0.0. This feature will be removed in v6.0.0. See https://github.com/optuna/optuna/releases/tag/v3.0.0. Use suggest_float(..., log=True) instead.\n",
      "  'reg_lambda': trial.suggest_loguniform('reg_lambda', 1e-8, 10.0),\n",
      "[I 2025-03-09 20:51:05,751] Trial 81 finished with value: 0.8937262240417361 and parameters: {'boosting_type': 'dart', 'learning_rate': 0.047117980631152745, 'num_leaves': 269, 'max_depth': 4, 'min_child_samples': 47, 'min_child_weight': 0.29251904136586293, 'subsample': 0.8154115551045298, 'colsample_bytree': 0.4474085412647529, 'reg_alpha': 0.040251331894839655, 'reg_lambda': 2.7362230972397335e-07, 'n_estimators': 123, 'min_split_gain': 0.15987295250202188, 'subsample_freq': 7, 'max_bin': 107, 'scale_pos_weight': 1.9506343151187844}. Best is trial 56 with value: 0.8966058616656392.\n"
     ]
    },
    {
     "name": "stdout",
     "output_type": "stream",
     "text": [
      "Trial 81 - Train AUC: 0.9284 | Validation AUC: 0.8937\n"
     ]
    },
    {
     "name": "stderr",
     "output_type": "stream",
     "text": [
      "/var/folders/ws/5628jcln1q1g_nmpns07dt_m0000gn/T/ipykernel_14057/3176874039.py:6: FutureWarning: suggest_loguniform has been deprecated in v3.0.0. This feature will be removed in v6.0.0. See https://github.com/optuna/optuna/releases/tag/v3.0.0. Use suggest_float(..., log=True) instead.\n",
      "  'learning_rate': trial.suggest_loguniform('learning_rate', 1e-3, 1e-1),\n",
      "/var/folders/ws/5628jcln1q1g_nmpns07dt_m0000gn/T/ipykernel_14057/3176874039.py:10: FutureWarning: suggest_loguniform has been deprecated in v3.0.0. This feature will be removed in v6.0.0. See https://github.com/optuna/optuna/releases/tag/v3.0.0. Use suggest_float(..., log=True) instead.\n",
      "  'min_child_weight': trial.suggest_loguniform('min_child_weight', 1e-3, 10.0),\n",
      "/var/folders/ws/5628jcln1q1g_nmpns07dt_m0000gn/T/ipykernel_14057/3176874039.py:13: FutureWarning: suggest_loguniform has been deprecated in v3.0.0. This feature will be removed in v6.0.0. See https://github.com/optuna/optuna/releases/tag/v3.0.0. Use suggest_float(..., log=True) instead.\n",
      "  'reg_alpha': trial.suggest_loguniform('reg_alpha', 1e-8, 10.0),\n",
      "/var/folders/ws/5628jcln1q1g_nmpns07dt_m0000gn/T/ipykernel_14057/3176874039.py:14: FutureWarning: suggest_loguniform has been deprecated in v3.0.0. This feature will be removed in v6.0.0. See https://github.com/optuna/optuna/releases/tag/v3.0.0. Use suggest_float(..., log=True) instead.\n",
      "  'reg_lambda': trial.suggest_loguniform('reg_lambda', 1e-8, 10.0),\n",
      "[I 2025-03-09 20:51:06,619] Trial 82 finished with value: 0.8945396818039029 and parameters: {'boosting_type': 'dart', 'learning_rate': 0.05526639321051186, 'num_leaves': 254, 'max_depth': 4, 'min_child_samples': 44, 'min_child_weight': 0.05410655174682874, 'subsample': 0.9053551504066528, 'colsample_bytree': 0.5427614101898276, 'reg_alpha': 0.07301082334482557, 'reg_lambda': 3.142353014492472e-08, 'n_estimators': 118, 'min_split_gain': 0.3213485644367251, 'subsample_freq': 7, 'max_bin': 119, 'scale_pos_weight': 1.7657179392758404}. Best is trial 56 with value: 0.8966058616656392.\n"
     ]
    },
    {
     "name": "stdout",
     "output_type": "stream",
     "text": [
      "Trial 82 - Train AUC: 0.9391 | Validation AUC: 0.8945\n"
     ]
    },
    {
     "name": "stderr",
     "output_type": "stream",
     "text": [
      "/var/folders/ws/5628jcln1q1g_nmpns07dt_m0000gn/T/ipykernel_14057/3176874039.py:6: FutureWarning: suggest_loguniform has been deprecated in v3.0.0. This feature will be removed in v6.0.0. See https://github.com/optuna/optuna/releases/tag/v3.0.0. Use suggest_float(..., log=True) instead.\n",
      "  'learning_rate': trial.suggest_loguniform('learning_rate', 1e-3, 1e-1),\n",
      "/var/folders/ws/5628jcln1q1g_nmpns07dt_m0000gn/T/ipykernel_14057/3176874039.py:10: FutureWarning: suggest_loguniform has been deprecated in v3.0.0. This feature will be removed in v6.0.0. See https://github.com/optuna/optuna/releases/tag/v3.0.0. Use suggest_float(..., log=True) instead.\n",
      "  'min_child_weight': trial.suggest_loguniform('min_child_weight', 1e-3, 10.0),\n",
      "/var/folders/ws/5628jcln1q1g_nmpns07dt_m0000gn/T/ipykernel_14057/3176874039.py:13: FutureWarning: suggest_loguniform has been deprecated in v3.0.0. This feature will be removed in v6.0.0. See https://github.com/optuna/optuna/releases/tag/v3.0.0. Use suggest_float(..., log=True) instead.\n",
      "  'reg_alpha': trial.suggest_loguniform('reg_alpha', 1e-8, 10.0),\n",
      "/var/folders/ws/5628jcln1q1g_nmpns07dt_m0000gn/T/ipykernel_14057/3176874039.py:14: FutureWarning: suggest_loguniform has been deprecated in v3.0.0. This feature will be removed in v6.0.0. See https://github.com/optuna/optuna/releases/tag/v3.0.0. Use suggest_float(..., log=True) instead.\n",
      "  'reg_lambda': trial.suggest_loguniform('reg_lambda', 1e-8, 10.0),\n",
      "[I 2025-03-09 20:51:07,250] Trial 83 finished with value: 0.8873636065129361 and parameters: {'boosting_type': 'dart', 'learning_rate': 0.0012967499586779099, 'num_leaves': 270, 'max_depth': 3, 'min_child_samples': 57, 'min_child_weight': 0.14688052880095037, 'subsample': 0.8071569256664617, 'colsample_bytree': 0.5097789140152592, 'reg_alpha': 0.020885136794884993, 'reg_lambda': 2.1427126341840744e-07, 'n_estimators': 122, 'min_split_gain': 0.390083524710035, 'subsample_freq': 6, 'max_bin': 112, 'scale_pos_weight': 1.8909179499513122}. Best is trial 56 with value: 0.8966058616656392.\n"
     ]
    },
    {
     "name": "stdout",
     "output_type": "stream",
     "text": [
      "Trial 83 - Train AUC: 0.9004 | Validation AUC: 0.8874\n"
     ]
    },
    {
     "name": "stderr",
     "output_type": "stream",
     "text": [
      "/var/folders/ws/5628jcln1q1g_nmpns07dt_m0000gn/T/ipykernel_14057/3176874039.py:6: FutureWarning: suggest_loguniform has been deprecated in v3.0.0. This feature will be removed in v6.0.0. See https://github.com/optuna/optuna/releases/tag/v3.0.0. Use suggest_float(..., log=True) instead.\n",
      "  'learning_rate': trial.suggest_loguniform('learning_rate', 1e-3, 1e-1),\n",
      "/var/folders/ws/5628jcln1q1g_nmpns07dt_m0000gn/T/ipykernel_14057/3176874039.py:10: FutureWarning: suggest_loguniform has been deprecated in v3.0.0. This feature will be removed in v6.0.0. See https://github.com/optuna/optuna/releases/tag/v3.0.0. Use suggest_float(..., log=True) instead.\n",
      "  'min_child_weight': trial.suggest_loguniform('min_child_weight', 1e-3, 10.0),\n",
      "/var/folders/ws/5628jcln1q1g_nmpns07dt_m0000gn/T/ipykernel_14057/3176874039.py:13: FutureWarning: suggest_loguniform has been deprecated in v3.0.0. This feature will be removed in v6.0.0. See https://github.com/optuna/optuna/releases/tag/v3.0.0. Use suggest_float(..., log=True) instead.\n",
      "  'reg_alpha': trial.suggest_loguniform('reg_alpha', 1e-8, 10.0),\n",
      "/var/folders/ws/5628jcln1q1g_nmpns07dt_m0000gn/T/ipykernel_14057/3176874039.py:14: FutureWarning: suggest_loguniform has been deprecated in v3.0.0. This feature will be removed in v6.0.0. See https://github.com/optuna/optuna/releases/tag/v3.0.0. Use suggest_float(..., log=True) instead.\n",
      "  'reg_lambda': trial.suggest_loguniform('reg_lambda', 1e-8, 10.0),\n",
      "[I 2025-03-09 20:51:08,164] Trial 84 finished with value: 0.895602489042456 and parameters: {'boosting_type': 'dart', 'learning_rate': 0.06479345786668075, 'num_leaves': 242, 'max_depth': 5, 'min_child_samples': 51, 'min_child_weight': 0.03430728892150646, 'subsample': 0.8408313671851528, 'colsample_bytree': 0.5683373088646286, 'reg_alpha': 0.1053418107014765, 'reg_lambda': 4.3431814168612757e-07, 'n_estimators': 107, 'min_split_gain': 0.1915277274839498, 'subsample_freq': 8, 'max_bin': 125, 'scale_pos_weight': 1.8222926166947448}. Best is trial 56 with value: 0.8966058616656392.\n"
     ]
    },
    {
     "name": "stdout",
     "output_type": "stream",
     "text": [
      "Trial 84 - Train AUC: 0.9482 | Validation AUC: 0.8956\n"
     ]
    },
    {
     "name": "stderr",
     "output_type": "stream",
     "text": [
      "/var/folders/ws/5628jcln1q1g_nmpns07dt_m0000gn/T/ipykernel_14057/3176874039.py:6: FutureWarning: suggest_loguniform has been deprecated in v3.0.0. This feature will be removed in v6.0.0. See https://github.com/optuna/optuna/releases/tag/v3.0.0. Use suggest_float(..., log=True) instead.\n",
      "  'learning_rate': trial.suggest_loguniform('learning_rate', 1e-3, 1e-1),\n",
      "/var/folders/ws/5628jcln1q1g_nmpns07dt_m0000gn/T/ipykernel_14057/3176874039.py:10: FutureWarning: suggest_loguniform has been deprecated in v3.0.0. This feature will be removed in v6.0.0. See https://github.com/optuna/optuna/releases/tag/v3.0.0. Use suggest_float(..., log=True) instead.\n",
      "  'min_child_weight': trial.suggest_loguniform('min_child_weight', 1e-3, 10.0),\n",
      "/var/folders/ws/5628jcln1q1g_nmpns07dt_m0000gn/T/ipykernel_14057/3176874039.py:13: FutureWarning: suggest_loguniform has been deprecated in v3.0.0. This feature will be removed in v6.0.0. See https://github.com/optuna/optuna/releases/tag/v3.0.0. Use suggest_float(..., log=True) instead.\n",
      "  'reg_alpha': trial.suggest_loguniform('reg_alpha', 1e-8, 10.0),\n",
      "/var/folders/ws/5628jcln1q1g_nmpns07dt_m0000gn/T/ipykernel_14057/3176874039.py:14: FutureWarning: suggest_loguniform has been deprecated in v3.0.0. This feature will be removed in v6.0.0. See https://github.com/optuna/optuna/releases/tag/v3.0.0. Use suggest_float(..., log=True) instead.\n",
      "  'reg_lambda': trial.suggest_loguniform('reg_lambda', 1e-8, 10.0),\n",
      "[I 2025-03-09 20:51:09,130] Trial 85 finished with value: 0.8938414675005781 and parameters: {'boosting_type': 'dart', 'learning_rate': 0.0633866232831489, 'num_leaves': 237, 'max_depth': 5, 'min_child_samples': 52, 'min_child_weight': 0.02661108639152198, 'subsample': 0.9320410245389229, 'colsample_bytree': 0.566270014857939, 'reg_alpha': 0.31773140623261475, 'reg_lambda': 4.0347388236573824e-07, 'n_estimators': 108, 'min_split_gain': 0.1127535757323819, 'subsample_freq': 8, 'max_bin': 105, 'scale_pos_weight': 1.8134574848107556}. Best is trial 56 with value: 0.8966058616656392.\n"
     ]
    },
    {
     "name": "stdout",
     "output_type": "stream",
     "text": [
      "Trial 85 - Train AUC: 0.9489 | Validation AUC: 0.8938\n"
     ]
    },
    {
     "name": "stderr",
     "output_type": "stream",
     "text": [
      "/var/folders/ws/5628jcln1q1g_nmpns07dt_m0000gn/T/ipykernel_14057/3176874039.py:6: FutureWarning: suggest_loguniform has been deprecated in v3.0.0. This feature will be removed in v6.0.0. See https://github.com/optuna/optuna/releases/tag/v3.0.0. Use suggest_float(..., log=True) instead.\n",
      "  'learning_rate': trial.suggest_loguniform('learning_rate', 1e-3, 1e-1),\n",
      "/var/folders/ws/5628jcln1q1g_nmpns07dt_m0000gn/T/ipykernel_14057/3176874039.py:10: FutureWarning: suggest_loguniform has been deprecated in v3.0.0. This feature will be removed in v6.0.0. See https://github.com/optuna/optuna/releases/tag/v3.0.0. Use suggest_float(..., log=True) instead.\n",
      "  'min_child_weight': trial.suggest_loguniform('min_child_weight', 1e-3, 10.0),\n",
      "/var/folders/ws/5628jcln1q1g_nmpns07dt_m0000gn/T/ipykernel_14057/3176874039.py:13: FutureWarning: suggest_loguniform has been deprecated in v3.0.0. This feature will be removed in v6.0.0. See https://github.com/optuna/optuna/releases/tag/v3.0.0. Use suggest_float(..., log=True) instead.\n",
      "  'reg_alpha': trial.suggest_loguniform('reg_alpha', 1e-8, 10.0),\n",
      "/var/folders/ws/5628jcln1q1g_nmpns07dt_m0000gn/T/ipykernel_14057/3176874039.py:14: FutureWarning: suggest_loguniform has been deprecated in v3.0.0. This feature will be removed in v6.0.0. See https://github.com/optuna/optuna/releases/tag/v3.0.0. Use suggest_float(..., log=True) instead.\n",
      "  'reg_lambda': trial.suggest_loguniform('reg_lambda', 1e-8, 10.0),\n",
      "[I 2025-03-09 20:51:10,095] Trial 86 finished with value: 0.8936590546658275 and parameters: {'boosting_type': 'dart', 'learning_rate': 0.08319011747485448, 'num_leaves': 287, 'max_depth': 5, 'min_child_samples': 39, 'min_child_weight': 0.03785736950320057, 'subsample': 0.8726879797974891, 'colsample_bytree': 0.5790066707797576, 'reg_alpha': 1.426126577016244, 'reg_lambda': 6.057202244225057e-08, 'n_estimators': 116, 'min_split_gain': 0.27492035027941625, 'subsample_freq': 8, 'max_bin': 110, 'scale_pos_weight': 1.8302111051009575}. Best is trial 56 with value: 0.8966058616656392.\n"
     ]
    },
    {
     "name": "stdout",
     "output_type": "stream",
     "text": [
      "Trial 86 - Train AUC: 0.9569 | Validation AUC: 0.8937\n"
     ]
    },
    {
     "name": "stderr",
     "output_type": "stream",
     "text": [
      "/var/folders/ws/5628jcln1q1g_nmpns07dt_m0000gn/T/ipykernel_14057/3176874039.py:6: FutureWarning: suggest_loguniform has been deprecated in v3.0.0. This feature will be removed in v6.0.0. See https://github.com/optuna/optuna/releases/tag/v3.0.0. Use suggest_float(..., log=True) instead.\n",
      "  'learning_rate': trial.suggest_loguniform('learning_rate', 1e-3, 1e-1),\n",
      "/var/folders/ws/5628jcln1q1g_nmpns07dt_m0000gn/T/ipykernel_14057/3176874039.py:10: FutureWarning: suggest_loguniform has been deprecated in v3.0.0. This feature will be removed in v6.0.0. See https://github.com/optuna/optuna/releases/tag/v3.0.0. Use suggest_float(..., log=True) instead.\n",
      "  'min_child_weight': trial.suggest_loguniform('min_child_weight', 1e-3, 10.0),\n",
      "/var/folders/ws/5628jcln1q1g_nmpns07dt_m0000gn/T/ipykernel_14057/3176874039.py:13: FutureWarning: suggest_loguniform has been deprecated in v3.0.0. This feature will be removed in v6.0.0. See https://github.com/optuna/optuna/releases/tag/v3.0.0. Use suggest_float(..., log=True) instead.\n",
      "  'reg_alpha': trial.suggest_loguniform('reg_alpha', 1e-8, 10.0),\n",
      "/var/folders/ws/5628jcln1q1g_nmpns07dt_m0000gn/T/ipykernel_14057/3176874039.py:14: FutureWarning: suggest_loguniform has been deprecated in v3.0.0. This feature will be removed in v6.0.0. See https://github.com/optuna/optuna/releases/tag/v3.0.0. Use suggest_float(..., log=True) instead.\n",
      "  'reg_lambda': trial.suggest_loguniform('reg_lambda', 1e-8, 10.0),\n",
      "[I 2025-03-09 20:51:11,592] Trial 87 finished with value: 0.8937924761330119 and parameters: {'boosting_type': 'dart', 'learning_rate': 0.0688480565851643, 'num_leaves': 299, 'max_depth': 6, 'min_child_samples': 24, 'min_child_weight': 0.11632465509075206, 'subsample': 0.8390065955845651, 'colsample_bytree': 0.4837281746091245, 'reg_alpha': 0.07662009558898004, 'reg_lambda': 1.0625388011503984e-06, 'n_estimators': 111, 'min_split_gain': 0.23140756277006533, 'subsample_freq': 10, 'max_bin': 132, 'scale_pos_weight': 1.738660593353864}. Best is trial 56 with value: 0.8966058616656392.\n"
     ]
    },
    {
     "name": "stdout",
     "output_type": "stream",
     "text": [
      "Trial 87 - Train AUC: 0.9708 | Validation AUC: 0.8938\n"
     ]
    },
    {
     "name": "stderr",
     "output_type": "stream",
     "text": [
      "/var/folders/ws/5628jcln1q1g_nmpns07dt_m0000gn/T/ipykernel_14057/3176874039.py:6: FutureWarning: suggest_loguniform has been deprecated in v3.0.0. This feature will be removed in v6.0.0. See https://github.com/optuna/optuna/releases/tag/v3.0.0. Use suggest_float(..., log=True) instead.\n",
      "  'learning_rate': trial.suggest_loguniform('learning_rate', 1e-3, 1e-1),\n",
      "/var/folders/ws/5628jcln1q1g_nmpns07dt_m0000gn/T/ipykernel_14057/3176874039.py:10: FutureWarning: suggest_loguniform has been deprecated in v3.0.0. This feature will be removed in v6.0.0. See https://github.com/optuna/optuna/releases/tag/v3.0.0. Use suggest_float(..., log=True) instead.\n",
      "  'min_child_weight': trial.suggest_loguniform('min_child_weight', 1e-3, 10.0),\n",
      "/var/folders/ws/5628jcln1q1g_nmpns07dt_m0000gn/T/ipykernel_14057/3176874039.py:13: FutureWarning: suggest_loguniform has been deprecated in v3.0.0. This feature will be removed in v6.0.0. See https://github.com/optuna/optuna/releases/tag/v3.0.0. Use suggest_float(..., log=True) instead.\n",
      "  'reg_alpha': trial.suggest_loguniform('reg_alpha', 1e-8, 10.0),\n",
      "/var/folders/ws/5628jcln1q1g_nmpns07dt_m0000gn/T/ipykernel_14057/3176874039.py:14: FutureWarning: suggest_loguniform has been deprecated in v3.0.0. This feature will be removed in v6.0.0. See https://github.com/optuna/optuna/releases/tag/v3.0.0. Use suggest_float(..., log=True) instead.\n",
      "  'reg_lambda': trial.suggest_loguniform('reg_lambda', 1e-8, 10.0),\n",
      "[I 2025-03-09 20:51:12,422] Trial 88 finished with value: 0.8936046647947057 and parameters: {'boosting_type': 'dart', 'learning_rate': 0.0386248659899115, 'num_leaves': 227, 'max_depth': 5, 'min_child_samples': 49, 'min_child_weight': 0.060371842836790056, 'subsample': 0.8927970438580772, 'colsample_bytree': 0.5488281729243721, 'reg_alpha': 0.5941242107640411, 'reg_lambda': 2.215050194602824e-08, 'n_estimators': 106, 'min_split_gain': 0.15040348175349155, 'subsample_freq': 9, 'max_bin': 115, 'scale_pos_weight': 1.6791757259083504}. Best is trial 56 with value: 0.8966058616656392.\n"
     ]
    },
    {
     "name": "stdout",
     "output_type": "stream",
     "text": [
      "Trial 88 - Train AUC: 0.9294 | Validation AUC: 0.8936\n"
     ]
    },
    {
     "name": "stderr",
     "output_type": "stream",
     "text": [
      "/var/folders/ws/5628jcln1q1g_nmpns07dt_m0000gn/T/ipykernel_14057/3176874039.py:6: FutureWarning: suggest_loguniform has been deprecated in v3.0.0. This feature will be removed in v6.0.0. See https://github.com/optuna/optuna/releases/tag/v3.0.0. Use suggest_float(..., log=True) instead.\n",
      "  'learning_rate': trial.suggest_loguniform('learning_rate', 1e-3, 1e-1),\n",
      "/var/folders/ws/5628jcln1q1g_nmpns07dt_m0000gn/T/ipykernel_14057/3176874039.py:10: FutureWarning: suggest_loguniform has been deprecated in v3.0.0. This feature will be removed in v6.0.0. See https://github.com/optuna/optuna/releases/tag/v3.0.0. Use suggest_float(..., log=True) instead.\n",
      "  'min_child_weight': trial.suggest_loguniform('min_child_weight', 1e-3, 10.0),\n",
      "/var/folders/ws/5628jcln1q1g_nmpns07dt_m0000gn/T/ipykernel_14057/3176874039.py:13: FutureWarning: suggest_loguniform has been deprecated in v3.0.0. This feature will be removed in v6.0.0. See https://github.com/optuna/optuna/releases/tag/v3.0.0. Use suggest_float(..., log=True) instead.\n",
      "  'reg_alpha': trial.suggest_loguniform('reg_alpha', 1e-8, 10.0),\n",
      "/var/folders/ws/5628jcln1q1g_nmpns07dt_m0000gn/T/ipykernel_14057/3176874039.py:14: FutureWarning: suggest_loguniform has been deprecated in v3.0.0. This feature will be removed in v6.0.0. See https://github.com/optuna/optuna/releases/tag/v3.0.0. Use suggest_float(..., log=True) instead.\n",
      "  'reg_lambda': trial.suggest_loguniform('reg_lambda', 1e-8, 10.0),\n",
      "[I 2025-03-09 20:51:13,471] Trial 89 finished with value: 0.8938368342575085 and parameters: {'boosting_type': 'dart', 'learning_rate': 0.06137447109793471, 'num_leaves': 242, 'max_depth': 6, 'min_child_samples': 57, 'min_child_weight': 0.012154467447828537, 'subsample': 0.965694660561293, 'colsample_bytree': 0.4987376217298871, 'reg_alpha': 0.2568111277841312, 'reg_lambda': 4.804985378089916e-07, 'n_estimators': 114, 'min_split_gain': 0.3726478126131991, 'subsample_freq': 6, 'max_bin': 123, 'scale_pos_weight': 1.778956010849684}. Best is trial 56 with value: 0.8966058616656392.\n"
     ]
    },
    {
     "name": "stdout",
     "output_type": "stream",
     "text": [
      "Trial 89 - Train AUC: 0.9501 | Validation AUC: 0.8938\n"
     ]
    },
    {
     "name": "stderr",
     "output_type": "stream",
     "text": [
      "/var/folders/ws/5628jcln1q1g_nmpns07dt_m0000gn/T/ipykernel_14057/3176874039.py:6: FutureWarning: suggest_loguniform has been deprecated in v3.0.0. This feature will be removed in v6.0.0. See https://github.com/optuna/optuna/releases/tag/v3.0.0. Use suggest_float(..., log=True) instead.\n",
      "  'learning_rate': trial.suggest_loguniform('learning_rate', 1e-3, 1e-1),\n",
      "/var/folders/ws/5628jcln1q1g_nmpns07dt_m0000gn/T/ipykernel_14057/3176874039.py:10: FutureWarning: suggest_loguniform has been deprecated in v3.0.0. This feature will be removed in v6.0.0. See https://github.com/optuna/optuna/releases/tag/v3.0.0. Use suggest_float(..., log=True) instead.\n",
      "  'min_child_weight': trial.suggest_loguniform('min_child_weight', 1e-3, 10.0),\n",
      "/var/folders/ws/5628jcln1q1g_nmpns07dt_m0000gn/T/ipykernel_14057/3176874039.py:13: FutureWarning: suggest_loguniform has been deprecated in v3.0.0. This feature will be removed in v6.0.0. See https://github.com/optuna/optuna/releases/tag/v3.0.0. Use suggest_float(..., log=True) instead.\n",
      "  'reg_alpha': trial.suggest_loguniform('reg_alpha', 1e-8, 10.0),\n",
      "/var/folders/ws/5628jcln1q1g_nmpns07dt_m0000gn/T/ipykernel_14057/3176874039.py:14: FutureWarning: suggest_loguniform has been deprecated in v3.0.0. This feature will be removed in v6.0.0. See https://github.com/optuna/optuna/releases/tag/v3.0.0. Use suggest_float(..., log=True) instead.\n",
      "  'reg_lambda': trial.suggest_loguniform('reg_lambda', 1e-8, 10.0),\n",
      "[I 2025-03-09 20:51:14,324] Trial 90 finished with value: 0.8919123286138548 and parameters: {'boosting_type': 'dart', 'learning_rate': 0.0886699199997922, 'num_leaves': 256, 'max_depth': 5, 'min_child_samples': 99, 'min_child_weight': 0.28510002032961745, 'subsample': 0.7946398433083527, 'colsample_bytree': 0.5368787348248576, 'reg_alpha': 0.13492685834295345, 'reg_lambda': 1.2830448551169085e-07, 'n_estimators': 118, 'min_split_gain': 0.180523390188925, 'subsample_freq': 7, 'max_bin': 100, 'scale_pos_weight': 1.8737781262084587}. Best is trial 56 with value: 0.8966058616656392.\n"
     ]
    },
    {
     "name": "stdout",
     "output_type": "stream",
     "text": [
      "Trial 90 - Train AUC: 0.9469 | Validation AUC: 0.8919\n"
     ]
    },
    {
     "name": "stderr",
     "output_type": "stream",
     "text": [
      "/var/folders/ws/5628jcln1q1g_nmpns07dt_m0000gn/T/ipykernel_14057/3176874039.py:6: FutureWarning: suggest_loguniform has been deprecated in v3.0.0. This feature will be removed in v6.0.0. See https://github.com/optuna/optuna/releases/tag/v3.0.0. Use suggest_float(..., log=True) instead.\n",
      "  'learning_rate': trial.suggest_loguniform('learning_rate', 1e-3, 1e-1),\n",
      "/var/folders/ws/5628jcln1q1g_nmpns07dt_m0000gn/T/ipykernel_14057/3176874039.py:10: FutureWarning: suggest_loguniform has been deprecated in v3.0.0. This feature will be removed in v6.0.0. See https://github.com/optuna/optuna/releases/tag/v3.0.0. Use suggest_float(..., log=True) instead.\n",
      "  'min_child_weight': trial.suggest_loguniform('min_child_weight', 1e-3, 10.0),\n",
      "/var/folders/ws/5628jcln1q1g_nmpns07dt_m0000gn/T/ipykernel_14057/3176874039.py:13: FutureWarning: suggest_loguniform has been deprecated in v3.0.0. This feature will be removed in v6.0.0. See https://github.com/optuna/optuna/releases/tag/v3.0.0. Use suggest_float(..., log=True) instead.\n",
      "  'reg_alpha': trial.suggest_loguniform('reg_alpha', 1e-8, 10.0),\n",
      "/var/folders/ws/5628jcln1q1g_nmpns07dt_m0000gn/T/ipykernel_14057/3176874039.py:14: FutureWarning: suggest_loguniform has been deprecated in v3.0.0. This feature will be removed in v6.0.0. See https://github.com/optuna/optuna/releases/tag/v3.0.0. Use suggest_float(..., log=True) instead.\n",
      "  'reg_lambda': trial.suggest_loguniform('reg_lambda', 1e-8, 10.0),\n",
      "[I 2025-03-09 20:51:15,195] Trial 91 finished with value: 0.8946924606912777 and parameters: {'boosting_type': 'dart', 'learning_rate': 0.05838045045290852, 'num_leaves': 275, 'max_depth': 4, 'min_child_samples': 48, 'min_child_weight': 0.09343919065232584, 'subsample': 0.8282745828100475, 'colsample_bytree': 0.5180503499990402, 'reg_alpha': 0.006708798732537098, 'reg_lambda': 2.616585255501307e-07, 'n_estimators': 123, 'min_split_gain': 0.19999100521872154, 'subsample_freq': 7, 'max_bin': 124, 'scale_pos_weight': 1.9612993309212532}. Best is trial 56 with value: 0.8966058616656392.\n"
     ]
    },
    {
     "name": "stdout",
     "output_type": "stream",
     "text": [
      "Trial 91 - Train AUC: 0.9361 | Validation AUC: 0.8947\n"
     ]
    },
    {
     "name": "stderr",
     "output_type": "stream",
     "text": [
      "/var/folders/ws/5628jcln1q1g_nmpns07dt_m0000gn/T/ipykernel_14057/3176874039.py:6: FutureWarning: suggest_loguniform has been deprecated in v3.0.0. This feature will be removed in v6.0.0. See https://github.com/optuna/optuna/releases/tag/v3.0.0. Use suggest_float(..., log=True) instead.\n",
      "  'learning_rate': trial.suggest_loguniform('learning_rate', 1e-3, 1e-1),\n",
      "/var/folders/ws/5628jcln1q1g_nmpns07dt_m0000gn/T/ipykernel_14057/3176874039.py:10: FutureWarning: suggest_loguniform has been deprecated in v3.0.0. This feature will be removed in v6.0.0. See https://github.com/optuna/optuna/releases/tag/v3.0.0. Use suggest_float(..., log=True) instead.\n",
      "  'min_child_weight': trial.suggest_loguniform('min_child_weight', 1e-3, 10.0),\n",
      "/var/folders/ws/5628jcln1q1g_nmpns07dt_m0000gn/T/ipykernel_14057/3176874039.py:13: FutureWarning: suggest_loguniform has been deprecated in v3.0.0. This feature will be removed in v6.0.0. See https://github.com/optuna/optuna/releases/tag/v3.0.0. Use suggest_float(..., log=True) instead.\n",
      "  'reg_alpha': trial.suggest_loguniform('reg_alpha', 1e-8, 10.0),\n",
      "/var/folders/ws/5628jcln1q1g_nmpns07dt_m0000gn/T/ipykernel_14057/3176874039.py:14: FutureWarning: suggest_loguniform has been deprecated in v3.0.0. This feature will be removed in v6.0.0. See https://github.com/optuna/optuna/releases/tag/v3.0.0. Use suggest_float(..., log=True) instead.\n",
      "  'reg_lambda': trial.suggest_loguniform('reg_lambda', 1e-8, 10.0),\n",
      "[I 2025-03-09 20:51:15,972] Trial 92 finished with value: 0.8899874545545776 and parameters: {'boosting_type': 'dart', 'learning_rate': 0.04948822680733366, 'num_leaves': 266, 'max_depth': 4, 'min_child_samples': 46, 'min_child_weight': 0.1805341002760937, 'subsample': 0.8608510031175284, 'colsample_bytree': 0.5242256596634822, 'reg_alpha': 0.031967047902782805, 'reg_lambda': 7.234626986433256, 'n_estimators': 125, 'min_split_gain': 0.3115405175903465, 'subsample_freq': 8, 'max_bin': 119, 'scale_pos_weight': 1.9165324285298475}. Best is trial 56 with value: 0.8966058616656392.\n"
     ]
    },
    {
     "name": "stdout",
     "output_type": "stream",
     "text": [
      "Trial 92 - Train AUC: 0.9215 | Validation AUC: 0.8900\n"
     ]
    },
    {
     "name": "stderr",
     "output_type": "stream",
     "text": [
      "/var/folders/ws/5628jcln1q1g_nmpns07dt_m0000gn/T/ipykernel_14057/3176874039.py:6: FutureWarning: suggest_loguniform has been deprecated in v3.0.0. This feature will be removed in v6.0.0. See https://github.com/optuna/optuna/releases/tag/v3.0.0. Use suggest_float(..., log=True) instead.\n",
      "  'learning_rate': trial.suggest_loguniform('learning_rate', 1e-3, 1e-1),\n",
      "/var/folders/ws/5628jcln1q1g_nmpns07dt_m0000gn/T/ipykernel_14057/3176874039.py:10: FutureWarning: suggest_loguniform has been deprecated in v3.0.0. This feature will be removed in v6.0.0. See https://github.com/optuna/optuna/releases/tag/v3.0.0. Use suggest_float(..., log=True) instead.\n",
      "  'min_child_weight': trial.suggest_loguniform('min_child_weight', 1e-3, 10.0),\n",
      "/var/folders/ws/5628jcln1q1g_nmpns07dt_m0000gn/T/ipykernel_14057/3176874039.py:13: FutureWarning: suggest_loguniform has been deprecated in v3.0.0. This feature will be removed in v6.0.0. See https://github.com/optuna/optuna/releases/tag/v3.0.0. Use suggest_float(..., log=True) instead.\n",
      "  'reg_alpha': trial.suggest_loguniform('reg_alpha', 1e-8, 10.0),\n",
      "/var/folders/ws/5628jcln1q1g_nmpns07dt_m0000gn/T/ipykernel_14057/3176874039.py:14: FutureWarning: suggest_loguniform has been deprecated in v3.0.0. This feature will be removed in v6.0.0. See https://github.com/optuna/optuna/releases/tag/v3.0.0. Use suggest_float(..., log=True) instead.\n",
      "  'reg_lambda': trial.suggest_loguniform('reg_lambda', 1e-8, 10.0),\n",
      "[I 2025-03-09 20:51:16,678] Trial 93 finished with value: 0.8904618618073676 and parameters: {'boosting_type': 'dart', 'learning_rate': 0.03533907740132003, 'num_leaves': 292, 'max_depth': 3, 'min_child_samples': 36, 'min_child_weight': 0.46918327665210063, 'subsample': 0.8104736970868308, 'colsample_bytree': 0.45735238805834344, 'reg_alpha': 0.0018021341141552056, 'reg_lambda': 1.0717708551994328e-07, 'n_estimators': 120, 'min_split_gain': 0.12188283871053805, 'subsample_freq': 6, 'max_bin': 127, 'scale_pos_weight': 1.9659731366354316}. Best is trial 56 with value: 0.8966058616656392.\n"
     ]
    },
    {
     "name": "stdout",
     "output_type": "stream",
     "text": [
      "Trial 93 - Train AUC: 0.9127 | Validation AUC: 0.8905\n"
     ]
    },
    {
     "name": "stderr",
     "output_type": "stream",
     "text": [
      "/var/folders/ws/5628jcln1q1g_nmpns07dt_m0000gn/T/ipykernel_14057/3176874039.py:6: FutureWarning: suggest_loguniform has been deprecated in v3.0.0. This feature will be removed in v6.0.0. See https://github.com/optuna/optuna/releases/tag/v3.0.0. Use suggest_float(..., log=True) instead.\n",
      "  'learning_rate': trial.suggest_loguniform('learning_rate', 1e-3, 1e-1),\n",
      "/var/folders/ws/5628jcln1q1g_nmpns07dt_m0000gn/T/ipykernel_14057/3176874039.py:10: FutureWarning: suggest_loguniform has been deprecated in v3.0.0. This feature will be removed in v6.0.0. See https://github.com/optuna/optuna/releases/tag/v3.0.0. Use suggest_float(..., log=True) instead.\n",
      "  'min_child_weight': trial.suggest_loguniform('min_child_weight', 1e-3, 10.0),\n",
      "/var/folders/ws/5628jcln1q1g_nmpns07dt_m0000gn/T/ipykernel_14057/3176874039.py:13: FutureWarning: suggest_loguniform has been deprecated in v3.0.0. This feature will be removed in v6.0.0. See https://github.com/optuna/optuna/releases/tag/v3.0.0. Use suggest_float(..., log=True) instead.\n",
      "  'reg_alpha': trial.suggest_loguniform('reg_alpha', 1e-8, 10.0),\n",
      "/var/folders/ws/5628jcln1q1g_nmpns07dt_m0000gn/T/ipykernel_14057/3176874039.py:14: FutureWarning: suggest_loguniform has been deprecated in v3.0.0. This feature will be removed in v6.0.0. See https://github.com/optuna/optuna/releases/tag/v3.0.0. Use suggest_float(..., log=True) instead.\n",
      "  'reg_lambda': trial.suggest_loguniform('reg_lambda', 1e-8, 10.0),\n",
      "[I 2025-03-09 20:51:17,972] Trial 94 finished with value: 0.8940172205051711 and parameters: {'boosting_type': 'dart', 'learning_rate': 0.07287217519208392, 'num_leaves': 242, 'max_depth': 5, 'min_child_samples': 30, 'min_child_weight': 0.2219915039652968, 'subsample': 0.8514854223695163, 'colsample_bytree': 0.5624961648596014, 'reg_alpha': 0.01617924963129562, 'reg_lambda': 1.9507744096175817e-06, 'n_estimators': 115, 'min_split_gain': 0.27261617274853006, 'subsample_freq': 7, 'max_bin': 106, 'scale_pos_weight': 1.9302273274900728}. Best is trial 56 with value: 0.8966058616656392.\n"
     ]
    },
    {
     "name": "stdout",
     "output_type": "stream",
     "text": [
      "Trial 94 - Train AUC: 0.9629 | Validation AUC: 0.8940\n"
     ]
    },
    {
     "name": "stderr",
     "output_type": "stream",
     "text": [
      "/var/folders/ws/5628jcln1q1g_nmpns07dt_m0000gn/T/ipykernel_14057/3176874039.py:6: FutureWarning: suggest_loguniform has been deprecated in v3.0.0. This feature will be removed in v6.0.0. See https://github.com/optuna/optuna/releases/tag/v3.0.0. Use suggest_float(..., log=True) instead.\n",
      "  'learning_rate': trial.suggest_loguniform('learning_rate', 1e-3, 1e-1),\n",
      "/var/folders/ws/5628jcln1q1g_nmpns07dt_m0000gn/T/ipykernel_14057/3176874039.py:10: FutureWarning: suggest_loguniform has been deprecated in v3.0.0. This feature will be removed in v6.0.0. See https://github.com/optuna/optuna/releases/tag/v3.0.0. Use suggest_float(..., log=True) instead.\n",
      "  'min_child_weight': trial.suggest_loguniform('min_child_weight', 1e-3, 10.0),\n",
      "/var/folders/ws/5628jcln1q1g_nmpns07dt_m0000gn/T/ipykernel_14057/3176874039.py:13: FutureWarning: suggest_loguniform has been deprecated in v3.0.0. This feature will be removed in v6.0.0. See https://github.com/optuna/optuna/releases/tag/v3.0.0. Use suggest_float(..., log=True) instead.\n",
      "  'reg_alpha': trial.suggest_loguniform('reg_alpha', 1e-8, 10.0),\n",
      "/var/folders/ws/5628jcln1q1g_nmpns07dt_m0000gn/T/ipykernel_14057/3176874039.py:14: FutureWarning: suggest_loguniform has been deprecated in v3.0.0. This feature will be removed in v6.0.0. See https://github.com/optuna/optuna/releases/tag/v3.0.0. Use suggest_float(..., log=True) instead.\n",
      "  'reg_lambda': trial.suggest_loguniform('reg_lambda', 1e-8, 10.0),\n",
      "[I 2025-03-09 20:51:19,034] Trial 95 finished with value: 0.8944028767755062 and parameters: {'boosting_type': 'dart', 'learning_rate': 0.04377123621244947, 'num_leaves': 281, 'max_depth': 6, 'min_child_samples': 51, 'min_child_weight': 0.31382032849415425, 'subsample': 0.8903337005379183, 'colsample_bytree': 0.43027174164142484, 'reg_alpha': 3.944256046214042e-05, 'reg_lambda': 1.860049753386995e-07, 'n_estimators': 102, 'min_split_gain': 0.09380972628980817, 'subsample_freq': 7, 'max_bin': 111, 'scale_pos_weight': 1.874837891998044}. Best is trial 56 with value: 0.8966058616656392.\n"
     ]
    },
    {
     "name": "stdout",
     "output_type": "stream",
     "text": [
      "Trial 95 - Train AUC: 0.9414 | Validation AUC: 0.8944\n"
     ]
    },
    {
     "name": "stderr",
     "output_type": "stream",
     "text": [
      "/var/folders/ws/5628jcln1q1g_nmpns07dt_m0000gn/T/ipykernel_14057/3176874039.py:6: FutureWarning: suggest_loguniform has been deprecated in v3.0.0. This feature will be removed in v6.0.0. See https://github.com/optuna/optuna/releases/tag/v3.0.0. Use suggest_float(..., log=True) instead.\n",
      "  'learning_rate': trial.suggest_loguniform('learning_rate', 1e-3, 1e-1),\n",
      "/var/folders/ws/5628jcln1q1g_nmpns07dt_m0000gn/T/ipykernel_14057/3176874039.py:10: FutureWarning: suggest_loguniform has been deprecated in v3.0.0. This feature will be removed in v6.0.0. See https://github.com/optuna/optuna/releases/tag/v3.0.0. Use suggest_float(..., log=True) instead.\n",
      "  'min_child_weight': trial.suggest_loguniform('min_child_weight', 1e-3, 10.0),\n",
      "/var/folders/ws/5628jcln1q1g_nmpns07dt_m0000gn/T/ipykernel_14057/3176874039.py:13: FutureWarning: suggest_loguniform has been deprecated in v3.0.0. This feature will be removed in v6.0.0. See https://github.com/optuna/optuna/releases/tag/v3.0.0. Use suggest_float(..., log=True) instead.\n",
      "  'reg_alpha': trial.suggest_loguniform('reg_alpha', 1e-8, 10.0),\n",
      "/var/folders/ws/5628jcln1q1g_nmpns07dt_m0000gn/T/ipykernel_14057/3176874039.py:14: FutureWarning: suggest_loguniform has been deprecated in v3.0.0. This feature will be removed in v6.0.0. See https://github.com/optuna/optuna/releases/tag/v3.0.0. Use suggest_float(..., log=True) instead.\n",
      "  'reg_lambda': trial.suggest_loguniform('reg_lambda', 1e-8, 10.0),\n",
      "[I 2025-03-09 20:51:19,279] Trial 96 finished with value: 0.8896911943453892 and parameters: {'boosting_type': 'dart', 'learning_rate': 0.051883919412462814, 'num_leaves': 246, 'max_depth': 4, 'min_child_samples': 42, 'min_child_weight': 0.13753942057897497, 'subsample': 0.7750739760044607, 'colsample_bytree': 0.48022933037919724, 'reg_alpha': 0.04769058217860013, 'reg_lambda': 5.766906955722824e-07, 'n_estimators': 26, 'min_split_gain': 0.24116189561291096, 'subsample_freq': 8, 'max_bin': 114, 'scale_pos_weight': 1.7930946459423618}. Best is trial 56 with value: 0.8966058616656392.\n"
     ]
    },
    {
     "name": "stdout",
     "output_type": "stream",
     "text": [
      "Trial 96 - Train AUC: 0.9158 | Validation AUC: 0.8897\n"
     ]
    },
    {
     "name": "stderr",
     "output_type": "stream",
     "text": [
      "/var/folders/ws/5628jcln1q1g_nmpns07dt_m0000gn/T/ipykernel_14057/3176874039.py:6: FutureWarning: suggest_loguniform has been deprecated in v3.0.0. This feature will be removed in v6.0.0. See https://github.com/optuna/optuna/releases/tag/v3.0.0. Use suggest_float(..., log=True) instead.\n",
      "  'learning_rate': trial.suggest_loguniform('learning_rate', 1e-3, 1e-1),\n",
      "/var/folders/ws/5628jcln1q1g_nmpns07dt_m0000gn/T/ipykernel_14057/3176874039.py:10: FutureWarning: suggest_loguniform has been deprecated in v3.0.0. This feature will be removed in v6.0.0. See https://github.com/optuna/optuna/releases/tag/v3.0.0. Use suggest_float(..., log=True) instead.\n",
      "  'min_child_weight': trial.suggest_loguniform('min_child_weight', 1e-3, 10.0),\n",
      "/var/folders/ws/5628jcln1q1g_nmpns07dt_m0000gn/T/ipykernel_14057/3176874039.py:13: FutureWarning: suggest_loguniform has been deprecated in v3.0.0. This feature will be removed in v6.0.0. See https://github.com/optuna/optuna/releases/tag/v3.0.0. Use suggest_float(..., log=True) instead.\n",
      "  'reg_alpha': trial.suggest_loguniform('reg_alpha', 1e-8, 10.0),\n",
      "/var/folders/ws/5628jcln1q1g_nmpns07dt_m0000gn/T/ipykernel_14057/3176874039.py:14: FutureWarning: suggest_loguniform has been deprecated in v3.0.0. This feature will be removed in v6.0.0. See https://github.com/optuna/optuna/releases/tag/v3.0.0. Use suggest_float(..., log=True) instead.\n",
      "  'reg_lambda': trial.suggest_loguniform('reg_lambda', 1e-8, 10.0),\n",
      "[I 2025-03-09 20:51:20,587] Trial 97 finished with value: 0.8925923120657895 and parameters: {'boosting_type': 'dart', 'learning_rate': 0.007720794613544518, 'num_leaves': 272, 'max_depth': 5, 'min_child_samples': 16, 'min_child_weight': 0.0156862255939399, 'subsample': 0.9125813579593847, 'colsample_bytree': 0.635259133583282, 'reg_alpha': 0.005548141001244388, 'reg_lambda': 1.1241962920012583e-06, 'n_estimators': 110, 'min_split_gain': 0.18983833257121357, 'subsample_freq': 6, 'max_bin': 104, 'scale_pos_weight': 1.831549101784416}. Best is trial 56 with value: 0.8966058616656392.\n"
     ]
    },
    {
     "name": "stdout",
     "output_type": "stream",
     "text": [
      "Trial 97 - Train AUC: 0.9328 | Validation AUC: 0.8926\n"
     ]
    },
    {
     "name": "stderr",
     "output_type": "stream",
     "text": [
      "/var/folders/ws/5628jcln1q1g_nmpns07dt_m0000gn/T/ipykernel_14057/3176874039.py:6: FutureWarning: suggest_loguniform has been deprecated in v3.0.0. This feature will be removed in v6.0.0. See https://github.com/optuna/optuna/releases/tag/v3.0.0. Use suggest_float(..., log=True) instead.\n",
      "  'learning_rate': trial.suggest_loguniform('learning_rate', 1e-3, 1e-1),\n",
      "/var/folders/ws/5628jcln1q1g_nmpns07dt_m0000gn/T/ipykernel_14057/3176874039.py:10: FutureWarning: suggest_loguniform has been deprecated in v3.0.0. This feature will be removed in v6.0.0. See https://github.com/optuna/optuna/releases/tag/v3.0.0. Use suggest_float(..., log=True) instead.\n",
      "  'min_child_weight': trial.suggest_loguniform('min_child_weight', 1e-3, 10.0),\n",
      "/var/folders/ws/5628jcln1q1g_nmpns07dt_m0000gn/T/ipykernel_14057/3176874039.py:13: FutureWarning: suggest_loguniform has been deprecated in v3.0.0. This feature will be removed in v6.0.0. See https://github.com/optuna/optuna/releases/tag/v3.0.0. Use suggest_float(..., log=True) instead.\n",
      "  'reg_alpha': trial.suggest_loguniform('reg_alpha', 1e-8, 10.0),\n",
      "/var/folders/ws/5628jcln1q1g_nmpns07dt_m0000gn/T/ipykernel_14057/3176874039.py:14: FutureWarning: suggest_loguniform has been deprecated in v3.0.0. This feature will be removed in v6.0.0. See https://github.com/optuna/optuna/releases/tag/v3.0.0. Use suggest_float(..., log=True) instead.\n",
      "  'reg_lambda': trial.suggest_loguniform('reg_lambda', 1e-8, 10.0),\n",
      "[I 2025-03-09 20:51:21,873] Trial 98 finished with value: 0.8935156563027797 and parameters: {'boosting_type': 'dart', 'learning_rate': 0.07441650552595656, 'num_leaves': 263, 'max_depth': 5, 'min_child_samples': 10, 'min_child_weight': 0.19417165748044973, 'subsample': 0.8400273908214712, 'colsample_bytree': 0.5529619778085122, 'reg_alpha': 9.544466476458842e-05, 'reg_lambda': 3.8922528140866276e-08, 'n_estimators': 106, 'min_split_gain': 0.16256467318580722, 'subsample_freq': 5, 'max_bin': 140, 'scale_pos_weight': 1.899546410475876}. Best is trial 56 with value: 0.8966058616656392.\n"
     ]
    },
    {
     "name": "stdout",
     "output_type": "stream",
     "text": [
      "Trial 98 - Train AUC: 0.9751 | Validation AUC: 0.8935\n"
     ]
    },
    {
     "name": "stderr",
     "output_type": "stream",
     "text": [
      "/var/folders/ws/5628jcln1q1g_nmpns07dt_m0000gn/T/ipykernel_14057/3176874039.py:6: FutureWarning: suggest_loguniform has been deprecated in v3.0.0. This feature will be removed in v6.0.0. See https://github.com/optuna/optuna/releases/tag/v3.0.0. Use suggest_float(..., log=True) instead.\n",
      "  'learning_rate': trial.suggest_loguniform('learning_rate', 1e-3, 1e-1),\n",
      "/var/folders/ws/5628jcln1q1g_nmpns07dt_m0000gn/T/ipykernel_14057/3176874039.py:10: FutureWarning: suggest_loguniform has been deprecated in v3.0.0. This feature will be removed in v6.0.0. See https://github.com/optuna/optuna/releases/tag/v3.0.0. Use suggest_float(..., log=True) instead.\n",
      "  'min_child_weight': trial.suggest_loguniform('min_child_weight', 1e-3, 10.0),\n",
      "/var/folders/ws/5628jcln1q1g_nmpns07dt_m0000gn/T/ipykernel_14057/3176874039.py:13: FutureWarning: suggest_loguniform has been deprecated in v3.0.0. This feature will be removed in v6.0.0. See https://github.com/optuna/optuna/releases/tag/v3.0.0. Use suggest_float(..., log=True) instead.\n",
      "  'reg_alpha': trial.suggest_loguniform('reg_alpha', 1e-8, 10.0),\n",
      "/var/folders/ws/5628jcln1q1g_nmpns07dt_m0000gn/T/ipykernel_14057/3176874039.py:14: FutureWarning: suggest_loguniform has been deprecated in v3.0.0. This feature will be removed in v6.0.0. See https://github.com/optuna/optuna/releases/tag/v3.0.0. Use suggest_float(..., log=True) instead.\n",
      "  'reg_lambda': trial.suggest_loguniform('reg_lambda', 1e-8, 10.0),\n",
      "[I 2025-03-09 20:51:22,791] Trial 99 finished with value: 0.8933486790185764 and parameters: {'boosting_type': 'dart', 'learning_rate': 0.09166266552287654, 'num_leaves': 292, 'max_depth': 4, 'min_child_samples': 7, 'min_child_weight': 0.022470340499616173, 'subsample': 0.8216120045761607, 'colsample_bytree': 0.5111915381945985, 'reg_alpha': 0.0022224632027119883, 'reg_lambda': 7.182799114360653e-08, 'n_estimators': 113, 'min_split_gain': 0.22433274143000814, 'subsample_freq': 8, 'max_bin': 129, 'scale_pos_weight': 1.9987161145008714}. Best is trial 56 with value: 0.8966058616656392.\n"
     ]
    },
    {
     "name": "stdout",
     "output_type": "stream",
     "text": [
      "Trial 99 - Train AUC: 0.9685 | Validation AUC: 0.8933\n"
     ]
    }
   ],
   "source": [
    "study = optuna.create_study(direction='maximize', sampler= optuna.samplers.TPESampler(seed= 42))\n",
    "study.optimize(lambda trial: objective(trial, X_train, y_train), n_trials=100)"
   ]
  },
  {
   "cell_type": "code",
   "execution_count": 58,
   "id": "3547e402-20fe-4a93-a254-53d9c67cafce",
   "metadata": {
    "scrolled": true
   },
   "outputs": [
    {
     "name": "stdout",
     "output_type": "stream",
     "text": [
      "[LightGBM] [Warning] Categorical features with more bins than the configured maximum bin number found.\n",
      "[LightGBM] [Warning] For categorical features, max_bin and max_bin_by_feature may be ignored with a large number of categories.\n",
      "[LightGBM] [Info] Number of positive: 1899, number of negative: 657\n",
      "[LightGBM] [Info] Auto-choosing col-wise multi-threading, the overhead of testing was 0.000493 seconds.\n",
      "You can set `force_col_wise=true` to remove the overhead.\n",
      "[LightGBM] [Info] Total Bins 4456\n",
      "[LightGBM] [Info] Number of data points in the train set: 2556, number of used features: 36\n",
      "[LightGBM] [Info] [binary:BoostFromScore]: pavg=0.742958 -> initscore=1.061399\n",
      "[LightGBM] [Info] Start training from score 1.061399\n",
      "[LightGBM] [Warning] No further splits with positive gain, best gain: -inf\n",
      "[LightGBM] [Warning] No further splits with positive gain, best gain: -inf\n",
      "[LightGBM] [Warning] No further splits with positive gain, best gain: -inf\n",
      "[LightGBM] [Warning] No further splits with positive gain, best gain: -inf\n",
      "[LightGBM] [Warning] No further splits with positive gain, best gain: -inf\n",
      "[LightGBM] [Warning] No further splits with positive gain, best gain: -inf\n",
      "[LightGBM] [Warning] No further splits with positive gain, best gain: -inf\n",
      "[LightGBM] [Warning] No further splits with positive gain, best gain: -inf\n",
      "[LightGBM] [Warning] No further splits with positive gain, best gain: -inf\n",
      "[LightGBM] [Warning] No further splits with positive gain, best gain: -inf\n",
      "[LightGBM] [Warning] No further splits with positive gain, best gain: -inf\n",
      "[LightGBM] [Warning] No further splits with positive gain, best gain: -inf\n",
      "[LightGBM] [Warning] No further splits with positive gain, best gain: -inf\n",
      "[LightGBM] [Warning] No further splits with positive gain, best gain: -inf\n",
      "[LightGBM] [Warning] No further splits with positive gain, best gain: -inf\n",
      "[LightGBM] [Warning] No further splits with positive gain, best gain: -inf\n",
      "[LightGBM] [Warning] No further splits with positive gain, best gain: -inf\n",
      "[LightGBM] [Warning] No further splits with positive gain, best gain: -inf\n",
      "[LightGBM] [Warning] No further splits with positive gain, best gain: -inf\n",
      "[LightGBM] [Warning] No further splits with positive gain, best gain: -inf\n",
      "[LightGBM] [Warning] No further splits with positive gain, best gain: -inf\n",
      "[LightGBM] [Warning] No further splits with positive gain, best gain: -inf\n",
      "[LightGBM] [Warning] No further splits with positive gain, best gain: -inf\n",
      "[LightGBM] [Warning] No further splits with positive gain, best gain: -inf\n",
      "[LightGBM] [Warning] No further splits with positive gain, best gain: -inf\n",
      "[LightGBM] [Warning] No further splits with positive gain, best gain: -inf\n",
      "[LightGBM] [Warning] No further splits with positive gain, best gain: -inf\n",
      "[LightGBM] [Warning] No further splits with positive gain, best gain: -inf\n",
      "[LightGBM] [Warning] No further splits with positive gain, best gain: -inf\n",
      "[LightGBM] [Warning] No further splits with positive gain, best gain: -inf\n",
      "[LightGBM] [Warning] No further splits with positive gain, best gain: -inf\n",
      "[LightGBM] [Warning] No further splits with positive gain, best gain: -inf\n",
      "[LightGBM] [Warning] No further splits with positive gain, best gain: -inf\n",
      "[LightGBM] [Warning] No further splits with positive gain, best gain: -inf\n",
      "[LightGBM] [Warning] No further splits with positive gain, best gain: -inf\n",
      "[LightGBM] [Warning] No further splits with positive gain, best gain: -inf\n",
      "[LightGBM] [Warning] No further splits with positive gain, best gain: -inf\n",
      "[LightGBM] [Warning] No further splits with positive gain, best gain: -inf\n",
      "[LightGBM] [Warning] No further splits with positive gain, best gain: -inf\n",
      "[LightGBM] [Warning] No further splits with positive gain, best gain: -inf\n",
      "[LightGBM] [Warning] No further splits with positive gain, best gain: -inf\n",
      "[LightGBM] [Warning] No further splits with positive gain, best gain: -inf\n",
      "[LightGBM] [Warning] No further splits with positive gain, best gain: -inf\n",
      "[LightGBM] [Warning] No further splits with positive gain, best gain: -inf\n",
      "[LightGBM] [Warning] No further splits with positive gain, best gain: -inf\n",
      "[LightGBM] [Warning] No further splits with positive gain, best gain: -inf\n",
      "[LightGBM] [Warning] No further splits with positive gain, best gain: -inf\n",
      "[LightGBM] [Warning] No further splits with positive gain, best gain: -inf\n",
      "[LightGBM] [Warning] No further splits with positive gain, best gain: -inf\n",
      "[LightGBM] [Warning] No further splits with positive gain, best gain: -inf\n",
      "[LightGBM] [Warning] No further splits with positive gain, best gain: -inf\n",
      "[LightGBM] [Warning] No further splits with positive gain, best gain: -inf\n",
      "[LightGBM] [Warning] No further splits with positive gain, best gain: -inf\n",
      "[LightGBM] [Warning] No further splits with positive gain, best gain: -inf\n",
      "[LightGBM] [Warning] No further splits with positive gain, best gain: -inf\n",
      "[LightGBM] [Warning] No further splits with positive gain, best gain: -inf\n",
      "[LightGBM] [Warning] No further splits with positive gain, best gain: -inf\n",
      "[LightGBM] [Warning] No further splits with positive gain, best gain: -inf\n",
      "[LightGBM] [Warning] No further splits with positive gain, best gain: -inf\n",
      "[LightGBM] [Warning] No further splits with positive gain, best gain: -inf\n",
      "[LightGBM] [Warning] No further splits with positive gain, best gain: -inf\n",
      "[LightGBM] [Warning] No further splits with positive gain, best gain: -inf\n",
      "[LightGBM] [Warning] No further splits with positive gain, best gain: -inf\n",
      "[LightGBM] [Warning] No further splits with positive gain, best gain: -inf\n",
      "[LightGBM] [Warning] No further splits with positive gain, best gain: -inf\n",
      "[LightGBM] [Warning] No further splits with positive gain, best gain: -inf\n",
      "[LightGBM] [Warning] No further splits with positive gain, best gain: -inf\n",
      "[LightGBM] [Warning] No further splits with positive gain, best gain: -inf\n",
      "[LightGBM] [Warning] No further splits with positive gain, best gain: -inf\n",
      "[LightGBM] [Warning] No further splits with positive gain, best gain: -inf\n",
      "[LightGBM] [Warning] No further splits with positive gain, best gain: -inf\n",
      "[LightGBM] [Warning] No further splits with positive gain, best gain: -inf\n",
      "[LightGBM] [Warning] No further splits with positive gain, best gain: -inf\n",
      "[LightGBM] [Warning] No further splits with positive gain, best gain: -inf\n",
      "[LightGBM] [Warning] No further splits with positive gain, best gain: -inf\n",
      "[LightGBM] [Warning] No further splits with positive gain, best gain: -inf\n",
      "[LightGBM] [Warning] No further splits with positive gain, best gain: -inf\n",
      "[LightGBM] [Warning] No further splits with positive gain, best gain: -inf\n"
     ]
    },
    {
     "data": {
      "text/html": [
       "<style>#sk-container-id-2 {\n",
       "  /* Definition of color scheme common for light and dark mode */\n",
       "  --sklearn-color-text: #000;\n",
       "  --sklearn-color-text-muted: #666;\n",
       "  --sklearn-color-line: gray;\n",
       "  /* Definition of color scheme for unfitted estimators */\n",
       "  --sklearn-color-unfitted-level-0: #fff5e6;\n",
       "  --sklearn-color-unfitted-level-1: #f6e4d2;\n",
       "  --sklearn-color-unfitted-level-2: #ffe0b3;\n",
       "  --sklearn-color-unfitted-level-3: chocolate;\n",
       "  /* Definition of color scheme for fitted estimators */\n",
       "  --sklearn-color-fitted-level-0: #f0f8ff;\n",
       "  --sklearn-color-fitted-level-1: #d4ebff;\n",
       "  --sklearn-color-fitted-level-2: #b3dbfd;\n",
       "  --sklearn-color-fitted-level-3: cornflowerblue;\n",
       "\n",
       "  /* Specific color for light theme */\n",
       "  --sklearn-color-text-on-default-background: var(--sg-text-color, var(--theme-code-foreground, var(--jp-content-font-color1, black)));\n",
       "  --sklearn-color-background: var(--sg-background-color, var(--theme-background, var(--jp-layout-color0, white)));\n",
       "  --sklearn-color-border-box: var(--sg-text-color, var(--theme-code-foreground, var(--jp-content-font-color1, black)));\n",
       "  --sklearn-color-icon: #696969;\n",
       "\n",
       "  @media (prefers-color-scheme: dark) {\n",
       "    /* Redefinition of color scheme for dark theme */\n",
       "    --sklearn-color-text-on-default-background: var(--sg-text-color, var(--theme-code-foreground, var(--jp-content-font-color1, white)));\n",
       "    --sklearn-color-background: var(--sg-background-color, var(--theme-background, var(--jp-layout-color0, #111)));\n",
       "    --sklearn-color-border-box: var(--sg-text-color, var(--theme-code-foreground, var(--jp-content-font-color1, white)));\n",
       "    --sklearn-color-icon: #878787;\n",
       "  }\n",
       "}\n",
       "\n",
       "#sk-container-id-2 {\n",
       "  color: var(--sklearn-color-text);\n",
       "}\n",
       "\n",
       "#sk-container-id-2 pre {\n",
       "  padding: 0;\n",
       "}\n",
       "\n",
       "#sk-container-id-2 input.sk-hidden--visually {\n",
       "  border: 0;\n",
       "  clip: rect(1px 1px 1px 1px);\n",
       "  clip: rect(1px, 1px, 1px, 1px);\n",
       "  height: 1px;\n",
       "  margin: -1px;\n",
       "  overflow: hidden;\n",
       "  padding: 0;\n",
       "  position: absolute;\n",
       "  width: 1px;\n",
       "}\n",
       "\n",
       "#sk-container-id-2 div.sk-dashed-wrapped {\n",
       "  border: 1px dashed var(--sklearn-color-line);\n",
       "  margin: 0 0.4em 0.5em 0.4em;\n",
       "  box-sizing: border-box;\n",
       "  padding-bottom: 0.4em;\n",
       "  background-color: var(--sklearn-color-background);\n",
       "}\n",
       "\n",
       "#sk-container-id-2 div.sk-container {\n",
       "  /* jupyter's `normalize.less` sets `[hidden] { display: none; }`\n",
       "     but bootstrap.min.css set `[hidden] { display: none !important; }`\n",
       "     so we also need the `!important` here to be able to override the\n",
       "     default hidden behavior on the sphinx rendered scikit-learn.org.\n",
       "     See: https://github.com/scikit-learn/scikit-learn/issues/21755 */\n",
       "  display: inline-block !important;\n",
       "  position: relative;\n",
       "}\n",
       "\n",
       "#sk-container-id-2 div.sk-text-repr-fallback {\n",
       "  display: none;\n",
       "}\n",
       "\n",
       "div.sk-parallel-item,\n",
       "div.sk-serial,\n",
       "div.sk-item {\n",
       "  /* draw centered vertical line to link estimators */\n",
       "  background-image: linear-gradient(var(--sklearn-color-text-on-default-background), var(--sklearn-color-text-on-default-background));\n",
       "  background-size: 2px 100%;\n",
       "  background-repeat: no-repeat;\n",
       "  background-position: center center;\n",
       "}\n",
       "\n",
       "/* Parallel-specific style estimator block */\n",
       "\n",
       "#sk-container-id-2 div.sk-parallel-item::after {\n",
       "  content: \"\";\n",
       "  width: 100%;\n",
       "  border-bottom: 2px solid var(--sklearn-color-text-on-default-background);\n",
       "  flex-grow: 1;\n",
       "}\n",
       "\n",
       "#sk-container-id-2 div.sk-parallel {\n",
       "  display: flex;\n",
       "  align-items: stretch;\n",
       "  justify-content: center;\n",
       "  background-color: var(--sklearn-color-background);\n",
       "  position: relative;\n",
       "}\n",
       "\n",
       "#sk-container-id-2 div.sk-parallel-item {\n",
       "  display: flex;\n",
       "  flex-direction: column;\n",
       "}\n",
       "\n",
       "#sk-container-id-2 div.sk-parallel-item:first-child::after {\n",
       "  align-self: flex-end;\n",
       "  width: 50%;\n",
       "}\n",
       "\n",
       "#sk-container-id-2 div.sk-parallel-item:last-child::after {\n",
       "  align-self: flex-start;\n",
       "  width: 50%;\n",
       "}\n",
       "\n",
       "#sk-container-id-2 div.sk-parallel-item:only-child::after {\n",
       "  width: 0;\n",
       "}\n",
       "\n",
       "/* Serial-specific style estimator block */\n",
       "\n",
       "#sk-container-id-2 div.sk-serial {\n",
       "  display: flex;\n",
       "  flex-direction: column;\n",
       "  align-items: center;\n",
       "  background-color: var(--sklearn-color-background);\n",
       "  padding-right: 1em;\n",
       "  padding-left: 1em;\n",
       "}\n",
       "\n",
       "\n",
       "/* Toggleable style: style used for estimator/Pipeline/ColumnTransformer box that is\n",
       "clickable and can be expanded/collapsed.\n",
       "- Pipeline and ColumnTransformer use this feature and define the default style\n",
       "- Estimators will overwrite some part of the style using the `sk-estimator` class\n",
       "*/\n",
       "\n",
       "/* Pipeline and ColumnTransformer style (default) */\n",
       "\n",
       "#sk-container-id-2 div.sk-toggleable {\n",
       "  /* Default theme specific background. It is overwritten whether we have a\n",
       "  specific estimator or a Pipeline/ColumnTransformer */\n",
       "  background-color: var(--sklearn-color-background);\n",
       "}\n",
       "\n",
       "/* Toggleable label */\n",
       "#sk-container-id-2 label.sk-toggleable__label {\n",
       "  cursor: pointer;\n",
       "  display: flex;\n",
       "  width: 100%;\n",
       "  margin-bottom: 0;\n",
       "  padding: 0.5em;\n",
       "  box-sizing: border-box;\n",
       "  text-align: center;\n",
       "  align-items: start;\n",
       "  justify-content: space-between;\n",
       "  gap: 0.5em;\n",
       "}\n",
       "\n",
       "#sk-container-id-2 label.sk-toggleable__label .caption {\n",
       "  font-size: 0.6rem;\n",
       "  font-weight: lighter;\n",
       "  color: var(--sklearn-color-text-muted);\n",
       "}\n",
       "\n",
       "#sk-container-id-2 label.sk-toggleable__label-arrow:before {\n",
       "  /* Arrow on the left of the label */\n",
       "  content: \"▸\";\n",
       "  float: left;\n",
       "  margin-right: 0.25em;\n",
       "  color: var(--sklearn-color-icon);\n",
       "}\n",
       "\n",
       "#sk-container-id-2 label.sk-toggleable__label-arrow:hover:before {\n",
       "  color: var(--sklearn-color-text);\n",
       "}\n",
       "\n",
       "/* Toggleable content - dropdown */\n",
       "\n",
       "#sk-container-id-2 div.sk-toggleable__content {\n",
       "  max-height: 0;\n",
       "  max-width: 0;\n",
       "  overflow: hidden;\n",
       "  text-align: left;\n",
       "  /* unfitted */\n",
       "  background-color: var(--sklearn-color-unfitted-level-0);\n",
       "}\n",
       "\n",
       "#sk-container-id-2 div.sk-toggleable__content.fitted {\n",
       "  /* fitted */\n",
       "  background-color: var(--sklearn-color-fitted-level-0);\n",
       "}\n",
       "\n",
       "#sk-container-id-2 div.sk-toggleable__content pre {\n",
       "  margin: 0.2em;\n",
       "  border-radius: 0.25em;\n",
       "  color: var(--sklearn-color-text);\n",
       "  /* unfitted */\n",
       "  background-color: var(--sklearn-color-unfitted-level-0);\n",
       "}\n",
       "\n",
       "#sk-container-id-2 div.sk-toggleable__content.fitted pre {\n",
       "  /* unfitted */\n",
       "  background-color: var(--sklearn-color-fitted-level-0);\n",
       "}\n",
       "\n",
       "#sk-container-id-2 input.sk-toggleable__control:checked~div.sk-toggleable__content {\n",
       "  /* Expand drop-down */\n",
       "  max-height: 200px;\n",
       "  max-width: 100%;\n",
       "  overflow: auto;\n",
       "}\n",
       "\n",
       "#sk-container-id-2 input.sk-toggleable__control:checked~label.sk-toggleable__label-arrow:before {\n",
       "  content: \"▾\";\n",
       "}\n",
       "\n",
       "/* Pipeline/ColumnTransformer-specific style */\n",
       "\n",
       "#sk-container-id-2 div.sk-label input.sk-toggleable__control:checked~label.sk-toggleable__label {\n",
       "  color: var(--sklearn-color-text);\n",
       "  background-color: var(--sklearn-color-unfitted-level-2);\n",
       "}\n",
       "\n",
       "#sk-container-id-2 div.sk-label.fitted input.sk-toggleable__control:checked~label.sk-toggleable__label {\n",
       "  background-color: var(--sklearn-color-fitted-level-2);\n",
       "}\n",
       "\n",
       "/* Estimator-specific style */\n",
       "\n",
       "/* Colorize estimator box */\n",
       "#sk-container-id-2 div.sk-estimator input.sk-toggleable__control:checked~label.sk-toggleable__label {\n",
       "  /* unfitted */\n",
       "  background-color: var(--sklearn-color-unfitted-level-2);\n",
       "}\n",
       "\n",
       "#sk-container-id-2 div.sk-estimator.fitted input.sk-toggleable__control:checked~label.sk-toggleable__label {\n",
       "  /* fitted */\n",
       "  background-color: var(--sklearn-color-fitted-level-2);\n",
       "}\n",
       "\n",
       "#sk-container-id-2 div.sk-label label.sk-toggleable__label,\n",
       "#sk-container-id-2 div.sk-label label {\n",
       "  /* The background is the default theme color */\n",
       "  color: var(--sklearn-color-text-on-default-background);\n",
       "}\n",
       "\n",
       "/* On hover, darken the color of the background */\n",
       "#sk-container-id-2 div.sk-label:hover label.sk-toggleable__label {\n",
       "  color: var(--sklearn-color-text);\n",
       "  background-color: var(--sklearn-color-unfitted-level-2);\n",
       "}\n",
       "\n",
       "/* Label box, darken color on hover, fitted */\n",
       "#sk-container-id-2 div.sk-label.fitted:hover label.sk-toggleable__label.fitted {\n",
       "  color: var(--sklearn-color-text);\n",
       "  background-color: var(--sklearn-color-fitted-level-2);\n",
       "}\n",
       "\n",
       "/* Estimator label */\n",
       "\n",
       "#sk-container-id-2 div.sk-label label {\n",
       "  font-family: monospace;\n",
       "  font-weight: bold;\n",
       "  display: inline-block;\n",
       "  line-height: 1.2em;\n",
       "}\n",
       "\n",
       "#sk-container-id-2 div.sk-label-container {\n",
       "  text-align: center;\n",
       "}\n",
       "\n",
       "/* Estimator-specific */\n",
       "#sk-container-id-2 div.sk-estimator {\n",
       "  font-family: monospace;\n",
       "  border: 1px dotted var(--sklearn-color-border-box);\n",
       "  border-radius: 0.25em;\n",
       "  box-sizing: border-box;\n",
       "  margin-bottom: 0.5em;\n",
       "  /* unfitted */\n",
       "  background-color: var(--sklearn-color-unfitted-level-0);\n",
       "}\n",
       "\n",
       "#sk-container-id-2 div.sk-estimator.fitted {\n",
       "  /* fitted */\n",
       "  background-color: var(--sklearn-color-fitted-level-0);\n",
       "}\n",
       "\n",
       "/* on hover */\n",
       "#sk-container-id-2 div.sk-estimator:hover {\n",
       "  /* unfitted */\n",
       "  background-color: var(--sklearn-color-unfitted-level-2);\n",
       "}\n",
       "\n",
       "#sk-container-id-2 div.sk-estimator.fitted:hover {\n",
       "  /* fitted */\n",
       "  background-color: var(--sklearn-color-fitted-level-2);\n",
       "}\n",
       "\n",
       "/* Specification for estimator info (e.g. \"i\" and \"?\") */\n",
       "\n",
       "/* Common style for \"i\" and \"?\" */\n",
       "\n",
       ".sk-estimator-doc-link,\n",
       "a:link.sk-estimator-doc-link,\n",
       "a:visited.sk-estimator-doc-link {\n",
       "  float: right;\n",
       "  font-size: smaller;\n",
       "  line-height: 1em;\n",
       "  font-family: monospace;\n",
       "  background-color: var(--sklearn-color-background);\n",
       "  border-radius: 1em;\n",
       "  height: 1em;\n",
       "  width: 1em;\n",
       "  text-decoration: none !important;\n",
       "  margin-left: 0.5em;\n",
       "  text-align: center;\n",
       "  /* unfitted */\n",
       "  border: var(--sklearn-color-unfitted-level-1) 1pt solid;\n",
       "  color: var(--sklearn-color-unfitted-level-1);\n",
       "}\n",
       "\n",
       ".sk-estimator-doc-link.fitted,\n",
       "a:link.sk-estimator-doc-link.fitted,\n",
       "a:visited.sk-estimator-doc-link.fitted {\n",
       "  /* fitted */\n",
       "  border: var(--sklearn-color-fitted-level-1) 1pt solid;\n",
       "  color: var(--sklearn-color-fitted-level-1);\n",
       "}\n",
       "\n",
       "/* On hover */\n",
       "div.sk-estimator:hover .sk-estimator-doc-link:hover,\n",
       ".sk-estimator-doc-link:hover,\n",
       "div.sk-label-container:hover .sk-estimator-doc-link:hover,\n",
       ".sk-estimator-doc-link:hover {\n",
       "  /* unfitted */\n",
       "  background-color: var(--sklearn-color-unfitted-level-3);\n",
       "  color: var(--sklearn-color-background);\n",
       "  text-decoration: none;\n",
       "}\n",
       "\n",
       "div.sk-estimator.fitted:hover .sk-estimator-doc-link.fitted:hover,\n",
       ".sk-estimator-doc-link.fitted:hover,\n",
       "div.sk-label-container:hover .sk-estimator-doc-link.fitted:hover,\n",
       ".sk-estimator-doc-link.fitted:hover {\n",
       "  /* fitted */\n",
       "  background-color: var(--sklearn-color-fitted-level-3);\n",
       "  color: var(--sklearn-color-background);\n",
       "  text-decoration: none;\n",
       "}\n",
       "\n",
       "/* Span, style for the box shown on hovering the info icon */\n",
       ".sk-estimator-doc-link span {\n",
       "  display: none;\n",
       "  z-index: 9999;\n",
       "  position: relative;\n",
       "  font-weight: normal;\n",
       "  right: .2ex;\n",
       "  padding: .5ex;\n",
       "  margin: .5ex;\n",
       "  width: min-content;\n",
       "  min-width: 20ex;\n",
       "  max-width: 50ex;\n",
       "  color: var(--sklearn-color-text);\n",
       "  box-shadow: 2pt 2pt 4pt #999;\n",
       "  /* unfitted */\n",
       "  background: var(--sklearn-color-unfitted-level-0);\n",
       "  border: .5pt solid var(--sklearn-color-unfitted-level-3);\n",
       "}\n",
       "\n",
       ".sk-estimator-doc-link.fitted span {\n",
       "  /* fitted */\n",
       "  background: var(--sklearn-color-fitted-level-0);\n",
       "  border: var(--sklearn-color-fitted-level-3);\n",
       "}\n",
       "\n",
       ".sk-estimator-doc-link:hover span {\n",
       "  display: block;\n",
       "}\n",
       "\n",
       "/* \"?\"-specific style due to the `<a>` HTML tag */\n",
       "\n",
       "#sk-container-id-2 a.estimator_doc_link {\n",
       "  float: right;\n",
       "  font-size: 1rem;\n",
       "  line-height: 1em;\n",
       "  font-family: monospace;\n",
       "  background-color: var(--sklearn-color-background);\n",
       "  border-radius: 1rem;\n",
       "  height: 1rem;\n",
       "  width: 1rem;\n",
       "  text-decoration: none;\n",
       "  /* unfitted */\n",
       "  color: var(--sklearn-color-unfitted-level-1);\n",
       "  border: var(--sklearn-color-unfitted-level-1) 1pt solid;\n",
       "}\n",
       "\n",
       "#sk-container-id-2 a.estimator_doc_link.fitted {\n",
       "  /* fitted */\n",
       "  border: var(--sklearn-color-fitted-level-1) 1pt solid;\n",
       "  color: var(--sklearn-color-fitted-level-1);\n",
       "}\n",
       "\n",
       "/* On hover */\n",
       "#sk-container-id-2 a.estimator_doc_link:hover {\n",
       "  /* unfitted */\n",
       "  background-color: var(--sklearn-color-unfitted-level-3);\n",
       "  color: var(--sklearn-color-background);\n",
       "  text-decoration: none;\n",
       "}\n",
       "\n",
       "#sk-container-id-2 a.estimator_doc_link.fitted:hover {\n",
       "  /* fitted */\n",
       "  background-color: var(--sklearn-color-fitted-level-3);\n",
       "}\n",
       "</style><div id=\"sk-container-id-2\" class=\"sk-top-container\"><div class=\"sk-text-repr-fallback\"><pre>LGBMClassifier(colsample_bytree=0.5021222945566725,\n",
       "               learning_rate=0.023316433186024717, max_bin=112, max_depth=9,\n",
       "               min_child_samples=45, min_child_weight=1.0590121263232959,\n",
       "               min_split_gain=0.2569406065607691, n_estimators=78,\n",
       "               num_leaves=286, reg_alpha=0.00016198477000848877,\n",
       "               reg_lambda=0.00026397983758290404,\n",
       "               scale_pos_weight=1.689328839727197, subsample=0.7159049715410939,\n",
       "               subsample_freq=1)</pre><b>In a Jupyter environment, please rerun this cell to show the HTML representation or trust the notebook. <br />On GitHub, the HTML representation is unable to render, please try loading this page with nbviewer.org.</b></div><div class=\"sk-container\" hidden><div class=\"sk-item\"><div class=\"sk-estimator fitted sk-toggleable\"><input class=\"sk-toggleable__control sk-hidden--visually\" id=\"sk-estimator-id-2\" type=\"checkbox\" checked><label for=\"sk-estimator-id-2\" class=\"sk-toggleable__label fitted sk-toggleable__label-arrow\"><div><div>LGBMClassifier</div></div><div><span class=\"sk-estimator-doc-link fitted\">i<span>Fitted</span></span></div></label><div class=\"sk-toggleable__content fitted\"><pre>LGBMClassifier(colsample_bytree=0.5021222945566725,\n",
       "               learning_rate=0.023316433186024717, max_bin=112, max_depth=9,\n",
       "               min_child_samples=45, min_child_weight=1.0590121263232959,\n",
       "               min_split_gain=0.2569406065607691, n_estimators=78,\n",
       "               num_leaves=286, reg_alpha=0.00016198477000848877,\n",
       "               reg_lambda=0.00026397983758290404,\n",
       "               scale_pos_weight=1.689328839727197, subsample=0.7159049715410939,\n",
       "               subsample_freq=1)</pre></div> </div></div></div></div>"
      ],
      "text/plain": [
       "LGBMClassifier(colsample_bytree=0.5021222945566725,\n",
       "               learning_rate=0.023316433186024717, max_bin=112, max_depth=9,\n",
       "               min_child_samples=45, min_child_weight=1.0590121263232959,\n",
       "               min_split_gain=0.2569406065607691, n_estimators=78,\n",
       "               num_leaves=286, reg_alpha=0.00016198477000848877,\n",
       "               reg_lambda=0.00026397983758290404,\n",
       "               scale_pos_weight=1.689328839727197, subsample=0.7159049715410939,\n",
       "               subsample_freq=1)"
      ]
     },
     "execution_count": 58,
     "metadata": {},
     "output_type": "execute_result"
    }
   ],
   "source": [
    "best_params = {'boosting_type': 'gbdt', 'learning_rate': 0.023316433186024717, 'num_leaves': 286, 'max_depth': 9, 'min_child_samples': 45, 'min_child_weight': 1.0590121263232959, 'subsample': 0.7159049715410939, 'colsample_bytree': 0.5021222945566725, 'reg_alpha': 0.00016198477000848877, 'reg_lambda': 0.00026397983758290404, 'n_estimators': 78, 'min_split_gain': 0.2569406065607691, 'subsample_freq': 1, 'max_bin': 112, 'scale_pos_weight': 1.689328839727197}\n",
    "best_model = LGBMClassifier(**best_params)\n",
    "best_model.fit(X_train, y_train)"
   ]
  },
  {
   "cell_type": "code",
   "execution_count": 59,
   "id": "ba88a8cf-46ee-4fe6-b8bb-6e56c41b54cb",
   "metadata": {},
   "outputs": [],
   "source": [
    "X_test = test_data_preproccesing(raw_test_data)"
   ]
  },
  {
   "cell_type": "code",
   "execution_count": 60,
   "id": "9e046c3f-830f-48c1-9f84-e0f0ecf6dc2c",
   "metadata": {},
   "outputs": [],
   "source": [
    "predictions = best_model.predict_proba(X_test)[:, 1]"
   ]
  },
  {
   "cell_type": "code",
   "execution_count": 61,
   "id": "6bbfa15b-1df2-4e66-9735-95fceaa17562",
   "metadata": {},
   "outputs": [],
   "source": [
    "sample_submission['rainfall'] = predictions"
   ]
  },
  {
   "cell_type": "code",
   "execution_count": 62,
   "id": "0cff1949-3c96-4a26-940b-e741a3b1a6a7",
   "metadata": {},
   "outputs": [],
   "source": [
    "sample_submission.to_csv('submission.csv', index= False)"
   ]
  },
  {
   "cell_type": "code",
   "execution_count": 79,
   "id": "c72f73ff-cda7-4887-a11b-974c2fc3c53d",
   "metadata": {},
   "outputs": [
    {
     "name": "stdout",
     "output_type": "stream",
     "text": [
      "2000000\n"
     ]
    }
   ],
   "source": [
    "import threading\n",
    "counter = 0\n",
    "def increment():\n",
    "    global counter\n",
    "    for _ in range(1000000):\n",
    "     counter += 1\n",
    "t1 = threading.Thread(target=increment)\n",
    "t2 = threading.Thread(target=increment)\n",
    "t1.start()\n",
    "t2.start()\n",
    "t1.join()\n",
    "t2.join()\n",
    "print(counter)"
   ]
  },
  {
   "cell_type": "code",
   "execution_count": null,
   "id": "f8c334b5-18f1-40eb-8c0d-eb9845267a18",
   "metadata": {},
   "outputs": [],
   "source": []
  }
 ],
 "metadata": {
  "kernelspec": {
   "display_name": "Python 3 (ipykernel)",
   "language": "python",
   "name": "python3"
  },
  "language_info": {
   "codemirror_mode": {
    "name": "ipython",
    "version": 3
   },
   "file_extension": ".py",
   "mimetype": "text/x-python",
   "name": "python",
   "nbconvert_exporter": "python",
   "pygments_lexer": "ipython3",
   "version": "3.11.9"
  }
 },
 "nbformat": 4,
 "nbformat_minor": 5
}
