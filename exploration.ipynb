{
 "cells": [
  {
   "cell_type": "code",
   "execution_count": 1,
   "id": "aaf54b8f-dac1-4ad7-bb84-7f03b16e56cc",
   "metadata": {},
   "outputs": [],
   "source": [
    "#General libraries\n",
    "import os\n",
    "import pandas as pd\n",
    "import numpy as np\n",
    "\n",
    "#Graph tools\n",
    "import matplotlib.pyplot as plt \n",
    "import seaborn as sns\n",
    "\n",
    "# ML\n",
    "from sklearn.linear_model import LogisticRegression\n",
    "from sklearn.preprocessing import StandardScaler\n",
    "from sklearn.tree import DecisionTreeClassifier\n",
    "from sklearn.metrics import roc_auc_score\n",
    "from sklearn.model_selection import StratifiedKFold\n",
    "from sklearn.impute import SimpleImputer, KNNImputer\n",
    "from imblearn.under_sampling import RandomUnderSampler\n",
    "\n",
    "from lightgbm import LGBMClassifier\n",
    "\n",
    "from boruta import BorutaPy\n",
    "\n",
    "#Optimization\n",
    "import optuna\n",
    "\n",
    "#Experiment tracking\n",
    "import mlflow\n",
    "\n",
    "import warnings\n",
    "warnings.filterwarnings(\"ignore\")"
   ]
  },
  {
   "cell_type": "code",
   "execution_count": 2,
   "id": "fe6bd064-f7d9-4e37-a7fa-fccea2d8b0bd",
   "metadata": {},
   "outputs": [],
   "source": [
    "train_path = os.path.join('data', 'train.csv')\n",
    "train_extra_path = os.path.join('data', 'train_extra.csv')\n",
    "test_path = os.path.join('data', 'test.csv')\n",
    "sample_submission_path = os.path.join('data', 'sample_submission.csv')\n",
    "\n",
    "raw_train_data = pd.read_csv(train_path, index_col= 'id')\n",
    "train_extra = pd.read_csv(train_extra_path)\n",
    "train_extra['rainfall'] = train_extra['rainfall'].map({'yes': 1, 'no': 0})\n",
    "ord_cols = raw_train_data.columns\n",
    "train_extra.columns = train_extra.columns.str.strip()\n",
    "train_extra = train_extra[ord_cols]\n",
    "\n",
    "raw_train_data = pd.concat([raw_train_data, train_extra], ignore_index=True)\n",
    "raw_train_data.dropna(inplace= True)\n",
    "\n",
    "raw_test_data = pd.read_csv(test_path, index_col = 'id')\n",
    "sample_submission = pd.read_csv(sample_submission_path)\n",
    "\n",
    "raw_train_data.drop_duplicates(inplace= True)"
   ]
  },
  {
   "cell_type": "code",
   "execution_count": 3,
   "id": "33332cdb-e5ad-4bae-bf06-dc409ef0e9cd",
   "metadata": {},
   "outputs": [
    {
     "name": "stdout",
     "output_type": "stream",
     "text": [
      "<class 'pandas.core.frame.DataFrame'>\n",
      "Index: 2555 entries, 0 to 2555\n",
      "Data columns (total 12 columns):\n",
      " #   Column         Non-Null Count  Dtype  \n",
      "---  ------         --------------  -----  \n",
      " 0   day            2555 non-null   int64  \n",
      " 1   pressure       2555 non-null   float64\n",
      " 2   maxtemp        2555 non-null   float64\n",
      " 3   temparature    2555 non-null   float64\n",
      " 4   mintemp        2555 non-null   float64\n",
      " 5   dewpoint       2555 non-null   float64\n",
      " 6   humidity       2555 non-null   float64\n",
      " 7   cloud          2555 non-null   float64\n",
      " 8   sunshine       2555 non-null   float64\n",
      " 9   winddirection  2555 non-null   float64\n",
      " 10  windspeed      2555 non-null   float64\n",
      " 11  rainfall       2555 non-null   int64  \n",
      "dtypes: float64(10), int64(2)\n",
      "memory usage: 259.5 KB\n"
     ]
    }
   ],
   "source": [
    "raw_train_data.info()"
   ]
  },
  {
   "cell_type": "code",
   "execution_count": 4,
   "id": "456c4f54-3f7a-4e35-b6fa-b18f93b7eb48",
   "metadata": {},
   "outputs": [
    {
     "name": "stdout",
     "output_type": "stream",
     "text": [
      "(2555, 12)\n"
     ]
    },
    {
     "data": {
      "text/html": [
       "<div>\n",
       "<style scoped>\n",
       "    .dataframe tbody tr th:only-of-type {\n",
       "        vertical-align: middle;\n",
       "    }\n",
       "\n",
       "    .dataframe tbody tr th {\n",
       "        vertical-align: top;\n",
       "    }\n",
       "\n",
       "    .dataframe thead th {\n",
       "        text-align: right;\n",
       "    }\n",
       "</style>\n",
       "<table border=\"1\" class=\"dataframe\">\n",
       "  <thead>\n",
       "    <tr style=\"text-align: right;\">\n",
       "      <th></th>\n",
       "      <th>day</th>\n",
       "      <th>pressure</th>\n",
       "      <th>maxtemp</th>\n",
       "      <th>temparature</th>\n",
       "      <th>mintemp</th>\n",
       "      <th>dewpoint</th>\n",
       "      <th>humidity</th>\n",
       "      <th>cloud</th>\n",
       "      <th>sunshine</th>\n",
       "      <th>winddirection</th>\n",
       "      <th>windspeed</th>\n",
       "      <th>rainfall</th>\n",
       "    </tr>\n",
       "  </thead>\n",
       "  <tbody>\n",
       "    <tr>\n",
       "      <th>0</th>\n",
       "      <td>1</td>\n",
       "      <td>1017.4</td>\n",
       "      <td>21.2</td>\n",
       "      <td>20.6</td>\n",
       "      <td>19.9</td>\n",
       "      <td>19.4</td>\n",
       "      <td>87.0</td>\n",
       "      <td>88.0</td>\n",
       "      <td>1.1</td>\n",
       "      <td>60.0</td>\n",
       "      <td>17.2</td>\n",
       "      <td>1</td>\n",
       "    </tr>\n",
       "    <tr>\n",
       "      <th>1</th>\n",
       "      <td>2</td>\n",
       "      <td>1019.5</td>\n",
       "      <td>16.2</td>\n",
       "      <td>16.9</td>\n",
       "      <td>15.8</td>\n",
       "      <td>15.4</td>\n",
       "      <td>95.0</td>\n",
       "      <td>91.0</td>\n",
       "      <td>0.0</td>\n",
       "      <td>50.0</td>\n",
       "      <td>21.9</td>\n",
       "      <td>1</td>\n",
       "    </tr>\n",
       "    <tr>\n",
       "      <th>2</th>\n",
       "      <td>3</td>\n",
       "      <td>1024.1</td>\n",
       "      <td>19.4</td>\n",
       "      <td>16.1</td>\n",
       "      <td>14.6</td>\n",
       "      <td>9.3</td>\n",
       "      <td>75.0</td>\n",
       "      <td>47.0</td>\n",
       "      <td>8.3</td>\n",
       "      <td>70.0</td>\n",
       "      <td>18.1</td>\n",
       "      <td>1</td>\n",
       "    </tr>\n",
       "    <tr>\n",
       "      <th>3</th>\n",
       "      <td>4</td>\n",
       "      <td>1013.4</td>\n",
       "      <td>18.1</td>\n",
       "      <td>17.8</td>\n",
       "      <td>16.9</td>\n",
       "      <td>16.8</td>\n",
       "      <td>95.0</td>\n",
       "      <td>95.0</td>\n",
       "      <td>0.0</td>\n",
       "      <td>60.0</td>\n",
       "      <td>35.6</td>\n",
       "      <td>1</td>\n",
       "    </tr>\n",
       "    <tr>\n",
       "      <th>4</th>\n",
       "      <td>5</td>\n",
       "      <td>1021.8</td>\n",
       "      <td>21.3</td>\n",
       "      <td>18.4</td>\n",
       "      <td>15.2</td>\n",
       "      <td>9.6</td>\n",
       "      <td>52.0</td>\n",
       "      <td>45.0</td>\n",
       "      <td>3.6</td>\n",
       "      <td>40.0</td>\n",
       "      <td>24.8</td>\n",
       "      <td>0</td>\n",
       "    </tr>\n",
       "  </tbody>\n",
       "</table>\n",
       "</div>"
      ],
      "text/plain": [
       "   day  pressure  maxtemp  temparature  mintemp  dewpoint  humidity  cloud  \\\n",
       "0    1    1017.4     21.2         20.6     19.9      19.4      87.0   88.0   \n",
       "1    2    1019.5     16.2         16.9     15.8      15.4      95.0   91.0   \n",
       "2    3    1024.1     19.4         16.1     14.6       9.3      75.0   47.0   \n",
       "3    4    1013.4     18.1         17.8     16.9      16.8      95.0   95.0   \n",
       "4    5    1021.8     21.3         18.4     15.2       9.6      52.0   45.0   \n",
       "\n",
       "   sunshine  winddirection  windspeed  rainfall  \n",
       "0       1.1           60.0       17.2         1  \n",
       "1       0.0           50.0       21.9         1  \n",
       "2       8.3           70.0       18.1         1  \n",
       "3       0.0           60.0       35.6         1  \n",
       "4       3.6           40.0       24.8         0  "
      ]
     },
     "execution_count": 4,
     "metadata": {},
     "output_type": "execute_result"
    }
   ],
   "source": [
    "print(raw_train_data.shape)\n",
    "raw_train_data.head()"
   ]
  },
  {
   "cell_type": "code",
   "execution_count": 5,
   "id": "8c49dccd-c0e3-4b2d-b399-0aa51eeae283",
   "metadata": {},
   "outputs": [
    {
     "data": {
      "image/png": "[encoded data removed]",
      "text/plain": [
       "<Figure size 640x480 with 1 Axes>"
      ]
     },
     "metadata": {},
     "output_type": "display_data"
    }
   ],
   "source": [
    "colors = ['#73B4FF', '#2D3142']\n",
    "value_counts = raw_train_data['rainfall'].value_counts(normalize= True)\n",
    "labels = value_counts.index.astype(str)\n",
    "sizes = value_counts.values\n",
    "fig, ax = plt.subplots()\n",
    "wedges, texts, autotexts = ax.pie(\n",
    "    sizes, \n",
    "    labels=labels, \n",
    "    autopct='%1.1f%%', \n",
    "    startangle=90, \n",
    "    counterclock=False,\n",
    "    wedgeprops={'edgecolor': 'white', 'linewidth': 1},\n",
    "    colors= colors\n",
    ")\n",
    "ax.axis('equal')\n",
    "\n",
    "# Agregar título\n",
    "ax.set_title('Rainfall Distribution', fontsize=14)\n",
    "\n",
    "plt.tight_layout()\n",
    "plt.show()"
   ]
  },
  {
   "cell_type": "code",
   "execution_count": 6,
   "id": "43658497-cdb5-42aa-977f-71a585286c9d",
   "metadata": {},
   "outputs": [
    {
     "data": {
      "text/plain": [
       "day              0.211569\n",
       "pressure         0.295777\n",
       "maxtemp         -0.498073\n",
       "temparature     -0.572202\n",
       "mintemp         -0.665021\n",
       "dewpoint        -1.017435\n",
       "humidity        -0.745531\n",
       "cloud           -1.314520\n",
       "sunshine         0.600403\n",
       "winddirection    0.721490\n",
       "windspeed        0.769942\n",
       "rainfall        -1.111978\n",
       "dtype: float64"
      ]
     },
     "execution_count": 6,
     "metadata": {},
     "output_type": "execute_result"
    }
   ],
   "source": [
    "raw_train_data.skew()"
   ]
  },
  {
   "cell_type": "code",
   "execution_count": 7,
   "id": "edebdb61-9ecb-447d-bb5c-c92143154ccf",
   "metadata": {},
   "outputs": [],
   "source": [
    "def data_preproccesing(df: pd.DataFrame) -> pd.DataFrame:\n",
    "    df = df.copy()\n",
    "    \n",
    "    df['temp_change'] = df['maxtemp']-df['mintemp']\n",
    "    df['temp_ratio'] = df['maxtemp']/df['mintemp']\n",
    "    df['wind_dir_rad'] = np.deg2rad(df['winddirection'])\n",
    "    df['wind_direction_sin'] = np.sin(df['wind_dir_rad'])\n",
    "    df['wind_direction_cos'] = np.cos(df['wind_dir_rad'])\n",
    "    df['avg_temp'] = (df['maxtemp'] + df['mintemp']) / 2\n",
    "    df['dewpoint_depression'] = df['temparature'] - df['dewpoint']\n",
    "    df['sunshine_ratio'] = df['sunshine'] / (1 + df['cloud'])\n",
    "    df['cloud'] = np.log1p(df['cloud'])\n",
    "\n",
    "    df.drop(columns=['winddirection'], inplace=True)\n",
    "    \n",
    "    #df_imputed = imputer.fit_transform(df)\n",
    "    #df = pd.DataFrame(df_imputed, columns= df.columns)\n",
    "\n",
    "    for col in df.columns:\n",
    "        df[col +'_cat'] = df[col].astype(str)\n",
    "        df[col +'_cat'] = df[col + '_cat'].astype('category')\n",
    "\n",
    "    return df\n",
    "\n",
    "def test_data_preproccesing(df: pd.DataFrame) -> pd.DataFrame:\n",
    "    df = df.copy()\n",
    "    \n",
    "    df['temp_change'] = df['maxtemp']-df['mintemp']\n",
    "    df['temp_ratio'] = df['maxtemp']/df['mintemp']\n",
    "    df['wind_dir_rad'] = np.deg2rad(df['winddirection'])\n",
    "    df['wind_direction_sin'] = np.sin(df['wind_dir_rad'])\n",
    "    df['wind_direction_cos'] = np.cos(df['wind_dir_rad'])\n",
    "    df['avg_temp'] = (df['maxtemp'] + df['mintemp']) / 2\n",
    "    df['dewpoint_depression'] = df['temparature'] - df['dewpoint']\n",
    "    df['sunshine_ratio'] = df['sunshine'] / (1 + df['cloud'])\n",
    "    df['cloud'] = np.log1p(df['cloud'])\n",
    "\n",
    "    df.drop(columns=['winddirection'], inplace=True)\n",
    "    \n",
    "    #df_imputed = imputer.transform(df)\n",
    "    #df = pd.DataFrame(df_imputed, columns= df.columns)\n",
    "    \n",
    "    for col in df.columns:\n",
    "        df[col +'_cat'] = df[col].astype(str)\n",
    "        df[col +'_cat'] = df[col + '_cat'].astype('category')\n",
    "\n",
    "    return df"
   ]
  },
  {
   "cell_type": "code",
   "execution_count": 8,
   "id": "a6db89a7-d92a-4984-8638-509d2c9113a3",
   "metadata": {},
   "outputs": [],
   "source": [
    "X_train = raw_train_data.drop(columns= 'rainfall')\n",
    "y_train = raw_train_data['rainfall']\n",
    "X_train = data_preproccesing(X_train) "
   ]
  },
  {
   "cell_type": "code",
   "execution_count": 9,
   "id": "c63f296e-5082-4356-a1a4-75ca601eae19",
   "metadata": {},
   "outputs": [
    {
     "data": {
      "text/html": [
       "<div>\n",
       "<style scoped>\n",
       "    .dataframe tbody tr th:only-of-type {\n",
       "        vertical-align: middle;\n",
       "    }\n",
       "\n",
       "    .dataframe tbody tr th {\n",
       "        vertical-align: top;\n",
       "    }\n",
       "\n",
       "    .dataframe thead th {\n",
       "        text-align: right;\n",
       "    }\n",
       "</style>\n",
       "<table border=\"1\" class=\"dataframe\">\n",
       "  <thead>\n",
       "    <tr style=\"text-align: right;\">\n",
       "      <th></th>\n",
       "      <th>day</th>\n",
       "      <th>pressure</th>\n",
       "      <th>maxtemp</th>\n",
       "      <th>temparature</th>\n",
       "      <th>mintemp</th>\n",
       "      <th>dewpoint</th>\n",
       "      <th>humidity</th>\n",
       "      <th>cloud</th>\n",
       "      <th>sunshine</th>\n",
       "      <th>windspeed</th>\n",
       "      <th>...</th>\n",
       "      <th>sunshine_cat</th>\n",
       "      <th>windspeed_cat</th>\n",
       "      <th>temp_change_cat</th>\n",
       "      <th>temp_ratio_cat</th>\n",
       "      <th>wind_dir_rad_cat</th>\n",
       "      <th>wind_direction_sin_cat</th>\n",
       "      <th>wind_direction_cos_cat</th>\n",
       "      <th>avg_temp_cat</th>\n",
       "      <th>dewpoint_depression_cat</th>\n",
       "      <th>sunshine_ratio_cat</th>\n",
       "    </tr>\n",
       "  </thead>\n",
       "  <tbody>\n",
       "    <tr>\n",
       "      <th>0</th>\n",
       "      <td>1</td>\n",
       "      <td>1017.4</td>\n",
       "      <td>21.2</td>\n",
       "      <td>20.6</td>\n",
       "      <td>19.9</td>\n",
       "      <td>19.4</td>\n",
       "      <td>87.0</td>\n",
       "      <td>4.488636</td>\n",
       "      <td>1.1</td>\n",
       "      <td>17.2</td>\n",
       "      <td>...</td>\n",
       "      <td>1.1</td>\n",
       "      <td>17.2</td>\n",
       "      <td>1.3000000000000007</td>\n",
       "      <td>1.065326633165829</td>\n",
       "      <td>1.0471975511965976</td>\n",
       "      <td>0.8660254037844386</td>\n",
       "      <td>0.5000000000000001</td>\n",
       "      <td>20.549999999999997</td>\n",
       "      <td>1.2000000000000028</td>\n",
       "      <td>0.012359550561797755</td>\n",
       "    </tr>\n",
       "    <tr>\n",
       "      <th>1</th>\n",
       "      <td>2</td>\n",
       "      <td>1019.5</td>\n",
       "      <td>16.2</td>\n",
       "      <td>16.9</td>\n",
       "      <td>15.8</td>\n",
       "      <td>15.4</td>\n",
       "      <td>95.0</td>\n",
       "      <td>4.521789</td>\n",
       "      <td>0.0</td>\n",
       "      <td>21.9</td>\n",
       "      <td>...</td>\n",
       "      <td>0.0</td>\n",
       "      <td>21.9</td>\n",
       "      <td>0.3999999999999986</td>\n",
       "      <td>1.0253164556962024</td>\n",
       "      <td>0.8726646259971648</td>\n",
       "      <td>0.766044443118978</td>\n",
       "      <td>0.6427876096865394</td>\n",
       "      <td>16.0</td>\n",
       "      <td>1.4999999999999982</td>\n",
       "      <td>0.0</td>\n",
       "    </tr>\n",
       "    <tr>\n",
       "      <th>2</th>\n",
       "      <td>3</td>\n",
       "      <td>1024.1</td>\n",
       "      <td>19.4</td>\n",
       "      <td>16.1</td>\n",
       "      <td>14.6</td>\n",
       "      <td>9.3</td>\n",
       "      <td>75.0</td>\n",
       "      <td>3.871201</td>\n",
       "      <td>8.3</td>\n",
       "      <td>18.1</td>\n",
       "      <td>...</td>\n",
       "      <td>8.3</td>\n",
       "      <td>18.1</td>\n",
       "      <td>4.799999999999999</td>\n",
       "      <td>1.3287671232876712</td>\n",
       "      <td>1.2217304763960306</td>\n",
       "      <td>0.9396926207859083</td>\n",
       "      <td>0.3420201433256688</td>\n",
       "      <td>17.0</td>\n",
       "      <td>6.800000000000001</td>\n",
       "      <td>0.1729166666666667</td>\n",
       "    </tr>\n",
       "    <tr>\n",
       "      <th>3</th>\n",
       "      <td>4</td>\n",
       "      <td>1013.4</td>\n",
       "      <td>18.1</td>\n",
       "      <td>17.8</td>\n",
       "      <td>16.9</td>\n",
       "      <td>16.8</td>\n",
       "      <td>95.0</td>\n",
       "      <td>4.564348</td>\n",
       "      <td>0.0</td>\n",
       "      <td>35.6</td>\n",
       "      <td>...</td>\n",
       "      <td>0.0</td>\n",
       "      <td>35.6</td>\n",
       "      <td>1.2000000000000028</td>\n",
       "      <td>1.0710059171597635</td>\n",
       "      <td>1.0471975511965976</td>\n",
       "      <td>0.8660254037844386</td>\n",
       "      <td>0.5000000000000001</td>\n",
       "      <td>17.5</td>\n",
       "      <td>1.0</td>\n",
       "      <td>0.0</td>\n",
       "    </tr>\n",
       "    <tr>\n",
       "      <th>4</th>\n",
       "      <td>5</td>\n",
       "      <td>1021.8</td>\n",
       "      <td>21.3</td>\n",
       "      <td>18.4</td>\n",
       "      <td>15.2</td>\n",
       "      <td>9.6</td>\n",
       "      <td>52.0</td>\n",
       "      <td>3.828641</td>\n",
       "      <td>3.6</td>\n",
       "      <td>24.8</td>\n",
       "      <td>...</td>\n",
       "      <td>3.6</td>\n",
       "      <td>24.8</td>\n",
       "      <td>6.100000000000001</td>\n",
       "      <td>1.4013157894736843</td>\n",
       "      <td>0.6981317007977318</td>\n",
       "      <td>0.6427876096865393</td>\n",
       "      <td>0.766044443118978</td>\n",
       "      <td>18.25</td>\n",
       "      <td>8.799999999999999</td>\n",
       "      <td>0.0782608695652174</td>\n",
       "    </tr>\n",
       "    <tr>\n",
       "      <th>...</th>\n",
       "      <td>...</td>\n",
       "      <td>...</td>\n",
       "      <td>...</td>\n",
       "      <td>...</td>\n",
       "      <td>...</td>\n",
       "      <td>...</td>\n",
       "      <td>...</td>\n",
       "      <td>...</td>\n",
       "      <td>...</td>\n",
       "      <td>...</td>\n",
       "      <td>...</td>\n",
       "      <td>...</td>\n",
       "      <td>...</td>\n",
       "      <td>...</td>\n",
       "      <td>...</td>\n",
       "      <td>...</td>\n",
       "      <td>...</td>\n",
       "      <td>...</td>\n",
       "      <td>...</td>\n",
       "      <td>...</td>\n",
       "      <td>...</td>\n",
       "    </tr>\n",
       "    <tr>\n",
       "      <th>2551</th>\n",
       "      <td>27</td>\n",
       "      <td>1022.7</td>\n",
       "      <td>18.8</td>\n",
       "      <td>17.7</td>\n",
       "      <td>16.9</td>\n",
       "      <td>15.0</td>\n",
       "      <td>84.0</td>\n",
       "      <td>4.510860</td>\n",
       "      <td>0.0</td>\n",
       "      <td>18.4</td>\n",
       "      <td>...</td>\n",
       "      <td>0.0</td>\n",
       "      <td>18.4</td>\n",
       "      <td>1.9000000000000021</td>\n",
       "      <td>1.1124260355029587</td>\n",
       "      <td>0.5235987755982988</td>\n",
       "      <td>0.49999999999999994</td>\n",
       "      <td>0.8660254037844387</td>\n",
       "      <td>17.85</td>\n",
       "      <td>2.6999999999999993</td>\n",
       "      <td>0.0</td>\n",
       "    </tr>\n",
       "    <tr>\n",
       "      <th>2552</th>\n",
       "      <td>28</td>\n",
       "      <td>1026.6</td>\n",
       "      <td>18.6</td>\n",
       "      <td>17.3</td>\n",
       "      <td>16.3</td>\n",
       "      <td>12.8</td>\n",
       "      <td>75.0</td>\n",
       "      <td>4.454347</td>\n",
       "      <td>1.0</td>\n",
       "      <td>25.9</td>\n",
       "      <td>...</td>\n",
       "      <td>1.0</td>\n",
       "      <td>25.9</td>\n",
       "      <td>2.3000000000000007</td>\n",
       "      <td>1.1411042944785277</td>\n",
       "      <td>0.3490658503988659</td>\n",
       "      <td>0.3420201433256687</td>\n",
       "      <td>0.9396926207859084</td>\n",
       "      <td>17.450000000000003</td>\n",
       "      <td>4.5</td>\n",
       "      <td>0.011627906976744186</td>\n",
       "    </tr>\n",
       "    <tr>\n",
       "      <th>2553</th>\n",
       "      <td>29</td>\n",
       "      <td>1025.9</td>\n",
       "      <td>18.9</td>\n",
       "      <td>17.7</td>\n",
       "      <td>16.4</td>\n",
       "      <td>13.3</td>\n",
       "      <td>75.0</td>\n",
       "      <td>4.369448</td>\n",
       "      <td>4.6</td>\n",
       "      <td>33.4</td>\n",
       "      <td>...</td>\n",
       "      <td>4.6</td>\n",
       "      <td>33.4</td>\n",
       "      <td>2.5</td>\n",
       "      <td>1.1524390243902438</td>\n",
       "      <td>1.2217304763960306</td>\n",
       "      <td>0.9396926207859083</td>\n",
       "      <td>0.3420201433256688</td>\n",
       "      <td>17.65</td>\n",
       "      <td>4.399999999999999</td>\n",
       "      <td>0.05822784810126582</td>\n",
       "    </tr>\n",
       "    <tr>\n",
       "      <th>2554</th>\n",
       "      <td>30</td>\n",
       "      <td>1025.3</td>\n",
       "      <td>19.2</td>\n",
       "      <td>17.3</td>\n",
       "      <td>15.2</td>\n",
       "      <td>13.3</td>\n",
       "      <td>78.0</td>\n",
       "      <td>4.465908</td>\n",
       "      <td>1.2</td>\n",
       "      <td>20.9</td>\n",
       "      <td>...</td>\n",
       "      <td>1.2</td>\n",
       "      <td>20.9</td>\n",
       "      <td>4.0</td>\n",
       "      <td>1.263157894736842</td>\n",
       "      <td>0.3490658503988659</td>\n",
       "      <td>0.3420201433256687</td>\n",
       "      <td>0.9396926207859084</td>\n",
       "      <td>17.2</td>\n",
       "      <td>4.0</td>\n",
       "      <td>0.013793103448275862</td>\n",
       "    </tr>\n",
       "    <tr>\n",
       "      <th>2555</th>\n",
       "      <td>31</td>\n",
       "      <td>1026.4</td>\n",
       "      <td>20.5</td>\n",
       "      <td>17.8</td>\n",
       "      <td>15.5</td>\n",
       "      <td>13.0</td>\n",
       "      <td>74.0</td>\n",
       "      <td>4.204693</td>\n",
       "      <td>5.7</td>\n",
       "      <td>23.3</td>\n",
       "      <td>...</td>\n",
       "      <td>5.7</td>\n",
       "      <td>23.3</td>\n",
       "      <td>5.0</td>\n",
       "      <td>1.3225806451612903</td>\n",
       "      <td>0.3490658503988659</td>\n",
       "      <td>0.3420201433256687</td>\n",
       "      <td>0.9396926207859084</td>\n",
       "      <td>18.0</td>\n",
       "      <td>4.800000000000001</td>\n",
       "      <td>0.08507462686567165</td>\n",
       "    </tr>\n",
       "  </tbody>\n",
       "</table>\n",
       "<p>2555 rows × 36 columns</p>\n",
       "</div>"
      ],
      "text/plain": [
       "      day  pressure  maxtemp  temparature  mintemp  dewpoint  humidity  \\\n",
       "0       1    1017.4     21.2         20.6     19.9      19.4      87.0   \n",
       "1       2    1019.5     16.2         16.9     15.8      15.4      95.0   \n",
       "2       3    1024.1     19.4         16.1     14.6       9.3      75.0   \n",
       "3       4    1013.4     18.1         17.8     16.9      16.8      95.0   \n",
       "4       5    1021.8     21.3         18.4     15.2       9.6      52.0   \n",
       "...   ...       ...      ...          ...      ...       ...       ...   \n",
       "2551   27    1022.7     18.8         17.7     16.9      15.0      84.0   \n",
       "2552   28    1026.6     18.6         17.3     16.3      12.8      75.0   \n",
       "2553   29    1025.9     18.9         17.7     16.4      13.3      75.0   \n",
       "2554   30    1025.3     19.2         17.3     15.2      13.3      78.0   \n",
       "2555   31    1026.4     20.5         17.8     15.5      13.0      74.0   \n",
       "\n",
       "         cloud  sunshine  windspeed  ...  sunshine_cat  windspeed_cat  \\\n",
       "0     4.488636       1.1       17.2  ...           1.1           17.2   \n",
       "1     4.521789       0.0       21.9  ...           0.0           21.9   \n",
       "2     3.871201       8.3       18.1  ...           8.3           18.1   \n",
       "3     4.564348       0.0       35.6  ...           0.0           35.6   \n",
       "4     3.828641       3.6       24.8  ...           3.6           24.8   \n",
       "...        ...       ...        ...  ...           ...            ...   \n",
       "2551  4.510860       0.0       18.4  ...           0.0           18.4   \n",
       "2552  4.454347       1.0       25.9  ...           1.0           25.9   \n",
       "2553  4.369448       4.6       33.4  ...           4.6           33.4   \n",
       "2554  4.465908       1.2       20.9  ...           1.2           20.9   \n",
       "2555  4.204693       5.7       23.3  ...           5.7           23.3   \n",
       "\n",
       "         temp_change_cat      temp_ratio_cat    wind_dir_rad_cat  \\\n",
       "0     1.3000000000000007   1.065326633165829  1.0471975511965976   \n",
       "1     0.3999999999999986  1.0253164556962024  0.8726646259971648   \n",
       "2      4.799999999999999  1.3287671232876712  1.2217304763960306   \n",
       "3     1.2000000000000028  1.0710059171597635  1.0471975511965976   \n",
       "4      6.100000000000001  1.4013157894736843  0.6981317007977318   \n",
       "...                  ...                 ...                 ...   \n",
       "2551  1.9000000000000021  1.1124260355029587  0.5235987755982988   \n",
       "2552  2.3000000000000007  1.1411042944785277  0.3490658503988659   \n",
       "2553                 2.5  1.1524390243902438  1.2217304763960306   \n",
       "2554                 4.0   1.263157894736842  0.3490658503988659   \n",
       "2555                 5.0  1.3225806451612903  0.3490658503988659   \n",
       "\n",
       "      wind_direction_sin_cat  wind_direction_cos_cat        avg_temp_cat  \\\n",
       "0         0.8660254037844386      0.5000000000000001  20.549999999999997   \n",
       "1          0.766044443118978      0.6427876096865394                16.0   \n",
       "2         0.9396926207859083      0.3420201433256688                17.0   \n",
       "3         0.8660254037844386      0.5000000000000001                17.5   \n",
       "4         0.6427876096865393       0.766044443118978               18.25   \n",
       "...                      ...                     ...                 ...   \n",
       "2551     0.49999999999999994      0.8660254037844387               17.85   \n",
       "2552      0.3420201433256687      0.9396926207859084  17.450000000000003   \n",
       "2553      0.9396926207859083      0.3420201433256688               17.65   \n",
       "2554      0.3420201433256687      0.9396926207859084                17.2   \n",
       "2555      0.3420201433256687      0.9396926207859084                18.0   \n",
       "\n",
       "     dewpoint_depression_cat    sunshine_ratio_cat  \n",
       "0         1.2000000000000028  0.012359550561797755  \n",
       "1         1.4999999999999982                   0.0  \n",
       "2          6.800000000000001    0.1729166666666667  \n",
       "3                        1.0                   0.0  \n",
       "4          8.799999999999999    0.0782608695652174  \n",
       "...                      ...                   ...  \n",
       "2551      2.6999999999999993                   0.0  \n",
       "2552                     4.5  0.011627906976744186  \n",
       "2553       4.399999999999999   0.05822784810126582  \n",
       "2554                     4.0  0.013793103448275862  \n",
       "2555       4.800000000000001   0.08507462686567165  \n",
       "\n",
       "[2555 rows x 36 columns]"
      ]
     },
     "execution_count": 9,
     "metadata": {},
     "output_type": "execute_result"
    }
   ],
   "source": [
    "X_train"
   ]
  },
  {
   "cell_type": "code",
   "execution_count": 22,
   "id": "1f210d0f-49e7-4259-b162-98968ce0757a",
   "metadata": {},
   "outputs": [],
   "source": [
    "\n",
    "def objective(trial, X, y):\n",
    "    # Definición de hiperparámetros para LightGBM\n",
    "    params = {\n",
    "        'objective': 'binary',\n",
    "        'boosting_type': trial.suggest_categorical('boosting_type', ['gbdt', 'dart']),\n",
    "        'learning_rate': trial.suggest_float('learning_rate', 1e-3, 1e-1, log= True),\n",
    "        'num_leaves': trial.suggest_int('num_leaves', 20, 300),\n",
    "        'max_depth': trial.suggest_int('max_depth', 3, 8),\n",
    "        'min_child_samples': trial.suggest_int('min_child_samples', 5, 100),\n",
    "        'min_child_weight': trial.suggest_float('min_child_weight', 1e-3, 10.0, log= True),\n",
    "        'subsample': trial.suggest_float('subsample', 0.4, 1.0),\n",
    "        'colsample_bytree': trial.suggest_float('colsample_bytree', 0.4, 1.0),\n",
    "        'reg_alpha': trial.suggest_float('reg_alpha', 1e-8, 10.0, log= True),\n",
    "        'reg_lambda': trial.suggest_float('reg_lambda', 1e-8, 10.0, log= True),\n",
    "        'n_estimators': trial.suggest_int('n_estimators', 25, 125),\n",
    "        'min_split_gain': trial.suggest_float('min_split_gain', 0.0001, 1.0),\n",
    "        'subsample_freq': trial.suggest_int('subsample_freq', 0, 10),\n",
    "        'max_bin': trial.suggest_int('max_bin', 100, 300),\n",
    "        'scale_pos_weight': trial.suggest_float('scale_pos_weight', 0.5, 2.0),\n",
    "        'random_state': 42,\n",
    "        'verbosity': -1\n",
    "    }\n",
    "    # Creación del clasificador LightGBM con los parámetros sugeridos\n",
    "    clf = LGBMClassifier(**params)\n",
    "    \n",
    "    # Utilizamos StratifiedKFold para mantener el balance de clases (5 particiones)\n",
    "    skf = StratifiedKFold(n_splits=5, shuffle=True, random_state=42)\n",
    "    train_scores = []\n",
    "    val_scores = []\n",
    "    \n",
    "    with mlflow.start_run():\n",
    "        for fold, (train_idx, val_idx) in enumerate(skf.split(X,y)):\n",
    "            X_train, X_val = X.iloc[train_idx], X.iloc[val_idx]\n",
    "            y_train, y_val = y.iloc[train_idx], y.iloc[val_idx]\n",
    "\n",
    "            boruta_selector = BorutaPy(clf, n_estimators= 'auto', random_state= 42)\n",
    "            boruta_selector.fit(X_train, y_train)\n",
    "\n",
    "            X_train_selected = boruta_selector.transform(X_train.values)\n",
    "            X_val_selected = boruta_selector.transform(X_val.values)\n",
    "\n",
    "            if X_train_selected.shape[1] == 0:\n",
    "                print(f\"Fold {fold} skipped due to no features selected by Boruta.\")\n",
    "                continue\n",
    "\n",
    "            clf.fit(X_train_selected, y_train)\n",
    "            train_proba = clf.predict_proba(X_train_selected)[:, 1]\n",
    "            val_proba = clf.predict_proba(X_val_selected)[:, 1]\n",
    "\n",
    "            train_auc = roc_auc_score(y_train, train_proba)\n",
    "            val_auc = roc_auc_score(y_val, val_proba)\n",
    "\n",
    "            train_scores.append(train_auc)\n",
    "            val_scores.append(val_auc)\n",
    "\n",
    "            mlflow.log_metric(f\"train_auc_fold_{fold}\", train_auc)\n",
    "            mlflow.log_metric(f\"val_auc_fold_{fold}\", val_auc)\n",
    "\n",
    "        avg_train_auc = np.mean(train_scores)\n",
    "        avg_val_auc = np.mean(val_scores)\n",
    "\n",
    "        mlflow.log_params(params)\n",
    "        mlflow.log_metric(\"avg_train_auc\", avg_train_auc)\n",
    "        mlflow.log_metric(\"avg_val_auc\", avg_val_auc)\n",
    "\n",
    "        print(f\"Trial {trial.number} - Avg Train AUC: {avg_train_auc:.4f} | Avg Validation AUC: {avg_val_auc:.4f}\")\n",
    "\n",
    "    return avg_val_auc\n"
   ]
  },
  {
   "cell_type": "code",
   "execution_count": 23,
   "id": "9b39eb34-620e-4346-9de6-9aa4e327afad",
   "metadata": {
    "scrolled": true
   },
   "outputs": [
    {
     "name": "stderr",
     "output_type": "stream",
     "text": [
      "[I 2025-03-17 19:14:00,426] A new study created in memory with name: no-name-b59c696c-5ba3-4e51-a3f4-2cac271d5417\n",
      "[I 2025-03-17 19:15:25,949] Trial 0 finished with value: 0.8879595148693429 and parameters: {'boosting_type': 'dart', 'learning_rate': 0.029106359131330698, 'num_leaves': 188, 'max_depth': 3, 'min_child_samples': 19, 'min_child_weight': 0.0017073967431528124, 'subsample': 0.9197056874649611, 'colsample_bytree': 0.7606690070459253, 'reg_alpha': 0.02358594058414266, 'reg_lambda': 1.5320059381854043e-08, 'n_estimators': 122, 'min_split_gain': 0.8324593965363417, 'subsample_freq': 2, 'max_bin': 136, 'scale_pos_weight': 0.7751067647801507}. Best is trial 0 with value: 0.8879595148693429.\n"
     ]
    },
    {
     "name": "stdout",
     "output_type": "stream",
     "text": [
      "Trial 0 - Avg Train AUC: 0.9100 | Avg Validation AUC: 0.8880\n"
     ]
    },
    {
     "name": "stderr",
     "output_type": "stream",
     "text": [
      "[I 2025-03-17 19:16:58,726] Trial 1 finished with value: 0.8853731398564655 and parameters: {'boosting_type': 'dart', 'learning_rate': 0.007309539835912915, 'num_leaves': 101, 'max_depth': 6, 'min_child_samples': 18, 'min_child_weight': 0.01474275315991467, 'subsample': 0.6198171059762151, 'colsample_bytree': 0.6736419905302216, 'reg_alpha': 0.11656915613247415, 'reg_lambda': 6.267062696005991e-07, 'n_estimators': 76, 'min_split_gain': 0.5924553274051563, 'subsample_freq': 0, 'max_bin': 222, 'scale_pos_weight': 0.7557861855309373}. Best is trial 0 with value: 0.8879595148693429.\n"
     ]
    },
    {
     "name": "stdout",
     "output_type": "stream",
     "text": [
      "Trial 1 - Avg Train AUC: 0.9268 | Avg Validation AUC: 0.8854\n"
     ]
    },
    {
     "name": "stderr",
     "output_type": "stream",
     "text": [
      "[I 2025-03-17 19:18:01,652] Trial 2 finished with value: 0.8837293021894078 and parameters: {'boosting_type': 'dart', 'learning_rate': 0.08536189862866832, 'num_leaves': 247, 'max_depth': 4, 'min_child_samples': 14, 'min_child_weight': 0.5456725485601478, 'subsample': 0.6640914962437608, 'colsample_bytree': 0.47322294090686734, 'reg_alpha': 0.00028614897264046574, 'reg_lambda': 2.039373116525212e-08, 'n_estimators': 116, 'min_split_gain': 0.2588541036018569, 'subsample_freq': 7, 'max_bin': 162, 'scale_pos_weight': 1.2801020317667162}. Best is trial 0 with value: 0.8879595148693429.\n"
     ]
    },
    {
     "name": "stdout",
     "output_type": "stream",
     "text": [
      "Trial 2 - Avg Train AUC: 0.9197 | Avg Validation AUC: 0.8837\n"
     ]
    },
    {
     "name": "stderr",
     "output_type": "stream",
     "text": [
      "[I 2025-03-17 19:18:27,366] Trial 3 finished with value: 0.8738076958140886 and parameters: {'boosting_type': 'gbdt', 'learning_rate': 0.08692991511139551, 'num_leaves': 237, 'max_depth': 8, 'min_child_samples': 90, 'min_child_weight': 0.24637685958997463, 'subsample': 0.9531245410138701, 'colsample_bytree': 0.4530955012311517, 'reg_alpha': 5.805581976088804e-07, 'reg_lambda': 2.5529693461039728e-08, 'n_estimators': 57, 'min_split_gain': 0.38873842196051306, 'subsample_freq': 2, 'max_bin': 266, 'scale_pos_weight': 1.0351299900403839}. Best is trial 0 with value: 0.8879595148693429.\n"
     ]
    },
    {
     "name": "stdout",
     "output_type": "stream",
     "text": [
      "Fold 4 skipped due to no features selected by Boruta.\n",
      "Trial 3 - Avg Train AUC: 0.8878 | Avg Validation AUC: 0.8738\n"
     ]
    },
    {
     "name": "stderr",
     "output_type": "stream",
     "text": [
      "[I 2025-03-17 19:20:14,699] Trial 4 finished with value: 0.8902233784837822 and parameters: {'boosting_type': 'dart', 'learning_rate': 0.00191358804876923, 'num_leaves': 245, 'max_depth': 3, 'min_child_samples': 99, 'min_child_weight': 1.227380098785297, 'subsample': 0.5192294089205035, 'colsample_bytree': 0.4033132702741615, 'reg_alpha': 0.21834982897607286, 'reg_lambda': 0.022999378190815965, 'n_estimators': 98, 'min_split_gain': 0.7712932196512772, 'subsample_freq': 0, 'max_bin': 172, 'scale_pos_weight': 0.6738035892876946}. Best is trial 4 with value: 0.8902233784837822.\n"
     ]
    },
    {
     "name": "stdout",
     "output_type": "stream",
     "text": [
      "Trial 4 - Avg Train AUC: 0.9007 | Avg Validation AUC: 0.8902\n"
     ]
    },
    {
     "name": "stderr",
     "output_type": "stream",
     "text": [
      "[I 2025-03-17 19:21:24,251] Trial 5 finished with value: 0.8858940809137241 and parameters: {'boosting_type': 'gbdt', 'learning_rate': 0.004589824181495649, 'num_leaves': 37, 'max_depth': 4, 'min_child_samples': 36, 'min_child_weight': 0.828752236376816, 'subsample': 0.7825344828131279, 'colsample_bytree': 0.932327645545796, 'reg_alpha': 0.0001778010520878397, 'reg_lambda': 1.1921975182604517e-07, 'n_estimators': 97, 'min_split_gain': 0.7608089701120357, 'subsample_freq': 6, 'max_bin': 254, 'scale_pos_weight': 1.2406933945465861}. Best is trial 4 with value: 0.8902233784837822.\n"
     ]
    },
    {
     "name": "stdout",
     "output_type": "stream",
     "text": [
      "Trial 5 - Avg Train AUC: 0.9124 | Avg Validation AUC: 0.8859\n"
     ]
    },
    {
     "name": "stderr",
     "output_type": "stream",
     "text": [
      "[I 2025-03-17 19:22:23,968] Trial 6 finished with value: 0.879892914287003 and parameters: {'boosting_type': 'gbdt', 'learning_rate': 0.0011241862095793063, 'num_leaves': 50, 'max_depth': 3, 'min_child_samples': 66, 'min_child_weight': 0.018089390092767135, 'subsample': 0.7051424146988217, 'colsample_bytree': 0.9445398843556558, 'reg_alpha': 1.7523871598466864e-06, 'reg_lambda': 4.9368087974032924e-05, 'n_estimators': 101, 'min_split_gain': 0.22887528567507331, 'subsample_freq': 0, 'max_bin': 158, 'scale_pos_weight': 0.7418319308810066}. Best is trial 4 with value: 0.8902233784837822.\n"
     ]
    },
    {
     "name": "stdout",
     "output_type": "stream",
     "text": [
      "Trial 6 - Avg Train AUC: 0.8944 | Avg Validation AUC: 0.8799\n"
     ]
    },
    {
     "name": "stderr",
     "output_type": "stream",
     "text": [
      "[I 2025-03-17 19:23:25,591] Trial 7 finished with value: 0.8852702653649352 and parameters: {'boosting_type': 'gbdt', 'learning_rate': 0.018484491720988625, 'num_leaves': 264, 'max_depth': 7, 'min_child_samples': 22, 'min_child_weight': 3.7173717478250525, 'subsample': 0.7236053451493905, 'colsample_bytree': 0.8844640930984375, 'reg_alpha': 1.16097187606918, 'reg_lambda': 7.278322158604965e-06, 'n_estimators': 36, 'min_split_gain': 0.2280123690256875, 'subsample_freq': 4, 'max_bin': 264, 'scale_pos_weight': 1.7910958748845152}. Best is trial 4 with value: 0.8902233784837822.\n"
     ]
    },
    {
     "name": "stdout",
     "output_type": "stream",
     "text": [
      "Trial 7 - Avg Train AUC: 0.9186 | Avg Validation AUC: 0.8853\n"
     ]
    },
    {
     "name": "stderr",
     "output_type": "stream",
     "text": [
      "[I 2025-03-17 19:25:10,514] Trial 8 finished with value: 0.8867666013822134 and parameters: {'boosting_type': 'dart', 'learning_rate': 0.006836314065022723, 'num_leaves': 82, 'max_depth': 3, 'min_child_samples': 37, 'min_child_weight': 5.910698619088547, 'subsample': 0.5939217592124532, 'colsample_bytree': 0.7112743730460197, 'reg_alpha': 0.02124078827890453, 'reg_lambda': 1.873554890711046e-05, 'n_estimators': 123, 'min_split_gain': 0.962451050212617, 'subsample_freq': 2, 'max_bin': 199, 'scale_pos_weight': 0.9513174647251545}. Best is trial 4 with value: 0.8902233784837822.\n"
     ]
    },
    {
     "name": "stdout",
     "output_type": "stream",
     "text": [
      "Trial 8 - Avg Train AUC: 0.9035 | Avg Validation AUC: 0.8868\n"
     ]
    },
    {
     "name": "stderr",
     "output_type": "stream",
     "text": [
      "[I 2025-03-17 19:25:58,723] Trial 9 finished with value: 0.8891677305144634 and parameters: {'boosting_type': 'gbdt', 'learning_rate': 0.01656260589333596, 'num_leaves': 161, 'max_depth': 3, 'min_child_samples': 31, 'min_child_weight': 4.295992790539128, 'subsample': 0.5437371344001835, 'colsample_bytree': 0.48693692325473387, 'reg_alpha': 0.0002541410632209718, 'reg_lambda': 7.427695424061668, 'n_estimators': 49, 'min_split_gain': 0.672168333851138, 'subsample_freq': 8, 'max_bin': 147, 'scale_pos_weight': 1.5923245229177894}. Best is trial 4 with value: 0.8902233784837822.\n"
     ]
    },
    {
     "name": "stdout",
     "output_type": "stream",
     "text": [
      "Trial 9 - Avg Train AUC: 0.9050 | Avg Validation AUC: 0.8892\n"
     ]
    },
    {
     "name": "stderr",
     "output_type": "stream",
     "text": [
      "[I 2025-03-17 19:26:31,948] Trial 10 finished with value: 0.8772214129794025 and parameters: {'boosting_type': 'dart', 'learning_rate': 0.0010280029617905596, 'num_leaves': 292, 'max_depth': 5, 'min_child_samples': 99, 'min_child_weight': 0.033202580705192976, 'subsample': 0.40935687979507357, 'colsample_bytree': 0.5952159987827709, 'reg_alpha': 5.014963770752729, 'reg_lambda': 0.01622138603062436, 'n_estimators': 81, 'min_split_gain': 0.03116495390269103, 'subsample_freq': 10, 'max_bin': 197, 'scale_pos_weight': 0.5470836845311562}. Best is trial 4 with value: 0.8902233784837822.\n"
     ]
    },
    {
     "name": "stdout",
     "output_type": "stream",
     "text": [
      "Trial 10 - Avg Train AUC: 0.8854 | Avg Validation AUC: 0.8772\n"
     ]
    },
    {
     "name": "stderr",
     "output_type": "stream",
     "text": [
      "[I 2025-03-17 19:27:07,824] Trial 11 finished with value: 0.8797653335024311 and parameters: {'boosting_type': 'gbdt', 'learning_rate': 0.0034284651973868537, 'num_leaves': 165, 'max_depth': 5, 'min_child_samples': 67, 'min_child_weight': 2.0644562125213937, 'subsample': 0.4789432621219502, 'colsample_bytree': 0.4214264020108307, 'reg_alpha': 2.4971726427859802e-05, 'reg_lambda': 8.188161916399784, 'n_estimators': 48, 'min_split_gain': 0.6168524009480498, 'subsample_freq': 9, 'max_bin': 115, 'scale_pos_weight': 1.7419824760933433}. Best is trial 4 with value: 0.8902233784837822.\n"
     ]
    },
    {
     "name": "stdout",
     "output_type": "stream",
     "text": [
      "Trial 11 - Avg Train AUC: 0.8896 | Avg Validation AUC: 0.8798\n"
     ]
    },
    {
     "name": "stderr",
     "output_type": "stream",
     "text": [
      "[I 2025-03-17 19:28:18,516] Trial 12 finished with value: 0.890694576565448 and parameters: {'boosting_type': 'dart', 'learning_rate': 0.020718575384049837, 'num_leaves': 205, 'max_depth': 4, 'min_child_samples': 52, 'min_child_weight': 9.869861058627787, 'subsample': 0.5385809490194111, 'colsample_bytree': 0.5344474238001744, 'reg_alpha': 0.005232100242978516, 'reg_lambda': 1.1950278957464315, 'n_estimators': 60, 'min_split_gain': 0.7516382634733076, 'subsample_freq': 8, 'max_bin': 161, 'scale_pos_weight': 1.557390623902266}. Best is trial 12 with value: 0.890694576565448.\n"
     ]
    },
    {
     "name": "stdout",
     "output_type": "stream",
     "text": [
      "Trial 12 - Avg Train AUC: 0.9041 | Avg Validation AUC: 0.8907\n"
     ]
    },
    {
     "name": "stderr",
     "output_type": "stream",
     "text": [
      "[I 2025-03-17 19:29:33,393] Trial 13 finished with value: 0.8873821244273555 and parameters: {'boosting_type': 'dart', 'learning_rate': 0.0024346596102796966, 'num_leaves': 209, 'max_depth': 4, 'min_child_samples': 56, 'min_child_weight': 8.525986234166625, 'subsample': 0.5045969355642718, 'colsample_bytree': 0.5698821485627045, 'reg_alpha': 0.0060430822493950116, 'reg_lambda': 0.0295363959117313, 'n_estimators': 63, 'min_split_gain': 0.9787183515807412, 'subsample_freq': 5, 'max_bin': 102, 'scale_pos_weight': 1.4487663757376068}. Best is trial 12 with value: 0.890694576565448.\n"
     ]
    },
    {
     "name": "stdout",
     "output_type": "stream",
     "text": [
      "Trial 13 - Avg Train AUC: 0.9024 | Avg Validation AUC: 0.8874\n"
     ]
    },
    {
     "name": "stderr",
     "output_type": "stream",
     "text": [
      "[I 2025-03-17 19:30:23,369] Trial 14 finished with value: 0.8852814004711801 and parameters: {'boosting_type': 'dart', 'learning_rate': 0.04048595096645392, 'num_leaves': 120, 'max_depth': 4, 'min_child_samples': 84, 'min_child_weight': 1.3115141093012437, 'subsample': 0.4379527595201719, 'colsample_bytree': 0.5545299958090416, 'reg_alpha': 0.5392759875611849, 'reg_lambda': 0.09491930939431108, 'n_estimators': 87, 'min_split_gain': 0.8259820645738591, 'subsample_freq': 4, 'max_bin': 184, 'scale_pos_weight': 1.927846193953652}. Best is trial 12 with value: 0.890694576565448.\n"
     ]
    },
    {
     "name": "stdout",
     "output_type": "stream",
     "text": [
      "Trial 14 - Avg Train AUC: 0.9012 | Avg Validation AUC: 0.8853\n"
     ]
    },
    {
     "name": "stderr",
     "output_type": "stream",
     "text": [
      "[I 2025-03-17 19:31:34,404] Trial 15 finished with value: 0.8913070877174993 and parameters: {'boosting_type': 'dart', 'learning_rate': 0.002023569396498338, 'num_leaves': 218, 'max_depth': 6, 'min_child_samples': 49, 'min_child_weight': 0.1532995134546343, 'subsample': 0.5640411942610002, 'colsample_bytree': 0.4054814698134126, 'reg_alpha': 3.522021212645743e-08, 'reg_lambda': 0.0014176549828626265, 'n_estimators': 30, 'min_split_gain': 0.4463773762491914, 'subsample_freq': 8, 'max_bin': 229, 'scale_pos_weight': 1.4215944034279295}. Best is trial 15 with value: 0.8913070877174993.\n"
     ]
    },
    {
     "name": "stdout",
     "output_type": "stream",
     "text": [
      "Trial 15 - Avg Train AUC: 0.9081 | Avg Validation AUC: 0.8913\n"
     ]
    },
    {
     "name": "stderr",
     "output_type": "stream",
     "text": [
      "[I 2025-03-17 19:32:52,805] Trial 16 finished with value: 0.8877326953234033 and parameters: {'boosting_type': 'dart', 'learning_rate': 0.01412225258199271, 'num_leaves': 205, 'max_depth': 6, 'min_child_samples': 48, 'min_child_weight': 0.12004708389595951, 'subsample': 0.8188579840032408, 'colsample_bytree': 0.5273647907272272, 'reg_alpha': 1.5533338663302226e-08, 'reg_lambda': 0.0008028290980215833, 'n_estimators': 29, 'min_split_gain': 0.47033234514077765, 'subsample_freq': 8, 'max_bin': 295, 'scale_pos_weight': 1.4477169893380886}. Best is trial 15 with value: 0.8913070877174993.\n"
     ]
    },
    {
     "name": "stdout",
     "output_type": "stream",
     "text": [
      "Trial 16 - Avg Train AUC: 0.9174 | Avg Validation AUC: 0.8877\n"
     ]
    },
    {
     "name": "stderr",
     "output_type": "stream",
     "text": [
      "[I 2025-03-17 19:33:39,985] Trial 17 finished with value: 0.8877832277323655 and parameters: {'boosting_type': 'dart', 'learning_rate': 0.03712768294695958, 'num_leaves': 135, 'max_depth': 7, 'min_child_samples': 50, 'min_child_weight': 0.0022483066052388016, 'subsample': 0.5827230626477979, 'colsample_bytree': 0.6468735314931781, 'reg_alpha': 4.7046856320321634e-08, 'reg_lambda': 0.3331527870065077, 'n_estimators': 26, 'min_split_gain': 0.42345574178518997, 'subsample_freq': 10, 'max_bin': 228, 'scale_pos_weight': 1.2633095147241078}. Best is trial 15 with value: 0.8913070877174993.\n"
     ]
    },
    {
     "name": "stdout",
     "output_type": "stream",
     "text": [
      "Trial 17 - Avg Train AUC: 0.9108 | Avg Validation AUC: 0.8878\n"
     ]
    },
    {
     "name": "stderr",
     "output_type": "stream",
     "text": [
      "[I 2025-03-17 19:34:52,888] Trial 18 finished with value: 0.8896158509611476 and parameters: {'boosting_type': 'dart', 'learning_rate': 0.009600635035520451, 'num_leaves': 299, 'max_depth': 5, 'min_child_samples': 63, 'min_child_weight': 0.005134082988113704, 'subsample': 0.6446386129848192, 'colsample_bytree': 0.5065210008140175, 'reg_alpha': 9.81856367422838e-06, 'reg_lambda': 0.0019660425983423603, 'n_estimators': 64, 'min_split_gain': 0.5439725801461365, 'subsample_freq': 7, 'max_bin': 226, 'scale_pos_weight': 1.5602493930649468}. Best is trial 15 with value: 0.8913070877174993.\n"
     ]
    },
    {
     "name": "stdout",
     "output_type": "stream",
     "text": [
      "Trial 18 - Avg Train AUC: 0.9083 | Avg Validation AUC: 0.8896\n"
     ]
    },
    {
     "name": "stderr",
     "output_type": "stream",
     "text": [
      "[I 2025-03-17 19:35:30,088] Trial 19 finished with value: 0.8830224045205636 and parameters: {'boosting_type': 'dart', 'learning_rate': 0.004727046258795948, 'num_leaves': 213, 'max_depth': 7, 'min_child_samples': 73, 'min_child_weight': 0.08167860692158481, 'subsample': 0.5608799912603264, 'colsample_bytree': 0.7967844178229887, 'reg_alpha': 0.003819426760382419, 'reg_lambda': 0.807298036686811, 'n_estimators': 40, 'min_split_gain': 0.022102136529417005, 'subsample_freq': 8, 'max_bin': 126, 'scale_pos_weight': 1.986466495680231}. Best is trial 15 with value: 0.8913070877174993.\n"
     ]
    },
    {
     "name": "stdout",
     "output_type": "stream",
     "text": [
      "Trial 19 - Avg Train AUC: 0.8978 | Avg Validation AUC: 0.8830\n"
     ]
    },
    {
     "name": "stderr",
     "output_type": "stream",
     "text": [
      "[I 2025-03-17 19:36:33,066] Trial 20 finished with value: 0.8907163252540009 and parameters: {'boosting_type': 'dart', 'learning_rate': 0.001975003411129426, 'num_leaves': 180, 'max_depth': 6, 'min_child_samples': 42, 'min_child_weight': 0.2993228322796399, 'subsample': 0.471645973649337, 'colsample_bytree': 0.6232931827415775, 'reg_alpha': 3.0439381964747037e-07, 'reg_lambda': 0.0002000898045453245, 'n_estimators': 68, 'min_split_gain': 0.3467836893611872, 'subsample_freq': 6, 'max_bin': 215, 'scale_pos_weight': 1.121646788680951}. Best is trial 15 with value: 0.8913070877174993.\n"
     ]
    },
    {
     "name": "stdout",
     "output_type": "stream",
     "text": [
      "Trial 20 - Avg Train AUC: 0.9095 | Avg Validation AUC: 0.8907\n"
     ]
    },
    {
     "name": "stderr",
     "output_type": "stream",
     "text": [
      "[I 2025-03-17 19:37:35,137] Trial 21 finished with value: 0.8916154214387232 and parameters: {'boosting_type': 'dart', 'learning_rate': 0.0017658657122917494, 'num_leaves': 179, 'max_depth': 6, 'min_child_samples': 43, 'min_child_weight': 0.32077087255899794, 'subsample': 0.4802268572096814, 'colsample_bytree': 0.6012936523697401, 'reg_alpha': 2.109157783059863e-07, 'reg_lambda': 0.0001220340951035956, 'n_estimators': 68, 'min_split_gain': 0.3157890379706402, 'subsample_freq': 6, 'max_bin': 243, 'scale_pos_weight': 1.1191740722603452}. Best is trial 21 with value: 0.8916154214387232.\n"
     ]
    },
    {
     "name": "stdout",
     "output_type": "stream",
     "text": [
      "Trial 21 - Avg Train AUC: 0.9097 | Avg Validation AUC: 0.8916\n"
     ]
    },
    {
     "name": "stderr",
     "output_type": "stream",
     "text": [
      "[I 2025-03-17 19:38:36,186] Trial 22 finished with value: 0.8907238355520505 and parameters: {'boosting_type': 'dart', 'learning_rate': 0.0018083850065140428, 'num_leaves': 178, 'max_depth': 6, 'min_child_samples': 44, 'min_child_weight': 0.3172076555056455, 'subsample': 0.47386560505124053, 'colsample_bytree': 0.6231702059875768, 'reg_alpha': 1.5582852963611068e-07, 'reg_lambda': 8.552316511702616e-05, 'n_estimators': 68, 'min_split_gain': 0.36229991644821535, 'subsample_freq': 6, 'max_bin': 240, 'scale_pos_weight': 0.9818248245215557}. Best is trial 21 with value: 0.8916154214387232.\n"
     ]
    },
    {
     "name": "stdout",
     "output_type": "stream",
     "text": [
      "Trial 22 - Avg Train AUC: 0.9095 | Avg Validation AUC: 0.8907\n"
     ]
    },
    {
     "name": "stderr",
     "output_type": "stream",
     "text": [
      "[I 2025-03-17 19:39:35,712] Trial 23 finished with value: 0.8901319821767629 and parameters: {'boosting_type': 'dart', 'learning_rate': 0.0015582234140438782, 'num_leaves': 129, 'max_depth': 6, 'min_child_samples': 28, 'min_child_weight': 0.08897561952267025, 'subsample': 0.4140910919035207, 'colsample_bytree': 0.7195674518081043, 'reg_alpha': 8.554721132861976e-08, 'reg_lambda': 1.880445494156907e-06, 'n_estimators': 52, 'min_split_gain': 0.12944794822997047, 'subsample_freq': 6, 'max_bin': 251, 'scale_pos_weight': 0.8986145076377384}. Best is trial 21 with value: 0.8916154214387232.\n"
     ]
    },
    {
     "name": "stdout",
     "output_type": "stream",
     "text": [
      "Trial 23 - Avg Train AUC: 0.9143 | Avg Validation AUC: 0.8901\n"
     ]
    },
    {
     "name": "stderr",
     "output_type": "stream",
     "text": [
      "[I 2025-03-17 19:40:16,112] Trial 24 finished with value: 0.89010104297399 and parameters: {'boosting_type': 'dart', 'learning_rate': 0.003059223414558934, 'num_leaves': 149, 'max_depth': 8, 'min_child_samples': 42, 'min_child_weight': 0.3273792821678318, 'subsample': 0.4656800252766103, 'colsample_bytree': 0.810671416458374, 'reg_alpha': 1.1245022374062613e-08, 'reg_lambda': 0.0030971851294111325, 'n_estimators': 72, 'min_split_gain': 0.31357098566160235, 'subsample_freq': 5, 'max_bin': 238, 'scale_pos_weight': 1.158815242702257}. Best is trial 21 with value: 0.8916154214387232.\n"
     ]
    },
    {
     "name": "stdout",
     "output_type": "stream",
     "text": [
      "Trial 24 - Avg Train AUC: 0.9114 | Avg Validation AUC: 0.8901\n"
     ]
    },
    {
     "name": "stderr",
     "output_type": "stream",
     "text": [
      "[I 2025-03-17 19:41:59,766] Trial 25 finished with value: 0.8316004838816979 and parameters: {'boosting_type': 'dart', 'learning_rate': 0.0014802229440888518, 'num_leaves': 188, 'max_depth': 7, 'min_child_samples': 5, 'min_child_weight': 0.1636441773762204, 'subsample': 0.5031803716831287, 'colsample_bytree': 0.6011289203526649, 'reg_alpha': 3.724285210735949e-06, 'reg_lambda': 0.0002447173916064887, 'n_estimators': 41, 'min_split_gain': 0.4716703594854369, 'subsample_freq': 4, 'max_bin': 295, 'scale_pos_weight': 1.3504923126886696}. Best is trial 21 with value: 0.8916154214387232.\n"
     ]
    },
    {
     "name": "stdout",
     "output_type": "stream",
     "text": [
      "Trial 25 - Avg Train AUC: 0.9001 | Avg Validation AUC: 0.8316\n"
     ]
    },
    {
     "name": "stderr",
     "output_type": "stream",
     "text": [
      "[I 2025-03-17 19:42:44,062] Trial 26 finished with value: 0.8885909873596539 and parameters: {'boosting_type': 'dart', 'learning_rate': 0.0027928466623604498, 'num_leaves': 223, 'max_depth': 6, 'min_child_samples': 60, 'min_child_weight': 0.0380911174021251, 'subsample': 0.44788062211236945, 'colsample_bytree': 0.6524122591883045, 'reg_alpha': 1.6732556284066074e-07, 'reg_lambda': 3.65580959661049e-05, 'n_estimators': 89, 'min_split_gain': 0.14435482389307874, 'subsample_freq': 7, 'max_bin': 272, 'scale_pos_weight': 0.9961816340945492}. Best is trial 21 with value: 0.8916154214387232.\n"
     ]
    },
    {
     "name": "stdout",
     "output_type": "stream",
     "text": [
      "Trial 26 - Avg Train AUC: 0.9049 | Avg Validation AUC: 0.8886\n"
     ]
    },
    {
     "name": "stderr",
     "output_type": "stream",
     "text": [
      "[I 2025-03-17 19:43:52,375] Trial 27 finished with value: 0.8895815259485221 and parameters: {'boosting_type': 'dart', 'learning_rate': 0.004442870080209332, 'num_leaves': 273, 'max_depth': 5, 'min_child_samples': 43, 'min_child_weight': 0.04275351178520465, 'subsample': 0.6046705126642413, 'colsample_bytree': 0.8399033906610366, 'reg_alpha': 8.247147170346585e-07, 'reg_lambda': 0.0001130360841895331, 'n_estimators': 81, 'min_split_gain': 0.30908573473012996, 'subsample_freq': 9, 'max_bin': 244, 'scale_pos_weight': 1.131316649747232}. Best is trial 21 with value: 0.8916154214387232.\n"
     ]
    },
    {
     "name": "stdout",
     "output_type": "stream",
     "text": [
      "Trial 27 - Avg Train AUC: 0.9128 | Avg Validation AUC: 0.8896\n"
     ]
    },
    {
     "name": "stderr",
     "output_type": "stream",
     "text": [
      "[I 2025-03-17 19:44:26,091] Trial 28 finished with value: 0.8868619673424828 and parameters: {'boosting_type': 'dart', 'learning_rate': 0.0013228901274712581, 'num_leaves': 172, 'max_depth': 7, 'min_child_samples': 75, 'min_child_weight': 0.5594673416768179, 'subsample': 0.400870007075652, 'colsample_bytree': 0.7442139562574125, 'reg_alpha': 2.810267981458752e-05, 'reg_lambda': 5.59112683357102e-06, 'n_estimators': 109, 'min_split_gain': 0.40803601276469104, 'subsample_freq': 6, 'max_bin': 210, 'scale_pos_weight': 0.8457514685173569}. Best is trial 21 with value: 0.8916154214387232.\n"
     ]
    },
    {
     "name": "stdout",
     "output_type": "stream",
     "text": [
      "Trial 28 - Avg Train AUC: 0.8993 | Avg Validation AUC: 0.8869\n"
     ]
    },
    {
     "name": "stderr",
     "output_type": "stream",
     "text": [
      "[I 2025-03-17 19:45:52,904] Trial 29 finished with value: 0.8861359853026298 and parameters: {'boosting_type': 'dart', 'learning_rate': 0.0019802667211207465, 'num_leaves': 190, 'max_depth': 6, 'min_child_samples': 28, 'min_child_weight': 0.19835391099645833, 'subsample': 0.6682448051681998, 'colsample_bytree': 0.9900468499133711, 'reg_alpha': 4.0407245398946167e-08, 'reg_lambda': 0.0009620123293469441, 'n_estimators': 55, 'min_split_gain': 0.1359364338641268, 'subsample_freq': 3, 'max_bin': 283, 'scale_pos_weight': 1.4244071480653802}. Best is trial 21 with value: 0.8916154214387232.\n"
     ]
    },
    {
     "name": "stdout",
     "output_type": "stream",
     "text": [
      "Trial 29 - Avg Train AUC: 0.9201 | Avg Validation AUC: 0.8861\n"
     ]
    },
    {
     "name": "stderr",
     "output_type": "stream",
     "text": [
      "[I 2025-03-17 19:47:07,934] Trial 30 finished with value: 0.8916344669403775 and parameters: {'boosting_type': 'dart', 'learning_rate': 0.006163043404204141, 'num_leaves': 147, 'max_depth': 5, 'min_child_samples': 58, 'min_child_weight': 0.42314534225813677, 'subsample': 0.5392932843953451, 'colsample_bytree': 0.44062092387611274, 'reg_alpha': 2.5753751155378024e-06, 'reg_lambda': 0.007722339287961649, 'n_estimators': 32, 'min_split_gain': 0.5187479202642469, 'subsample_freq': 9, 'max_bin': 234, 'scale_pos_weight': 1.1028606814561694}. Best is trial 30 with value: 0.8916344669403775.\n"
     ]
    },
    {
     "name": "stdout",
     "output_type": "stream",
     "text": [
      "Trial 30 - Avg Train AUC: 0.9077 | Avg Validation AUC: 0.8916\n"
     ]
    },
    {
     "name": "stderr",
     "output_type": "stream",
     "text": [
      "[I 2025-03-17 19:48:24,041] Trial 31 finished with value: 0.8903224063548117 and parameters: {'boosting_type': 'dart', 'learning_rate': 0.00360501961563626, 'num_leaves': 95, 'max_depth': 5, 'min_child_samples': 58, 'min_child_weight': 0.395719781317241, 'subsample': 0.5584124727558657, 'colsample_bytree': 0.44647152710921995, 'reg_alpha': 4.202562939655718e-06, 'reg_lambda': 0.00572124016537279, 'n_estimators': 37, 'min_split_gain': 0.5270257823060491, 'subsample_freq': 9, 'max_bin': 236, 'scale_pos_weight': 1.0568953221632786}. Best is trial 30 with value: 0.8916344669403775.\n"
     ]
    },
    {
     "name": "stdout",
     "output_type": "stream",
     "text": [
      "Trial 31 - Avg Train AUC: 0.9064 | Avg Validation AUC: 0.8903\n"
     ]
    },
    {
     "name": "stderr",
     "output_type": "stream",
     "text": [
      "[I 2025-03-17 19:49:19,260] Trial 32 finished with value: 0.8910957767226085 and parameters: {'boosting_type': 'dart', 'learning_rate': 0.006605927381930818, 'num_leaves': 149, 'max_depth': 6, 'min_child_samples': 48, 'min_child_weight': 1.894247516283165, 'subsample': 0.49113085386518834, 'colsample_bytree': 0.44832200358614965, 'reg_alpha': 2.0770165424240254e-07, 'reg_lambda': 0.0005120140579187984, 'n_estimators': 45, 'min_split_gain': 0.5938171093127669, 'subsample_freq': 7, 'max_bin': 211, 'scale_pos_weight': 1.1901500655443298}. Best is trial 30 with value: 0.8916344669403775.\n"
     ]
    },
    {
     "name": "stdout",
     "output_type": "stream",
     "text": [
      "Trial 32 - Avg Train AUC: 0.9078 | Avg Validation AUC: 0.8911\n"
     ]
    },
    {
     "name": "stderr",
     "output_type": "stream",
     "text": [
      "[I 2025-03-17 19:50:39,077] Trial 33 finished with value: 0.8902251039939932 and parameters: {'boosting_type': 'dart', 'learning_rate': 0.006795939294963448, 'num_leaves': 147, 'max_depth': 5, 'min_child_samples': 53, 'min_child_weight': 2.196020175114005, 'subsample': 0.6215999289688051, 'colsample_bytree': 0.4342731259600989, 'reg_alpha': 1.0257289622073702e-06, 'reg_lambda': 0.0008097367942995024, 'n_estimators': 31, 'min_split_gain': 0.6411006186165789, 'subsample_freq': 7, 'max_bin': 189, 'scale_pos_weight': 1.3598926677467484}. Best is trial 30 with value: 0.8916344669403775.\n"
     ]
    },
    {
     "name": "stdout",
     "output_type": "stream",
     "text": [
      "Trial 33 - Avg Train AUC: 0.9096 | Avg Validation AUC: 0.8902\n"
     ]
    },
    {
     "name": "stderr",
     "output_type": "stream",
     "text": [
      "[I 2025-03-17 19:51:53,148] Trial 34 finished with value: 0.8890478076351169 and parameters: {'boosting_type': 'dart', 'learning_rate': 0.009903739978871347, 'num_leaves': 117, 'max_depth': 6, 'min_child_samples': 71, 'min_child_weight': 0.7596531251342437, 'subsample': 0.8647051393397454, 'colsample_bytree': 0.4732328016496056, 'reg_alpha': 3.1029623797341187e-08, 'reg_lambda': 0.01074663119789459, 'n_estimators': 45, 'min_split_gain': 0.5770496100279815, 'subsample_freq': 9, 'max_bin': 215, 'scale_pos_weight': 1.2299241811557848}. Best is trial 30 with value: 0.8916344669403775.\n"
     ]
    },
    {
     "name": "stdout",
     "output_type": "stream",
     "text": [
      "Trial 34 - Avg Train AUC: 0.9131 | Avg Validation AUC: 0.8890\n"
     ]
    },
    {
     "name": "stderr",
     "output_type": "stream",
     "text": [
      "[I 2025-03-17 19:53:02,606] Trial 35 finished with value: 0.8900338876520832 and parameters: {'boosting_type': 'dart', 'learning_rate': 0.0060296561371798955, 'num_leaves': 228, 'max_depth': 6, 'min_child_samples': 36, 'min_child_weight': 1.9010840522883485, 'subsample': 0.5142184037964619, 'colsample_bytree': 0.40305005197893295, 'reg_alpha': 3.930220169183004e-05, 'reg_lambda': 0.1202377373184117, 'n_estimators': 33, 'min_split_gain': 0.6952624253857373, 'subsample_freq': 7, 'max_bin': 208, 'scale_pos_weight': 1.0903814955695135}. Best is trial 30 with value: 0.8916344669403775.\n"
     ]
    },
    {
     "name": "stdout",
     "output_type": "stream",
     "text": [
      "Trial 35 - Avg Train AUC: 0.9079 | Avg Validation AUC: 0.8900\n"
     ]
    },
    {
     "name": "stderr",
     "output_type": "stream",
     "text": [
      "[I 2025-03-17 19:54:21,213] Trial 36 finished with value: 0.8910761409528704 and parameters: {'boosting_type': 'dart', 'learning_rate': 0.013208056394862434, 'num_leaves': 143, 'max_depth': 5, 'min_child_samples': 48, 'min_child_weight': 0.9754433702509507, 'subsample': 0.6470424090922492, 'colsample_bytree': 0.5056431737364896, 'reg_alpha': 4.2347805459848067e-07, 'reg_lambda': 0.0024751589432311107, 'n_estimators': 44, 'min_split_gain': 0.4722079627854424, 'subsample_freq': 10, 'max_bin': 254, 'scale_pos_weight': 1.1869874531132334}. Best is trial 30 with value: 0.8916344669403775.\n"
     ]
    },
    {
     "name": "stdout",
     "output_type": "stream",
     "text": [
      "Trial 36 - Avg Train AUC: 0.9121 | Avg Validation AUC: 0.8911\n"
     ]
    },
    {
     "name": "stderr",
     "output_type": "stream",
     "text": [
      "[I 2025-03-17 19:55:18,946] Trial 37 finished with value: 0.8866406121531363 and parameters: {'boosting_type': 'gbdt', 'learning_rate': 0.005309651000730925, 'num_leaves': 80, 'max_depth': 7, 'min_child_samples': 80, 'min_child_weight': 0.49807570791787675, 'subsample': 0.7558864217874581, 'colsample_bytree': 0.4533031972614775, 'reg_alpha': 3.3579334356027685e-06, 'reg_lambda': 0.0005817050255332139, 'n_estimators': 27, 'min_split_gain': 0.5687183268053068, 'subsample_freq': 8, 'max_bin': 226, 'scale_pos_weight': 1.3348221915460199}. Best is trial 30 with value: 0.8916344669403775.\n"
     ]
    },
    {
     "name": "stdout",
     "output_type": "stream",
     "text": [
      "Trial 37 - Avg Train AUC: 0.9092 | Avg Validation AUC: 0.8866\n"
     ]
    },
    {
     "name": "stderr",
     "output_type": "stream",
     "text": [
      "[I 2025-03-17 19:56:34,363] Trial 38 finished with value: 0.8903563746367121 and parameters: {'boosting_type': 'dart', 'learning_rate': 0.0022912202448282294, 'num_leaves': 112, 'max_depth': 5, 'min_child_samples': 61, 'min_child_weight': 0.1250514656156006, 'subsample': 0.5279770721102752, 'colsample_bytree': 0.40401830234690544, 'reg_alpha': 1.2824132237419459e-07, 'reg_lambda': 2.0529862458147955e-07, 'n_estimators': 34, 'min_split_gain': 0.43822145062073614, 'subsample_freq': 7, 'max_bin': 174, 'scale_pos_weight': 1.2722056762530063}. Best is trial 30 with value: 0.8916344669403775.\n"
     ]
    },
    {
     "name": "stdout",
     "output_type": "stream",
     "text": [
      "Trial 38 - Avg Train AUC: 0.9051 | Avg Validation AUC: 0.8904\n"
     ]
    },
    {
     "name": "stderr",
     "output_type": "stream",
     "text": [
      "[I 2025-03-17 19:57:30,606] Trial 39 finished with value: 0.8908940862140906 and parameters: {'boosting_type': 'gbdt', 'learning_rate': 0.008509603755827358, 'num_leaves': 248, 'max_depth': 6, 'min_child_samples': 55, 'min_child_weight': 0.0760533354896038, 'subsample': 0.5639955094049819, 'colsample_bytree': 0.46642223617266243, 'reg_alpha': 8.147248706663633e-05, 'reg_lambda': 6.153177474539559e-06, 'n_estimators': 25, 'min_split_gain': 0.2639590903516781, 'subsample_freq': 9, 'max_bin': 267, 'scale_pos_weight': 0.7939317705927263}. Best is trial 30 with value: 0.8916344669403775.\n"
     ]
    },
    {
     "name": "stdout",
     "output_type": "stream",
     "text": [
      "Trial 39 - Avg Train AUC: 0.9121 | Avg Validation AUC: 0.8909\n"
     ]
    },
    {
     "name": "stderr",
     "output_type": "stream",
     "text": [
      "[I 2025-03-17 19:58:52,065] Trial 40 finished with value: 0.8850120440387854 and parameters: {'boosting_type': 'dart', 'learning_rate': 0.004052701896179389, 'num_leaves': 155, 'max_depth': 8, 'min_child_samples': 35, 'min_child_weight': 3.1443514301136464, 'subsample': 0.9535256986477543, 'colsample_bytree': 0.5024950753632963, 'reg_alpha': 4.306152614454631e-07, 'reg_lambda': 0.055604998113528495, 'n_estimators': 53, 'min_split_gain': 0.5210854060035117, 'subsample_freq': 5, 'max_bin': 281, 'scale_pos_weight': 1.6775530699831025}. Best is trial 30 with value: 0.8916344669403775.\n"
     ]
    },
    {
     "name": "stdout",
     "output_type": "stream",
     "text": [
      "Trial 40 - Avg Train AUC: 0.9215 | Avg Validation AUC: 0.8850\n"
     ]
    },
    {
     "name": "stderr",
     "output_type": "stream",
     "text": [
      "[I 2025-03-17 20:00:06,247] Trial 41 finished with value: 0.8908862527543032 and parameters: {'boosting_type': 'dart', 'learning_rate': 0.012670823736736885, 'num_leaves': 141, 'max_depth': 5, 'min_child_samples': 47, 'min_child_weight': 1.1190807195318624, 'subsample': 0.6740105181529994, 'colsample_bytree': 0.5187934432524103, 'reg_alpha': 3.9370196591565603e-07, 'reg_lambda': 0.004933179884537001, 'n_estimators': 44, 'min_split_gain': 0.4928579228422543, 'subsample_freq': 10, 'max_bin': 255, 'scale_pos_weight': 1.1916859866229195}. Best is trial 30 with value: 0.8916344669403775.\n"
     ]
    },
    {
     "name": "stdout",
     "output_type": "stream",
     "text": [
      "Trial 41 - Avg Train AUC: 0.9138 | Avg Validation AUC: 0.8909\n"
     ]
    },
    {
     "name": "stderr",
     "output_type": "stream",
     "text": [
      "[I 2025-03-17 20:01:27,415] Trial 42 finished with value: 0.8910895184353652 and parameters: {'boosting_type': 'dart', 'learning_rate': 0.025321413648675267, 'num_leaves': 162, 'max_depth': 5, 'min_child_samples': 49, 'min_child_weight': 0.880402524265011, 'subsample': 0.9979206441560866, 'colsample_bytree': 0.4850503720319511, 'reg_alpha': 1.1238946647577125e-06, 'reg_lambda': 0.0018022494099091705, 'n_estimators': 36, 'min_split_gain': 0.44129498712049825, 'subsample_freq': 10, 'max_bin': 252, 'scale_pos_weight': 1.1918046955929522}. Best is trial 30 with value: 0.8916344669403775.\n"
     ]
    },
    {
     "name": "stdout",
     "output_type": "stream",
     "text": [
      "Trial 42 - Avg Train AUC: 0.9174 | Avg Validation AUC: 0.8911\n"
     ]
    },
    {
     "name": "stderr",
     "output_type": "stream",
     "text": [
      "[I 2025-03-17 20:02:50,111] Trial 43 finished with value: 0.8801476664429912 and parameters: {'boosting_type': 'dart', 'learning_rate': 0.02563439888164463, 'num_leaves': 163, 'max_depth': 6, 'min_child_samples': 38, 'min_child_weight': 0.6155400866511137, 'subsample': 0.9926242351550976, 'colsample_bytree': 0.430674391395727, 'reg_alpha': 1.6136825563014158e-06, 'reg_lambda': 0.0003050509947649927, 'n_estimators': 37, 'min_split_gain': 0.37790563799245436, 'subsample_freq': 9, 'max_bin': 232, 'scale_pos_weight': 1.0583881139429248}. Best is trial 30 with value: 0.8916344669403775.\n"
     ]
    },
    {
     "name": "stdout",
     "output_type": "stream",
     "text": [
      "Trial 43 - Avg Train AUC: 0.9030 | Avg Validation AUC: 0.8801\n"
     ]
    },
    {
     "name": "stderr",
     "output_type": "stream",
     "text": [
      "[I 2025-03-17 20:03:55,909] Trial 44 finished with value: 0.8896419857832607 and parameters: {'boosting_type': 'dart', 'learning_rate': 0.06303646944122893, 'num_leaves': 194, 'max_depth': 4, 'min_child_samples': 64, 'min_child_weight': 1.5378385727284765, 'subsample': 0.8581403008088848, 'colsample_bytree': 0.5574766696564413, 'reg_alpha': 7.436300235289694e-08, 'reg_lambda': 1.831558549049254e-05, 'n_estimators': 32, 'min_split_gain': 0.6138770792648187, 'subsample_freq': 8, 'max_bin': 219, 'scale_pos_weight': 1.3757605345551636}. Best is trial 30 with value: 0.8916344669403775.\n"
     ]
    },
    {
     "name": "stdout",
     "output_type": "stream",
     "text": [
      "Trial 44 - Avg Train AUC: 0.9159 | Avg Validation AUC: 0.8896\n"
     ]
    },
    {
     "name": "stderr",
     "output_type": "stream",
     "text": [
      "[I 2025-03-17 20:04:51,475] Trial 45 finished with value: 0.8879904612998883 and parameters: {'boosting_type': 'gbdt', 'learning_rate': 0.007894916650162807, 'num_leaves': 100, 'max_depth': 5, 'min_child_samples': 55, 'min_child_weight': 0.21652586460276133, 'subsample': 0.4343080546233382, 'colsample_bytree': 0.4749563829231877, 'reg_alpha': 0.0007947336469950394, 'reg_lambda': 0.00865705225272079, 'n_estimators': 40, 'min_split_gain': 0.7111051051204924, 'subsample_freq': 10, 'max_bin': 247, 'scale_pos_weight': 0.9042035013266936}. Best is trial 30 with value: 0.8916344669403775.\n"
     ]
    },
    {
     "name": "stdout",
     "output_type": "stream",
     "text": [
      "Trial 45 - Avg Train AUC: 0.9065 | Avg Validation AUC: 0.8880\n"
     ]
    },
    {
     "name": "stderr",
     "output_type": "stream",
     "text": [
      "[I 2025-03-17 20:06:20,501] Trial 46 finished with value: 0.8917381697346312 and parameters: {'boosting_type': 'dart', 'learning_rate': 0.022913456821127984, 'num_leaves': 175, 'max_depth': 4, 'min_child_samples': 22, 'min_child_weight': 3.2137107143743853, 'subsample': 0.49864230340355514, 'colsample_bytree': 0.4879750914595561, 'reg_alpha': 1.401347313569066e-05, 'reg_lambda': 0.0020176735576330294, 'n_estimators': 48, 'min_split_gain': 0.21414520580272775, 'subsample_freq': 1, 'max_bin': 207, 'scale_pos_weight': 0.6556588427874915}. Best is trial 46 with value: 0.8917381697346312.\n"
     ]
    },
    {
     "name": "stdout",
     "output_type": "stream",
     "text": [
      "Trial 46 - Avg Train AUC: 0.9161 | Avg Validation AUC: 0.8917\n"
     ]
    },
    {
     "name": "stderr",
     "output_type": "stream",
     "text": [
      "[I 2025-03-17 20:07:30,571] Trial 47 finished with value: 0.8902743137205962 and parameters: {'boosting_type': 'dart', 'learning_rate': 0.047199735159266835, 'num_leaves': 198, 'max_depth': 4, 'min_child_samples': 16, 'min_child_weight': 5.633912576795309, 'subsample': 0.49213362586419473, 'colsample_bytree': 0.423695855608129, 'reg_alpha': 7.638577355279722e-06, 'reg_lambda': 0.018480724419168353, 'n_estimators': 58, 'min_split_gain': 0.20516107461670896, 'subsample_freq': 1, 'max_bin': 202, 'scale_pos_weight': 0.5195230208196151}. Best is trial 46 with value: 0.8917381697346312.\n"
     ]
    },
    {
     "name": "stdout",
     "output_type": "stream",
     "text": [
      "Trial 47 - Avg Train AUC: 0.9136 | Avg Validation AUC: 0.8903\n"
     ]
    },
    {
     "name": "stderr",
     "output_type": "stream",
     "text": [
      "[I 2025-03-17 20:08:24,198] Trial 48 finished with value: 0.889582309920908 and parameters: {'boosting_type': 'gbdt', 'learning_rate': 0.011209554941095417, 'num_leaves': 222, 'max_depth': 3, 'min_child_samples': 21, 'min_child_weight': 2.9750717824245623, 'subsample': 0.5411381796465268, 'colsample_bytree': 0.5457823255264568, 'reg_alpha': 1.2086133254454745e-05, 'reg_lambda': 9.058051828943167e-05, 'n_estimators': 48, 'min_split_gain': 0.1946729292132537, 'subsample_freq': 0, 'max_bin': 191, 'scale_pos_weight': 0.6874994563504464}. Best is trial 46 with value: 0.8917381697346312.\n"
     ]
    },
    {
     "name": "stdout",
     "output_type": "stream",
     "text": [
      "Trial 48 - Avg Train AUC: 0.9108 | Avg Validation AUC: 0.8896\n"
     ]
    },
    {
     "name": "stderr",
     "output_type": "stream",
     "text": [
      "[I 2025-03-17 20:10:07,139] Trial 49 finished with value: 0.8894182622938065 and parameters: {'boosting_type': 'dart', 'learning_rate': 0.0011609233707885454, 'num_leaves': 247, 'max_depth': 4, 'min_child_samples': 31, 'min_child_weight': 0.051474103946926836, 'subsample': 0.5855807171218931, 'colsample_bytree': 0.5787367488099475, 'reg_alpha': 2.573480628977345e-08, 'reg_lambda': 2.1919804107062895e-05, 'n_estimators': 50, 'min_split_gain': 0.26926486647982506, 'subsample_freq': 3, 'max_bin': 176, 'scale_pos_weight': 1.514742608101399}. Best is trial 46 with value: 0.8917381697346312.\n"
     ]
    },
    {
     "name": "stdout",
     "output_type": "stream",
     "text": [
      "Trial 49 - Avg Train AUC: 0.9077 | Avg Validation AUC: 0.8894\n"
     ]
    },
    {
     "name": "stderr",
     "output_type": "stream",
     "text": [
      "[I 2025-03-17 20:11:07,982] Trial 50 finished with value: 0.8898908400769253 and parameters: {'boosting_type': 'dart', 'learning_rate': 0.018985676520434962, 'num_leaves': 174, 'max_depth': 6, 'min_child_samples': 12, 'min_child_weight': 5.3724050819426425, 'subsample': 0.4512016566559734, 'colsample_bytree': 0.6850038913014693, 'reg_alpha': 9.08953639847697e-05, 'reg_lambda': 0.0004926221953410201, 'n_estimators': 61, 'min_split_gain': 0.07233016730467062, 'subsample_freq': 5, 'max_bin': 204, 'scale_pos_weight': 0.6065431466266642}. Best is trial 46 with value: 0.8917381697346312.\n"
     ]
    },
    {
     "name": "stdout",
     "output_type": "stream",
     "text": [
      "Trial 50 - Avg Train AUC: 0.9170 | Avg Validation AUC: 0.8899\n"
     ]
    },
    {
     "name": "stderr",
     "output_type": "stream",
     "text": [
      "[I 2025-03-17 20:12:04,500] Trial 51 finished with value: 0.8894981958355631 and parameters: {'boosting_type': 'dart', 'learning_rate': 0.02467704846002843, 'num_leaves': 161, 'max_depth': 5, 'min_child_samples': 68, 'min_child_weight': 0.8388826209170109, 'subsample': 0.7268121373100159, 'colsample_bytree': 0.4884031041651574, 'reg_alpha': 1.4173143807374227e-06, 'reg_lambda': 0.001561010371283918, 'n_estimators': 30, 'min_split_gain': 0.3250929991025948, 'subsample_freq': 8, 'max_bin': 221, 'scale_pos_weight': 1.3015607021402613}. Best is trial 46 with value: 0.8917381697346312.\n"
     ]
    },
    {
     "name": "stdout",
     "output_type": "stream",
     "text": [
      "Trial 51 - Avg Train AUC: 0.9124 | Avg Validation AUC: 0.8895\n"
     ]
    },
    {
     "name": "stderr",
     "output_type": "stream",
     "text": [
      "[I 2025-03-17 20:13:15,321] Trial 52 finished with value: 0.8897016081600972 and parameters: {'boosting_type': 'dart', 'learning_rate': 0.030973245095342807, 'num_leaves': 130, 'max_depth': 4, 'min_child_samples': 52, 'min_child_weight': 0.02322203016480925, 'subsample': 0.4993908710398519, 'colsample_bytree': 0.4505892628179357, 'reg_alpha': 2.4396533239433056e-07, 'reg_lambda': 0.03927025851157314, 'n_estimators': 35, 'min_split_gain': 0.41697349864893285, 'subsample_freq': 1, 'max_bin': 261, 'scale_pos_weight': 1.2187198594700583}. Best is trial 46 with value: 0.8917381697346312.\n"
     ]
    },
    {
     "name": "stdout",
     "output_type": "stream",
     "text": [
      "Trial 52 - Avg Train AUC: 0.9104 | Avg Validation AUC: 0.8897\n"
     ]
    },
    {
     "name": "stderr",
     "output_type": "stream",
     "text": [
      "[I 2025-03-17 20:14:19,985] Trial 53 finished with value: 0.8926213635350141 and parameters: {'boosting_type': 'dart', 'learning_rate': 0.016102943033287312, 'num_leaves': 182, 'max_depth': 5, 'min_child_samples': 46, 'min_child_weight': 0.4737786069822799, 'subsample': 0.6161675460857321, 'colsample_bytree': 0.4824062084358111, 'reg_alpha': 0.0005985940648424235, 'reg_lambda': 0.0017233834914886007, 'n_estimators': 40, 'min_split_gain': 0.2886173006320366, 'subsample_freq': 7, 'max_bin': 236, 'scale_pos_weight': 1.4939246945262936}. Best is trial 53 with value: 0.8926213635350141.\n"
     ]
    },
    {
     "name": "stdout",
     "output_type": "stream",
     "text": [
      "Trial 53 - Avg Train AUC: 0.9119 | Avg Validation AUC: 0.8926\n"
     ]
    },
    {
     "name": "stderr",
     "output_type": "stream",
     "text": [
      "[I 2025-03-17 20:15:31,053] Trial 54 finished with value: 0.8905731056578585 and parameters: {'boosting_type': 'dart', 'learning_rate': 0.015443247888254848, 'num_leaves': 182, 'max_depth': 6, 'min_child_samples': 40, 'min_child_weight': 0.4246011801977759, 'subsample': 0.6045985800278038, 'colsample_bytree': 0.5304964795062332, 'reg_alpha': 0.0010712435281018911, 'reg_lambda': 0.004991162095525018, 'n_estimators': 46, 'min_split_gain': 0.27358621682413997, 'subsample_freq': 6, 'max_bin': 232, 'scale_pos_weight': 1.672503008953012}. Best is trial 53 with value: 0.8926213635350141.\n"
     ]
    },
    {
     "name": "stdout",
     "output_type": "stream",
     "text": [
      "Trial 54 - Avg Train AUC: 0.9157 | Avg Validation AUC: 0.8906\n"
     ]
    },
    {
     "name": "stderr",
     "output_type": "stream",
     "text": [
      "[I 2025-03-17 20:16:48,573] Trial 55 finished with value: 0.8675384529540917 and parameters: {'boosting_type': 'dart', 'learning_rate': 0.017540210330743794, 'num_leaves': 202, 'max_depth': 7, 'min_child_samples': 25, 'min_child_weight': 0.12977604501057238, 'subsample': 0.5683209144028811, 'colsample_bytree': 0.41552136843197274, 'reg_alpha': 0.0005457290368816935, 'reg_lambda': 0.0003411318062597027, 'n_estimators': 41, 'min_split_gain': 0.16862046407470502, 'subsample_freq': 7, 'max_bin': 197, 'scale_pos_weight': 1.4763128700470356}. Best is trial 53 with value: 0.8926213635350141.\n"
     ]
    },
    {
     "name": "stdout",
     "output_type": "stream",
     "text": [
      "Trial 55 - Avg Train AUC: 0.8974 | Avg Validation AUC: 0.8675\n"
     ]
    },
    {
     "name": "stderr",
     "output_type": "stream",
     "text": [
      "[I 2025-03-17 20:18:18,212] Trial 56 finished with value: 0.8904191076861963 and parameters: {'boosting_type': 'dart', 'learning_rate': 0.0055409631736826285, 'num_leaves': 213, 'max_depth': 4, 'min_child_samples': 45, 'min_child_weight': 0.25060400654591025, 'subsample': 0.5283930024169339, 'colsample_bytree': 0.4555609444931827, 'reg_alpha': 0.000135772049359583, 'reg_lambda': 0.00011073319140538777, 'n_estimators': 56, 'min_split_gain': 0.08159330967016629, 'subsample_freq': 8, 'max_bin': 212, 'scale_pos_weight': 1.395877194885687}. Best is trial 53 with value: 0.8926213635350141.\n"
     ]
    },
    {
     "name": "stdout",
     "output_type": "stream",
     "text": [
      "Trial 56 - Avg Train AUC: 0.9065 | Avg Validation AUC: 0.8904\n"
     ]
    },
    {
     "name": "stderr",
     "output_type": "stream",
     "text": [
      "[I 2025-03-17 20:19:22,270] Trial 57 finished with value: 0.8913154145932195 and parameters: {'boosting_type': 'dart', 'learning_rate': 0.0028879012700270797, 'num_leaves': 167, 'max_depth': 6, 'min_child_samples': 34, 'min_child_weight': 1.365383530055373, 'subsample': 0.49082944909907605, 'colsample_bytree': 0.49733775303915145, 'reg_alpha': 7.226421119315955e-08, 'reg_lambda': 0.0010411936509780195, 'n_estimators': 29, 'min_split_gain': 0.2215599354265921, 'subsample_freq': 7, 'max_bin': 240, 'scale_pos_weight': 1.5861270094623487}. Best is trial 53 with value: 0.8926213635350141.\n"
     ]
    },
    {
     "name": "stdout",
     "output_type": "stream",
     "text": [
      "Trial 57 - Avg Train AUC: 0.9116 | Avg Validation AUC: 0.8913\n"
     ]
    },
    {
     "name": "stderr",
     "output_type": "stream",
     "text": [
      "[I 2025-03-17 20:20:38,264] Trial 58 finished with value: 0.891864382542803 and parameters: {'boosting_type': 'dart', 'learning_rate': 0.002357195258054793, 'num_leaves': 238, 'max_depth': 7, 'min_child_samples': 31, 'min_child_weight': 0.1865630090493944, 'subsample': 0.6403640288436031, 'colsample_bytree': 0.576154717055113, 'reg_alpha': 0.0015460956761811529, 'reg_lambda': 0.20913805304928995, 'n_estimators': 28, 'min_split_gain': 0.240091112740061, 'subsample_freq': 6, 'max_bin': 240, 'scale_pos_weight': 1.6218469949962182}. Best is trial 53 with value: 0.8926213635350141.\n"
     ]
    },
    {
     "name": "stdout",
     "output_type": "stream",
     "text": [
      "Trial 58 - Avg Train AUC: 0.9142 | Avg Validation AUC: 0.8919\n"
     ]
    },
    {
     "name": "stderr",
     "output_type": "stream",
     "text": [
      "[I 2025-03-17 20:21:49,125] Trial 59 finished with value: 0.8836197249829368 and parameters: {'boosting_type': 'gbdt', 'learning_rate': 0.002321928387074097, 'num_leaves': 234, 'max_depth': 8, 'min_child_samples': 12, 'min_child_weight': 0.010551946027040942, 'subsample': 0.6260179072196842, 'colsample_bytree': 0.581357118768111, 'reg_alpha': 0.03213549397752229, 'reg_lambda': 2.499394919716337, 'n_estimators': 28, 'min_split_gain': 0.21496548812777605, 'subsample_freq': 5, 'max_bin': 243, 'scale_pos_weight': 1.8448566036486533}. Best is trial 53 with value: 0.8926213635350141.\n"
     ]
    },
    {
     "name": "stdout",
     "output_type": "stream",
     "text": [
      "Trial 59 - Avg Train AUC: 0.9092 | Avg Validation AUC: 0.8836\n"
     ]
    },
    {
     "name": "stderr",
     "output_type": "stream",
     "text": [
      "[I 2025-03-17 20:23:03,660] Trial 60 finished with value: 0.8865345836223237 and parameters: {'boosting_type': 'dart', 'learning_rate': 0.0028511311658877625, 'num_leaves': 261, 'max_depth': 7, 'min_child_samples': 32, 'min_child_weight': 0.6869754124758894, 'subsample': 0.6923421874292361, 'colsample_bytree': 0.621904668485968, 'reg_alpha': 0.020331771768935598, 'reg_lambda': 0.18322134200976464, 'n_estimators': 119, 'min_split_gain': 0.23419183156837683, 'subsample_freq': 6, 'max_bin': 263, 'scale_pos_weight': 1.5916032359412484}. Best is trial 53 with value: 0.8926213635350141.\n"
     ]
    },
    {
     "name": "stdout",
     "output_type": "stream",
     "text": [
      "Trial 60 - Avg Train AUC: 0.9188 | Avg Validation AUC: 0.8865\n"
     ]
    },
    {
     "name": "stderr",
     "output_type": "stream",
     "text": [
      "[I 2025-03-17 20:24:15,943] Trial 61 finished with value: 0.8874165607476767 and parameters: {'boosting_type': 'dart', 'learning_rate': 0.001711330309060242, 'num_leaves': 187, 'max_depth': 7, 'min_child_samples': 25, 'min_child_weight': 0.168371974824218, 'subsample': 0.5480017549078199, 'colsample_bytree': 0.5091048275056318, 'reg_alpha': 0.0012937935222513952, 'reg_lambda': 0.4845595458601902, 'n_estimators': 30, 'min_split_gain': 0.3536374631801469, 'subsample_freq': 6, 'max_bin': 233, 'scale_pos_weight': 1.6629590821906748}. Best is trial 53 with value: 0.8926213635350141.\n"
     ]
    },
    {
     "name": "stdout",
     "output_type": "stream",
     "text": [
      "Trial 61 - Avg Train AUC: 0.9123 | Avg Validation AUC: 0.8874\n"
     ]
    },
    {
     "name": "stderr",
     "output_type": "stream",
     "text": [
      "[I 2025-03-17 20:25:32,790] Trial 62 finished with value: 0.8929386360833593 and parameters: {'boosting_type': 'dart', 'learning_rate': 0.001322124534906648, 'num_leaves': 172, 'max_depth': 6, 'min_child_samples': 38, 'min_child_weight': 0.28221652637619743, 'subsample': 0.6447810781860892, 'colsample_bytree': 0.5456278383907476, 'reg_alpha': 0.003470725806951633, 'reg_lambda': 0.0014275261197216173, 'n_estimators': 25, 'min_split_gain': 0.28985675522880355, 'subsample_freq': 4, 'max_bin': 224, 'scale_pos_weight': 1.7567888279472756}. Best is trial 62 with value: 0.8929386360833593.\n"
     ]
    },
    {
     "name": "stdout",
     "output_type": "stream",
     "text": [
      "Trial 62 - Avg Train AUC: 0.9155 | Avg Validation AUC: 0.8929\n"
     ]
    },
    {
     "name": "stderr",
     "output_type": "stream",
     "text": [
      "[I 2025-03-17 20:26:59,391] Trial 63 finished with value: 0.8891729621367841 and parameters: {'boosting_type': 'dart', 'learning_rate': 0.0012526075574673824, 'num_leaves': 171, 'max_depth': 6, 'min_child_samples': 32, 'min_child_weight': 0.30140616265660647, 'subsample': 0.6476125553597113, 'colsample_bytree': 0.5583167146984447, 'reg_alpha': 0.0030823408522602518, 'reg_lambda': 0.004297662268078676, 'n_estimators': 26, 'min_split_gain': 0.30262650305591693, 'subsample_freq': 4, 'max_bin': 220, 'scale_pos_weight': 1.8252904648150186}. Best is trial 62 with value: 0.8929386360833593.\n"
     ]
    },
    {
     "name": "stdout",
     "output_type": "stream",
     "text": [
      "Trial 63 - Avg Train AUC: 0.9166 | Avg Validation AUC: 0.8892\n"
     ]
    },
    {
     "name": "stderr",
     "output_type": "stream",
     "text": [
      "[I 2025-03-17 20:28:52,783] Trial 64 finished with value: 0.8843561169425314 and parameters: {'boosting_type': 'dart', 'learning_rate': 0.0010073651490089693, 'num_leaves': 155, 'max_depth': 3, 'min_child_samples': 40, 'min_child_weight': 0.41885554269086916, 'subsample': 0.6029828976118081, 'colsample_bytree': 0.528561091554691, 'reg_alpha': 0.00025341850056925986, 'reg_lambda': 0.010777075396548414, 'n_estimators': 39, 'min_split_gain': 0.10229472375950563, 'subsample_freq': 3, 'max_bin': 241, 'scale_pos_weight': 1.7254315186705014}. Best is trial 62 with value: 0.8929386360833593.\n"
     ]
    },
    {
     "name": "stdout",
     "output_type": "stream",
     "text": [
      "Trial 64 - Avg Train AUC: 0.8989 | Avg Validation AUC: 0.8844\n"
     ]
    },
    {
     "name": "stderr",
     "output_type": "stream",
     "text": [
      "[I 2025-03-17 20:30:26,501] Trial 65 finished with value: 0.8816738780561713 and parameters: {'boosting_type': 'dart', 'learning_rate': 0.0034274295855069967, 'num_leaves': 135, 'max_depth': 5, 'min_child_samples': 27, 'min_child_weight': 1.3182421236275526, 'subsample': 0.6936205748660389, 'colsample_bytree': 0.6002388845872548, 'reg_alpha': 0.04827636428845843, 'reg_lambda': 3.077098363710125, 'n_estimators': 33, 'min_split_gain': 0.16809283607064993, 'subsample_freq': 2, 'max_bin': 226, 'scale_pos_weight': 1.615735422456571}. Best is trial 62 with value: 0.8929386360833593.\n"
     ]
    },
    {
     "name": "stdout",
     "output_type": "stream",
     "text": [
      "Trial 65 - Avg Train AUC: 0.9008 | Avg Validation AUC: 0.8817\n"
     ]
    },
    {
     "name": "stderr",
     "output_type": "stream",
     "text": [
      "[I 2025-03-17 20:31:40,364] Trial 66 finished with value: 0.8869571060294623 and parameters: {'boosting_type': 'dart', 'learning_rate': 0.0013942521851667976, 'num_leaves': 169, 'max_depth': 7, 'min_child_samples': 20, 'min_child_weight': 0.06416726672390648, 'subsample': 0.4285409524914633, 'colsample_bytree': 0.6524691816945329, 'reg_alpha': 0.00031519936580352175, 'reg_lambda': 0.0001848170570711309, 'n_estimators': 25, 'min_split_gain': 0.239286741462789, 'subsample_freq': 1, 'max_bin': 238, 'scale_pos_weight': 1.7409440537535565}. Best is trial 62 with value: 0.8929386360833593.\n"
     ]
    },
    {
     "name": "stdout",
     "output_type": "stream",
     "text": [
      "Trial 66 - Avg Train AUC: 0.9183 | Avg Validation AUC: 0.8870\n"
     ]
    },
    {
     "name": "stderr",
     "output_type": "stream",
     "text": [
      "[I 2025-03-17 20:32:53,977] Trial 67 finished with value: 0.888929307823858 and parameters: {'boosting_type': 'dart', 'learning_rate': 0.0024180230522125156, 'num_leaves': 180, 'max_depth': 6, 'min_child_samples': 34, 'min_child_weight': 0.2523676525900157, 'subsample': 0.6345237121700789, 'colsample_bytree': 0.49383562792169944, 'reg_alpha': 0.002549940861121794, 'reg_lambda': 0.0010922934674848605, 'n_estimators': 76, 'min_split_gain': 0.28031214982965147, 'subsample_freq': 5, 'max_bin': 248, 'scale_pos_weight': 1.5242469713890194}. Best is trial 62 with value: 0.8929386360833593.\n"
     ]
    },
    {
     "name": "stdout",
     "output_type": "stream",
     "text": [
      "Trial 67 - Avg Train AUC: 0.9156 | Avg Validation AUC: 0.8889\n"
     ]
    },
    {
     "name": "stderr",
     "output_type": "stream",
     "text": [
      "[I 2025-03-17 20:34:03,320] Trial 68 finished with value: 0.8897159787385276 and parameters: {'boosting_type': 'dart', 'learning_rate': 0.0015004687755963161, 'num_leaves': 206, 'max_depth': 5, 'min_child_samples': 39, 'min_child_weight': 0.10410447132484381, 'subsample': 0.4569590313998034, 'colsample_bytree': 0.5373328030565432, 'reg_alpha': 0.0064556911427700635, 'reg_lambda': 0.06445686583131484, 'n_estimators': 91, 'min_split_gain': 0.17378184999124252, 'subsample_freq': 6, 'max_bin': 257, 'scale_pos_weight': 1.897952985195431}. Best is trial 62 with value: 0.8929386360833593.\n"
     ]
    },
    {
     "name": "stdout",
     "output_type": "stream",
     "text": [
      "Trial 68 - Avg Train AUC: 0.9077 | Avg Validation AUC: 0.8897\n"
     ]
    },
    {
     "name": "stderr",
     "output_type": "stream",
     "text": [
      "[W 2025-03-17 20:34:57,324] Trial 69 failed with parameters: {'boosting_type': 'dart', 'learning_rate': 0.02114086099704663, 'num_leaves': 288, 'max_depth': 6, 'min_child_samples': 24, 'min_child_weight': 2.4035557084812984, 'subsample': 0.7318484972663033, 'colsample_bytree': 0.5786961776630066, 'reg_alpha': 0.01444917595119815, 'reg_lambda': 0.026950449587960338, 'n_estimators': 29, 'min_split_gain': 0.3331380467272892, 'subsample_freq': 4, 'max_bin': 270, 'scale_pos_weight': 1.8046932259676454} because of the following error: KeyboardInterrupt().\n",
      "Traceback (most recent call last):\n",
      "  File \"/Users/rospel/anaconda3/envs/Project1/lib/python3.11/site-packages/optuna/study/_optimize.py\", line 196, in _run_trial\n",
      "    value_or_values = func(trial)\n",
      "                      ^^^^^^^^^^^\n",
      "  File \"/var/folders/ws/5628jcln1q1g_nmpns07dt_m0000gn/T/ipykernel_75755/1296427562.py\", line 2, in <lambda>\n",
      "    study.optimize(lambda trial: objective(trial, X_train, y_train), n_trials=100)\n",
      "                                 ^^^^^^^^^^^^^^^^^^^^^^^^^^^^^^^^^^\n",
      "  File \"/var/folders/ws/5628jcln1q1g_nmpns07dt_m0000gn/T/ipykernel_75755/2919297914.py\", line 37, in objective\n",
      "    boruta_selector.fit(X_train, y_train)\n",
      "  File \"/Users/rospel/anaconda3/envs/Project1/lib/python3.11/site-packages/boruta/boruta_py.py\", line 222, in fit\n",
      "    return self._fit(X, y)\n",
      "           ^^^^^^^^^^^^^^^\n",
      "  File \"/Users/rospel/anaconda3/envs/Project1/lib/python3.11/site-packages/boruta/boruta_py.py\", line 347, in _fit\n",
      "    cur_imp = self._add_shadows_get_imps(X, y, dec_reg)\n",
      "              ^^^^^^^^^^^^^^^^^^^^^^^^^^^^^^^^^^^^^^^^^\n",
      "  File \"/Users/rospel/anaconda3/envs/Project1/lib/python3.11/site-packages/boruta/boruta_py.py\", line 503, in _add_shadows_get_imps\n",
      "    imp = self._get_imp(np.hstack((x_cur, x_sha)), y)\n",
      "          ^^^^^^^^^^^^^^^^^^^^^^^^^^^^^^^^^^^^^^^^^^^\n",
      "  File \"/Users/rospel/anaconda3/envs/Project1/lib/python3.11/site-packages/boruta/boruta_py.py\", line 475, in _get_imp\n",
      "    self.estimator.fit(X, y)\n",
      "  File \"/Users/rospel/anaconda3/envs/Project1/lib/python3.11/site-packages/lightgbm/sklearn.py\", line 1187, in fit\n",
      "    super().fit(\n",
      "  File \"/Users/rospel/anaconda3/envs/Project1/lib/python3.11/site-packages/lightgbm/sklearn.py\", line 885, in fit\n",
      "    self._Booster = train(\n",
      "                    ^^^^^^\n",
      "  File \"/Users/rospel/anaconda3/envs/Project1/lib/python3.11/site-packages/lightgbm/engine.py\", line 276, in train\n",
      "    booster.update(fobj=fobj)\n",
      "  File \"/Users/rospel/anaconda3/envs/Project1/lib/python3.11/site-packages/lightgbm/basic.py\", line 3891, in update\n",
      "    _safe_call(_LIB.LGBM_BoosterUpdateOneIter(\n",
      "               ^^^^^^^^^^^^^^^^^^^^^^^^^^^^^^^\n",
      "KeyboardInterrupt\n",
      "[W 2025-03-17 20:34:57,329] Trial 69 failed with value None.\n"
     ]
    },
    {
     "ename": "KeyboardInterrupt",
     "evalue": "",
     "output_type": "error",
     "traceback": [
      "\u001b[0;31m---------------------------------------------------------------------------\u001b[0m",
      "\u001b[0;31mKeyboardInterrupt\u001b[0m                         Traceback (most recent call last)",
      "Cell \u001b[0;32mIn[23], line 2\u001b[0m\n\u001b[1;32m      1\u001b[0m study \u001b[38;5;241m=\u001b[39m optuna\u001b[38;5;241m.\u001b[39mcreate_study(direction\u001b[38;5;241m=\u001b[39m\u001b[38;5;124m'\u001b[39m\u001b[38;5;124mmaximize\u001b[39m\u001b[38;5;124m'\u001b[39m, sampler\u001b[38;5;241m=\u001b[39m optuna\u001b[38;5;241m.\u001b[39msamplers\u001b[38;5;241m.\u001b[39mTPESampler(seed\u001b[38;5;241m=\u001b[39m \u001b[38;5;241m42\u001b[39m))\n\u001b[0;32m----> 2\u001b[0m study\u001b[38;5;241m.\u001b[39moptimize(\u001b[38;5;28;01mlambda\u001b[39;00m trial: objective(trial, X_train, y_train), n_trials\u001b[38;5;241m=\u001b[39m\u001b[38;5;241m100\u001b[39m)\n",
      "File \u001b[0;32m~/anaconda3/envs/Project1/lib/python3.11/site-packages/optuna/study/study.py:451\u001b[0m, in \u001b[0;36mStudy.optimize\u001b[0;34m(self, func, n_trials, timeout, n_jobs, catch, callbacks, gc_after_trial, show_progress_bar)\u001b[0m\n\u001b[1;32m    348\u001b[0m \u001b[38;5;28;01mdef\u001b[39;00m \u001b[38;5;21moptimize\u001b[39m(\n\u001b[1;32m    349\u001b[0m     \u001b[38;5;28mself\u001b[39m,\n\u001b[1;32m    350\u001b[0m     func: ObjectiveFuncType,\n\u001b[0;32m   (...)\u001b[0m\n\u001b[1;32m    357\u001b[0m     show_progress_bar: \u001b[38;5;28mbool\u001b[39m \u001b[38;5;241m=\u001b[39m \u001b[38;5;28;01mFalse\u001b[39;00m,\n\u001b[1;32m    358\u001b[0m ) \u001b[38;5;241m-\u001b[39m\u001b[38;5;241m>\u001b[39m \u001b[38;5;28;01mNone\u001b[39;00m:\n\u001b[1;32m    359\u001b[0m \u001b[38;5;250m    \u001b[39m\u001b[38;5;124;03m\"\"\"Optimize an objective function.\u001b[39;00m\n\u001b[1;32m    360\u001b[0m \n\u001b[1;32m    361\u001b[0m \u001b[38;5;124;03m    Optimization is done by choosing a suitable set of hyperparameter values from a given\u001b[39;00m\n\u001b[0;32m   (...)\u001b[0m\n\u001b[1;32m    449\u001b[0m \u001b[38;5;124;03m            If nested invocation of this method occurs.\u001b[39;00m\n\u001b[1;32m    450\u001b[0m \u001b[38;5;124;03m    \"\"\"\u001b[39;00m\n\u001b[0;32m--> 451\u001b[0m     _optimize(\n\u001b[1;32m    452\u001b[0m         study\u001b[38;5;241m=\u001b[39m\u001b[38;5;28mself\u001b[39m,\n\u001b[1;32m    453\u001b[0m         func\u001b[38;5;241m=\u001b[39mfunc,\n\u001b[1;32m    454\u001b[0m         n_trials\u001b[38;5;241m=\u001b[39mn_trials,\n\u001b[1;32m    455\u001b[0m         timeout\u001b[38;5;241m=\u001b[39mtimeout,\n\u001b[1;32m    456\u001b[0m         n_jobs\u001b[38;5;241m=\u001b[39mn_jobs,\n\u001b[1;32m    457\u001b[0m         catch\u001b[38;5;241m=\u001b[39m\u001b[38;5;28mtuple\u001b[39m(catch) \u001b[38;5;28;01mif\u001b[39;00m \u001b[38;5;28misinstance\u001b[39m(catch, Iterable) \u001b[38;5;28;01melse\u001b[39;00m (catch,),\n\u001b[1;32m    458\u001b[0m         callbacks\u001b[38;5;241m=\u001b[39mcallbacks,\n\u001b[1;32m    459\u001b[0m         gc_after_trial\u001b[38;5;241m=\u001b[39mgc_after_trial,\n\u001b[1;32m    460\u001b[0m         show_progress_bar\u001b[38;5;241m=\u001b[39mshow_progress_bar,\n\u001b[1;32m    461\u001b[0m     )\n",
      "File \u001b[0;32m~/anaconda3/envs/Project1/lib/python3.11/site-packages/optuna/study/_optimize.py:62\u001b[0m, in \u001b[0;36m_optimize\u001b[0;34m(study, func, n_trials, timeout, n_jobs, catch, callbacks, gc_after_trial, show_progress_bar)\u001b[0m\n\u001b[1;32m     60\u001b[0m \u001b[38;5;28;01mtry\u001b[39;00m:\n\u001b[1;32m     61\u001b[0m     \u001b[38;5;28;01mif\u001b[39;00m n_jobs \u001b[38;5;241m==\u001b[39m \u001b[38;5;241m1\u001b[39m:\n\u001b[0;32m---> 62\u001b[0m         _optimize_sequential(\n\u001b[1;32m     63\u001b[0m             study,\n\u001b[1;32m     64\u001b[0m             func,\n\u001b[1;32m     65\u001b[0m             n_trials,\n\u001b[1;32m     66\u001b[0m             timeout,\n\u001b[1;32m     67\u001b[0m             catch,\n\u001b[1;32m     68\u001b[0m             callbacks,\n\u001b[1;32m     69\u001b[0m             gc_after_trial,\n\u001b[1;32m     70\u001b[0m             reseed_sampler_rng\u001b[38;5;241m=\u001b[39m\u001b[38;5;28;01mFalse\u001b[39;00m,\n\u001b[1;32m     71\u001b[0m             time_start\u001b[38;5;241m=\u001b[39m\u001b[38;5;28;01mNone\u001b[39;00m,\n\u001b[1;32m     72\u001b[0m             progress_bar\u001b[38;5;241m=\u001b[39mprogress_bar,\n\u001b[1;32m     73\u001b[0m         )\n\u001b[1;32m     74\u001b[0m     \u001b[38;5;28;01melse\u001b[39;00m:\n\u001b[1;32m     75\u001b[0m         \u001b[38;5;28;01mif\u001b[39;00m n_jobs \u001b[38;5;241m==\u001b[39m \u001b[38;5;241m-\u001b[39m\u001b[38;5;241m1\u001b[39m:\n",
      "File \u001b[0;32m~/anaconda3/envs/Project1/lib/python3.11/site-packages/optuna/study/_optimize.py:159\u001b[0m, in \u001b[0;36m_optimize_sequential\u001b[0;34m(study, func, n_trials, timeout, catch, callbacks, gc_after_trial, reseed_sampler_rng, time_start, progress_bar)\u001b[0m\n\u001b[1;32m    156\u001b[0m         \u001b[38;5;28;01mbreak\u001b[39;00m\n\u001b[1;32m    158\u001b[0m \u001b[38;5;28;01mtry\u001b[39;00m:\n\u001b[0;32m--> 159\u001b[0m     frozen_trial \u001b[38;5;241m=\u001b[39m _run_trial(study, func, catch)\n\u001b[1;32m    160\u001b[0m \u001b[38;5;28;01mfinally\u001b[39;00m:\n\u001b[1;32m    161\u001b[0m     \u001b[38;5;66;03m# The following line mitigates memory problems that can be occurred in some\u001b[39;00m\n\u001b[1;32m    162\u001b[0m     \u001b[38;5;66;03m# environments (e.g., services that use computing containers such as GitHub Actions).\u001b[39;00m\n\u001b[1;32m    163\u001b[0m     \u001b[38;5;66;03m# Please refer to the following PR for further details:\u001b[39;00m\n\u001b[1;32m    164\u001b[0m     \u001b[38;5;66;03m# https://github.com/optuna/optuna/pull/325.\u001b[39;00m\n\u001b[1;32m    165\u001b[0m     \u001b[38;5;28;01mif\u001b[39;00m gc_after_trial:\n",
      "File \u001b[0;32m~/anaconda3/envs/Project1/lib/python3.11/site-packages/optuna/study/_optimize.py:247\u001b[0m, in \u001b[0;36m_run_trial\u001b[0;34m(study, func, catch)\u001b[0m\n\u001b[1;32m    240\u001b[0m         \u001b[38;5;28;01massert\u001b[39;00m \u001b[38;5;28;01mFalse\u001b[39;00m, \u001b[38;5;124m\"\u001b[39m\u001b[38;5;124mShould not reach.\u001b[39m\u001b[38;5;124m\"\u001b[39m\n\u001b[1;32m    242\u001b[0m \u001b[38;5;28;01mif\u001b[39;00m (\n\u001b[1;32m    243\u001b[0m     frozen_trial\u001b[38;5;241m.\u001b[39mstate \u001b[38;5;241m==\u001b[39m TrialState\u001b[38;5;241m.\u001b[39mFAIL\n\u001b[1;32m    244\u001b[0m     \u001b[38;5;129;01mand\u001b[39;00m func_err \u001b[38;5;129;01mis\u001b[39;00m \u001b[38;5;129;01mnot\u001b[39;00m \u001b[38;5;28;01mNone\u001b[39;00m\n\u001b[1;32m    245\u001b[0m     \u001b[38;5;129;01mand\u001b[39;00m \u001b[38;5;129;01mnot\u001b[39;00m \u001b[38;5;28misinstance\u001b[39m(func_err, catch)\n\u001b[1;32m    246\u001b[0m ):\n\u001b[0;32m--> 247\u001b[0m     \u001b[38;5;28;01mraise\u001b[39;00m func_err\n\u001b[1;32m    248\u001b[0m \u001b[38;5;28;01mreturn\u001b[39;00m frozen_trial\n",
      "File \u001b[0;32m~/anaconda3/envs/Project1/lib/python3.11/site-packages/optuna/study/_optimize.py:196\u001b[0m, in \u001b[0;36m_run_trial\u001b[0;34m(study, func, catch)\u001b[0m\n\u001b[1;32m    194\u001b[0m \u001b[38;5;28;01mwith\u001b[39;00m get_heartbeat_thread(trial\u001b[38;5;241m.\u001b[39m_trial_id, study\u001b[38;5;241m.\u001b[39m_storage):\n\u001b[1;32m    195\u001b[0m     \u001b[38;5;28;01mtry\u001b[39;00m:\n\u001b[0;32m--> 196\u001b[0m         value_or_values \u001b[38;5;241m=\u001b[39m func(trial)\n\u001b[1;32m    197\u001b[0m     \u001b[38;5;28;01mexcept\u001b[39;00m exceptions\u001b[38;5;241m.\u001b[39mTrialPruned \u001b[38;5;28;01mas\u001b[39;00m e:\n\u001b[1;32m    198\u001b[0m         \u001b[38;5;66;03m# TODO(mamu): Handle multi-objective cases.\u001b[39;00m\n\u001b[1;32m    199\u001b[0m         state \u001b[38;5;241m=\u001b[39m TrialState\u001b[38;5;241m.\u001b[39mPRUNED\n",
      "Cell \u001b[0;32mIn[23], line 2\u001b[0m, in \u001b[0;36m<lambda>\u001b[0;34m(trial)\u001b[0m\n\u001b[1;32m      1\u001b[0m study \u001b[38;5;241m=\u001b[39m optuna\u001b[38;5;241m.\u001b[39mcreate_study(direction\u001b[38;5;241m=\u001b[39m\u001b[38;5;124m'\u001b[39m\u001b[38;5;124mmaximize\u001b[39m\u001b[38;5;124m'\u001b[39m, sampler\u001b[38;5;241m=\u001b[39m optuna\u001b[38;5;241m.\u001b[39msamplers\u001b[38;5;241m.\u001b[39mTPESampler(seed\u001b[38;5;241m=\u001b[39m \u001b[38;5;241m42\u001b[39m))\n\u001b[0;32m----> 2\u001b[0m study\u001b[38;5;241m.\u001b[39moptimize(\u001b[38;5;28;01mlambda\u001b[39;00m trial: objective(trial, X_train, y_train), n_trials\u001b[38;5;241m=\u001b[39m\u001b[38;5;241m100\u001b[39m)\n",
      "Cell \u001b[0;32mIn[22], line 37\u001b[0m, in \u001b[0;36mobjective\u001b[0;34m(trial, X, y)\u001b[0m\n\u001b[1;32m     34\u001b[0m y_train, y_val \u001b[38;5;241m=\u001b[39m y\u001b[38;5;241m.\u001b[39miloc[train_idx], y\u001b[38;5;241m.\u001b[39miloc[val_idx]\n\u001b[1;32m     36\u001b[0m boruta_selector \u001b[38;5;241m=\u001b[39m BorutaPy(clf, n_estimators\u001b[38;5;241m=\u001b[39m \u001b[38;5;124m'\u001b[39m\u001b[38;5;124mauto\u001b[39m\u001b[38;5;124m'\u001b[39m, random_state\u001b[38;5;241m=\u001b[39m \u001b[38;5;241m42\u001b[39m)\n\u001b[0;32m---> 37\u001b[0m boruta_selector\u001b[38;5;241m.\u001b[39mfit(X_train, y_train)\n\u001b[1;32m     39\u001b[0m X_train_selected \u001b[38;5;241m=\u001b[39m boruta_selector\u001b[38;5;241m.\u001b[39mtransform(X_train\u001b[38;5;241m.\u001b[39mvalues)\n\u001b[1;32m     40\u001b[0m X_val_selected \u001b[38;5;241m=\u001b[39m boruta_selector\u001b[38;5;241m.\u001b[39mtransform(X_val\u001b[38;5;241m.\u001b[39mvalues)\n",
      "File \u001b[0;32m~/anaconda3/envs/Project1/lib/python3.11/site-packages/boruta/boruta_py.py:222\u001b[0m, in \u001b[0;36mBorutaPy.fit\u001b[0;34m(self, X, y)\u001b[0m\n\u001b[1;32m    209\u001b[0m \u001b[38;5;28;01mdef\u001b[39;00m \u001b[38;5;21mfit\u001b[39m(\u001b[38;5;28mself\u001b[39m, X, y):\n\u001b[1;32m    210\u001b[0m \u001b[38;5;250m    \u001b[39m\u001b[38;5;124;03m\"\"\"\u001b[39;00m\n\u001b[1;32m    211\u001b[0m \u001b[38;5;124;03m    Fits the Boruta feature selection with the provided estimator.\u001b[39;00m\n\u001b[1;32m    212\u001b[0m \n\u001b[0;32m   (...)\u001b[0m\n\u001b[1;32m    219\u001b[0m \u001b[38;5;124;03m        The target values.\u001b[39;00m\n\u001b[1;32m    220\u001b[0m \u001b[38;5;124;03m    \"\"\"\u001b[39;00m\n\u001b[0;32m--> 222\u001b[0m     \u001b[38;5;28;01mreturn\u001b[39;00m \u001b[38;5;28mself\u001b[39m\u001b[38;5;241m.\u001b[39m_fit(X, y)\n",
      "File \u001b[0;32m~/anaconda3/envs/Project1/lib/python3.11/site-packages/boruta/boruta_py.py:347\u001b[0m, in \u001b[0;36mBorutaPy._fit\u001b[0;34m(self, X, y)\u001b[0m\n\u001b[1;32m    344\u001b[0m     \u001b[38;5;28mself\u001b[39m\u001b[38;5;241m.\u001b[39mestimator\u001b[38;5;241m.\u001b[39mset_params(random_state\u001b[38;5;241m=\u001b[39m\u001b[38;5;28mself\u001b[39m\u001b[38;5;241m.\u001b[39mrandom_state)\n\u001b[1;32m    346\u001b[0m \u001b[38;5;66;03m# add shadow attributes, shuffle them and train estimator, get imps\u001b[39;00m\n\u001b[0;32m--> 347\u001b[0m cur_imp \u001b[38;5;241m=\u001b[39m \u001b[38;5;28mself\u001b[39m\u001b[38;5;241m.\u001b[39m_add_shadows_get_imps(X, y, dec_reg)\n\u001b[1;32m    349\u001b[0m \u001b[38;5;66;03m# get the threshold of shadow importances we will use for rejection\u001b[39;00m\n\u001b[1;32m    350\u001b[0m imp_sha_max \u001b[38;5;241m=\u001b[39m np\u001b[38;5;241m.\u001b[39mpercentile(cur_imp[\u001b[38;5;241m1\u001b[39m], \u001b[38;5;28mself\u001b[39m\u001b[38;5;241m.\u001b[39mperc)\n",
      "File \u001b[0;32m~/anaconda3/envs/Project1/lib/python3.11/site-packages/boruta/boruta_py.py:503\u001b[0m, in \u001b[0;36mBorutaPy._add_shadows_get_imps\u001b[0;34m(self, X, y, dec_reg)\u001b[0m\n\u001b[1;32m    501\u001b[0m x_sha \u001b[38;5;241m=\u001b[39m np\u001b[38;5;241m.\u001b[39mapply_along_axis(\u001b[38;5;28mself\u001b[39m\u001b[38;5;241m.\u001b[39m_get_shuffle, \u001b[38;5;241m0\u001b[39m, x_sha)\n\u001b[1;32m    502\u001b[0m \u001b[38;5;66;03m# get importance of the merged matrix\u001b[39;00m\n\u001b[0;32m--> 503\u001b[0m imp \u001b[38;5;241m=\u001b[39m \u001b[38;5;28mself\u001b[39m\u001b[38;5;241m.\u001b[39m_get_imp(np\u001b[38;5;241m.\u001b[39mhstack((x_cur, x_sha)), y)\n\u001b[1;32m    504\u001b[0m \u001b[38;5;66;03m# separate importances of real and shadow features\u001b[39;00m\n\u001b[1;32m    505\u001b[0m imp_sha \u001b[38;5;241m=\u001b[39m imp[x_cur_w:]\n",
      "File \u001b[0;32m~/anaconda3/envs/Project1/lib/python3.11/site-packages/boruta/boruta_py.py:475\u001b[0m, in \u001b[0;36mBorutaPy._get_imp\u001b[0;34m(self, X, y)\u001b[0m\n\u001b[1;32m    473\u001b[0m \u001b[38;5;28;01mdef\u001b[39;00m \u001b[38;5;21m_get_imp\u001b[39m(\u001b[38;5;28mself\u001b[39m, X, y):\n\u001b[1;32m    474\u001b[0m     \u001b[38;5;28;01mtry\u001b[39;00m:\n\u001b[0;32m--> 475\u001b[0m         \u001b[38;5;28mself\u001b[39m\u001b[38;5;241m.\u001b[39mestimator\u001b[38;5;241m.\u001b[39mfit(X, y)\n\u001b[1;32m    476\u001b[0m     \u001b[38;5;28;01mexcept\u001b[39;00m \u001b[38;5;167;01mException\u001b[39;00m \u001b[38;5;28;01mas\u001b[39;00m e:\n\u001b[1;32m    477\u001b[0m         \u001b[38;5;28;01mraise\u001b[39;00m \u001b[38;5;167;01mValueError\u001b[39;00m(\u001b[38;5;124m'\u001b[39m\u001b[38;5;124mPlease check your X and y variable. The provided \u001b[39m\u001b[38;5;124m'\u001b[39m\n\u001b[1;32m    478\u001b[0m                          \u001b[38;5;124m'\u001b[39m\u001b[38;5;124mestimator cannot be fitted to your data.\u001b[39m\u001b[38;5;130;01m\\n\u001b[39;00m\u001b[38;5;124m'\u001b[39m \u001b[38;5;241m+\u001b[39m \u001b[38;5;28mstr\u001b[39m(e))\n",
      "File \u001b[0;32m~/anaconda3/envs/Project1/lib/python3.11/site-packages/lightgbm/sklearn.py:1187\u001b[0m, in \u001b[0;36mLGBMClassifier.fit\u001b[0;34m(self, X, y, sample_weight, init_score, eval_set, eval_names, eval_sample_weight, eval_class_weight, eval_init_score, eval_metric, feature_name, categorical_feature, callbacks, init_model)\u001b[0m\n\u001b[1;32m   1184\u001b[0m         \u001b[38;5;28;01melse\u001b[39;00m:\n\u001b[1;32m   1185\u001b[0m             valid_sets\u001b[38;5;241m.\u001b[39mappend((valid_x, \u001b[38;5;28mself\u001b[39m\u001b[38;5;241m.\u001b[39m_le\u001b[38;5;241m.\u001b[39mtransform(valid_y)))\n\u001b[0;32m-> 1187\u001b[0m \u001b[38;5;28msuper\u001b[39m()\u001b[38;5;241m.\u001b[39mfit(\n\u001b[1;32m   1188\u001b[0m     X,\n\u001b[1;32m   1189\u001b[0m     _y,\n\u001b[1;32m   1190\u001b[0m     sample_weight\u001b[38;5;241m=\u001b[39msample_weight,\n\u001b[1;32m   1191\u001b[0m     init_score\u001b[38;5;241m=\u001b[39minit_score,\n\u001b[1;32m   1192\u001b[0m     eval_set\u001b[38;5;241m=\u001b[39mvalid_sets,\n\u001b[1;32m   1193\u001b[0m     eval_names\u001b[38;5;241m=\u001b[39meval_names,\n\u001b[1;32m   1194\u001b[0m     eval_sample_weight\u001b[38;5;241m=\u001b[39meval_sample_weight,\n\u001b[1;32m   1195\u001b[0m     eval_class_weight\u001b[38;5;241m=\u001b[39meval_class_weight,\n\u001b[1;32m   1196\u001b[0m     eval_init_score\u001b[38;5;241m=\u001b[39meval_init_score,\n\u001b[1;32m   1197\u001b[0m     eval_metric\u001b[38;5;241m=\u001b[39meval_metric,\n\u001b[1;32m   1198\u001b[0m     feature_name\u001b[38;5;241m=\u001b[39mfeature_name,\n\u001b[1;32m   1199\u001b[0m     categorical_feature\u001b[38;5;241m=\u001b[39mcategorical_feature,\n\u001b[1;32m   1200\u001b[0m     callbacks\u001b[38;5;241m=\u001b[39mcallbacks,\n\u001b[1;32m   1201\u001b[0m     init_model\u001b[38;5;241m=\u001b[39minit_model\n\u001b[1;32m   1202\u001b[0m )\n\u001b[1;32m   1203\u001b[0m \u001b[38;5;28;01mreturn\u001b[39;00m \u001b[38;5;28mself\u001b[39m\n",
      "File \u001b[0;32m~/anaconda3/envs/Project1/lib/python3.11/site-packages/lightgbm/sklearn.py:885\u001b[0m, in \u001b[0;36mLGBMModel.fit\u001b[0;34m(self, X, y, sample_weight, init_score, group, eval_set, eval_names, eval_sample_weight, eval_class_weight, eval_init_score, eval_group, eval_metric, feature_name, categorical_feature, callbacks, init_model)\u001b[0m\n\u001b[1;32m    882\u001b[0m evals_result: _EvalResultDict \u001b[38;5;241m=\u001b[39m {}\n\u001b[1;32m    883\u001b[0m callbacks\u001b[38;5;241m.\u001b[39mappend(record_evaluation(evals_result))\n\u001b[0;32m--> 885\u001b[0m \u001b[38;5;28mself\u001b[39m\u001b[38;5;241m.\u001b[39m_Booster \u001b[38;5;241m=\u001b[39m train(\n\u001b[1;32m    886\u001b[0m     params\u001b[38;5;241m=\u001b[39mparams,\n\u001b[1;32m    887\u001b[0m     train_set\u001b[38;5;241m=\u001b[39mtrain_set,\n\u001b[1;32m    888\u001b[0m     num_boost_round\u001b[38;5;241m=\u001b[39m\u001b[38;5;28mself\u001b[39m\u001b[38;5;241m.\u001b[39mn_estimators,\n\u001b[1;32m    889\u001b[0m     valid_sets\u001b[38;5;241m=\u001b[39mvalid_sets,\n\u001b[1;32m    890\u001b[0m     valid_names\u001b[38;5;241m=\u001b[39meval_names,\n\u001b[1;32m    891\u001b[0m     feval\u001b[38;5;241m=\u001b[39meval_metrics_callable,  \u001b[38;5;66;03m# type: ignore[arg-type]\u001b[39;00m\n\u001b[1;32m    892\u001b[0m     init_model\u001b[38;5;241m=\u001b[39minit_model,\n\u001b[1;32m    893\u001b[0m     feature_name\u001b[38;5;241m=\u001b[39mfeature_name,\n\u001b[1;32m    894\u001b[0m     callbacks\u001b[38;5;241m=\u001b[39mcallbacks\n\u001b[1;32m    895\u001b[0m )\n\u001b[1;32m    897\u001b[0m \u001b[38;5;28mself\u001b[39m\u001b[38;5;241m.\u001b[39m_evals_result \u001b[38;5;241m=\u001b[39m evals_result\n\u001b[1;32m    898\u001b[0m \u001b[38;5;28mself\u001b[39m\u001b[38;5;241m.\u001b[39m_best_iteration \u001b[38;5;241m=\u001b[39m \u001b[38;5;28mself\u001b[39m\u001b[38;5;241m.\u001b[39m_Booster\u001b[38;5;241m.\u001b[39mbest_iteration\n",
      "File \u001b[0;32m~/anaconda3/envs/Project1/lib/python3.11/site-packages/lightgbm/engine.py:276\u001b[0m, in \u001b[0;36mtrain\u001b[0;34m(params, train_set, num_boost_round, valid_sets, valid_names, feval, init_model, feature_name, categorical_feature, keep_training_booster, callbacks)\u001b[0m\n\u001b[1;32m    268\u001b[0m \u001b[38;5;28;01mfor\u001b[39;00m cb \u001b[38;5;129;01min\u001b[39;00m callbacks_before_iter:\n\u001b[1;32m    269\u001b[0m     cb(callback\u001b[38;5;241m.\u001b[39mCallbackEnv(model\u001b[38;5;241m=\u001b[39mbooster,\n\u001b[1;32m    270\u001b[0m                             params\u001b[38;5;241m=\u001b[39mparams,\n\u001b[1;32m    271\u001b[0m                             iteration\u001b[38;5;241m=\u001b[39mi,\n\u001b[1;32m    272\u001b[0m                             begin_iteration\u001b[38;5;241m=\u001b[39minit_iteration,\n\u001b[1;32m    273\u001b[0m                             end_iteration\u001b[38;5;241m=\u001b[39minit_iteration \u001b[38;5;241m+\u001b[39m num_boost_round,\n\u001b[1;32m    274\u001b[0m                             evaluation_result_list\u001b[38;5;241m=\u001b[39m\u001b[38;5;28;01mNone\u001b[39;00m))\n\u001b[0;32m--> 276\u001b[0m booster\u001b[38;5;241m.\u001b[39mupdate(fobj\u001b[38;5;241m=\u001b[39mfobj)\n\u001b[1;32m    278\u001b[0m evaluation_result_list: List[_LGBM_BoosterEvalMethodResultType] \u001b[38;5;241m=\u001b[39m []\n\u001b[1;32m    279\u001b[0m \u001b[38;5;66;03m# check evaluation result.\u001b[39;00m\n",
      "File \u001b[0;32m~/anaconda3/envs/Project1/lib/python3.11/site-packages/lightgbm/basic.py:3891\u001b[0m, in \u001b[0;36mBooster.update\u001b[0;34m(self, train_set, fobj)\u001b[0m\n\u001b[1;32m   3889\u001b[0m \u001b[38;5;28;01mif\u001b[39;00m \u001b[38;5;28mself\u001b[39m\u001b[38;5;241m.\u001b[39m__set_objective_to_none:\n\u001b[1;32m   3890\u001b[0m     \u001b[38;5;28;01mraise\u001b[39;00m LightGBMError(\u001b[38;5;124m'\u001b[39m\u001b[38;5;124mCannot update due to null objective function.\u001b[39m\u001b[38;5;124m'\u001b[39m)\n\u001b[0;32m-> 3891\u001b[0m _safe_call(_LIB\u001b[38;5;241m.\u001b[39mLGBM_BoosterUpdateOneIter(\n\u001b[1;32m   3892\u001b[0m     \u001b[38;5;28mself\u001b[39m\u001b[38;5;241m.\u001b[39m_handle,\n\u001b[1;32m   3893\u001b[0m     ctypes\u001b[38;5;241m.\u001b[39mbyref(is_finished)))\n\u001b[1;32m   3894\u001b[0m \u001b[38;5;28mself\u001b[39m\u001b[38;5;241m.\u001b[39m__is_predicted_cur_iter \u001b[38;5;241m=\u001b[39m [\u001b[38;5;28;01mFalse\u001b[39;00m \u001b[38;5;28;01mfor\u001b[39;00m _ \u001b[38;5;129;01min\u001b[39;00m \u001b[38;5;28mrange\u001b[39m(\u001b[38;5;28mself\u001b[39m\u001b[38;5;241m.\u001b[39m__num_dataset)]\n\u001b[1;32m   3895\u001b[0m \u001b[38;5;28;01mreturn\u001b[39;00m is_finished\u001b[38;5;241m.\u001b[39mvalue \u001b[38;5;241m==\u001b[39m \u001b[38;5;241m1\u001b[39m\n",
      "\u001b[0;31mKeyboardInterrupt\u001b[0m: "
     ]
    }
   ],
   "source": [
    "study = optuna.create_study(direction='maximize', sampler= optuna.samplers.TPESampler(seed= 42))\n",
    "study.optimize(lambda trial: objective(trial, X_train, y_train), n_trials=100)"
   ]
  },
  {
   "cell_type": "code",
   "execution_count": 24,
   "id": "3547e402-20fe-4a93-a254-53d9c67cafce",
   "metadata": {
    "scrolled": true
   },
   "outputs": [
    {
     "name": "stdout",
     "output_type": "stream",
     "text": [
      "(2555, 9)\n"
     ]
    },
    {
     "data": {
      "text/html": [
       "<style>#sk-container-id-3 {\n",
       "  /* Definition of color scheme common for light and dark mode */\n",
       "  --sklearn-color-text: #000;\n",
       "  --sklearn-color-text-muted: #666;\n",
       "  --sklearn-color-line: gray;\n",
       "  /* Definition of color scheme for unfitted estimators */\n",
       "  --sklearn-color-unfitted-level-0: #fff5e6;\n",
       "  --sklearn-color-unfitted-level-1: #f6e4d2;\n",
       "  --sklearn-color-unfitted-level-2: #ffe0b3;\n",
       "  --sklearn-color-unfitted-level-3: chocolate;\n",
       "  /* Definition of color scheme for fitted estimators */\n",
       "  --sklearn-color-fitted-level-0: #f0f8ff;\n",
       "  --sklearn-color-fitted-level-1: #d4ebff;\n",
       "  --sklearn-color-fitted-level-2: #b3dbfd;\n",
       "  --sklearn-color-fitted-level-3: cornflowerblue;\n",
       "\n",
       "  /* Specific color for light theme */\n",
       "  --sklearn-color-text-on-default-background: var(--sg-text-color, var(--theme-code-foreground, var(--jp-content-font-color1, black)));\n",
       "  --sklearn-color-background: var(--sg-background-color, var(--theme-background, var(--jp-layout-color0, white)));\n",
       "  --sklearn-color-border-box: var(--sg-text-color, var(--theme-code-foreground, var(--jp-content-font-color1, black)));\n",
       "  --sklearn-color-icon: #696969;\n",
       "\n",
       "  @media (prefers-color-scheme: dark) {\n",
       "    /* Redefinition of color scheme for dark theme */\n",
       "    --sklearn-color-text-on-default-background: var(--sg-text-color, var(--theme-code-foreground, var(--jp-content-font-color1, white)));\n",
       "    --sklearn-color-background: var(--sg-background-color, var(--theme-background, var(--jp-layout-color0, #111)));\n",
       "    --sklearn-color-border-box: var(--sg-text-color, var(--theme-code-foreground, var(--jp-content-font-color1, white)));\n",
       "    --sklearn-color-icon: #878787;\n",
       "  }\n",
       "}\n",
       "\n",
       "#sk-container-id-3 {\n",
       "  color: var(--sklearn-color-text);\n",
       "}\n",
       "\n",
       "#sk-container-id-3 pre {\n",
       "  padding: 0;\n",
       "}\n",
       "\n",
       "#sk-container-id-3 input.sk-hidden--visually {\n",
       "  border: 0;\n",
       "  clip: rect(1px 1px 1px 1px);\n",
       "  clip: rect(1px, 1px, 1px, 1px);\n",
       "  height: 1px;\n",
       "  margin: -1px;\n",
       "  overflow: hidden;\n",
       "  padding: 0;\n",
       "  position: absolute;\n",
       "  width: 1px;\n",
       "}\n",
       "\n",
       "#sk-container-id-3 div.sk-dashed-wrapped {\n",
       "  border: 1px dashed var(--sklearn-color-line);\n",
       "  margin: 0 0.4em 0.5em 0.4em;\n",
       "  box-sizing: border-box;\n",
       "  padding-bottom: 0.4em;\n",
       "  background-color: var(--sklearn-color-background);\n",
       "}\n",
       "\n",
       "#sk-container-id-3 div.sk-container {\n",
       "  /* jupyter's `normalize.less` sets `[hidden] { display: none; }`\n",
       "     but bootstrap.min.css set `[hidden] { display: none !important; }`\n",
       "     so we also need the `!important` here to be able to override the\n",
       "     default hidden behavior on the sphinx rendered scikit-learn.org.\n",
       "     See: https://github.com/scikit-learn/scikit-learn/issues/21755 */\n",
       "  display: inline-block !important;\n",
       "  position: relative;\n",
       "}\n",
       "\n",
       "#sk-container-id-3 div.sk-text-repr-fallback {\n",
       "  display: none;\n",
       "}\n",
       "\n",
       "div.sk-parallel-item,\n",
       "div.sk-serial,\n",
       "div.sk-item {\n",
       "  /* draw centered vertical line to link estimators */\n",
       "  background-image: linear-gradient(var(--sklearn-color-text-on-default-background), var(--sklearn-color-text-on-default-background));\n",
       "  background-size: 2px 100%;\n",
       "  background-repeat: no-repeat;\n",
       "  background-position: center center;\n",
       "}\n",
       "\n",
       "/* Parallel-specific style estimator block */\n",
       "\n",
       "#sk-container-id-3 div.sk-parallel-item::after {\n",
       "  content: \"\";\n",
       "  width: 100%;\n",
       "  border-bottom: 2px solid var(--sklearn-color-text-on-default-background);\n",
       "  flex-grow: 1;\n",
       "}\n",
       "\n",
       "#sk-container-id-3 div.sk-parallel {\n",
       "  display: flex;\n",
       "  align-items: stretch;\n",
       "  justify-content: center;\n",
       "  background-color: var(--sklearn-color-background);\n",
       "  position: relative;\n",
       "}\n",
       "\n",
       "#sk-container-id-3 div.sk-parallel-item {\n",
       "  display: flex;\n",
       "  flex-direction: column;\n",
       "}\n",
       "\n",
       "#sk-container-id-3 div.sk-parallel-item:first-child::after {\n",
       "  align-self: flex-end;\n",
       "  width: 50%;\n",
       "}\n",
       "\n",
       "#sk-container-id-3 div.sk-parallel-item:last-child::after {\n",
       "  align-self: flex-start;\n",
       "  width: 50%;\n",
       "}\n",
       "\n",
       "#sk-container-id-3 div.sk-parallel-item:only-child::after {\n",
       "  width: 0;\n",
       "}\n",
       "\n",
       "/* Serial-specific style estimator block */\n",
       "\n",
       "#sk-container-id-3 div.sk-serial {\n",
       "  display: flex;\n",
       "  flex-direction: column;\n",
       "  align-items: center;\n",
       "  background-color: var(--sklearn-color-background);\n",
       "  padding-right: 1em;\n",
       "  padding-left: 1em;\n",
       "}\n",
       "\n",
       "\n",
       "/* Toggleable style: style used for estimator/Pipeline/ColumnTransformer box that is\n",
       "clickable and can be expanded/collapsed.\n",
       "- Pipeline and ColumnTransformer use this feature and define the default style\n",
       "- Estimators will overwrite some part of the style using the `sk-estimator` class\n",
       "*/\n",
       "\n",
       "/* Pipeline and ColumnTransformer style (default) */\n",
       "\n",
       "#sk-container-id-3 div.sk-toggleable {\n",
       "  /* Default theme specific background. It is overwritten whether we have a\n",
       "  specific estimator or a Pipeline/ColumnTransformer */\n",
       "  background-color: var(--sklearn-color-background);\n",
       "}\n",
       "\n",
       "/* Toggleable label */\n",
       "#sk-container-id-3 label.sk-toggleable__label {\n",
       "  cursor: pointer;\n",
       "  display: flex;\n",
       "  width: 100%;\n",
       "  margin-bottom: 0;\n",
       "  padding: 0.5em;\n",
       "  box-sizing: border-box;\n",
       "  text-align: center;\n",
       "  align-items: start;\n",
       "  justify-content: space-between;\n",
       "  gap: 0.5em;\n",
       "}\n",
       "\n",
       "#sk-container-id-3 label.sk-toggleable__label .caption {\n",
       "  font-size: 0.6rem;\n",
       "  font-weight: lighter;\n",
       "  color: var(--sklearn-color-text-muted);\n",
       "}\n",
       "\n",
       "#sk-container-id-3 label.sk-toggleable__label-arrow:before {\n",
       "  /* Arrow on the left of the label */\n",
       "  content: \"▸\";\n",
       "  float: left;\n",
       "  margin-right: 0.25em;\n",
       "  color: var(--sklearn-color-icon);\n",
       "}\n",
       "\n",
       "#sk-container-id-3 label.sk-toggleable__label-arrow:hover:before {\n",
       "  color: var(--sklearn-color-text);\n",
       "}\n",
       "\n",
       "/* Toggleable content - dropdown */\n",
       "\n",
       "#sk-container-id-3 div.sk-toggleable__content {\n",
       "  max-height: 0;\n",
       "  max-width: 0;\n",
       "  overflow: hidden;\n",
       "  text-align: left;\n",
       "  /* unfitted */\n",
       "  background-color: var(--sklearn-color-unfitted-level-0);\n",
       "}\n",
       "\n",
       "#sk-container-id-3 div.sk-toggleable__content.fitted {\n",
       "  /* fitted */\n",
       "  background-color: var(--sklearn-color-fitted-level-0);\n",
       "}\n",
       "\n",
       "#sk-container-id-3 div.sk-toggleable__content pre {\n",
       "  margin: 0.2em;\n",
       "  border-radius: 0.25em;\n",
       "  color: var(--sklearn-color-text);\n",
       "  /* unfitted */\n",
       "  background-color: var(--sklearn-color-unfitted-level-0);\n",
       "}\n",
       "\n",
       "#sk-container-id-3 div.sk-toggleable__content.fitted pre {\n",
       "  /* unfitted */\n",
       "  background-color: var(--sklearn-color-fitted-level-0);\n",
       "}\n",
       "\n",
       "#sk-container-id-3 input.sk-toggleable__control:checked~div.sk-toggleable__content {\n",
       "  /* Expand drop-down */\n",
       "  max-height: 200px;\n",
       "  max-width: 100%;\n",
       "  overflow: auto;\n",
       "}\n",
       "\n",
       "#sk-container-id-3 input.sk-toggleable__control:checked~label.sk-toggleable__label-arrow:before {\n",
       "  content: \"▾\";\n",
       "}\n",
       "\n",
       "/* Pipeline/ColumnTransformer-specific style */\n",
       "\n",
       "#sk-container-id-3 div.sk-label input.sk-toggleable__control:checked~label.sk-toggleable__label {\n",
       "  color: var(--sklearn-color-text);\n",
       "  background-color: var(--sklearn-color-unfitted-level-2);\n",
       "}\n",
       "\n",
       "#sk-container-id-3 div.sk-label.fitted input.sk-toggleable__control:checked~label.sk-toggleable__label {\n",
       "  background-color: var(--sklearn-color-fitted-level-2);\n",
       "}\n",
       "\n",
       "/* Estimator-specific style */\n",
       "\n",
       "/* Colorize estimator box */\n",
       "#sk-container-id-3 div.sk-estimator input.sk-toggleable__control:checked~label.sk-toggleable__label {\n",
       "  /* unfitted */\n",
       "  background-color: var(--sklearn-color-unfitted-level-2);\n",
       "}\n",
       "\n",
       "#sk-container-id-3 div.sk-estimator.fitted input.sk-toggleable__control:checked~label.sk-toggleable__label {\n",
       "  /* fitted */\n",
       "  background-color: var(--sklearn-color-fitted-level-2);\n",
       "}\n",
       "\n",
       "#sk-container-id-3 div.sk-label label.sk-toggleable__label,\n",
       "#sk-container-id-3 div.sk-label label {\n",
       "  /* The background is the default theme color */\n",
       "  color: var(--sklearn-color-text-on-default-background);\n",
       "}\n",
       "\n",
       "/* On hover, darken the color of the background */\n",
       "#sk-container-id-3 div.sk-label:hover label.sk-toggleable__label {\n",
       "  color: var(--sklearn-color-text);\n",
       "  background-color: var(--sklearn-color-unfitted-level-2);\n",
       "}\n",
       "\n",
       "/* Label box, darken color on hover, fitted */\n",
       "#sk-container-id-3 div.sk-label.fitted:hover label.sk-toggleable__label.fitted {\n",
       "  color: var(--sklearn-color-text);\n",
       "  background-color: var(--sklearn-color-fitted-level-2);\n",
       "}\n",
       "\n",
       "/* Estimator label */\n",
       "\n",
       "#sk-container-id-3 div.sk-label label {\n",
       "  font-family: monospace;\n",
       "  font-weight: bold;\n",
       "  display: inline-block;\n",
       "  line-height: 1.2em;\n",
       "}\n",
       "\n",
       "#sk-container-id-3 div.sk-label-container {\n",
       "  text-align: center;\n",
       "}\n",
       "\n",
       "/* Estimator-specific */\n",
       "#sk-container-id-3 div.sk-estimator {\n",
       "  font-family: monospace;\n",
       "  border: 1px dotted var(--sklearn-color-border-box);\n",
       "  border-radius: 0.25em;\n",
       "  box-sizing: border-box;\n",
       "  margin-bottom: 0.5em;\n",
       "  /* unfitted */\n",
       "  background-color: var(--sklearn-color-unfitted-level-0);\n",
       "}\n",
       "\n",
       "#sk-container-id-3 div.sk-estimator.fitted {\n",
       "  /* fitted */\n",
       "  background-color: var(--sklearn-color-fitted-level-0);\n",
       "}\n",
       "\n",
       "/* on hover */\n",
       "#sk-container-id-3 div.sk-estimator:hover {\n",
       "  /* unfitted */\n",
       "  background-color: var(--sklearn-color-unfitted-level-2);\n",
       "}\n",
       "\n",
       "#sk-container-id-3 div.sk-estimator.fitted:hover {\n",
       "  /* fitted */\n",
       "  background-color: var(--sklearn-color-fitted-level-2);\n",
       "}\n",
       "\n",
       "/* Specification for estimator info (e.g. \"i\" and \"?\") */\n",
       "\n",
       "/* Common style for \"i\" and \"?\" */\n",
       "\n",
       ".sk-estimator-doc-link,\n",
       "a:link.sk-estimator-doc-link,\n",
       "a:visited.sk-estimator-doc-link {\n",
       "  float: right;\n",
       "  font-size: smaller;\n",
       "  line-height: 1em;\n",
       "  font-family: monospace;\n",
       "  background-color: var(--sklearn-color-background);\n",
       "  border-radius: 1em;\n",
       "  height: 1em;\n",
       "  width: 1em;\n",
       "  text-decoration: none !important;\n",
       "  margin-left: 0.5em;\n",
       "  text-align: center;\n",
       "  /* unfitted */\n",
       "  border: var(--sklearn-color-unfitted-level-1) 1pt solid;\n",
       "  color: var(--sklearn-color-unfitted-level-1);\n",
       "}\n",
       "\n",
       ".sk-estimator-doc-link.fitted,\n",
       "a:link.sk-estimator-doc-link.fitted,\n",
       "a:visited.sk-estimator-doc-link.fitted {\n",
       "  /* fitted */\n",
       "  border: var(--sklearn-color-fitted-level-1) 1pt solid;\n",
       "  color: var(--sklearn-color-fitted-level-1);\n",
       "}\n",
       "\n",
       "/* On hover */\n",
       "div.sk-estimator:hover .sk-estimator-doc-link:hover,\n",
       ".sk-estimator-doc-link:hover,\n",
       "div.sk-label-container:hover .sk-estimator-doc-link:hover,\n",
       ".sk-estimator-doc-link:hover {\n",
       "  /* unfitted */\n",
       "  background-color: var(--sklearn-color-unfitted-level-3);\n",
       "  color: var(--sklearn-color-background);\n",
       "  text-decoration: none;\n",
       "}\n",
       "\n",
       "div.sk-estimator.fitted:hover .sk-estimator-doc-link.fitted:hover,\n",
       ".sk-estimator-doc-link.fitted:hover,\n",
       "div.sk-label-container:hover .sk-estimator-doc-link.fitted:hover,\n",
       ".sk-estimator-doc-link.fitted:hover {\n",
       "  /* fitted */\n",
       "  background-color: var(--sklearn-color-fitted-level-3);\n",
       "  color: var(--sklearn-color-background);\n",
       "  text-decoration: none;\n",
       "}\n",
       "\n",
       "/* Span, style for the box shown on hovering the info icon */\n",
       ".sk-estimator-doc-link span {\n",
       "  display: none;\n",
       "  z-index: 9999;\n",
       "  position: relative;\n",
       "  font-weight: normal;\n",
       "  right: .2ex;\n",
       "  padding: .5ex;\n",
       "  margin: .5ex;\n",
       "  width: min-content;\n",
       "  min-width: 20ex;\n",
       "  max-width: 50ex;\n",
       "  color: var(--sklearn-color-text);\n",
       "  box-shadow: 2pt 2pt 4pt #999;\n",
       "  /* unfitted */\n",
       "  background: var(--sklearn-color-unfitted-level-0);\n",
       "  border: .5pt solid var(--sklearn-color-unfitted-level-3);\n",
       "}\n",
       "\n",
       ".sk-estimator-doc-link.fitted span {\n",
       "  /* fitted */\n",
       "  background: var(--sklearn-color-fitted-level-0);\n",
       "  border: var(--sklearn-color-fitted-level-3);\n",
       "}\n",
       "\n",
       ".sk-estimator-doc-link:hover span {\n",
       "  display: block;\n",
       "}\n",
       "\n",
       "/* \"?\"-specific style due to the `<a>` HTML tag */\n",
       "\n",
       "#sk-container-id-3 a.estimator_doc_link {\n",
       "  float: right;\n",
       "  font-size: 1rem;\n",
       "  line-height: 1em;\n",
       "  font-family: monospace;\n",
       "  background-color: var(--sklearn-color-background);\n",
       "  border-radius: 1rem;\n",
       "  height: 1rem;\n",
       "  width: 1rem;\n",
       "  text-decoration: none;\n",
       "  /* unfitted */\n",
       "  color: var(--sklearn-color-unfitted-level-1);\n",
       "  border: var(--sklearn-color-unfitted-level-1) 1pt solid;\n",
       "}\n",
       "\n",
       "#sk-container-id-3 a.estimator_doc_link.fitted {\n",
       "  /* fitted */\n",
       "  border: var(--sklearn-color-fitted-level-1) 1pt solid;\n",
       "  color: var(--sklearn-color-fitted-level-1);\n",
       "}\n",
       "\n",
       "/* On hover */\n",
       "#sk-container-id-3 a.estimator_doc_link:hover {\n",
       "  /* unfitted */\n",
       "  background-color: var(--sklearn-color-unfitted-level-3);\n",
       "  color: var(--sklearn-color-background);\n",
       "  text-decoration: none;\n",
       "}\n",
       "\n",
       "#sk-container-id-3 a.estimator_doc_link.fitted:hover {\n",
       "  /* fitted */\n",
       "  background-color: var(--sklearn-color-fitted-level-3);\n",
       "}\n",
       "</style><div id=\"sk-container-id-3\" class=\"sk-top-container\"><div class=\"sk-text-repr-fallback\"><pre>LGBMClassifier(boosting_type=&#x27;dart&#x27;, colsample_bytree=0.5456278383907476,\n",
       "               learning_rate=0.001322124534906648, max_bin=224, max_depth=6,\n",
       "               min_child_samples=38, min_child_weight=0.28221652637619743,\n",
       "               min_split_gain=0.28985675522880355, n_estimators=81,\n",
       "               num_leaves=172, random_state=8527,\n",
       "               reg_alpha=0.003470725806951633, reg_lambda=0.0014275261197216173,\n",
       "               scale_pos_weight=1.7567888279472756,\n",
       "               subsample=0.6447810781860892, subsample_freq=4, verbosity=-1)</pre><b>In a Jupyter environment, please rerun this cell to show the HTML representation or trust the notebook. <br />On GitHub, the HTML representation is unable to render, please try loading this page with nbviewer.org.</b></div><div class=\"sk-container\" hidden><div class=\"sk-item\"><div class=\"sk-estimator fitted sk-toggleable\"><input class=\"sk-toggleable__control sk-hidden--visually\" id=\"sk-estimator-id-3\" type=\"checkbox\" checked><label for=\"sk-estimator-id-3\" class=\"sk-toggleable__label fitted sk-toggleable__label-arrow\"><div><div>LGBMClassifier</div></div><div><span class=\"sk-estimator-doc-link fitted\">i<span>Fitted</span></span></div></label><div class=\"sk-toggleable__content fitted\"><pre>LGBMClassifier(boosting_type=&#x27;dart&#x27;, colsample_bytree=0.5456278383907476,\n",
       "               learning_rate=0.001322124534906648, max_bin=224, max_depth=6,\n",
       "               min_child_samples=38, min_child_weight=0.28221652637619743,\n",
       "               min_split_gain=0.28985675522880355, n_estimators=81,\n",
       "               num_leaves=172, random_state=8527,\n",
       "               reg_alpha=0.003470725806951633, reg_lambda=0.0014275261197216173,\n",
       "               scale_pos_weight=1.7567888279472756,\n",
       "               subsample=0.6447810781860892, subsample_freq=4, verbosity=-1)</pre></div> </div></div></div></div>"
      ],
      "text/plain": [
       "LGBMClassifier(boosting_type='dart', colsample_bytree=0.5456278383907476,\n",
       "               learning_rate=0.001322124534906648, max_bin=224, max_depth=6,\n",
       "               min_child_samples=38, min_child_weight=0.28221652637619743,\n",
       "               min_split_gain=0.28985675522880355, n_estimators=81,\n",
       "               num_leaves=172, random_state=8527,\n",
       "               reg_alpha=0.003470725806951633, reg_lambda=0.0014275261197216173,\n",
       "               scale_pos_weight=1.7567888279472756,\n",
       "               subsample=0.6447810781860892, subsample_freq=4, verbosity=-1)"
      ]
     },
     "execution_count": 24,
     "metadata": {},
     "output_type": "execute_result"
    }
   ],
   "source": [
    "best_params = {'boosting_type': 'dart', 'learning_rate': 0.001322124534906648, 'num_leaves': 172, 'max_depth': 6, 'min_child_samples': 38, 'min_child_weight': 0.28221652637619743, 'subsample': 0.6447810781860892, 'colsample_bytree': 0.5456278383907476, 'reg_alpha': 0.003470725806951633, 'reg_lambda': 0.0014275261197216173, 'n_estimators': 25, 'min_split_gain': 0.28985675522880355, 'subsample_freq': 4, 'max_bin': 224, 'scale_pos_weight': 1.7567888279472756}\n",
    "\n",
    "best_model = LGBMClassifier(**best_params, verbosity= -1)\n",
    "\n",
    "imputer = KNNImputer(n_neighbors= 3)\n",
    "imputer.fit(X_train, y_train)\n",
    "boruta_selector = BorutaPy(best_model, n_estimators= 'auto', random_state= 42)\n",
    "boruta_selector.fit(X_train, y_train)\n",
    "\n",
    "\n",
    "X_train_selected = boruta_selector.transform(X_train.values)\n",
    "\n",
    "print(X_train_selected.shape)\n",
    "best_model.fit(X_train_selected, y_train)"
   ]
  },
  {
   "cell_type": "code",
   "execution_count": 25,
   "id": "ba88a8cf-46ee-4fe6-b8bb-6e56c41b54cb",
   "metadata": {},
   "outputs": [],
   "source": [
    "X_test = test_data_preproccesing(raw_test_data)\n",
    "X_test = imputer.transform(X_test)\n",
    "X_test_selected = boruta_selector.transform(X_test)"
   ]
  },
  {
   "cell_type": "code",
   "execution_count": 26,
   "id": "9e046c3f-830f-48c1-9f84-e0f0ecf6dc2c",
   "metadata": {},
   "outputs": [],
   "source": [
    "predictions = best_model.predict_proba(X_test_selected)[:, 1]"
   ]
  },
  {
   "cell_type": "code",
   "execution_count": 27,
   "id": "6bbfa15b-1df2-4e66-9735-95fceaa17562",
   "metadata": {},
   "outputs": [],
   "source": [
    "sample_submission['rainfall'] = predictions"
   ]
  },
  {
   "cell_type": "code",
   "execution_count": 28,
   "id": "0cff1949-3c96-4a26-940b-e741a3b1a6a7",
   "metadata": {},
   "outputs": [],
   "source": [
    "sample_submission.to_csv('submission.csv', index= False)"
   ]
  },
  {
   "cell_type": "code",
   "execution_count": null,
   "id": "67c47301-49dc-4323-874c-0f7ccb6cfb42",
   "metadata": {},
   "outputs": [],
   "source": []
  }
 ],
 "metadata": {
  "kernelspec": {
   "display_name": "Python 3 (ipykernel)",
   "language": "python",
   "name": "python3"
  },
  "language_info": {
   "codemirror_mode": {
    "name": "ipython",
    "version": 3
   },
   "file_extension": ".py",
   "mimetype": "text/x-python",
   "name": "python",
   "nbconvert_exporter": "python",
   "pygments_lexer": "ipython3",
   "version": "3.11.9"
  }
 },
 "nbformat": 4,
 "nbformat_minor": 5
}
